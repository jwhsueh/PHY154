{
 "cells": [
  {
   "cell_type": "code",
   "execution_count": 4,
   "metadata": {
    "collapsed": true
   },
   "outputs": [],
   "source": [
    "from astropy import constants as const"
   ]
  },
  {
   "cell_type": "code",
   "execution_count": 5,
   "metadata": {
    "collapsed": true
   },
   "outputs": [],
   "source": [
    "from astropy import units as u"
   ]
  },
  {
   "cell_type": "code",
   "execution_count": 6,
   "metadata": {
    "collapsed": true
   },
   "outputs": [],
   "source": [
    "import math"
   ]
  },
  {
   "cell_type": "markdown",
   "metadata": {},
   "source": [
    "1(a)"
   ]
  },
  {
   "cell_type": "code",
   "execution_count": 7,
   "metadata": {
    "collapsed": true
   },
   "outputs": [],
   "source": [
    "E = const.M_sun * 1E7 * u.J / u.kg"
   ]
  },
  {
   "cell_type": "code",
   "execution_count": 8,
   "metadata": {
    "collapsed": true
   },
   "outputs": [],
   "source": [
    "time = E/const.L_sun"
   ]
  },
  {
   "cell_type": "code",
   "execution_count": 9,
   "metadata": {
    "collapsed": false
   },
   "outputs": [
    {
     "data": {
      "text/latex": [
       "$5.17187\\times 10^{+10} \\; \\mathrm{\\frac{J}{W}}$"
      ],
      "text/plain": [
       "<Quantity 51718668746.74987 J / W>"
      ]
     },
     "execution_count": 9,
     "metadata": {},
     "output_type": "execute_result"
    }
   ],
   "source": [
    "time"
   ]
  },
  {
   "cell_type": "code",
   "execution_count": 10,
   "metadata": {
    "collapsed": false
   },
   "outputs": [
    {
     "data": {
      "text/latex": [
       "$1638.87 \\; \\mathrm{yr}$"
      ],
      "text/plain": [
       "<Quantity 1638.8657168716843 yr>"
      ]
     },
     "execution_count": 10,
     "metadata": {},
     "output_type": "execute_result"
    }
   ],
   "source": [
    "time.to(u.yr)"
   ]
  },
  {
   "cell_type": "code",
   "execution_count": 11,
   "metadata": {
    "collapsed": true
   },
   "outputs": [],
   "source": [
    "#This is a significantly shorter time than the sun's lifetime"
   ]
  },
  {
   "cell_type": "markdown",
   "metadata": {
    "collapsed": true
   },
   "source": [
    "1(b)"
   ]
  },
  {
   "cell_type": "code",
   "execution_count": 105,
   "metadata": {
    "collapsed": false,
    "scrolled": true
   },
   "outputs": [],
   "source": [
    "E = 27*u.MeV"
   ]
  },
  {
   "cell_type": "code",
   "execution_count": 106,
   "metadata": {
    "collapsed": true
   },
   "outputs": [],
   "source": [
    "E_tot = E * const.M_sun/(4*const.m_p)"
   ]
  },
  {
   "cell_type": "code",
   "execution_count": 107,
   "metadata": {
    "collapsed": false
   },
   "outputs": [
    {
     "data": {
      "text/latex": [
       "$8.02717\\times 10^{+57} \\; \\mathrm{MeV}$"
      ],
      "text/plain": [
       "<Quantity 8.027173378121095e+57 MeV>"
      ]
     },
     "execution_count": 107,
     "metadata": {},
     "output_type": "execute_result"
    }
   ],
   "source": [
    "E_tot"
   ]
  },
  {
   "cell_type": "code",
   "execution_count": 108,
   "metadata": {
    "collapsed": true
   },
   "outputs": [],
   "source": [
    "time = E_tot/const.L_sun"
   ]
  },
  {
   "cell_type": "code",
   "execution_count": 109,
   "metadata": {
    "collapsed": false
   },
   "outputs": [
    {
     "data": {
      "text/latex": [
       "$2.08715\\times 10^{+31} \\; \\mathrm{\\frac{MeV}{W}}$"
      ],
      "text/plain": [
       "<Quantity 2.0871485642540547e+31 MeV / W>"
      ]
     },
     "execution_count": 109,
     "metadata": {},
     "output_type": "execute_result"
    }
   ],
   "source": [
    "time"
   ]
  },
  {
   "cell_type": "code",
   "execution_count": 110,
   "metadata": {
    "collapsed": false
   },
   "outputs": [
    {
     "data": {
      "text/latex": [
       "$1.05964\\times 10^{+11} \\; \\mathrm{yr}$"
      ],
      "text/plain": [
       "<Quantity 105964348281.2775 yr>"
      ]
     },
     "execution_count": 110,
     "metadata": {},
     "output_type": "execute_result"
    }
   ],
   "source": [
    "time.to(u.yr)"
   ]
  },
  {
   "cell_type": "code",
   "execution_count": 19,
   "metadata": {
    "collapsed": true
   },
   "outputs": [],
   "source": [
    "#The lifetime of the the sun is approximately 11 billion years"
   ]
  },
  {
   "cell_type": "code",
   "execution_count": 21,
   "metadata": {
    "collapsed": true
   },
   "outputs": [],
   "source": [
    "#1(c)"
   ]
  },
  {
   "cell_type": "code",
   "execution_count": 22,
   "metadata": {
    "collapsed": true
   },
   "outputs": [],
   "source": [
    "my_mass = 60 * u.kg"
   ]
  },
  {
   "cell_type": "code",
   "execution_count": 23,
   "metadata": {
    "collapsed": true
   },
   "outputs": [],
   "source": [
    "my_E = my_mass * math.pow(3.00E8, 2) * u.m * u.m /(u.s * u.s)"
   ]
  },
  {
   "cell_type": "code",
   "execution_count": 24,
   "metadata": {
    "collapsed": false
   },
   "outputs": [
    {
     "data": {
      "text/latex": [
       "$5.4\\times 10^{+18} \\; \\mathrm{\\frac{m^{2}\\,kg}{s^{2}}}$"
      ],
      "text/plain": [
       "<Quantity 5.4e+18 kg m2 / s2>"
      ]
     },
     "execution_count": 24,
     "metadata": {},
     "output_type": "execute_result"
    }
   ],
   "source": [
    "my_E"
   ]
  },
  {
   "cell_type": "code",
   "execution_count": 25,
   "metadata": {
    "collapsed": true
   },
   "outputs": [],
   "source": [
    "#1(d)"
   ]
  },
  {
   "cell_type": "code",
   "execution_count": 26,
   "metadata": {
    "collapsed": false
   },
   "outputs": [],
   "source": [
    "power_house = 1E3 * u.J/u.s"
   ]
  },
  {
   "cell_type": "code",
   "execution_count": 27,
   "metadata": {
    "collapsed": true
   },
   "outputs": [],
   "source": [
    "time = my_E/power_house"
   ]
  },
  {
   "cell_type": "code",
   "execution_count": 28,
   "metadata": {
    "collapsed": false
   },
   "outputs": [
    {
     "data": {
      "text/latex": [
       "$1.71116\\times 10^{+08} \\; \\mathrm{yr}$"
      ],
      "text/plain": [
       "<Quantity 171115674.19575632 yr>"
      ]
     },
     "execution_count": 28,
     "metadata": {},
     "output_type": "execute_result"
    }
   ],
   "source": [
    "time.to(u.yr)"
   ]
  },
  {
   "cell_type": "code",
   "execution_count": 29,
   "metadata": {
    "collapsed": true
   },
   "outputs": [],
   "source": [
    "power_world = 2E12 * u.J/u.s"
   ]
  },
  {
   "cell_type": "code",
   "execution_count": 30,
   "metadata": {
    "collapsed": true
   },
   "outputs": [],
   "source": [
    "time_world = my_E/power_world"
   ]
  },
  {
   "cell_type": "code",
   "execution_count": 31,
   "metadata": {
    "collapsed": false
   },
   "outputs": [
    {
     "data": {
      "text/latex": [
       "$2.7\\times 10^{+06} \\; \\mathrm{\\frac{m^{2}\\,kg}{J\\,s}}$"
      ],
      "text/plain": [
       "<Quantity 2700000.0 kg m2 / (J s)>"
      ]
     },
     "execution_count": 31,
     "metadata": {},
     "output_type": "execute_result"
    }
   ],
   "source": [
    "time_world"
   ]
  },
  {
   "cell_type": "code",
   "execution_count": 32,
   "metadata": {
    "collapsed": false
   },
   "outputs": [
    {
     "data": {
      "text/latex": [
       "$0.0855578 \\; \\mathrm{yr}$"
      ],
      "text/plain": [
       "<Quantity 0.08555783709787816 yr>"
      ]
     },
     "execution_count": 32,
     "metadata": {},
     "output_type": "execute_result"
    }
   ],
   "source": [
    "time_world.to(u.yr)"
   ]
  },
  {
   "cell_type": "markdown",
   "metadata": {
    "collapsed": true
   },
   "source": [
    "1(e)"
   ]
  },
  {
   "cell_type": "code",
   "execution_count": 34,
   "metadata": {
    "collapsed": true
   },
   "outputs": [],
   "source": [
    "r = 149.6E9 * u.m"
   ]
  },
  {
   "cell_type": "code",
   "execution_count": 35,
   "metadata": {
    "collapsed": true
   },
   "outputs": [],
   "source": [
    "F = const.L_sun/(4*math.pi*math.pow(149.6E9,2) * u.m * u.m)"
   ]
  },
  {
   "cell_type": "code",
   "execution_count": 36,
   "metadata": {
    "collapsed": false
   },
   "outputs": [
    {
     "data": {
      "text/latex": [
       "$1367.53 \\; \\mathrm{\\frac{W}{m^{2}}}$"
      ],
      "text/plain": [
       "<Quantity 1367.5280050085198 W / m2>"
      ]
     },
     "execution_count": 36,
     "metadata": {},
     "output_type": "execute_result"
    }
   ],
   "source": [
    "F"
   ]
  },
  {
   "cell_type": "code",
   "execution_count": 37,
   "metadata": {
    "collapsed": true
   },
   "outputs": [],
   "source": [
    "#find the area:"
   ]
  },
  {
   "cell_type": "code",
   "execution_count": 38,
   "metadata": {
    "collapsed": true
   },
   "outputs": [],
   "source": [
    "area = power_world/F"
   ]
  },
  {
   "cell_type": "code",
   "execution_count": 39,
   "metadata": {
    "collapsed": false
   },
   "outputs": [
    {
     "data": {
      "text/latex": [
       "$1.46249\\times 10^{+09} \\; \\mathrm{\\frac{m^{2}\\,J}{W\\,s}}$"
      ],
      "text/plain": [
       "<Quantity 1462492901.5530763 J m2 / (s W)>"
      ]
     },
     "execution_count": 39,
     "metadata": {},
     "output_type": "execute_result"
    }
   ],
   "source": [
    "area"
   ]
  },
  {
   "cell_type": "code",
   "execution_count": 40,
   "metadata": {
    "collapsed": false
   },
   "outputs": [],
   "source": [
    "a = area.to(u.m**2)"
   ]
  },
  {
   "cell_type": "code",
   "execution_count": 41,
   "metadata": {
    "collapsed": false
   },
   "outputs": [
    {
     "data": {
      "text/latex": [
       "$1.46249\\times 10^{+09} \\; \\mathrm{m^{2}}$"
      ],
      "text/plain": [
       "<Quantity 1462492901.5530763 m2>"
      ]
     },
     "execution_count": 41,
     "metadata": {},
     "output_type": "execute_result"
    }
   ],
   "source": [
    "a"
   ]
  },
  {
   "cell_type": "code",
   "execution_count": 42,
   "metadata": {
    "collapsed": true
   },
   "outputs": [],
   "source": [
    "#the total surface area of the earth is 510.1E12 m^2"
   ]
  },
  {
   "cell_type": "code",
   "execution_count": 43,
   "metadata": {
    "collapsed": true
   },
   "outputs": [],
   "source": [
    "frac_area = 100*(a/(510.1E12 * u.m**2))"
   ]
  },
  {
   "cell_type": "code",
   "execution_count": 44,
   "metadata": {
    "collapsed": false
   },
   "outputs": [
    {
     "data": {
      "text/latex": [
       "$0.000286707 \\; \\mathrm{}$"
      ],
      "text/plain": [
       "<Quantity 0.0002867070969521812 >"
      ]
     },
     "execution_count": 44,
     "metadata": {},
     "output_type": "execute_result"
    }
   ],
   "source": [
    "frac_area"
   ]
  },
  {
   "cell_type": "markdown",
   "metadata": {
    "collapsed": true
   },
   "source": [
    "1(f)"
   ]
  },
  {
   "cell_type": "markdown",
   "metadata": {},
   "source": [
    "The pp process:\n",
    "1. Two protons collide to forma neutron, neutrino, and $e^{+}$\n",
    "2. This forms a hydrogen isotope\n",
    "3. This hydrogen isotope colledes with a proton to form a helium isotope\n",
    "4. Two helium isotopes collide to form 2 hydrogen isotopes and two protons"
   ]
  },
  {
   "cell_type": "code",
   "execution_count": null,
   "metadata": {
    "collapsed": true
   },
   "outputs": [],
   "source": [
    "#1(g)"
   ]
  },
  {
   "cell_type": "code",
   "execution_count": 46,
   "metadata": {
    "collapsed": true
   },
   "outputs": [],
   "source": [
    "def get_Epp_rate(epp_prime, rho, chi_H, T):\n",
    "    return epp_prime * rho * (chi_H**2)*math.pow(T/1E6, 4)"
   ]
  },
  {
   "cell_type": "code",
   "execution_count": 47,
   "metadata": {
    "collapsed": true
   },
   "outputs": [],
   "source": [
    "def get_Ecno_rate(ecno_prime, rho, chi_H, chi_CNO, T):\n",
    "    return ecno_prime * rho * chi_H * chi_CNO * math.pow(T/1E6, 19.9)"
   ]
  },
  {
   "cell_type": "code",
   "execution_count": 48,
   "metadata": {
    "collapsed": true
   },
   "outputs": [],
   "source": [
    "e_pp = get_Epp_rate(1.08E-12, 1.622E5, 0.64, 1.571E7)"
   ]
  },
  {
   "cell_type": "code",
   "execution_count": 111,
   "metadata": {
    "collapsed": false
   },
   "outputs": [
    {
     "data": {
      "text/latex": [
       "$0.00437058 \\; \\mathrm{\\frac{W}{kg}}$"
      ],
      "text/plain": [
       "<Quantity 0.004370582208252507 W / kg>"
      ]
     },
     "execution_count": 111,
     "metadata": {},
     "output_type": "execute_result"
    }
   ],
   "source": [
    "e_pp * u.W/u.kg"
   ]
  },
  {
   "cell_type": "code",
   "execution_count": 50,
   "metadata": {
    "collapsed": true
   },
   "outputs": [],
   "source": [
    "e_cno = get_Ecno_rate(8.24E-31, 1.622E5, 0.64, 0.015, 1.571E7)"
   ]
  },
  {
   "cell_type": "code",
   "execution_count": 112,
   "metadata": {
    "collapsed": false
   },
   "outputs": [
    {
     "data": {
      "text/latex": [
       "$0.000816875 \\; \\mathrm{\\frac{W}{kg}}$"
      ],
      "text/plain": [
       "<Quantity 0.0008168745711167988 W / kg>"
      ]
     },
     "execution_count": 112,
     "metadata": {},
     "output_type": "execute_result"
    }
   ],
   "source": [
    "e_cno * u.W/u.kg"
   ]
  },
  {
   "cell_type": "markdown",
   "metadata": {},
   "source": [
    "The pp process produces more power than the CNO process"
   ]
  },
  {
   "cell_type": "code",
   "execution_count": 52,
   "metadata": {
    "collapsed": true
   },
   "outputs": [],
   "source": [
    "#set e_pp = e_cno to find where the two processes are equally important"
   ]
  },
  {
   "cell_type": "code",
   "execution_count": 53,
   "metadata": {
    "collapsed": true
   },
   "outputs": [],
   "source": [
    "#solve for T = epp_prime/(ecno_prime * chi_CNO)^(1/15.9) * 1e6"
   ]
  },
  {
   "cell_type": "code",
   "execution_count": 113,
   "metadata": {
    "collapsed": true
   },
   "outputs": [],
   "source": [
    "def get_temp(epp_prime, ecno_prime, chi_CNO):\n",
    "    return math.pow(epp_prime/(ecno_prime * chi_CNO), 1/15.9) * 1e6 * u.K"
   ]
  },
  {
   "cell_type": "code",
   "execution_count": 114,
   "metadata": {
    "collapsed": true
   },
   "outputs": [],
   "source": [
    "temp = get_temp(1.08E-12, 8.24E-31, 0.015)"
   ]
  },
  {
   "cell_type": "code",
   "execution_count": 115,
   "metadata": {
    "collapsed": false
   },
   "outputs": [
    {
     "data": {
      "text/latex": [
       "$1.79546\\times 10^{+07} \\; \\mathrm{K}$"
      ],
      "text/plain": [
       "<Quantity 17954628.890811693 K>"
      ]
     },
     "execution_count": 115,
     "metadata": {},
     "output_type": "execute_result"
    }
   ],
   "source": [
    "temp"
   ]
  },
  {
   "cell_type": "code",
   "execution_count": 57,
   "metadata": {
    "collapsed": true
   },
   "outputs": [],
   "source": [
    "#this seems to be a reasonable answer - it is the same order of magnitude as the temperature of the sun"
   ]
  },
  {
   "cell_type": "markdown",
   "metadata": {
    "collapsed": true
   },
   "source": [
    "2(a) The cloud of gass needs to be cold to collapse into a protostar so that the pressure from the kinetic energy of the gasses is smaller than the gravitational force collapsing it if the cloud of gas is cold enough the cloud will not be in hydrostatic equilibrium"
   ]
  },
  {
   "cell_type": "markdown",
   "metadata": {
    "collapsed": true
   },
   "source": [
    "2(b) The main force driving the collapse is gravity"
   ]
  },
  {
   "cell_type": "markdown",
   "metadata": {
    "collapsed": true
   },
   "source": [
    "2(c) The Virial Theorem is 2<K> = |U| \n",
    "The Virial Theorem describes a self-gravitating object in equilibrium.\n",
    "To reach the conditions of homogeneous collaspe, 2<K> < |U|. \n",
    "In other words, the gravitational potential energy must be greater than two times the kinetic energy"
   ]
  },
  {
   "cell_type": "markdown",
   "metadata": {
    "collapsed": true
   },
   "source": [
    "The condition occurs when the gas is dense and cold"
   ]
  },
  {
   "cell_type": "markdown",
   "metadata": {
    "collapsed": true
   },
   "source": [
    "2(d)"
   ]
  },
  {
   "cell_type": "markdown",
   "metadata": {},
   "source": [
    "Jean's Mass is given by:\n",
    "$$M_{j} = \\left(\\frac{5 k T}{G m \\mu}\\right)^{\\frac{3}{2}} \\left(\\frac{4}{4 \\pi \\rho}\\right)^{\\frac{1}{2}}$$\n"
   ]
  },
  {
   "cell_type": "markdown",
   "metadata": {},
   "source": [
    "The equivalent minimum radius is called Jean's radius and is given by:\n",
    "$$R_{j} = \\left(\\frac{15 k T}{8 \\pi G \\mu m \\rho}\\right)^{\\frac{1}{2}}$$\n",
    "where m is the mass of hydrogen and $\\mu = 0.6$ for mostly ionized hydrogen"
   ]
  },
  {
   "cell_type": "code",
   "execution_count": 63,
   "metadata": {
    "collapsed": true
   },
   "outputs": [],
   "source": [
    "#2(e)"
   ]
  },
  {
   "cell_type": "markdown",
   "metadata": {},
   "source": [
    "To solve for $$M_{j}$$ use $$\\rho = \\mu m n$$ where n is the number density"
   ]
  },
  {
   "cell_type": "code",
   "execution_count": 78,
   "metadata": {
    "collapsed": false
   },
   "outputs": [],
   "source": [
    "Mj = math.pow((5*1.38e-23*50)/(6.67e-11* 1.6726e-27 * 0.6),(3./2.)) * math.pow(3/(4*math.pi*5e8*1.6726e-27*0.6), (1./2.)) * u.kg"
   ]
  },
  {
   "cell_type": "code",
   "execution_count": 79,
   "metadata": {
    "collapsed": false
   },
   "outputs": [
    {
     "data": {
      "text/latex": [
       "$8.07094\\times 10^{+33} \\; \\mathrm{kg}$"
      ],
      "text/plain": [
       "<Quantity 8.07093592097945e+33 kg>"
      ]
     },
     "execution_count": 79,
     "metadata": {},
     "output_type": "execute_result"
    }
   ],
   "source": [
    "Mj"
   ]
  },
  {
   "cell_type": "markdown",
   "metadata": {
    "collapsed": true
   },
   "source": [
    "The collapse occurs if $M > M_{j}$.\n",
    "The mass of the sun is of the order of $10^{30}$. It makes sense that this gas cloud would be more massive than the sun is currently"
   ]
  },
  {
   "cell_type": "code",
   "execution_count": 72,
   "metadata": {
    "collapsed": true
   },
   "outputs": [],
   "source": [
    "def get_Rj(T, n):\n",
    "    Rj = math.pow((15*1.38e-23*T)/(8*math.pi*6.67e-11*n), 1./2.) * 1/1.6726e-27 * 1/0.6\n",
    "    return Rj"
   ]
  },
  {
   "cell_type": "code",
   "execution_count": 75,
   "metadata": {
    "collapsed": false
   },
   "outputs": [],
   "source": [
    "Rj = get_Rj(50, 5e8) * u.m"
   ]
  },
  {
   "cell_type": "code",
   "execution_count": 76,
   "metadata": {
    "collapsed": false
   },
   "outputs": [
    {
     "data": {
      "text/latex": [
       "$1.10728\\times 10^{+17} \\; \\mathrm{m}$"
      ],
      "text/plain": [
       "<Quantity 1.1072838944198898e+17 m>"
      ]
     },
     "execution_count": 76,
     "metadata": {},
     "output_type": "execute_result"
    }
   ],
   "source": [
    "Rj"
   ]
  },
  {
   "cell_type": "code",
   "execution_count": null,
   "metadata": {
    "collapsed": true
   },
   "outputs": [],
   "source": [
    "#2(f)"
   ]
  },
  {
   "cell_type": "markdown",
   "metadata": {},
   "source": [
    "Let $\\frac{dP}{dr} << \\frac{G M \\rho}{r^{2}}$\n",
    "$$\\frac{d^{2}r}{dr^{2}} = \\frac{-G M}{r}\n",
    "$$\n",
    "Multiply both sides by $\\frac{dr}{dt} = v$ and rewrite LHS using $\\frac{d^{2}r}{dr^{2}} = \\frac{dv^{2}}{dt}\\frac{1}{2}$\n",
    "$$\\frac{dv^{2}}{dt}\\frac{1}{2} = \\frac{-G M}{r^{2}} dr$$\n",
    "Integrate:\n",
    "$$v^{2} = 2GM\\left(\\frac{1}{r} - \\frac{1}{r_{0}}\\right)$$\n",
    "Rewrite using $v = \\frac{dr}{dt}$ \n",
    "$$dr/dt = \\pm \\left[2 G M \\left(\\frac{1}{r} - \\frac{1}{r_{0}}\\right)\\right]^{\\frac{1}{2}}$$\n",
    "Rewrite $M = \\frac{4}{3} \\pi \\rho r^{3}$. Use u substitution to solve. Let $u = \\frac{r}{r_{0}}$ and $ du = \\frac{dr}{r_{0}}$\n",
    "$$dt = \\left(\\frac{8 \\pi G \\rho}{3}\\right)^{\\frac{1}{2}} \\left(\\frac{u}{1 - u}\\right)^{\\frac{1}{2}}du$$\n",
    "Integrate from u = 1 to u = 0 ($r = r_{0}$ to r = 0):\n",
    "$$t_{ff} = \\left(\\frac{3\\pi}{32 G \\rho}\\right)^{\\frac{1}{2}}$$"
   ]
  },
  {
   "cell_type": "markdown",
   "metadata": {},
   "source": [
    "2(g)"
   ]
  },
  {
   "cell_type": "markdown",
   "metadata": {},
   "source": [
    "I would also expect $t_{ff}$ to depend on the temperature and pressure of the cloud. At higher temperatures the force from pressure would be large enough that the time would  be slower. This formula for $t_{ff} >> t_{cool}$ where $t_{cool}$ is the time it takes the cloud to radiate away heat as the cloud contracts."
   ]
  },
  {
   "cell_type": "markdown",
   "metadata": {
    "collapsed": true
   },
   "source": [
    "3(a)"
   ]
  },
  {
   "cell_type": "markdown",
   "metadata": {},
   "source": [
    "$$dm \\frac{d^{2}r}{dt^{2}} = F_{g} - dF_{p}$$\n",
    "$$dm = \\rho dr dA$$\n",
    "$$\\rho dr  dA \\frac{d^{2}r}{dt^{2}} = -G M \\rho dr dA  \\frac{1}{r^{2}} - dP dA$$\n",
    "$$\\rho dr  \\frac{d^{2}r}{dt^{2}} = -G M \\rho dr   \\frac{1}{r^{2}} - dP $$\n",
    "if $\\frac{d^{2}r}{dt^{2}} = 0$ then there is no acceleration and the system is in hydrostatic equilibrium \\\\\n",
    "The condition for hydrostatic equilibrium:\n",
    "$$ \\frac{dP}{dr} = \\frac{-G M \\rho}{r^{2}}$$\n"
   ]
  },
  {
   "cell_type": "markdown",
   "metadata": {
    "collapsed": true
   },
   "source": [
    "3(b)"
   ]
  },
  {
   "cell_type": "markdown",
   "metadata": {},
   "source": [
    "Start with the condition for hydrostatic equilibrium:\n",
    "$$ \\frac{dP}{dr} = \\frac{-G M \\rho}{r^{2}}$$\n",
    "From the ideal gas law, $P = \\rho(z) \\frac{N k T}{M}$\n",
    "$$ \\frac{d\\rho(z)}{dr}\\frac{N k T}{M} = \\frac{-G M \\rho}{r^{2}}$$\n",
    "Because let M be the mass of the earth and r be the radius of the earth. Therefore $\\frac{G M}{r^{2}} = g$\n",
    "$$ \\frac{d\\rho(z)}{dr}\\frac{N k T}{M} = -g \\rho$$\n",
    "Write as a differential equation:\n",
    "$$\\frac{-N k T}{M g} \\int \\frac{d\\rho(z)}{\\rho} = \\int dz$$\n",
    "$$\\frac{-N k T}{M g} ln\\left(\\frac{p}{p_{0}}\\right) = z - z_{0}$$\n",
    "$$p = p_{0}exp\\left[\\frac{z - z_{0}}{\\frac{-N k T}{g M}}\\right]$$\n",
    "Therefore $h = \\frac{-N k T}{g M}$"
   ]
  },
  {
   "cell_type": "markdown",
   "metadata": {
    "collapsed": true
   },
   "source": [
    "3(c)"
   ]
  },
  {
   "cell_type": "markdown",
   "metadata": {
    "collapsed": false
   },
   "source": [
    "Rewrite h:\n",
    "$$h = \\frac{k T}{\\mu g m_{h}}$$\n",
    "where $\\mu = 28.91$ for air at sea level and T = 293"
   ]
  },
  {
   "cell_type": "code",
   "execution_count": 118,
   "metadata": {
    "collapsed": false
   },
   "outputs": [
    {
     "data": {
      "text/latex": [
       "$8541.17 \\; \\mathrm{\\frac{s^{2}\\,J}{kg\\,m}}$"
      ],
      "text/plain": [
       "<Quantity 8541.168110963634 J s2 / (kg m)>"
      ]
     },
     "execution_count": 118,
     "metadata": {},
     "output_type": "execute_result"
    }
   ],
   "source": [
    "h = const.k_B * 293 * u.K/(28.91 * 9.81 * u.m/u.s**2 * 1.67e-27 *u.kg)\n",
    "h"
   ]
  },
  {
   "cell_type": "code",
   "execution_count": 119,
   "metadata": {
    "collapsed": false
   },
   "outputs": [
    {
     "data": {
      "text/latex": [
       "$8541.17 \\; \\mathrm{m}$"
      ],
      "text/plain": [
       "<Quantity 8541.168110963634 m>"
      ]
     },
     "execution_count": 119,
     "metadata": {},
     "output_type": "execute_result"
    }
   ],
   "source": [
    "h.to(u.m)"
   ]
  },
  {
   "cell_type": "markdown",
   "metadata": {},
   "source": [
    "From this we can see that $h << R$"
   ]
  },
  {
   "cell_type": "markdown",
   "metadata": {
    "collapsed": true
   },
   "source": [
    "3(d)"
   ]
  },
  {
   "cell_type": "markdown",
   "metadata": {},
   "source": [
    "The energy gain is equal to work.\n",
    "$$W = Mgh$$\n",
    "$$W = M g\\frac{-k N T}{M g}$$\n",
    "$$W = -k N T$$\n",
    "The energy gain is equal to the thermal energy."
   ]
  },
  {
   "cell_type": "markdown",
   "metadata": {
    "collapsed": true
   },
   "source": [
    "3(e)"
   ]
  },
  {
   "cell_type": "markdown",
   "metadata": {},
   "source": [
    "Using the ideal gas law, $P = \\frac{\\rho k N T}{M}$\n",
    "Sub in for $\\rho$ to solve for P(z):\n",
    "$$P(z) = \\rho_{0} exp\\left[(z - z_{0})\\frac{1}{h}\\right]\\frac{k N T}{M}$$"
   ]
  },
  {
   "cell_type": "code",
   "execution_count": null,
   "metadata": {
    "collapsed": true
   },
   "outputs": [],
   "source": []
  }
 ],
 "metadata": {
  "kernelspec": {
   "display_name": "Python 2",
   "language": "python",
   "name": "python2"
  },
  "language_info": {
   "codemirror_mode": {
    "name": "ipython",
    "version": 2
   },
   "file_extension": ".py",
   "mimetype": "text/x-python",
   "name": "python",
   "nbconvert_exporter": "python",
   "pygments_lexer": "ipython2",
   "version": "2.7.6"
  }
 },
 "nbformat": 4,
 "nbformat_minor": 0
}
