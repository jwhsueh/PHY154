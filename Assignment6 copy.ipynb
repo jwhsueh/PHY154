{
 "cells": [
  {
   "cell_type": "markdown",
   "metadata": {},
   "source": [
    "# Assignment 6: Our Expanding Universe"
   ]
  },
  {
   "cell_type": "markdown",
   "metadata": {},
   "source": [
    "### 1 Hubble's Law\n",
    "\n",
    "Edwin Hubble’s classic article on the expanding universe appeared in PNAS in 1929 [Hubble, E. P. (1929) Proc. Natl. Acad. Sci. USA 15, 168173]. The chief result, that a galaxy’s distance is proportional to its redshift, is so well known and so deeply embedded into the language of astronomy through the Hubble diagram, the Hubble constant, Hubble’s Law, and the Hubble time, that the article itself is rarely referenced. Even though Hubble’s distances have a large systematic error, this article opened the way to investigation of the expanding, evolving, and accelerating universe that engages today’s burgeoning field of cosmology."
   ]
  },
  {
   "cell_type": "markdown",
   "metadata": {},
   "source": [
    "(a) In Fig. 1 you can see two Hubble diagrams (velocity-distance relations) derived using Hubble’s original measurements of distances to nearby galaxies as well as using SN Ia. Create similar graphs using original Hubble data (hubble1.dat) and the newer data for galaxies for SDSS (hubble2.dat). The measured quantities are magnitudes, redshift, ra and dec. Distance and velocity are derived quantities. For each of these estimate the Hubble constant $H_0$ in km/s/Mpc **and errors**, where $v = H_0d$. Motivate the particular choice of units."
   ]
  },
  {
   "cell_type": "code",
   "execution_count": null,
   "metadata": {
    "collapsed": true
   },
   "outputs": [],
   "source": [
    "%pylab\n",
    "%matplotlib inline\n",
    "from astropy import units as u\n",
    "from astropy import constants as c\n",
    "import numpy as np\n",
    "import matplotlib.pyplot as plt\n",
    "\n",
    "Hubble = np.loadtxt('hubble1.dat.txt')\n",
    "\n",
    "d_H =  *u.Mpc\n",
    "v_H =  *u.km/u.s\n",
    "\n",
    "plt.plot(d_H,v_H)\n",
    "plt.xlabel('Redshift (z)')\n",
    "plt.ylabel('Velocity ({0})'.format(v.unit))\n",
    "plt.errorbar()\n",
    "\n",
    "m_H, b_H = np.polyfit(d_H,v_H,1)\n",
    "\n",
    "print \"The Hubble data suggests and $H_0$ of \", m_H.to('km/s/Mpc')"
   ]
  },
  {
   "cell_type": "code",
   "execution_count": null,
   "metadata": {
    "collapsed": true
   },
   "outputs": [],
   "source": [
    "SDSS = np.loadtxt('hubble2.dat.txt')\n",
    "d_S =  *u.Mpc\n",
    "v_S =  *u.km/u.s\n",
    "\n",
    "plt.plot(d_S,v_S)\n",
    "plt.xlabel('Redshift (z)')\n",
    "plt.ylabel('Velocity ({0})'.format(v.unit))\n",
    "plt.errorbar()\n",
    "\n",
    "m_S, b_S = np.polyfit(d_S,v_S,1)\n",
    "\n",
    "print \"The SDSS data suggests and $H_0$ of \", m_S.to('km/s/Mpc')"
   ]
  },
  {
   "cell_type": "markdown",
   "metadata": {},
   "source": [
    "(b) Are the data consistent with the current estimated value from the Planck satellite ($H_0 = 68 \\pm 1$km/s/Mpc)? Read the article posted on smartsite eaa-hubblediag.pdf and particularly concentrate on determining distances and velocity, which are derived quantities. Which axis is likely very uncertain?"
   ]
  },
  {
   "cell_type": "markdown",
   "metadata": {
    "collapsed": true
   },
   "source": [
    "Distance is likely to be much more uncertain than velocity."
   ]
  },
  {
   "cell_type": "markdown",
   "metadata": {},
   "source": [
    "(c) Consider now $H(t)$, the expansion rate of the Universe. Can you draw conclusion about it from the data? How would a diagram look like if the Universe was accelerating (decelerating) whilst expanding? Remember, objects further away tell us about the Universe further in the past."
   ]
  },
  {
   "cell_type": "markdown",
   "metadata": {
    "collapsed": true
   },
   "source": [
    "The Universe has been undergoing decelerating expansion, though this may not be true in the future."
   ]
  },
  {
   "cell_type": "markdown",
   "metadata": {},
   "source": [
    "### 2 Cosmic Dynamics: the Friedmann Equations\n",
    "\n",
    "From the Friedman equation and the \"first law of thermodynamics\", we will derive the expansion equation [i.e. $H(a)$] for a Universe containing matter, radiation, and a substance with an equation of state $P_\\lambda = w\\rho_\\lambda c^2$, where w is a constant (say, $w ∈ [−1, 0]$). We will use Newtonian approach for now, modifying it later."
   ]
  },
  {
   "cell_type": "markdown",
   "metadata": {},
   "source": [
    "(a) Over what length scales can Newtonian approach be a good approximation? When do we need to start considering GR (think about what GR describes)?"
   ]
  },
  {
   "cell_type": "markdown",
   "metadata": {},
   "source": [
    "For length scales much smaller than those at which the curvature of spacetime becomes noticeable. (In other words, for length scales below which the matter density term dominates the curvature term in the Friedmann equation. If you zoom in on an patch of a curved surface it eventually looks flat.)"
   ]
  },
  {
   "cell_type": "markdown",
   "metadata": {},
   "source": [
    "(b) Start with an expanding sphere. The world line of a *homogeneous and isotropic* sphere can be defined as $(\\vec{r},t) = [a(t)\\dot{x},t]$ and $H(t) = \\dot{a}/a$ is the expansion rate. Write down the equation of motion (i.e. express $\\ddot{a}(t)$ in terms of $\\rho(t)$ and $a(t)$)."
   ]
  },
  {
   "cell_type": "markdown",
   "metadata": {
    "collapsed": true
   },
   "source": [
    "$$ \\ddot{r}(t) = -\\frac{GM(r)}{r^2} $$\n",
    "\n",
    "$$ \\ddot{a}(t) x = -\\frac{G}{[a(t)x]^2} \\frac{4}{3}\\pi\\rho(t)[r(t)]^3 $$\n",
    "\n",
    "$$ \\ddot{a}(t) = -\\frac{4\\pi G\\rho(t) [a(t)x]^3}{3[a(t)]^2 x^3} $$\n",
    "\n",
    "$$ \\ddot{a}(t) = -\\frac{4\\pi G}{3}\\rho(t)a(t) $$"
   ]
  },
  {
   "cell_type": "markdown",
   "metadata": {},
   "source": [
    "(c) Multiply the equation with $\\dot{a}(t)$ and integrate. What does the equation tell you?"
   ]
  },
  {
   "cell_type": "markdown",
   "metadata": {
    "collapsed": true
   },
   "source": [
    "$$ \\ddot{a}\\dot{a} = -\\frac{4\\pi G}{3}\\rho a\\dot{a} $$\n",
    "\n",
    "$$\\frac{1}{2}\\frac{\\text{d}(\\dot{a}^2)}{\\text{d}t}= -\\frac{4\\pi G}{3}\\rho\\frac{1}{2}\\frac{\\text{d}(a^2)}{\\text{d}t} $$\n",
    "\n",
    "$$ \\int \\text{d}(\\dot{a}^2) = -\\frac{4\\pi G}{3}\\rho\\int\\text{d}(a^2) $$\n",
    "\n",
    "$$ \\dot{a}^2 = \\frac{8\\pi G}{3}\\rho a^2 - K $$\n",
    "\n",
    "or\n",
    "\n",
    "$$ \\left(\\frac{\\dot{a}}{a}\\right)^2 = [H(t)]^2 = \\frac{8\\pi G}{3}\\rho(t) - \\frac{K}{[a(t)]^2} $$\n",
    "\n",
    "The Hubble parameter is dependent on density and the scale factor."
   ]
  },
  {
   "cell_type": "markdown",
   "metadata": {},
   "source": [
    "(d) Think about the integration constant (say $K$). How does it’s value change the sign of $a ̇(t)$?\n",
    "Consider $K > 0$, $K < 0$, $K = 0$."
   ]
  },
  {
   "cell_type": "markdown",
   "metadata": {
    "collapsed": true
   },
   "source": [
    "The value K does not change the sign of $\\dot{a}(t)$, which is protected by a square (we don't want imaginary values), however:\n",
    "$$ K \\leq \\frac{8\\pi G}{3}\\rho(t)[a(t)]^2 $$"
   ]
  },
  {
   "cell_type": "markdown",
   "metadata": {},
   "source": [
    "(e) Consider now $K = 0$. What does\n",
    "\n",
    "$$\\rho_{cr} := \\frac{3H_0^2}{8\\pi G} = 1.88\\times 10^{−29} h^2 \\frac{g}{cm^3}$$\n",
    "\n",
    "stand for? From now on write all the densities in terms of $$Ω_0 := \\frac{\\rho_0}{\\rho_{cr}}.$$\n"
   ]
  },
  {
   "cell_type": "markdown",
   "metadata": {
    "collapsed": true
   },
   "source": [
    "$\\rho_{cr}$ stands for the current critical density of the Universe separating an eternally expanding Universe from one that eventually recontracts."
   ]
  },
  {
   "cell_type": "markdown",
   "metadata": {},
   "source": [
    "(f) Consider now cosmology with three ingredients, matter, radiation, and vacuum energy. $\\rho = \\rho_m + \\rho_{rad} + \\rho_λ$ and $P = P_r + P_\\lambda$. Why is matter considered pressure-free? (FYI $P_r = \\frac{1}{3}\\rho_r c^2$ and $P_\\lambda = w\\rho_\\lambda c^2$)."
   ]
  },
  {
   "cell_type": "markdown",
   "metadata": {
    "collapsed": true
   },
   "source": [
    "Because $P_m \\sim \\rho v^2 \\ll \\rho c^2$ for most matter particles (they generally travel at speeds much less than that of light)."
   ]
  },
  {
   "cell_type": "markdown",
   "metadata": {},
   "source": [
    "(g) What would the scaling of $ρ_m$ be (i.e. write down $\\rho_m(t)$ in terms of $\\rho_{m,0} = \\rho_m(t = t_0)$ and $a(t)$? The corresponding expressions for radiation and vacuum energy are $\\rho_r(t) = \\rho_{r,0}a^{−4}$ and $\\rho_\\lambda(t) = \\rho_{\\lambda,0} =$ const."
   ]
  },
  {
   "cell_type": "markdown",
   "metadata": {
    "collapsed": true
   },
   "source": [
    "From class: $\\rho_m = \\rho_{m,0}a^{-3}$."
   ]
  },
  {
   "cell_type": "markdown",
   "metadata": {},
   "source": [
    "Define densities $$\\Omega_{r,\\lambda,m} = \\frac{\\rho_{r,\\lambda,m,0}}{\\rho_{cr}}$$\n",
    "\n",
    "Plug these into (c) and write down $H(t)$ in terms of $\\Omega_{r,\\lambda,m}$, $K$, and $a(t)$. Express $K$ in terms of $H(t_0) = H_0$ (Hubble constant today) and $a(t_0) = 1$."
   ]
  },
  {
   "cell_type": "markdown",
   "metadata": {
    "collapsed": true
   },
   "source": [
    "$$ [H(a)]^2=H_0^2(\\Omega_m a^{-3} + \\Omega_r a^{-4} + \\Omega_\\lambda + (1-\\Omega_m-\\Omega_r-\\Omega_\\lambda)a^{-2}) $$"
   ]
  },
  {
   "cell_type": "markdown",
   "metadata": {},
   "source": [
    "(i) Finally write down $H(z) = H_0E(z)$, where $1 + z = 1/a$."
   ]
  },
  {
   "cell_type": "markdown",
   "metadata": {
    "collapsed": true
   },
   "source": [
    "$$[H(z)]^2=H_0^2(\\Omega_\\lambda + (1-\\Omega_\\lambda-\\Omega_m-\\Omega_r)(1+z)^2 + \\Omega_m(1+z)^3 + \\Omega_r(1+z)^4)$$\n",
    "\n",
    "$$H(z)=H_0\\sqrt{\\Omega_rz^4+(4\\Omega_r+\\Omega_m)z^3+(5\\Omega_r+2\\Omega_m-\\Omega_\\lambda+1)z^2+(2\\Omega_r+\\Omega_m-2\\Omega_\\lambda-2)z+1}$$"
   ]
  },
  {
   "cell_type": "markdown",
   "metadata": {},
   "source": [
    "### 3 The Age Problem\n",
    "\n",
    "The observed age of the oldest globular clusters, 13 Gyr, and the Hubble Constant, 68 km/s/Mpc together place an interesting constraint on the density of a pure matter Universe."
   ]
  },
  {
   "cell_type": "markdown",
   "metadata": {},
   "source": [
    "(a) What is the Hubble time: $t_{H,0}$?"
   ]
  },
  {
   "cell_type": "code",
   "execution_count": 4,
   "metadata": {
    "collapsed": false
   },
   "outputs": [
    {
     "data": {
      "text/latex": [
       "$14.379297 \\; \\mathrm{Gyr}$"
      ],
      "text/plain": [
       "<Quantity 14.379297377546006 Gyr>"
      ]
     },
     "execution_count": 4,
     "metadata": {},
     "output_type": "execute_result"
    }
   ],
   "source": [
    "H_0 = 68 *u.km/u.s/u.Mpc\n",
    "t_H0 = 1/H_0\n",
    "t_H0.to('Gyr')"
   ]
  },
  {
   "cell_type": "markdown",
   "metadata": {},
   "source": [
    "(b) What is $t_{age}$ for $\\Omega_m = 0$ (empty) and $1$ (flat; Einstein-de Sitter). Hint: write down $\\text{d}t$ in terms\n",
    "of $\\text{d}a$ and integrate."
   ]
  },
  {
   "cell_type": "markdown",
   "metadata": {},
   "source": [
    "In an empty Universe ($\\Omega_r = \\Omega_\\lambda = \\Omega_m = 0$):\n",
    "$$H(a) = H_0\\sqrt{a^{-2}}$$\n",
    "\n",
    "$$\\frac{\\dot{a}}{a} = \\frac{H_0}{a}$$\n",
    "\n",
    "$$\\frac{\\text{d}a}{\\text{d}t} = H_0$$\n",
    "\n",
    "$$\\int_0^1 \\text{d}a = \\int_0^{t_{age}} H_0 \\text{d}t$$\n",
    "\n",
    "$$ 1 = H_0 t_{age} $$\n",
    "\n",
    "$$t_{age} = \\frac{1}{H_0} = t_{H,0}$$\n",
    "\n",
    "\n",
    "In an Einstein-deSitter Universe ($\\Omega_r = \\Omega_\\lambda = 0$ , $\\Omega_m = 1$):\n",
    "$$H(a) = H_0\\sqrt{a^{-3}}$$\n",
    "\n",
    "$$\\frac{\\dot{a}}{a} = \\frac{H_0}{a^{3/2}}$$\n",
    "\n",
    "$$\\int_0^1 a^{1/2} \\text{d}a = \\int_0^{t_{age}} H_0 \\text{d}t$$\n",
    "\n",
    "$$ \\frac{2}{3} = H_0 t_{age} $$\n",
    "\n",
    "$$t_{age} = \\frac{2}{3H_0} = \\frac{2}{3}t_{H,0}$$"
   ]
  },
  {
   "cell_type": "code",
   "execution_count": 6,
   "metadata": {
    "collapsed": false
   },
   "outputs": [
    {
     "data": {
      "text/latex": [
       "$9.5861983 \\; \\mathrm{Gyr}$"
      ],
      "text/plain": [
       "<Quantity 9.586198251697338 Gyr>"
      ]
     },
     "execution_count": 6,
     "metadata": {},
     "output_type": "execute_result"
    }
   ],
   "source": [
    "t_EdS = 2*t_H0/3\n",
    "t_EdS.to('Gyr')"
   ]
  },
  {
   "cell_type": "markdown",
   "metadata": {},
   "source": [
    "(c) Calculate age for current $\\Omega_m = 0.27$. What age does this give? Do you now see why there was an \"age problem\" with pure matter models?"
   ]
  },
  {
   "cell_type": "markdown",
   "metadata": {},
   "source": [
    "For a pure matter Universe with $\\Omega_m = 0.27$ (($\\Omega_r = \\Omega_\\lambda = 0$):\n",
    "$$H(a) = H_0\\sqrt{0.27a^{-3} + 0.73a^{-2}}$$\n",
    "\n",
    "$$\\frac{\\dot{a}}{a\\sqrt{0.27a^{-3} + 0.73a^{-2}}} = H_0$$\n",
    "\n",
    "$$\\int_0^1 \\frac{\\text{d}a}{\\sqrt{0.27a^{-1} + 0.73}} = \\int_0^{t_{age}} H_0 \\text{d}t$$\n",
    "\n",
    "$$ 0.82 \\approx H_0 t_{age} $$\n",
    "\n",
    "$$ t_{age} \\approx \\frac{0.82}{H_0} = 0.82 t_{H,0} $$"
   ]
  },
  {
   "cell_type": "code",
   "execution_count": 5,
   "metadata": {
    "collapsed": false
   },
   "outputs": [
    {
     "data": {
      "text/latex": [
       "$11.778456 \\; \\mathrm{Gyr}$"
      ],
      "text/plain": [
       "<Quantity 11.77845634367975 Gyr>"
      ]
     },
     "execution_count": 5,
     "metadata": {},
     "output_type": "execute_result"
    }
   ],
   "source": [
    "t_age = 0.819126*t_H0\n",
    "t_age.to('Gyr')"
   ]
  },
  {
   "cell_type": "markdown",
   "metadata": {},
   "source": [
    "Since the oldest observed objects are > 13 Gyr, \"pure matter\" cosmological models are obviously incorrect."
   ]
  },
  {
   "cell_type": "markdown",
   "metadata": {},
   "source": [
    "### 4 Concordance Model"
   ]
  },
  {
   "cell_type": "code",
   "execution_count": 46,
   "metadata": {
    "collapsed": false
   },
   "outputs": [
    {
     "data": {
      "text/plain": [
       "<matplotlib.text.Text at 0x11b50be50>"
      ]
     },
     "execution_count": 46,
     "metadata": {},
     "output_type": "execute_result"
    },
    {
     "data": {
      "image/png": "[encoded data removed]",
      "text/plain": [
       "<matplotlib.figure.Figure at 0x11b36bb10>"
      ]
     },
     "metadata": {},
     "output_type": "display_data"
    }
   ],
   "source": [
    "# (a) Plot Dc\n",
    "\n",
    "import scipy.integrate as spint\n",
    "\n",
    "\n",
    "Om = 0.27\n",
    "Ol = 0.73\n",
    "Or = 8.4e-5\n",
    "H0 = 72 *u.km/u.s/u.Mpc\n",
    "DH = (c.c/H0).to('Mpc')\n",
    "\n",
    "z = np.arange(0, 5, 0.1)\n",
    "\n",
    "def invE(z):\n",
    "    return 1/np.sqrt(Ol + (1-Ol-Om-Or)*(1+z)**2 + Om*(1+z)**3 + Or*(1+z)**4)\n",
    "\n",
    "yval = []\n",
    "\n",
    "for i in z:\n",
    "    yval.append(spint.quad(invE, 0, i)[0])\n",
    "\n",
    "Dc = DH*yval\n",
    "    \n",
    "plt.plot(z, Dc)\n",
    "plt.xlabel('Redshift (z)')\n",
    "plt.ylabel('Comoving Distance ($D_c$)')"
   ]
  },
  {
   "cell_type": "code",
   "execution_count": 60,
   "metadata": {
    "collapsed": false
   },
   "outputs": [
    {
     "name": "stdout",
     "output_type": "stream",
     "text": [
      "[ 0.   0.1  0.2  0.3  0.4  0.5  0.6  0.7  0.8  0.9  1.   1.1  1.2  1.3  1.4\n",
      "  1.5  1.6  1.7  1.8  1.9  2.   2.1  2.2  2.3  2.4  2.5  2.6  2.7  2.8  2.9\n",
      "  3.   3.1  3.2  3.3  3.4  3.5  3.6  3.7  3.8  3.9  4.   4.1  4.2  4.3  4.4\n",
      "  4.5  4.6  4.7  4.8  4.9]\n"
     ]
    },
    {
     "data": {
      "image/png": "[encoded data removed]",
      "text/plain": [
       "<matplotlib.figure.Figure at 0x11d4bae90>"
      ]
     },
     "metadata": {},
     "output_type": "display_data"
    }
   ],
   "source": [
    "# (b) Plot D_A and D_L\n",
    "\n",
    "D_A = Dc/(1+z)\n",
    "D_L = Dc*(1+z)\n",
    "\n",
    "plt.plot(z, D_A)\n",
    "plt.xlabel('Redshift (z)')\n",
    "plt.ylabel('Angular Diameter Distance ($D_A$)')\n",
    "\n",
    "print z"
   ]
  },
  {
   "cell_type": "code",
   "execution_count": 56,
   "metadata": {
    "collapsed": false
   },
   "outputs": [
    {
     "data": {
      "text/plain": [
       "<matplotlib.text.Text at 0x11d0a8fd0>"
      ]
     },
     "execution_count": 56,
     "metadata": {},
     "output_type": "execute_result"
    },
    {
     "data": {
      "image/png": "[encoded data removed]",
      "text/plain": [
       "<matplotlib.figure.Figure at 0x11d183290>"
      ]
     },
     "metadata": {},
     "output_type": "display_data"
    }
   ],
   "source": [
    "plt.plot(z, D_L)\n",
    "plt.xlabel('Redshift (z)')\n",
    "plt.ylabel('Luminosity Distance ($D_L$)')"
   ]
  },
  {
   "cell_type": "markdown",
   "metadata": {},
   "source": [
    "Strange: $D_A$ starts decreasing above $z \\approx 1.6$!"
   ]
  },
  {
   "cell_type": "code",
   "execution_count": 63,
   "metadata": {
    "collapsed": false
   },
   "outputs": [
    {
     "data": {
      "text/plain": [
       "<matplotlib.text.Text at 0x11dba8050>"
      ]
     },
     "execution_count": 63,
     "metadata": {},
     "output_type": "execute_result"
    },
    {
     "data": {
      "image/png": "[encoded data removed]",
      "text/plain": [
       "<matplotlib.figure.Figure at 0x11d8f3350>"
      ]
     },
     "metadata": {},
     "output_type": "display_data"
    }
   ],
   "source": [
    "# (c) Plot H(z)\n",
    "\n",
    "rs = np.arange(0,1000,1)\n",
    "\n",
    "def E(z):\n",
    "    return np.sqrt(Ol + (1-Ol-Om-Or)*(1+z)**2 + Om*(1+z)**3 + Or*(1+z)**4)\n",
    "\n",
    "Ez = []\n",
    "\n",
    "for i in rs:\n",
    "    Ez.append(spint.quad(E, 0, i)[0])\n",
    "    \n",
    "H = H0*Ez\n",
    "\n",
    "plt.plot(rs,H)\n",
    "plt.xlabel('Redshift (z)')\n",
    "plt.ylabel('$H(z)$ ({0})'.format(H.unit))"
   ]
  },
  {
   "cell_type": "code",
   "execution_count": null,
   "metadata": {
    "collapsed": true
   },
   "outputs": [],
   "source": []
  }
 ],
 "metadata": {
  "kernelspec": {
   "display_name": "Python 2",
   "language": "python",
   "name": "python2"
  },
  "language_info": {
   "codemirror_mode": {
    "name": "ipython",
    "version": 2
   },
   "file_extension": ".py",
   "mimetype": "text/x-python",
   "name": "python",
   "nbconvert_exporter": "python",
   "pygments_lexer": "ipython2",
   "version": "2.7.11"
  }
 },
 "nbformat": 4,
 "nbformat_minor": 0
}
