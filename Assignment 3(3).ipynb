{
 "cells": [
  {
   "cell_type": "code",
   "execution_count": 5,
   "metadata": {
    "collapsed": true
   },
   "outputs": [],
   "source": [
    "import numpy as np\n",
    "import matplotlib.pyplot as plt\n",
    "from scipy.integrate import odeint\n",
    "from astropy import constants as cn\n",
    "from astropy import units as u"
   ]
  },
  {
   "cell_type": "code",
   "execution_count": 447,
   "metadata": {
    "collapsed": false
   },
   "outputs": [],
   "source": [
    "X=0.63\n",
    "Y=0.35\n",
    "Z=0.02\n",
    "mu=(2.0*X + 0.75*Y + 0.5*Z)**(-1)\n",
    "mh=(cn.m_p).value\n",
    "sigma=(cn.sigma_sb).value\n",
    "c=(cn.c).value\n",
    "R=(cn.R).value\n",
    "G=(cn.G).value\n",
    "R_sun=(cn.R_sun).value\n",
    "M_sun=(cn.M_sun).value\n",
    "L_sun=(cn.L_sun).value\n",
    "kB=(cn.k_B).value"
   ]
  },
  {
   "cell_type": "code",
   "execution_count": 464,
   "metadata": {
    "collapsed": false
   },
   "outputs": [],
   "source": [
    "def rho(y, r):\n",
    "    Mr, P, Lr, T = y\n",
    "    rho0=(P-((4.0*(sigma)*np.power(T,4.0))/(3.0*(c))))*(mu*mh/kB*T)\n",
    "    return rho0\n",
    "\n",
    "def eps(y,r):\n",
    "    Mr, P, Lr, T = y\n",
    "    eopp = 1.08*(10**-12)\n",
    "    eocno = 8.24*(10**-31)\n",
    "    rho0 = rho(y, r)\n",
    "    X_H = 0.64\n",
    "    X_CNO = 0.015\n",
    "    epp = eopp*rho0*(X_H**2.0)*((T/(10**6))**4.0)\n",
    "    ecno = eocno*rho0*X_H*X_CNO*((T/(10**6))**19.9)\n",
    "    eps0 = epp+ecno\n",
    "    return eps0\n",
    "\n",
    "def K(y,r):\n",
    "    Mr, P, Lr, T =y\n",
    "    rho0 = rho(y,r)\n",
    "    gbf=1.0\n",
    "    gff=1.9\n",
    "    t=10.0\n",
    "    kbf=(4.3e21)*gbf*Z*(1.0+X)*rho0*np.power(T,-3.5)/t \n",
    "    kff=(3.7e18)*gff*(1.0-Z)*(1.0+X)*rho0*np.power(T,-3.5)\n",
    "    ke=0.02*(1.0+X)\n",
    "    K0=((kbf+kff+ke)/3.0) \n",
    "    return K0\n",
    "\n",
    "def dMdr(y,r):\n",
    "    Mr, P, Lr, T = y\n",
    "    rho0 = rho(y,r)\n",
    "    dmdr0=4.0*np.pi*np.power(r,2)*rho0\n",
    "    return dmdr0\n",
    "\n",
    "def dPdr(y,r):\n",
    "    Mr, P, Lr, T = y\n",
    "    rho0 = rho(y,r)\n",
    "    dpdr0=-G*Mr*rho0*np.power(r,-2.0)\n",
    "    return dpdr0\n",
    "\n",
    "def dLdr(y,r):\n",
    "    Mr, P, Lr, T = y\n",
    "    rho0 = rho(y,r)\n",
    "    eps0 = eps(y,r)\n",
    "    dldr0=eps0*rho0*4.0*np.pi*np.power(r,2.0)\n",
    "    return dldr0\n",
    "\n",
    "def dTdr(y,r):\n",
    "    Mr, P, Lr, T = y\n",
    "    rho0 = rho(y,r)\n",
    "    K0 = K(y,r)\n",
    "    dtdr0=(((-3.0)/(16.0*(sigma)))*((K0*rho0)/np.power(T,3.0))*((Lr)/(4.0*np.pi*np.power(r,2.0))))\n",
    "    return dtdr0\n",
    "\n",
    "def f(y,r):\n",
    "    Mr, P, Lr, T = y\n",
    "    equations = [dMdr(y,r), dPdr(y,r), dLdr(y,r), dTdr(y,r)]\n",
    "    return equations"
   ]
  },
  {
   "cell_type": "code",
   "execution_count": 482,
   "metadata": {
    "collapsed": false,
    "scrolled": false
   },
   "outputs": [
    {
     "name": "stdout",
     "output_type": "stream",
     "text": [
      "Excess work done on this call (perhaps wrong Dfun type).\n",
      "Run with full_output = 1 to get quantitative information.\n"
     ]
    }
   ],
   "source": [
    "#initial values\n",
    "Mr0=0.0\n",
    "P0=2.3e16\n",
    "Lr0=0.0\n",
    "T0=15.7e6\n",
    "\n",
    "#initial conditions\n",
    "y0 = [Mr0, P0, Lr0, T0]\n",
    "\n",
    "#radius array\n",
    "r=np.linspace(0.1, R_sun, 10000)\n",
    "\n",
    "#ODE solver\n",
    "psoln = odeint(f, y0, r)\n"
   ]
  },
  {
   "cell_type": "code",
   "execution_count": 483,
   "metadata": {
    "collapsed": false
   },
   "outputs": [
    {
     "data": {
      "image/png": "[encoded data removed]",
      "text/plain": [
       "<matplotlib.figure.Figure at 0x7f3130719890>"
      ]
     },
     "metadata": {},
     "output_type": "display_data"
    }
   ],
   "source": [
    "\n",
    "#plot results\n",
    "fig = plt.figure(1, figsize=(8,8))\n",
    "\n",
    "#plot M as a function of r\n",
    "ax = fig.add_subplot(411)\n",
    "ax.plot(r, psoln[:,0])\n",
    "ax.set_xlabel('r')\n",
    "ax.set_ylabel('M')\n",
    "\n",
    "#plot L as a function of r\n",
    "ax = fig.add_subplot(412)\n",
    "ax.plot(r, psoln[:,1])\n",
    "ax.set_xlabel('r')\n",
    "ax.set_ylabel('L')\n",
    "\n",
    "#plot P as a function of r\n",
    "ax = fig.add_subplot(413)\n",
    "ax.plot(r, psoln[:,2])\n",
    "ax.set_xlabel('r')\n",
    "ax.set_ylabel('P')\n",
    "\n",
    "#plot T as a function of r\n",
    "ax = fig.add_subplot(414)\n",
    "ax.plot(r, psoln[:,3])\n",
    "ax.set_xlabel('r')\n",
    "ax.set_ylabel('T')\n",
    "\n",
    "plt.show()\n"
   ]
  },
  {
   "cell_type": "code",
   "execution_count": null,
   "metadata": {
    "collapsed": true
   },
   "outputs": [],
   "source": []
  },
  {
   "cell_type": "code",
   "execution_count": null,
   "metadata": {
    "collapsed": true
   },
   "outputs": [],
   "source": []
  },
  {
   "cell_type": "code",
   "execution_count": null,
   "metadata": {
    "collapsed": true
   },
   "outputs": [],
   "source": []
  }
 ],
 "metadata": {
  "kernelspec": {
   "display_name": "Python 2",
   "language": "python",
   "name": "python2"
  },
  "language_info": {
   "codemirror_mode": {
    "name": "ipython",
    "version": 2
   },
   "file_extension": ".py",
   "mimetype": "text/x-python",
   "name": "python",
   "nbconvert_exporter": "python",
   "pygments_lexer": "ipython2",
   "version": "2.7.6"
  }
 },
 "nbformat": 4,
 "nbformat_minor": 0
}
