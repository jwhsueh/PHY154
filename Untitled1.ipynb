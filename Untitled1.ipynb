{
 "cells": [
  {
   "cell_type": "code",
   "execution_count": null,
   "metadata": {
    "collapsed": false
   },
   "outputs": [],
   "source": [
    "import numpy as np\n",
    "import matplotlib.pyplot as plt\n",
    "from astropy import constants as const\n",
    "from astropy import units as u\n"
   ]
  },
  {
   "cell_type": "code",
   "execution_count": 115,
   "metadata": {
    "collapsed": false
   },
   "outputs": [
    {
     "name": "stdout",
     "output_type": "stream",
     "text": [
      "Sun's lifetime would be 1638.86571687 yr\n"
     ]
    }
   ],
   "source": [
    "#Problem 1 Part a\n",
    "#lifetime = energy / power = 10**7 * Solar mass / luminosity\n",
    "\n",
    "r = 1e7*u.J/u.kg\n",
    "lifetime = r*const.M_sun/const.L_sun\n",
    "lifetime = lifetime.to(u.yr)\n",
    "print 'Sun\\'s lifetime would be', lifetime"
   ]
  },
  {
   "cell_type": "code",
   "execution_count": 119,
   "metadata": {
    "collapsed": false
   },
   "outputs": [
    {
     "name": "stdout",
     "output_type": "stream",
     "text": [
      "One reaction releases 4.14e-13 J energy\n",
      "To consume all energy, it takes 10141253240.2 yr\n"
     ]
    }
   ],
   "source": [
    "#Problem 1 Part b\n",
    "#epm stands for energy per mass\n",
    "\n",
    "mp = 1.6726e-27*u.kg\n",
    "mn = 1.6749e-27*u.kg\n",
    "c = 3e8*u.m/u.s\n",
    "e = -((4*mp)-(2*mp+2*mn))*c*c\n",
    "e = e.to(u.J)\n",
    "epm = -((4*mp)-(2*mp+2*mn))*c*c/(4*mp)\n",
    "lifetime2 = epm*const.M_sun/const.L_sun\n",
    "lifetime2 = lifetime2.to(u.yr)\n",
    "print 'One reaction releases', e, 'energy'\n",
    "print 'To consume all energy, it takes', lifetime2"
   ]
  },
  {
   "cell_type": "code",
   "execution_count": 95,
   "metadata": {
    "collapsed": false
   },
   "outputs": [
    {
     "name": "stdout",
     "output_type": "stream",
     "text": [
      "6.3e+18 J\n"
     ]
    }
   ],
   "source": [
    "#Problem 1 Part c\n",
    "#Using my body mass 70kg.\n",
    "\n",
    "m = 70*u.kg\n",
    "e = m*c*c\n",
    "e = e.to(u.J)\n",
    "print e"
   ]
  },
  {
   "cell_type": "code",
   "execution_count": 96,
   "metadata": {
    "collapsed": false
   },
   "outputs": [
    {
     "name": "stdout",
     "output_type": "stream",
     "text": [
      "199634953.228 yr\n",
      "36.4583333333 d\n"
     ]
    }
   ],
   "source": [
    "#Problem 1 Part d\n",
    "#psh stands for power for small house, pew stands for power for entire world.\n",
    "\n",
    "psh = 1*u.kW\n",
    "pew = 2*u.TW\n",
    "\n",
    "time = e/psh\n",
    "time = time.to(u.yr)\n",
    "print time\n",
    "\n",
    "time = e/pew\n",
    "time = time.to(u.day)\n",
    "print time"
   ]
  },
  {
   "cell_type": "code",
   "execution_count": 97,
   "metadata": {
    "collapsed": false
   },
   "outputs": [
    {
     "name": "stdout",
     "output_type": "stream",
     "text": [
      "1470324174.85 m2\n"
     ]
    }
   ],
   "source": [
    "#Problem 1 Part e\n",
    "#fpa stands for flux per area, a stands for area.\n",
    "\n",
    "d = 1.5e11*u.m\n",
    "fpa = const.L_sun/(4*np.pi*d*d)\n",
    "a = pew/fpa\n",
    "a = a.to(u.m**2)\n",
    "print a"
   ]
  },
  {
   "cell_type": "code",
   "execution_count": 100,
   "metadata": {
    "collapsed": false
   },
   "outputs": [
    {
     "name": "stdout",
     "output_type": "stream",
     "text": [
      "4 protons -> Helium 4 + 2 electons + energy\n"
     ]
    }
   ],
   "source": [
    "#Problem 1 Part f\n",
    "\n",
    "print '4 protons -> Helium 4 + 2 electons + energy'"
   ]
  },
  {
   "cell_type": "code",
   "execution_count": 103,
   "metadata": {
    "collapsed": false
   },
   "outputs": [
    {
     "name": "stdout",
     "output_type": "stream",
     "text": [
      "8.69352507044e+75 W\n",
      "1.62484520941e+26 W\n",
      "15710000.0 K\n"
     ]
    }
   ],
   "source": [
    "#Problem 1 Part g\n",
    "\n",
    "T = 1.571e7*u.K\n",
    "XH = 0.64\n",
    "eppp = 1.08e-12 * u.W * u.m**3 *u.kg**-2\n",
    "rho = 1.622e5 *u.kg*u.m**-3\n",
    "epp = eppp*rho*XH*XH*(T*1e6/u.K)**4\n",
    "\n",
    "ecnop = 8.24e-31*u.W*u.m**3*u.kg**-2\n",
    "XCNO = 0.0015\n",
    "\n",
    "ecno = ecnop*rho*XH*XCNO*(T*1e-6/u.K)**19.9\n",
    "\n",
    "ppp = epp*const.M_sun\n",
    "pcno = ecno*const.M_sun\n",
    "\n",
    "print ppp\n",
    "print pcno\n",
    "\n",
    "Tmulti = (ppp/pcno)**(1/(19.9-4))\n",
    "\n",
    "Tfinal = T*Tmulti\n",
    "\n",
    "print T"
   ]
  },
  {
   "cell_type": "code",
   "execution_count": 105,
   "metadata": {
    "collapsed": false
   },
   "outputs": [
    {
     "name": "stdout",
     "output_type": "stream",
     "text": [
      "A cloud of gas needs to be cold to not have\n",
      "enough thermal pressure to keep its volumn.\n"
     ]
    }
   ],
   "source": [
    "#Problem 2 Part a\n",
    "\n",
    "print 'A cloud of gas needs to be cold to not have' \n",
    "print 'enough thermal pressure to keep its volumn.'\n"
   ]
  },
  {
   "cell_type": "code",
   "execution_count": 106,
   "metadata": {
    "collapsed": false
   },
   "outputs": [
    {
     "name": "stdout",
     "output_type": "stream",
     "text": [
      "The main force driving the collapse is gravity.\n"
     ]
    }
   ],
   "source": [
    "#Problem 2 Part b\n",
    "\n",
    "print 'The main force driving the collapse is gravity.'"
   ]
  },
  {
   "cell_type": "code",
   "execution_count": 109,
   "metadata": {
    "collapsed": false
   },
   "outputs": [
    {
     "name": "stdout",
     "output_type": "stream",
     "text": [
      "Virial theorem provides that the average total kinetic energy\n",
      "over time equals negative half of the sum of each particle's\n",
      "force vector on it dot its position vector.\n"
     ]
    }
   ],
   "source": [
    "#Problem 2 Part c \n",
    "\n",
    "print 'Virial theorem provides that the average total kinetic energy'\n",
    "print 'over time equals negative half of the sum of each particle\\'s'\n",
    "print 'force vector on it dot its position vector.'\n"
   ]
  },
  {
   "cell_type": "code",
   "execution_count": 120,
   "metadata": {
    "collapsed": false
   },
   "outputs": [
    {
     "name": "stdout",
     "output_type": "stream",
     "text": [
      "Jeans mass is the mass contained in within a radius of half the Jeans length.\n",
      "Jeans length lambda is approximately (kB*T*r^3)/(G*M*mu)\n",
      "MJ = rho * (lambda/2)^3*(4pi/3)\n"
     ]
    }
   ],
   "source": [
    "#Problem 2 Part d\n",
    "\n",
    "print 'Jeans mass is the mass contained in within a radius of half the Jeans length.'\n",
    "print 'Jeans length lambda is approximately (kB*T*r^3)/(G*M*mu)'\n",
    "print 'MJ = rho * (lambda/2)^3*(4pi/3)'"
   ]
  },
  {
   "cell_type": "code",
   "execution_count": 139,
   "metadata": {
    "collapsed": false
   },
   "outputs": [
    {
     "name": "stdout",
     "output_type": "stream",
     "text": [
      "Jeans mass is 2.94742774131e+33 kg\n",
      "Jeans radius is 7.11934406395e+16 m\n",
      "Jeans mass is greater than Sun's mass 2.0e30 kg\n",
      "Jeans radius is greater than Sun's radius 7.0e8 m\n"
     ]
    }
   ],
   "source": [
    "#Problem 2 Part e\n",
    "\n",
    "T = 50*u.K\n",
    "n = 5e8*u.m**-3\n",
    "m= 1.66054e-27*u.kg\n",
    "MJ = (375*const.k_B**3/(4*np.pi*m**4*const.G**3))**0.5*(T**3/n)**0.5\n",
    "MJ = MJ.to(u.kg)\n",
    "print 'Jeans mass is', MJ\n",
    "rho = n*3.9e-27*u.kg\n",
    "lambdaJ = (MJ*(3/(4*np.pi))/rho)**(1./3.)\n",
    "print 'Jeans radius is', lambdaJ\n",
    "print 'Jeans mass is greater than Sun\\'s mass 2.0e30 kg'\n",
    "print 'Jeans radius is greater than Sun\\'s radius 7.0e8 m'"
   ]
  },
  {
   "cell_type": "code",
   "execution_count": 141,
   "metadata": {
    "collapsed": false
   },
   "outputs": [
    {
     "name": "stdout",
     "output_type": "stream",
     "text": [
      "The free fall time can be expressed as pi/2*R**(3/2)/sqrt(2G(M+m))\n",
      "So tff^2 = pi^2/8*R^3/G(M+m)\n",
      "We have rho = 3M/(4piR^3)\n",
      "So tff^2 now becomes 3pi/(32G*rho)\n",
      "i.e. tff = sqrt(3pi/(32G*rho))\n"
     ]
    }
   ],
   "source": [
    "#Problem 2 Part f\n",
    "\n",
    "print 'The free fall time can be expressed as pi/2*R**(3/2)/sqrt(2G(M+m))'\n",
    "print 'So tff^2 = pi^2/8*R^3/G(M+m)'\n",
    "print 'We have rho = 3M/(4piR^3)'\n",
    "print 'So tff^2 now becomes 3pi/(32G*rho)'\n",
    "print 'i.e. tff = sqrt(3pi/(32G*rho))'"
   ]
  },
  {
   "cell_type": "code",
   "execution_count": 142,
   "metadata": {
    "collapsed": false
   },
   "outputs": [
    {
     "name": "stdout",
     "output_type": "stream",
     "text": [
      "I don't know but I would expect tff to depend on the\n",
      "Temperature of the cloud.\n"
     ]
    }
   ],
   "source": [
    "#Problem 2 Part g\n",
    "print 'I don\\'t know but I would expect tff to depend on the'\n",
    "print 'Temperature of the cloud.'"
   ]
  },
  {
   "cell_type": "code",
   "execution_count": 110,
   "metadata": {
    "collapsed": false
   },
   "outputs": [
    {
     "name": "stdout",
     "output_type": "stream",
     "text": [
      "dP/dz = -G*M*rho(z)/z^2\n",
      "dP/dz = -g*rho(z)\n"
     ]
    }
   ],
   "source": [
    "#Problem 3 Part a\n",
    "\n",
    "print 'dP/dz = -G*M*rho(z)/z^2'\n",
    "print 'dP/dz = -g*rho(z)'"
   ]
  },
  {
   "cell_type": "code",
   "execution_count": 111,
   "metadata": {
    "collapsed": false
   },
   "outputs": [
    {
     "name": "stdout",
     "output_type": "stream",
     "text": [
      "PV = nRT\n",
      "P = nRT*rho(z)/m\n",
      "dP/dz = -g*rho(z)\n",
      "V = m/rho(z)\n",
      "dP/dz = -g*P*m/nRT\n",
      "dP/P = -g*m/nRT*dz\n",
      "integral of 1/P*dP = integral of -g*m/nRT*dz\n",
      "ln(p/p0) = ln(p) - ln(p0) = -g*m/nRT*(z-z0)\n",
      "p(z) = p0*exp(-g*m/nRT*(z-z0))\n",
      "set h = nRT/g/m\n",
      "p(z) = p0*exp((z-z0)/h)\n"
     ]
    }
   ],
   "source": [
    "#Problem 3 Part b\n",
    "\n",
    "print 'PV = nRT'\n",
    "print 'P = nRT*rho(z)/m'\n",
    "print 'dP/dz = -g*rho(z)'\n",
    "print 'V = m/rho(z)'\n",
    "print 'dP/dz = -g*P*m/nRT'\n",
    "print 'dP/P = -g*m/nRT*dz'\n",
    "print 'integral of 1/P*dP = integral of -g*m/nRT*dz'\n",
    "print 'ln(p/p0) = ln(p) - ln(p0) = -g*m/nRT*(z-z0)'\n",
    "print 'p(z) = p0*exp(-g*m/nRT*(z-z0))'\n",
    "print 'set h = nRT/g/m'\n",
    "print 'p(z) = p0*exp((z-z0)/h)'\n"
   ]
  },
  {
   "cell_type": "code",
   "execution_count": 143,
   "metadata": {
    "collapsed": false
   },
   "outputs": [
    {
     "name": "stdout",
     "output_type": "stream",
     "text": [
      "Yes. Earth has height of atmosphere at 12 km,\n",
      "while the radius is 6300 km.\n",
      "So h << R\n"
     ]
    }
   ],
   "source": [
    "#Problem 3 Part c\n",
    "\n",
    "print 'Yes. Earth has height of atmosphere at 12 km,' \n",
    "print 'while the radius is 6300 km.'\n",
    "print 'So h << R'"
   ]
  },
  {
   "cell_type": "code",
   "execution_count": 152,
   "metadata": {
    "collapsed": false
   },
   "outputs": [
    {
     "name": "stdout",
     "output_type": "stream",
     "text": [
      "energy gain comes from displacement along gravitational field.\n",
      "potential energy gain is mass times height h times constant g\n"
     ]
    }
   ],
   "source": [
    "#Problem 3 Part d\n",
    "\n",
    "print 'energy gain comes from displacement along gravitational field.'\n",
    "print 'potential energy gain is mass times height h times constant g'\n"
   ]
  },
  {
   "cell_type": "code",
   "execution_count": 151,
   "metadata": {
    "collapsed": false
   },
   "outputs": [
    {
     "name": "stdout",
     "output_type": "stream",
     "text": [
      "Pressure is 1013.25 hPa minus 1013.25 hPa times exp(-depth/h)\n",
      "For example, atmospheric pressure at depth 1km on earth is 113.283329282 hPa\n"
     ]
    }
   ],
   "source": [
    "#Problem 3 Part e\n",
    "\n",
    "\n",
    "#We have dP/dz = -g*rho(z)\n",
    "#P = integral of -g*rho(z) from infinity to depth\n",
    "#P = -g*rho0*h*(exp((-inf-z0)/h)-exp((-depth-z0)/h)) \n",
    "#P = g*rho0*h*exp(-depth/h)\n",
    "P0 = 1013.25*u.hPa\n",
    "rho0 = 1.225*u.kg*u.m**-3\n",
    "h = P0/rho0/const.g0\n",
    "depth = 1*u.km\n",
    "Pex = const.g0*rho0*h\n",
    "print 'Pressure is', P0, 'minus',Pex, 'times exp(-depth/h)'\n",
    "P = -const.g0*rho0*h*np.exp(-depth/h)+P0\n",
    "\n",
    "\n",
    "print 'For example, atmospheric pressure at depth 1km on earth is', P"
   ]
  },
  {
   "cell_type": "code",
   "execution_count": null,
   "metadata": {
    "collapsed": true
   },
   "outputs": [],
   "source": []
  },
  {
   "cell_type": "code",
   "execution_count": null,
   "metadata": {
    "collapsed": true
   },
   "outputs": [],
   "source": []
  },
  {
   "cell_type": "code",
   "execution_count": null,
   "metadata": {
    "collapsed": true
   },
   "outputs": [],
   "source": []
  }
 ],
 "metadata": {
  "kernelspec": {
   "display_name": "Python 2",
   "language": "python",
   "name": "python2"
  },
  "language_info": {
   "codemirror_mode": {
    "name": "ipython",
    "version": 2
   },
   "file_extension": ".py",
   "mimetype": "text/x-python",
   "name": "python",
   "nbconvert_exporter": "python",
   "pygments_lexer": "ipython2",
   "version": "2.7.6"
  }
 },
 "nbformat": 4,
 "nbformat_minor": 0
}
