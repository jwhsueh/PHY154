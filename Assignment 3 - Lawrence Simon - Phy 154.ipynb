{
 "cells": [
  {
   "cell_type": "code",
   "execution_count": null,
   "metadata": {
    "collapsed": true
   },
   "outputs": [],
   "source": [
    "#Question 1a: Derive Mass gradient\n",
    "# dMr_dr = ?\n",
    "# Mr = (row)*(4*pi/3)*exp(r,3)\n",
    "# dMr_dr = 4*pi*exp(r,2)*(row)"
   ]
  },
  {
   "cell_type": "code",
   "execution_count": null,
   "metadata": {
    "collapsed": true
   },
   "outputs": [],
   "source": [
    "#Question 1b: Pressure Gradient\n",
    "# This is from last homework\n",
    "# dP_dr = (-G*M*row)/(exp(r,2))"
   ]
  },
  {
   "cell_type": "code",
   "execution_count": null,
   "metadata": {
    "collapsed": true
   },
   "outputs": [],
   "source": [
    "#Question 1c: Derive Luminosity Gradient\n",
    "# Lr = (epilon)*(row)*((4/3)(pi*exp(r,3)))\n",
    "# dL_dr = (4*pi*exp(r,2))*(row)*(epsilon)"
   ]
  },
  {
   "cell_type": "code",
   "execution_count": null,
   "metadata": {
    "collapsed": true
   },
   "outputs": [],
   "source": [
    "#Question 1d: Temperature Gradient\n",
    "# dT_dr = (-3/(4*a*c))*((kappa)*(row)/(exp(temp,3)))*(L/(4*pi*exp(r,2)))"
   ]
  },
  {
   "cell_type": "code",
   "execution_count": null,
   "metadata": {
    "collapsed": true
   },
   "outputs": [],
   "source": [
    "#Question 1e: Four Boundary Conditions\n",
    "#1. Mr(r=0)=0\n",
    "#2. P(r=0)=Pc\n",
    "#3. T(r=0)=Tc\n",
    "#4. Lr(r=0)=0"
   ]
  },
  {
   "cell_type": "code",
   "execution_count": null,
   "metadata": {
    "collapsed": true
   },
   "outputs": [],
   "source": [
    "#Question 1f: My solution is to determine our constants, Pc and Tc, by referring to the graph on the top left corner of the next page. As the professor noted earlier on, had we not had graphs on the next page, I would have needed to write a program to determine what Pc and Tc equal.\n",
    "\n",
    "#at r = 0, Pc=15.7 (from graph)\n",
    "#at r = 0, Tc=15.4 (from graph)"
   ]
  },
  {
   "cell_type": "code",
   "execution_count": null,
   "metadata": {
    "collapsed": false
   },
   "outputs": [],
   "source": [
    "#Importing Libraries\n",
    "import numpy as np\n",
    "import matplotlib.pyplot as plt\n",
    "from scipy.integrate import odeint\n",
    "\n",
    "from astropy import constants as cn\n",
    "\n",
    "#Calcuating Sun's Composition, Mean Molecular Weight\n",
    "X = 0.7\n",
    "Y = 0.28\n",
    "Z = 0.02\n",
    "mew = (1/((2*X) + (0.75*Y) + (0.50*Z)))\n",
    "\n",
    "#Calculating epsilon\n",
    "#We need to sum epsilon for pp chain and cno cycle\n",
    "epsilon_pp = 1.08 * (exp(10, -12))\n",
    "epsilon_cno = 8.24 * (exp(10, -31))\n",
    "epsilon = epsilon_pp + epsilon_cno\n",
    "\n",
    "#Calculating kappa\n",
    "#We need to average 3 kappa values: bound-free, free-fall, and electron\n",
    "kappa_boundfree = 8.7\n",
    "kappa_freefall = 8.11\n",
    "kappa_electron - 8.14\n",
    "kappa = (kappa_boundfree + kappa_freefall + kappa_electron) / 3\n",
    "\n",
    "#Calculating row (pressure) using variables\n",
    "#We need to find Total Pressure by adding\n",
    "#together the equations for gas and radiation\n",
    "#pressures together. This is not as simple\n",
    "#since we have equations instead of constants.\n",
    "def row(y,r):\n",
    "    row, epsilon, kappa = y #unpack current values of y\n",
    "    row_0 = row(y,r)\n",
    "    \n",
    "    a = 1\n",
    "    temp = 1.5*exp(10,6)\n",
    "    row_radiation = (1/3)*(a)*(temp)\n",
    "\n",
    "    row_gas = (4/3)*(pi)*(exp(r,3))\n",
    "    row_0 = row_gas + row_radiation\n",
    "\n",
    "#Equation 1: dM_dr\n",
    "def dMr_dr(y,r):\n",
    "    Mr, Lr, T, P = y     # unpack current values of y\n",
    "    row_0 = row(y,r)\n",
    "    dM_dr_0 = ((4*pi*exp(r,2)*row)) #equation for dM_dr\n",
    "    return dM_dr_0\n",
    "\n",
    "#Equation 2: dL_dr\n",
    "def dL_dr(y,r):\n",
    "    Mr, Lr, T, P = y     # unpack current values of y\n",
    "    row_0 = row(y,r)\n",
    "    dL_dr_0 = (-((cn.G)*Mr*row)/(exp(r,2))) #equation for dL_dr\n",
    "    return dL_dr_0\n",
    "\n",
    "#Equation 3: dT_dr\n",
    "def dT_dr(y,r):\n",
    "    Mr, Lr, T, P = y     # unpack current values of y\n",
    "    row_0 = row(y,r)\n",
    "    dT_dr_0 = (4*pi*exp(r,2)*row*epsilon) #equation for dT_dr\n",
    "    return dT_dr_0\n",
    "\n",
    "#Equation 4: dP_dr\n",
    "def dP_dr(y,r):\n",
    "    Mr, Lr, T, P = y     # unpack current values of y\n",
    "    row_0 = row(y,r)\n",
    "    dP_dr_0 = ((-3/(4*a*c))*((kappa*row)/(exp(temp,3)))*((Lr)/(4*pi*exp(r,2)))) #equation for dP_dr\n",
    "    return dP_dr_0\n",
    "\n",
    "#Main function\n",
    "def f(y, t):\n",
    "    M, P, Lr, T = y      # unpack current values of y\n",
    "    derivs = [dMr_dr, dL_dr, dT_dr, dP_dr]  # list of dy/dt=f functions\n",
    "    return derivs\n",
    "\n",
    "# Initial conditions\n",
    "Pc = 15.7       # from graph on next page\n",
    "Tc = 15.4       # from graph on next page\n",
    "\n",
    "mass0 = 0.0     # initial mass at radius 0\n",
    "pressure0 = Pc  # initial pressure at radius 0\n",
    "lum0 = 0.0      # initial luminosity at radius 0\n",
    "temp0 = Tc      # initial temperature at radius 0\n",
    "\n",
    "# Bundle initial conditions for ODE solver\n",
    "y0 = [mass0, pressure0, lum0, temp0]\n",
    "\n",
    "# Make time array for solution\n",
    "tStop = 100.\n",
    "tInc = 0.01\n",
    "t = np.arange(0., tStop, tInc)\n",
    "\n",
    "# Call the ODE solver\n",
    "psoln = odeint(f, y0, t)\n",
    "\n",
    "# Plot results\n",
    "fig = plt.figure(1, figsize=(8,8))\n",
    "\n",
    "# Plot dMr_dr as a function of time\n",
    "ax1 = fig.add_subplot(311)\n",
    "ax1.plot(t, psoln[:,0])\n",
    "ax1.set_xlabel('time')\n",
    "ax1.set_ylabel('dM_dr')\n",
    "\n",
    "# Plot dL_dr as a function of time\n",
    "ax2 = fig.add_subplot(312)\n",
    "ax2.plot(t, psoln[:,1])\n",
    "ax2.set_xlabel('time')\n",
    "ax2.set_ylabel('dL_dr')\n",
    "\n",
    "# Plot dT_dr as a function of time\n",
    "ax2 = fig.add_subplot(313)\n",
    "ax2.plot(t, psoln[:,2])\n",
    "ax2.set_xlabel('time')\n",
    "ax2.set_ylabel('dT_dr')\n",
    "\n",
    "## Plot dP_dr as a function of time\n",
    "ax2 = fig.add_subplot(314)\n",
    "ax2.plot(t, psoln[:,3])\n",
    "ax2.set_xlabel('time')\n",
    "ax2.set_ylabel('dP_dr')\n",
    "\n",
    "plt.tight_layout()\n",
    "plt.show()"
   ]
  },
  {
   "cell_type": "code",
   "execution_count": null,
   "metadata": {
    "collapsed": true
   },
   "outputs": [],
   "source": []
  }
 ],
 "metadata": {
  "kernelspec": {
   "display_name": "Python 2",
   "language": "python",
   "name": "python2"
  },
  "language_info": {
   "codemirror_mode": {
    "name": "ipython",
    "version": 2
   },
   "file_extension": ".py",
   "mimetype": "text/x-python",
   "name": "python",
   "nbconvert_exporter": "python",
   "pygments_lexer": "ipython2",
   "version": "2.7.6"
  }
 },
 "nbformat": 4,
 "nbformat_minor": 0
}
