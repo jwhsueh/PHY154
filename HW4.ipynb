{
 "cells": [
  {
   "cell_type": "raw",
   "metadata": {},
   "source": [
    "HW4\n",
    "Yizhou Zeng\n",
    "999153246"
   ]
  },
  {
   "cell_type": "markdown",
   "metadata": {},
   "source": [
    "# Problem 1"
   ]
  },
  {
   "cell_type": "markdown",
   "metadata": {},
   "source": [
    "## (a)"
   ]
  },
  {
   "cell_type": "markdown",
   "metadata": {},
   "source": [
    "Merry-Go-Around: $\\textbf{graph A}$\n",
    "\n",
    "Fixed angular velocity $\\omega$:\n",
    "\\begin{align}\n",
    "    v(r) = \\omega\\cdot r\n",
    "\\end{align}\n",
    "\n",
    "Planets in Our Solar System: $\\textbf{graph C}$\n",
    "\n",
    "We have gravitational force as centripetal force:\n",
    "\\begin{align}\n",
    "    \\frac{GMm}{r^2} &= \\frac{v^2}{r}\\cdot m\\\\\n",
    "    v &= \\sqrt{\\frac{GM}{r}}\n",
    "\\end{align}"
   ]
  },
  {
   "cell_type": "markdown",
   "metadata": {},
   "source": [
    "## (b)"
   ]
  },
  {
   "cell_type": "raw",
   "metadata": {},
   "source": [
    "The rotational speed of mass in the galaxy is approximately linear increasing around the center of the galaxy. \n",
    "\n",
    "However, from certain distance, the rotational speed tends to be relatively constant, which will lead to a \n",
    "spiral-like shape from a large scale.\n",
    "\n",
    "Hence, the results above shows that the mass distribution of a galaxy is not precisely center-based. Since if so, the rotaional speed will decreases at a large scale. "
   ]
  },
  {
   "cell_type": "markdown",
   "metadata": {},
   "source": [
    "## (c)"
   ]
  },
  {
   "cell_type": "raw",
   "metadata": {},
   "source": [
    "The answer from part (c) is not consistent with the mass distribution coming from light we obsever, because from this graph, mass is higly concentrated around the center of the galaxy.\n",
    "Therefore, the distribution for distance-speed is more convincing since gravitional force is directly related to this graph, while the light spectrum may be inconclusive in this sense."
   ]
  },
  {
   "cell_type": "markdown",
   "metadata": {},
   "source": [
    "# Problem 2"
   ]
  },
  {
   "cell_type": "markdown",
   "metadata": {},
   "source": [
    "## (a)"
   ]
  },
  {
   "cell_type": "code",
   "execution_count": null,
   "metadata": {
    "collapsed": true
   },
   "outputs": [],
   "source": []
  }
 ],
 "metadata": {
  "kernelspec": {
   "display_name": "Python 2",
   "language": "python",
   "name": "python2"
  },
  "language_info": {
   "codemirror_mode": {
    "name": "ipython",
    "version": 2
   },
   "file_extension": ".py",
   "mimetype": "text/x-python",
   "name": "python",
   "nbconvert_exporter": "python",
   "pygments_lexer": "ipython2",
   "version": "2.7.11"
  }
 },
 "nbformat": 4,
 "nbformat_minor": 0
}
