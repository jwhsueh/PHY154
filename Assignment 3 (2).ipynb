{
 "cells": [
  {
   "cell_type": "code",
   "execution_count": 1,
   "metadata": {
    "collapsed": true
   },
   "outputs": [],
   "source": [
    "#1\n",
    "# See paper\n",
    "#dm/dr = 4*pi*r^2p"
   ]
  },
  {
   "cell_type": "code",
   "execution_count": 3,
   "metadata": {
    "collapsed": false
   },
   "outputs": [],
   "source": [
    "#b\n",
    "#dP/dr = -Gmp/r^2"
   ]
  },
  {
   "cell_type": "code",
   "execution_count": 4,
   "metadata": {
    "collapsed": true
   },
   "outputs": [],
   "source": [
    "#c\n",
    "# See paper\n",
    "#dL/dr = 4*pi*r^2pe"
   ]
  },
  {
   "cell_type": "code",
   "execution_count": 5,
   "metadata": {
    "collapsed": true
   },
   "outputs": [],
   "source": [
    "#d\n",
    "# dT/dr = -3/4ac kp/T^3 L/4*pi*r^2"
   ]
  },
  {
   "cell_type": "code",
   "execution_count": 159,
   "metadata": {
    "collapsed": false
   },
   "outputs": [
    {
     "data": {
      "text/plain": [
       "'Not all boundary conditions are at R= 0. I can use the ones at r=R as a check to see how accurate my code is. They should be\\naround the values for the sun'"
      ]
     },
     "execution_count": 159,
     "metadata": {},
     "output_type": "execute_result"
    }
   ],
   "source": [
    "#e\n",
    "# M(0) = 0\n",
    "# T(0) = 15.6E6 K\n",
    "# P(0) = 2.3E16 N/m^2\n",
    "# L(0) = 0\n",
    "# M(R) = M_sun\n",
    "# L(R) = L_sun\n",
    "# T(R) = 0\n",
    "# P(R) = 0\n",
    "\n",
    "#f\n",
    "'''Not all boundary conditions are at R= 0. I can use the ones at r=R as a check to see how accurate my code is. They should be\n",
    "around the values for the sun'''"
   ]
  },
  {
   "cell_type": "code",
   "execution_count": 160,
   "metadata": {
    "collapsed": false
   },
   "outputs": [],
   "source": [
    "#g\n",
    "import numpy as np\n",
    "import matplotlib.pyplot as plt\n",
    "from scipy.integrate import odeint\n",
    "\n",
    "#define constants\n",
    "X = 0.7\n",
    "Y = 0.28\n",
    "Z = 0.02\n",
    "\n",
    "u = (2.0*X +0.75*Y + 0.5*Z) ** (-1.0)\n",
    "m_H = 1.67E-27\n",
    "k_B = 1.38E-23\n",
    "G = 6.67E-11\n",
    "pi = np.pi\n",
    "M_sun = 2.0E30\n",
    "L_sun = 3.8E26\n",
    "R_sun = 6.96E8\n",
    "sigma = 5.67E-8\n",
    "c = 3.0E8\n",
    "a = 7.565E-16\n",
    "\n",
    "# define functions\n",
    "def p(y, r):\n",
    "    M, P, L, T = y\n",
    "    p0 = (P-((4.0*sigma*(T**4))/(3.0*c)))*(u*m_H/(k_B*T))\n",
    "    return p0\n",
    "def k(y, r):\n",
    "    M, L, T, P = y\n",
    "    p0 = p(y, r)\n",
    "    t = 10.0\n",
    "    g_bf = 1.0\n",
    "    g_ff = 1.9\n",
    "    k_bf = 4.3E21*(g_bf/t)*Z*(1.0+X)*(p0/np.power(T, 3.5)) \n",
    "    k_ff = 3.7E18*g_ff*(1.0-Z)*(1.0+X)*(p0/np.power(T, 3.5))    \n",
    "    k_e = 0.02*(1.0+X)                                       \n",
    "    k_bar = ((k_bf+k_ff+k_e)/3.0)\n",
    "    return 0.03\n",
    "def e(y, r):\n",
    "    M, P, L, T = y\n",
    "    e_ipp = 1.08E-12\n",
    "    e_icno = 8.24E-31\n",
    "    p0 = p(y, r)\n",
    "    X_H = 0.64\n",
    "    X_CNO = 0.015\n",
    "    e_pp = e_ipp*p0*X_H*X_H*((T/(10E5)) ** 4)\n",
    "    e_cno = e_icno*p0*X_H*X_CNO*((T/(10E5)) ** 19.9)\n",
    "    e0 = e_pp + e_cno\n",
    "    return e0"
   ]
  },
  {
   "cell_type": "code",
   "execution_count": 161,
   "metadata": {
    "collapsed": false
   },
   "outputs": [
    {
     "name": "stderr",
     "output_type": "stream",
     "text": [
      "/usr/local/lib/python2.7/dist-packages/ipykernel/__main__.py:34: RuntimeWarning: divide by zero encountered in double_scalars\n",
      "/usr/local/lib/python2.7/dist-packages/ipykernel/__main__.py:35: RuntimeWarning: divide by zero encountered in double_scalars\n"
     ]
    }
   ],
   "source": [
    "def dmdr(y, r):\n",
    "    M, P, L, T = y\n",
    "    p0 = p(y, r)\n",
    "    e0 = e(y, r)\n",
    "    dmdr0 = 4.0*pi*r*r*p0\n",
    "    return dmdr0\n",
    "def dpdr(y, r):\n",
    "    M, P, L, T = y\n",
    "    p0 = p(y, r)\n",
    "    e0 = e(y, r)\n",
    "    dpdr0 = (-G*M*p0)/(r*r)\n",
    "    return dpdr0\n",
    "def dldr(y, r):\n",
    "    M, P, L, T = y\n",
    "    p0 = p(y, r)\n",
    "    e0 = e(y, r)\n",
    "    dldr0 = 4.0*pi*r*r*p0*e0\n",
    "    return dldr0\n",
    "def dtdr(y, r):\n",
    "    M, P, L, T = y\n",
    "    p0 = p(y, r)\n",
    "    e0 = e(y, r)\n",
    "    k_bar = k(y, r)\n",
    "    dtdr0 = -(3.0/(4.0*a*c))*(k_bar*p0/(np.power(T, 3.0)))*(L/(4.0*pi*r*r))\n",
    "    return dtdr0\n",
    "\n",
    "def f(y, r):\n",
    "    M, P, L, T = y\n",
    "    derivs = [dmdr(y, r), dpdr(y, r), dldr(y, r), dtdr(y, r)]\n",
    "    return derivs\n",
    "\n",
    "#initial vals\n",
    "M0 = 0\n",
    "L0 = 0\n",
    "T0 = 15.6E6 \n",
    "P0 = 2.3E16\n",
    "\n",
    "#initial conditions\n",
    "y0 = [M0, P0, L0, T0]\n",
    "\n",
    "#r array\n",
    "#r=np.logspace(np.log10(0.01*R_sun), np.log10(R_sun), num = 100)\n",
    "r = np.linspace(0.01*R_sun, R_sun, 100)\n",
    "\n",
    "#ODE solver\n",
    "psoln = odeint(f, y0, r)\n"
   ]
  },
  {
   "cell_type": "code",
   "execution_count": 162,
   "metadata": {
    "collapsed": false,
    "scrolled": false
   },
   "outputs": [
    {
     "name": "stdout",
     "output_type": "stream",
     "text": [
      "110063.598294\n",
      "109402.131618\n",
      "107875.077061\n",
      "105681.195928\n",
      "102899.08103\n",
      "99596.8927514\n",
      "95846.7260633\n",
      "91726.4363111\n",
      "87318.2161269\n",
      "82705.9554375\n",
      "77972.165543\n",
      "73194.9442479\n",
      "68445.3343839\n",
      "63785.3172324\n",
      "59266.5652124\n",
      "54929.9650509\n",
      "50805.8284433\n",
      "46914.6467742\n",
      "43268.2187275\n",
      "39870.9827509\n",
      "36721.4104496\n",
      "33813.350189\n",
      "31137.2495123\n",
      "28681.2123798\n",
      "26431.8787374\n",
      "24375.1285921\n",
      "22496.6258023\n",
      "20782.2221435\n",
      "19218.2447698\n",
      "17791.689579\n",
      "16490.3405254\n",
      "15302.8328648\n",
      "14218.6747142\n",
      "13228.238836\n",
      "12322.7339432\n",
      "11494.1626441\n",
      "10735.2714162\n",
      "10039.4965394\n",
      "9400.90882804\n",
      "8814.1590388\n",
      "8274.4254516\n",
      "7777.36421949\n",
      "7319.06308277\n",
      "6895.99867753\n",
      "6504.99739809\n",
      "6143.19978827\n",
      "5808.02829079\n",
      "5497.15814753\n",
      "5208.49122265\n",
      "4940.13250989\n",
      "4690.36909657\n",
      "4457.65128299\n",
      "4240.5758416\n",
      "4037.8708638\n",
      "3848.38248081\n",
      "3671.06273066\n",
      "3504.95901248\n",
      "3349.20438482\n",
      "3203.00918275\n",
      "3065.65325332\n",
      "2936.47927984\n",
      "2814.88655745\n",
      "2700.32566146\n",
      "2592.29344793\n",
      "2490.32878042\n",
      "2394.00850527\n",
      "2302.9440133\n",
      "2216.77799116\n",
      "2135.18164365\n",
      "2057.85206382\n",
      "1984.50997968\n",
      "1914.89761849\n",
      "1848.77687135\n",
      "1785.92755308\n",
      "1726.14590099\n",
      "1669.24315232\n",
      "1615.04431136\n",
      "1563.38698248\n",
      "1514.12035357\n",
      "1467.10423543\n",
      "1422.20822027\n",
      "1379.3108883\n",
      "1338.29910843\n",
      "1299.06738065\n",
      "1261.51725283\n",
      "1225.55677374\n",
      "1191.10000491\n",
      "1158.06656415\n",
      "1126.38121561\n",
      "1095.97348815\n",
      "1066.77732866\n",
      "1038.73077853\n",
      "1011.77568963\n",
      "985.857444312\n",
      "960.924714897\n",
      "936.92922859\n",
      "913.825562075\n",
      "891.570943837\n",
      "870.125076028\n",
      "849.449968833\n"
     ]
    },
    {
     "data": {
      "image/png": "[encoded data removed]",
      "text/plain": [
       "<matplotlib.figure.Figure at 0x7efc4549e350>"
      ]
     },
     "metadata": {},
     "output_type": "display_data"
    },
    {
     "data": {
      "text/plain": [
       "'My results are different from the figures but not hugely so. My mass is about twice as large as m_sun, which is 2 * 10 ^ 30. \\nMy pressure results have the same dependence as on the graph, as does my temperature. The pressure also decreases slightly\\nmore quickly than the temperature, matching the other graphs. The luminosity increases to slightly too high, but is still less\\nthan one order of magnitude off from where it should be. My kappa function did not work properly for some reason, so this\\ncould be a major source of error in these calculations. Another source of error could have been the estimations for the various\\nconstants in the kappa function, which were difficult to find online.'"
      ]
     },
     "execution_count": 162,
     "metadata": {},
     "output_type": "execute_result"
    }
   ],
   "source": [
    "\n",
    "\n",
    "'''\n",
    "#p array\n",
    "p_r = [p(psoln[i], r) for i in range(100)]\n",
    "p_rad = np.array(p_r)\n",
    "'''\n",
    "'''\n",
    "for i in range(0,100):\n",
    "    print k(psoln[i],r)\n",
    "'''\n",
    "for i in range(0, 100):\n",
    "    print p(psoln[i],r)\n",
    "    P = [p(psoln[i], r)]\n",
    "\n",
    "#plot\n",
    "fig = plt.figure(1, figsize=(8,8))\n",
    "'''\n",
    "trying to plot p(r) causes weird errors!\n",
    "#plot p(r)\n",
    "ax1 = fig.add_subplot(111)\n",
    "ax1.plot(r, P)\n",
    "ax1.set_xlabel(\"radius\")\n",
    "ax1.set_ylabel(\"p(r)\")\n",
    "'''\n",
    "#plot M(r)\n",
    "ax1 = fig.add_subplot(411)\n",
    "ax1.plot(r/R_sun, psoln[:,0]/M_sun)\n",
    "ax1.set_xlabel(\"radius\")\n",
    "ax1.set_ylabel(\"mass\")\n",
    "\n",
    "#plot P\n",
    "ax2 = fig.add_subplot(412)\n",
    "ax2.plot(r/R_sun, psoln[:,1])\n",
    "ax2.set_xlabel(\"radius\")\n",
    "ax2.set_ylabel(\"pressure\")\n",
    "\n",
    "#plot L(r)\n",
    "ax3 = fig.add_subplot(413)\n",
    "ax3.plot(r/R_sun, psoln[:,2]/L_sun)\n",
    "ax3.set_xlabel(\"radius\")\n",
    "ax3.set_ylabel(\"luminosity\")\n",
    "\n",
    "#plot T\n",
    "ax4 = fig.add_subplot(414)\n",
    "ax4.plot(r/R_sun, psoln[:,3])\n",
    "ax4.set_xlabel(\"radius\")\n",
    "ax4.set_ylabel(\"temperature\")\n",
    "\n",
    "plt.tight_layout()\n",
    "plt.show()\n",
    "\n",
    "#i \n",
    "'''My results are different from the figures but not hugely so. My mass is about twice as large as m_sun, which is 2 * 10 ^ 30. \n",
    "My pressure results have the same dependence as on the graph, as does my temperature. The pressure also decreases slightly\n",
    "more quickly than the temperature, matching the other graphs. The luminosity increases to slightly too high, but is still less\n",
    "than one order of magnitude off from where it should be. My kappa function did not work properly for some reason, so this\n",
    "could be a major source of error in these calculations. Another source of error could have been the estimations for the various\n",
    "constants in the kappa function, which were difficult to find online.'''"
   ]
  },
  {
   "cell_type": "code",
   "execution_count": null,
   "metadata": {
    "collapsed": true
   },
   "outputs": [],
   "source": []
  }
 ],
 "metadata": {
  "kernelspec": {
   "display_name": "Python 2",
   "language": "python",
   "name": "python2"
  },
  "language_info": {
   "codemirror_mode": {
    "name": "ipython",
    "version": 2
   },
   "file_extension": ".py",
   "mimetype": "text/x-python",
   "name": "python",
   "nbconvert_exporter": "python",
   "pygments_lexer": "ipython2",
   "version": "2.7.6"
  }
 },
 "nbformat": 4,
 "nbformat_minor": 0
}
