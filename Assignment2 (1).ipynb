{
 "cells": [
  {
   "cell_type": "code",
   "execution_count": 3,
   "metadata": {
    "collapsed": false
   },
   "outputs": [
    {
     "name": "stdout",
     "output_type": "stream",
     "text": [
      "51718668746.7 J / W\n"
     ]
    },
    {
     "data": {
      "text/latex": [
       "$1638.87 \\; \\mathrm{yr}$"
      ],
      "text/plain": [
       "<Quantity 1638.8657168716843 yr>"
      ]
     },
     "execution_count": 3,
     "metadata": {},
     "output_type": "execute_result"
    }
   ],
   "source": [
    "from astropy import units as u\n",
    "from astropy import constants as cn\n",
    "#1(a)\n",
    "r=1E7*u.J/u.kg\n",
    "t=(cn.M_sun*r)/cn.L_sun\n",
    "print t\n",
    "t.to(u.yr)"
   ]
  },
  {
   "cell_type": "code",
   "execution_count": 5,
   "metadata": {
    "collapsed": false
   },
   "outputs": [
    {
     "name": "stdout",
     "output_type": "stream",
     "text": [
      "27 MeV 4.3258767255e-12 J\n"
     ]
    }
   ],
   "source": [
    "#1(b)\n",
    "deltaE= 27*u.MeV\n",
    "deltaEJ=deltaE.to(u.J)\n",
    "print deltaE, deltaEJ"
   ]
  },
  {
   "cell_type": "code",
   "execution_count": 33,
   "metadata": {
    "collapsed": false,
    "scrolled": true
   },
   "outputs": [
    {
     "name": "stdout",
     "output_type": "stream",
     "text": [
      "3.34398051732e+18 J / W\n"
     ]
    },
    {
     "data": {
      "text/latex": [
       "$1.05964\\times 10^{+11} \\; \\mathrm{yr}$"
      ],
      "text/plain": [
       "<Quantity 105964348281.2775 yr>"
      ]
     },
     "execution_count": 33,
     "metadata": {},
     "output_type": "execute_result"
    }
   ],
   "source": [
    "from scipy import constants as cs\n",
    "t=cn.M_sun/cs.m_p/4 *deltaEJ/cn.L_sun/u.kg\n",
    "print t\n",
    "t.to(u.yr)"
   ]
  },
  {
   "cell_type": "code",
   "execution_count": 45,
   "metadata": {
    "collapsed": false
   },
   "outputs": [
    {
     "data": {
      "text/latex": [
       "$8.0888\\times 10^{+18} \\; \\mathrm{J}$"
      ],
      "text/plain": [
       "<Quantity 8.088796608631358e+18 J>"
      ]
     },
     "execution_count": 45,
     "metadata": {},
     "output_type": "execute_result"
    }
   ],
   "source": [
    "#1(c)\n",
    "E=90*u.kg*cn.c*cn.c\n",
    "E.to(u.J)"
   ]
  },
  {
   "cell_type": "code",
   "execution_count": 53,
   "metadata": {
    "collapsed": false
   },
   "outputs": [
    {
     "data": {
      "text/latex": [
       "$2.56318\\times 10^{+08} \\; \\mathrm{yr}$"
      ],
      "text/plain": [
       "<Quantity 256318497.24413002 yr>"
      ]
     },
     "execution_count": 53,
     "metadata": {},
     "output_type": "execute_result"
    }
   ],
   "source": [
    "#1(d)\n",
    "t=E.to(u.J)/1000/u.W\n",
    "t.to(u.yr)"
   ]
  },
  {
   "cell_type": "code",
   "execution_count": 67,
   "metadata": {
    "collapsed": false
   },
   "outputs": [
    {
     "data": {
      "text/latex": [
       "$0.128159 \\; \\mathrm{yr}$"
      ],
      "text/plain": [
       "<Quantity 0.12815924862206501 yr>"
      ]
     },
     "execution_count": 67,
     "metadata": {},
     "output_type": "execute_result"
    }
   ],
   "source": [
    "t=E.to(u.J)/2/u.TW\n",
    "t.to(u.yr)"
   ]
  },
  {
   "cell_type": "code",
   "execution_count": 82,
   "metadata": {
    "collapsed": false
   },
   "outputs": [
    {
     "name": "stdout",
     "output_type": "stream",
     "text": [
      "4102.82180674 W / m2\n"
     ]
    },
    {
     "data": {
      "text/latex": [
       "$4.87469\\times 10^{+08} \\; \\mathrm{m^{2}}$"
      ],
      "text/plain": [
       "<Quantity 487469379.41976136 m2>"
      ]
     },
     "execution_count": 82,
     "metadata": {},
     "output_type": "execute_result"
    }
   ],
   "source": [
    "#1(e)\n",
    "r=1*u.AU\n",
    "A=r.to(u.m)*r.to(u.m)*4/3*3.1415\n",
    "F=cn.L_sun/A\n",
    "print F\n",
    "2*u.TW.to(u.W)/F*u.W"
   ]
  },
  {
   "cell_type": "code",
   "execution_count": 86,
   "metadata": {
    "collapsed": false
   },
   "outputs": [
    {
     "name": "stdout",
     "output_type": "stream",
     "text": [
      "1H+1H = 2H + beta+ + v\n"
     ]
    }
   ],
   "source": [
    "#1(f)\n",
    "print '1H+1H = 2H + beta+ + v'"
   ]
  },
  {
   "cell_type": "code",
   "execution_count": 87,
   "metadata": {
    "collapsed": true
   },
   "outputs": [],
   "source": [
    "#1(g)\n",
    "Epp= 4.371E-3 * u.W/u.kg\n",
    "Ecno= 8.169E-4 *u.W/u.kg\n",
    "#They are equally important at very low temperatures"
   ]
  },
  {
   "cell_type": "code",
   "execution_count": 88,
   "metadata": {
    "collapsed": true
   },
   "outputs": [],
   "source": [
    "#2(a)\n",
    "#Gravitational potential energy must be greater than kinetic energy."
   ]
  },
  {
   "cell_type": "code",
   "execution_count": 89,
   "metadata": {
    "collapsed": true
   },
   "outputs": [],
   "source": [
    "#2(b)\n",
    "#Gravity"
   ]
  },
  {
   "cell_type": "code",
   "execution_count": null,
   "metadata": {
    "collapsed": true
   },
   "outputs": [],
   "source": [
    "#2(c)\n",
    "# 2K+U=0\n",
    "# The virial theorem describes the ratio of kinetic to potential energy in a stable sytem of particles\n",
    "# To find collapse conditions, substitute K=3/2KNT and U=3/5GM^2/R and solve for M or R"
   ]
  },
  {
   "cell_type": "code",
   "execution_count": null,
   "metadata": {
    "collapsed": true
   },
   "outputs": [],
   "source": [
    "#3(a)\n",
    "\n",
    "#dP/dr = -GM/R^2 * rho(z)\n",
    "\n",
    "#3(b)\n",
    "\n",
    "#PV=nKT\n",
    "#P=rhonKT/m\n",
    "#rho=Pm/nKT\n",
    "\n",
    "#dP/dz = -gPm/nKT\n",
    "\n",
    "# -nKT/gm * ln(P/Po) = Z-Zo\n",
    "#\n",
    "\n",
    "\n",
    "\n",
    "\n"
   ]
  }
 ],
 "metadata": {
  "kernelspec": {
   "display_name": "Python 2",
   "language": "python",
   "name": "python2"
  },
  "language_info": {
   "codemirror_mode": {
    "name": "ipython",
    "version": 2
   },
   "file_extension": ".py",
   "mimetype": "text/x-python",
   "name": "python",
   "nbconvert_exporter": "python",
   "pygments_lexer": "ipython2",
   "version": "2.7.6"
  }
 },
 "nbformat": 4,
 "nbformat_minor": 0
}
