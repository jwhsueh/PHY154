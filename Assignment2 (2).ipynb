{
 "cells": [
  {
   "cell_type": "code",
   "execution_count": 103,
   "metadata": {
    "collapsed": false
   },
   "outputs": [
    {
     "data": {
      "text/plain": [
       "1675.3151904410036"
      ]
     },
     "execution_count": 103,
     "metadata": {},
     "output_type": "execute_result"
    }
   ],
   "source": [
    "#Question 1a \n",
    "\n",
    "Mass = 2.0 * 10**30\n",
    "    \n",
    "Mass\n",
    "\n",
    "Energy = 10**7\n",
    "\n",
    "Energy\n",
    "\n",
    "Mass/Energy\n",
    "\n",
    "L = 3.8 * 10**26\n",
    "\n",
    "A = Mass/Energy\n",
    "\n",
    "L/A\n",
    "\n",
    "Mass = 2.0 * 10**30 \n",
    "\n",
    "Energy = 10**7.0 \n",
    "\n",
    "Luminosity = 3.8 * 10**26\n",
    "\n",
    "Burning_Energy = Mass*Energy\n",
    "\n",
    "Burning_Time_in_Seconds = Burning_Energy/Luminosity\n",
    "\n",
    "Burning_year = Burning_Time_in_Seconds / (math.pi * 10**7.0)\n",
    "\n",
    "Burning_year # Question 1 Part a"
   ]
  },
  {
   "cell_type": "code",
   "execution_count": 102,
   "metadata": {
    "collapsed": false
   },
   "outputs": [
    {
     "name": "stdout",
     "output_type": "stream",
     "text": [
      "1.19574315437e+57\n",
      " How long would it take to consume all Sun’s energy (assume reaction is without energy losses).\n"
     ]
    },
    {
     "data": {
      "text/plain": [
       "108322526528.5832"
      ]
     },
     "execution_count": 102,
     "metadata": {},
     "output_type": "execute_result"
    }
   ],
   "source": [
    "#Question 1b\n",
    "\n",
    "Proton =  1.6726  * 10**(-27)\n",
    "\n",
    "Neutron = 1.6749 * 10**(-27)\n",
    "\n",
    "Number_of_Particles = Mass / Proton\n",
    "print Number_of_Particles\n",
    "\n",
    "Number_of_reactions = Number_of_Particles / 4 \n",
    "\n",
    "Fusion_Energy = Number_of_reactions * 27 \n",
    "\n",
    "Fusion_Energy\n",
    "Total_Energy = Fusion_Energy * 1.6021773 * 10**(-13)\n",
    "\n",
    "print \" How long would it take to consume all Sun’s energy (assume reaction is without energy losses).\"\n",
    "\n",
    "Total_Energy #in Joules\n",
    "\n",
    "Sun_Lifetime_in_Years = Total_Energy/Luminosity / (math.pi * 10**7.0)\n",
    "\n",
    "Sun_Lifetime_in_Years # 1 part b\n",
    "\n"
   ]
  },
  {
   "cell_type": "code",
   "execution_count": 101,
   "metadata": {
    "collapsed": false
   },
   "outputs": [
    {
     "name": "stdout",
     "output_type": "stream",
     "text": [
      "If I am about 80 kg, then I release  7200000000000000000 Joules. \n",
      "229183118.052\n",
      "114.591559026\n"
     ]
    }
   ],
   "source": [
    "#Question 1 part c\n",
    "\n",
    "MY_Energy = 80 * (3 * 10**8)**2\n",
    "print 'If I am about 80 kg, then I release ', MY_Energy, 'Joules. '\n",
    "\n"
   ]
  },
  {
   "cell_type": "code",
   "execution_count": 119,
   "metadata": {
    "collapsed": false
   },
   "outputs": [
    {
     "name": "stdout",
     "output_type": "stream",
     "text": [
      "229183118.052\n",
      "0.114591559026\n"
     ]
    }
   ],
   "source": [
    "#Question 1 part d \n",
    "MY_Energy = 80 * (3 * 10**8)**2\n",
    "\n",
    "Year_Sec = math.pi * 10**7.0 \n",
    "\n",
    "Number_Of_Years_I_Can_Run_My_House_Talk_about_sustainable_Energy = (MY_Energy / 1000 ) / Year_Sec\n",
    "print Number_Of_Years_I_Can_Run_My_House_Talk_about_sustainable_Energy\n",
    "\n",
    "YEars_Earth_Energy = (MY_Energy / (2000000000000.0) ) / Year_Sec\n",
    "print YEars_Earth_Energy \n"
   ]
  },
  {
   "cell_type": "code",
   "execution_count": 116,
   "metadata": {
    "collapsed": false
   },
   "outputs": [
    {
     "name": "stdout",
     "output_type": "stream",
     "text": [
      " perfect solar panel is  1343.975075 Watts per Meter Squared\n",
      "Print the total area if you had a 100 percent efficiency 1488122835.91 Meters Squared.\n",
      "\n",
      "This would be the total area needed if we had solar panels at 40 percent efficiency 3720307089.78  meters squared.\n"
     ]
    }
   ],
   "source": [
    "#Question 1 part e\n",
    "\n",
    "Luminosity \n",
    "Earth_Power_Usage = 2 * 10**12\n",
    "\n",
    "Flux = Luminosity / (4.0 * math.pi * (1.5 * (10**11))**2)\n",
    "print 'perfect solar panel is ', Flux,'Watts per Meter Squared'\n",
    "Total_Area_Perfect_Efficiency = Earth_Power_Usage/Flux\n",
    "print 'Print the total area if you had a 100 percent efficiency' ,Total_Area_Perfect_Efficiency,'Meters Squared.\\n'\n",
    "\n",
    "Efficiency = .40 \n",
    "Solar_Power = Flux * Efficiency \n",
    "Total_Area_for_Solar_Panels_Per_Meter_Squared = Earth_Power_Usage / Solar_Power\n",
    "print 'This would be the total area needed if we had solar panels at 40 percent efficiency', Total_Area_for_Solar_Panels_Per_Meter_Squared,' meters squared.'"
   ]
  },
  {
   "cell_type": "code",
   "execution_count": 118,
   "metadata": {
    "collapsed": false
   },
   "outputs": [
    {
     "name": "stdout",
     "output_type": "stream",
     "text": [
      "4 Hydrogen => Helium-4 + 2 Positrons + 2 Electron Neutrinos\n"
     ]
    }
   ],
   "source": [
    "#Question 1 part f\n",
    "\n",
    "print '4 Hydrogen => Helium-4 + 2 Positrons + 2 Electron Neutrinos'"
   ]
  },
  {
   "cell_type": "code",
   "execution_count": 108,
   "metadata": {
    "collapsed": false
   },
   "outputs": [
    {
     "name": "stdout",
     "output_type": "stream",
     "text": [
      "Refer to Paper\n"
     ]
    }
   ],
   "source": [
    "#Question 1 part g\n",
    "\n",
    "print 'Refer to Paper'\n"
   ]
  },
  {
   "cell_type": "code",
   "execution_count": null,
   "metadata": {
    "collapsed": false,
    "scrolled": true
   },
   "outputs": [],
   "source": []
  },
  {
   "cell_type": "code",
   "execution_count": 7,
   "metadata": {
    "collapsed": true
   },
   "outputs": [],
   "source": []
  },
  {
   "cell_type": "code",
   "execution_count": null,
   "metadata": {
    "collapsed": true
   },
   "outputs": [],
   "source": []
  },
  {
   "cell_type": "code",
   "execution_count": null,
   "metadata": {
    "collapsed": false
   },
   "outputs": [],
   "source": []
  },
  {
   "cell_type": "code",
   "execution_count": null,
   "metadata": {
    "collapsed": false
   },
   "outputs": [],
   "source": []
  },
  {
   "cell_type": "code",
   "execution_count": null,
   "metadata": {
    "collapsed": true
   },
   "outputs": [],
   "source": []
  }
 ],
 "metadata": {
  "kernelspec": {
   "display_name": "Python 2",
   "language": "python",
   "name": "python2"
  },
  "language_info": {
   "codemirror_mode": {
    "name": "ipython",
    "version": 2
   },
   "file_extension": ".py",
   "mimetype": "text/x-python",
   "name": "python",
   "nbconvert_exporter": "python",
   "pygments_lexer": "ipython2",
   "version": "2.7.6"
  }
 },
 "nbformat": 4,
 "nbformat_minor": 0
}
