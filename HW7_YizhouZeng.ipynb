{
 "cells": [
  {
   "cell_type": "raw",
   "metadata": {},
   "source": [
    "Notes:\n",
    "mu(z, Omega_m, h)\n",
    "chi2()"
   ]
  },
  {
   "cell_type": "code",
   "execution_count": 20,
   "metadata": {
    "collapsed": false
   },
   "outputs": [],
   "source": [
    "import numpy as np \n",
    "import matplotlib.pyplot as plt\n",
    "from scipy.integrate import quad\n",
    "from scipy.optimize import fmin\n",
    "import emcee\n",
    "import time\n",
    "\n",
    "%matplotlib inline\n"
   ]
  },
  {
   "cell_type": "markdown",
   "metadata": {},
   "source": [
    "## Problem 2"
   ]
  },
  {
   "cell_type": "raw",
   "metadata": {},
   "source": []
  },
  {
   "cell_type": "code",
   "execution_count": 21,
   "metadata": {
    "collapsed": false
   },
   "outputs": [
    {
     "name": "stderr",
     "output_type": "stream",
     "text": [
      "/Users/Ray/anaconda/lib/python2.7/site-packages/ipykernel/__main__.py:18: RuntimeWarning: divide by zero encountered in log10\n",
      "/Users/Ray/anaconda/lib/python2.7/site-packages/ipykernel/__main__.py:18: RuntimeWarning: invalid value encountered in log10\n"
     ]
    },
    {
     "data": {
      "text/plain": [
       "<matplotlib.legend.Legend at 0x107566950>"
      ]
     },
     "execution_count": 21,
     "metadata": {},
     "output_type": "execute_result"
    },
    {
     "data": {
      "image/png": "[encoded data removed]",
      "text/plain": [
       "<matplotlib.figure.Figure at 0x107106a10>"
      ]
     },
     "metadata": {},
     "output_type": "display_data"
    }
   ],
   "source": [
    "## SN Z mu sigma quality\n",
    "data = np.loadtxt(\"SN.dat\", usecols = (1,2,3), skiprows = 1, unpack = True)\n",
    "\n",
    "mu1 = data[1]\n",
    "z1 = data[0]\n",
    "\n",
    "##error range\n",
    "z_up = z1 + data[2]\n",
    "z_low = z1 - data[2]\n",
    "\n",
    "plt.figure()\n",
    "plt.errorbar(z1, mu1, yerr = data[2], fmt ='o', markersize = 4, label = \"$Original$\")\n",
    "plt.xlabel(\"$z_{data}$\", size = 18)\n",
    "plt.ylabel(\"$\\mu_{data}$\", size = 18)\n",
    "\n",
    "\n",
    "def mu(DLs, h):\n",
    "    return 25 - 5*np.log10(h) + 5*np.log10(DLs)\n",
    "\n",
    "#####\n",
    "\n",
    "omega_m1 = 0.23\n",
    "omega_m2 = 1.\n",
    "h = 0.7\n",
    "\n",
    "\n",
    "\n",
    "# E, 1/E in fact\n",
    "def E(z, omega):\n",
    "    result = np.sqrt( omega* pow((1+z),3) + (1-omega) )\n",
    "    return 1./result\n",
    "\n",
    "\n",
    "\n",
    "############### \n",
    "Dc1 = []\n",
    "for z in z1:\n",
    "    Dc1 = np.append(Dc1, 3000*quad(E, 0, z, args = (omega_m1))[0])\n",
    "Dc2 = []\n",
    "for z in z1:\n",
    "    Dc2 = np.append(Dc2, 3000*quad(E, 0, z, args = (omega_m2))[0])\n",
    "\n",
    "    \n",
    "# error DC    \n",
    "Dc1_low = []\n",
    "for z in z_low:\n",
    "    Dc1_low = np.append(Dc1_low, 3000*quad(E, 0, z, args = (omega_m1))[0])\n",
    "Dc1_up = []\n",
    "for z in z_up:\n",
    "    Dc1_up = np.append(Dc1_up, 3000*quad(E, 0, z, args = (omega_m1))[0])\n",
    "\n",
    "Dc2_low = []\n",
    "for z in z_low:\n",
    "    Dc2_low = np.append(Dc2_low, 3000*quad(E, 0, z, args = (omega_m2))[0])\n",
    "Dc2_up = []\n",
    "for z in z_up:\n",
    "    Dc2_up = np.append(Dc2_up, 3000*quad(E, 0, z, args = (omega_m2))[0])\n",
    "\n",
    "\n",
    "\n",
    "\n",
    "# DL\n",
    "DL1 = Dc1*(1+z1)\n",
    "DL2 = Dc2*(1+z1)\n",
    "\n",
    "DL1_error = [(1 + z_low)*Dc1_low , (1 + z_up)*Dc1_up]\n",
    "DL2_error = [(1 + z_low)*Dc2_low , (1 + z_up)*Dc2_up]\n",
    "\n",
    "\n",
    "\n",
    "# Mu\n",
    "MU1 = mu(DL1, 0.7)\n",
    "MU2 = mu(DL2, 0.7)\n",
    "\n",
    "MU1_error = mu(DL1_error, 0.7)\n",
    "\n",
    "\n",
    "plt.errorbar(z1,MU1, fmt=\"o\",  label=\"$Dc_1\\,(\\Omega_m=0.23)$\", markersize = 4, marker='*')\n",
    "plt.errorbar(z1,MU2, fmt=\"o\", label=\"$Dc_2\\,(\\Omega_m=1)$\", markersize = 4, marker = 'v')\n",
    "plt.title(\"NS\")\n",
    "\n",
    "plt.legend(loc = 4)\n",
    "#plt.savefig(\"NS_data.pdf\")\n"
   ]
  },
  {
   "cell_type": "markdown",
   "metadata": {
    "collapsed": false
   },
   "source": [
    "## Problem 3 "
   ]
  },
  {
   "cell_type": "raw",
   "metadata": {},
   "source": [
    "Need to define the chi2 function with omega and h as parameters and then use fmin to get the optimized params."
   ]
  },
  {
   "cell_type": "code",
   "execution_count": 22,
   "metadata": {
    "collapsed": false,
    "scrolled": false
   },
   "outputs": [
    {
     "name": "stdout",
     "output_type": "stream",
     "text": [
      "Optimization terminated successfully.\n",
      "         Current function value: 393.490325\n",
      "         Iterations: 30\n",
      "         Function evaluations: 57\n",
      "omega_opt h_opt chi2(param0)\n",
      "0.318307799203 0.630513438562 616.299117897\n",
      "0.909921 seconds\n"
     ]
    },
    {
     "data": {
      "image/png": "[encoded data removed]",
      "text/plain": [
       "<matplotlib.figure.Figure at 0x106ee0750>"
      ]
     },
     "metadata": {},
     "output_type": "display_data"
    }
   ],
   "source": [
    "\n",
    "\n",
    "## check with data\n",
    "## SN Z mu sigma quality\n",
    "data = np.loadtxt(\"SN.dat\", usecols = (1,2,3), skiprows = 1, unpack = True)\n",
    "mu1 = data[1]\n",
    "z1 = data[0]\n",
    "sigma1 = data[2]\n",
    "\n",
    "## redefine mu function with z\n",
    "def MU(z_array, omega_m, h):\n",
    "    Dc=[]\n",
    "    for zi in z_array:\n",
    "        Dc = np.append(Dc, quad(E, 0, zi, args=(omega_m))[0])  \n",
    "    DLs = (1+z_array)*Dc*3000\n",
    "    result = 25 - 5*np.log10(h) + 5*np.log10(DLs)\n",
    "    return result\n",
    "\n",
    "## sum of array: np.sum\n",
    "def chi2(param):\n",
    "    omega_m, h = param\n",
    "    result_array = ( mu1 - MU(z1, omega_m, h) )**2 / sigma1**2\n",
    "    result = np.sum(result_array)\n",
    "    return result\n",
    "\n",
    "## TRY\n",
    "start_time = time.clock()\n",
    "\n",
    "omega0 = 0.27\n",
    "h0 = 0.7\n",
    "param0 = [omega0, h0]\n",
    "omega_opt, h_opt = fmin(chi2, param0)\n",
    "\n",
    "print 'omega_opt', 'h_opt', 'chi2(param0)'\n",
    "print omega_opt, h_opt, chi2(param0)\n",
    "\n",
    "print time.clock() - start_time, \"seconds\"\n",
    "\n",
    "\n",
    "\n",
    "## Plot\n",
    "plt.figure()\n",
    "plt.errorbar(z1, mu1, yerr = data[2], fmt ='o', markersize = 4, label = \"$Original$\")\n",
    "plt.errorbar(z1, MU(z1, omega_opt, h_opt), fmt=\"o\", markersize=4, marker=\"v\", label = \"$Optimized$\")\n",
    "plt.xlabel(\"$z_{data}$\", size = 18)\n",
    "plt.ylabel(\"$\\mu_{data}$\", size = 18)\n",
    "plt.title(\"Optimized Data\")\n",
    "\n",
    "plt.legend(loc = 4)\n",
    "plt.yscale(\"linear\")"
   ]
  },
  {
   "cell_type": "raw",
   "metadata": {
    "collapsed": true
   },
   "source": [
    "Indeed, after optimization, the model with omega_opt=0.318307799203, h_opt=0.630513438562 fits the observation better. Optimized chi= 393.490325, which is a reasonable answer."
   ]
  },
  {
   "cell_type": "markdown",
   "metadata": {},
   "source": [
    "## Problem 4"
   ]
  },
  {
   "cell_type": "code",
   "execution_count": 78,
   "metadata": {
    "collapsed": false
   },
   "outputs": [
    {
     "name": "stdout",
     "output_type": "stream",
     "text": [
      "m b f\n",
      "-0.9594 4.294 0.534\n",
      "   status: 0\n",
      "  success: True\n",
      "     njev: 12\n",
      "     nfev: 60\n",
      " hess_inv: array([[ 0.00482743, -0.02148773,  0.00516933],\n",
      "       [-0.02148773,  0.1043033 , -0.02324966],\n",
      "       [ 0.00516933, -0.02324966,  0.01813345]])\n",
      "      fun: 32.121525025492275\n",
      "        x: array([-0.9309478 ,  4.13519791, -0.72650156])\n",
      "  message: 'Optimization terminated successfully.'\n",
      "      jac: array([  1.90734863e-06,   9.53674316e-07,   0.00000000e+00])\n",
      "(0, 3)\n"
     ]
    },
    {
     "ename": "AssertionError",
     "evalue": "I don't believe that you want more dimensions than samples!",
     "output_type": "error",
     "traceback": [
      "\u001b[0;31m---------------------------------------------------------------------------\u001b[0m",
      "\u001b[0;31mAssertionError\u001b[0m                            Traceback (most recent call last)",
      "\u001b[0;32m<ipython-input-78-dcf26ae769fd>\u001b[0m in \u001b[0;36m<module>\u001b[0;34m()\u001b[0m\n\u001b[1;32m     84\u001b[0m \u001b[0;32mimport\u001b[0m \u001b[0mcorner\u001b[0m\u001b[0;34m\u001b[0m\u001b[0m\n\u001b[1;32m     85\u001b[0m fig = corner.corner(samples, labels=[\"$m$\", \"$b$\", \"$\\ln\\,f$\"],\n\u001b[0;32m---> 86\u001b[0;31m                     truths=[m_true, b_true, np.log(f_true)])\n\u001b[0m\u001b[1;32m     87\u001b[0m \u001b[0mfig\u001b[0m\u001b[0;34m.\u001b[0m\u001b[0msavefig\u001b[0m\u001b[0;34m(\u001b[0m\u001b[0;34m\"triangle.png\"\u001b[0m\u001b[0;34m)\u001b[0m\u001b[0;34m\u001b[0m\u001b[0m\n\u001b[1;32m     88\u001b[0m \u001b[0;34m\u001b[0m\u001b[0m\n",
      "\u001b[0;32m/Users/Ray/anaconda/lib/python2.7/site-packages/corner/corner.pyc\u001b[0m in \u001b[0;36mcorner\u001b[0;34m(xs, bins, range, weights, color, smooth, smooth1d, labels, label_kwargs, show_titles, title_fmt, title_kwargs, truths, truth_color, scale_hist, quantiles, verbose, fig, max_n_ticks, top_ticks, use_math_text, hist_kwargs, **hist2d_kwargs)\u001b[0m\n\u001b[1;32m    144\u001b[0m         \u001b[0;32massert\u001b[0m \u001b[0mlen\u001b[0m\u001b[0;34m(\u001b[0m\u001b[0mxs\u001b[0m\u001b[0;34m.\u001b[0m\u001b[0mshape\u001b[0m\u001b[0;34m)\u001b[0m \u001b[0;34m==\u001b[0m \u001b[0;36m2\u001b[0m\u001b[0;34m,\u001b[0m \u001b[0;34m\"The input sample array must be 1- or 2-D.\"\u001b[0m\u001b[0;34m\u001b[0m\u001b[0m\n\u001b[1;32m    145\u001b[0m         \u001b[0mxs\u001b[0m \u001b[0;34m=\u001b[0m \u001b[0mxs\u001b[0m\u001b[0;34m.\u001b[0m\u001b[0mT\u001b[0m\u001b[0;34m\u001b[0m\u001b[0m\n\u001b[0;32m--> 146\u001b[0;31m     \u001b[0;32massert\u001b[0m \u001b[0mxs\u001b[0m\u001b[0;34m.\u001b[0m\u001b[0mshape\u001b[0m\u001b[0;34m[\u001b[0m\u001b[0;36m0\u001b[0m\u001b[0;34m]\u001b[0m \u001b[0;34m<=\u001b[0m \u001b[0mxs\u001b[0m\u001b[0;34m.\u001b[0m\u001b[0mshape\u001b[0m\u001b[0;34m[\u001b[0m\u001b[0;36m1\u001b[0m\u001b[0;34m]\u001b[0m\u001b[0;34m,\u001b[0m \u001b[0;34m\"I don't believe that you want more \"\u001b[0m\u001b[0;31m \u001b[0m\u001b[0;31m\\\u001b[0m\u001b[0;34m\u001b[0m\u001b[0m\n\u001b[0m\u001b[1;32m    147\u001b[0m                                        \u001b[0;34m\"dimensions than samples!\"\u001b[0m\u001b[0;34m\u001b[0m\u001b[0m\n\u001b[1;32m    148\u001b[0m \u001b[0;34m\u001b[0m\u001b[0m\n",
      "\u001b[0;31mAssertionError\u001b[0m: I don't believe that you want more dimensions than samples!"
     ]
    },
    {
     "data": {
      "image/png": "[encoded data removed]",
      "text/plain": [
       "<matplotlib.figure.Figure at 0x10aa9fb90>"
      ]
     },
     "metadata": {},
     "output_type": "display_data"
    }
   ],
   "source": [
    "## emcee \n",
    "\n",
    "import numpy as np\n",
    "\n",
    "# Choose the \"true\" parameters.\n",
    "m_true = -0.9594\n",
    "b_true = 4.294\n",
    "f_true = 0.534\n",
    "print \"m\", \"b\", \"f\"\n",
    "print m_true, b_true, f_true\n",
    "# Generate some synthetic data from the model.\n",
    "N = 50\n",
    "x = np.sort(10*np.random.rand(N))\n",
    "yerr = 0.1+0.5*np.random.rand(N)\n",
    "y = m_true*x+b_true\n",
    "y += np.abs(f_true*y) * np.random.randn(N)\n",
    "y += yerr * np.random.randn(N)\n",
    "\n",
    "plt.figure()\n",
    "plt.errorbar(x,y,yerr, fmt=\"v\",markersize=4)\n",
    "plt.plot(x,m_true*x+b_true)\n",
    "\n",
    "## Linear Least Square\n",
    "A = np.vstack((np.ones_like(x), x)).T\n",
    "C = np.diag(yerr * yerr)\n",
    "cov = np.linalg.inv(np.dot(A.T, np.linalg.solve(C, A)))\n",
    "b_ls, m_ls = np.dot(cov, np.dot(A.T, np.linalg.solve(C, y)))\n",
    "plt.errorbar(x,m_ls*x+b_ls, fmt=\"--\", label=\"ls\")\n",
    "## Maximum Likelihood Estimation\n",
    "\n",
    "# Use log of f\n",
    "def lnlike(theta, x, y, yerr):\n",
    "    m, b, lnf = theta\n",
    "    model = m * x + b\n",
    "    inv_sigma2 = 1.0/(yerr**2 + model**2*np.exp(2*lnf))\n",
    "    return -0.5*(np.sum((y-model)**2*inv_sigma2 - np.log(inv_sigma2)))\n",
    "\n",
    "# Optimize lnlike, minimize -lnlike, maximize likelihood\n",
    "import scipy.optimize as op\n",
    "nll = lambda *args: -lnlike(*args)\n",
    "\n",
    "# op.minimize(f, x0), x0 initial guess\n",
    "result = op.minimize(nll, [m_true, b_true, np.log(f_true)], args=(x, y, yerr))\n",
    "m_ml, b_ml, lnf_ml = result[\"x\"]\n",
    "print result\n",
    "plt.errorbar(x,m_ml*x+b_ml, fmt=\"--\",label = \"ml\")\n",
    "\n",
    "plt.legend(loc = 1)\n",
    "\n",
    "\n",
    "\n",
    "\n",
    "\n",
    "\n",
    "## Marginalization & uncertainty estimation\n",
    "def lnprior(theta):\n",
    "    m, b, lnf = theta\n",
    "    if -5.0 < m < 0.5 and 0.0 < b < 10.0 and -10.0 < lnf < 1.0:\n",
    "        return 0.0\n",
    "    return -np.inf\n",
    "# try, inf = infinity\n",
    "theta = (-15,-14,-16)\n",
    "\n",
    "def lnprob(theta, x, y, yerr):\n",
    "    lp = lnprior(theta)\n",
    "    if not np.isfinite(lp):\n",
    "        return -np.inf\n",
    "    return lp + lnlike(theta, x, y, yerr)\n",
    "\n",
    "\n",
    "\n",
    "\n",
    "\n",
    "\n",
    "\n",
    "\n",
    "\n",
    "ndim, nwalkers = 3, 100\n",
    "pos = [result[\"x\"] + 1e-4*np.random.randn(ndim) for i in range(nwalkers)]\n",
    "\n",
    "import emcee\n",
    "sampler = emcee.EnsembleSampler(nwalkers, ndim, lnprob, args=(x, y, yerr))\n",
    "#print sampler.chain[0]\n",
    "\n",
    "\n",
    "\n",
    "\n",
    "\n",
    "\n",
    "\n",
    "\n",
    "print np.shape(samples)\n",
    "\n",
    "samples = sampler.chain[:, 50:, :].reshape((-1, ndim))\n",
    "import corner\n",
    "fig = corner.corner(samples, labels=[\"$m$\", \"$b$\", \"$\\ln\\,f$\"],\n",
    "                    truths=[m_true, b_true, np.log(f_true)])\n",
    "fig.savefig(\"triangle.png\")\n",
    "\n",
    "##### Error\n",
    "\n",
    "import matplotlib.pyplot as pl\n",
    "xl = np.array([0, 10])\n",
    "for m, b, lnf in samples[np.random.randint(len(samples), size=100)]:\n",
    "    pl.plot(xl, m*xl+b, color=\"k\", alpha=0.1)\n",
    "pl.plot(xl, m_true*xl+b_true, color=\"r\", lw=2, alpha=0.8)\n",
    "pl.errorbar(x, y, yerr=yerr, fmt=\".k\")\n",
    "\n",
    "\n"
   ]
  },
  {
   "cell_type": "code",
   "execution_count": 62,
   "metadata": {
    "collapsed": false
   },
   "outputs": [
    {
     "data": {
      "text/plain": [
       "-inf"
      ]
     },
     "execution_count": 62,
     "metadata": {},
     "output_type": "execute_result"
    }
   ],
   "source": []
  },
  {
   "cell_type": "code",
   "execution_count": null,
   "metadata": {
    "collapsed": true
   },
   "outputs": [],
   "source": []
  },
  {
   "cell_type": "code",
   "execution_count": null,
   "metadata": {
    "collapsed": true
   },
   "outputs": [],
   "source": []
  }
 ],
 "metadata": {
  "kernelspec": {
   "display_name": "Python 2",
   "language": "python",
   "name": "python2"
  },
  "language_info": {
   "codemirror_mode": {
    "name": "ipython",
    "version": 2
   },
   "file_extension": ".py",
   "mimetype": "text/x-python",
   "name": "python",
   "nbconvert_exporter": "python",
   "pygments_lexer": "ipython2",
   "version": "2.7.11"
  }
 },
 "nbformat": 4,
 "nbformat_minor": 0
}
