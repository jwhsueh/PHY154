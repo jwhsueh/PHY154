{
 "cells": [
  {
   "cell_type": "raw",
   "metadata": {},
   "source": [
    "Name: Yizhou Zeng\n",
    "SID: 999153246"
   ]
  },
  {
   "cell_type": "markdown",
   "metadata": {},
   "source": [
    "$\\mathbf{Notes}$:\n",
    "\n",
    "Variables:\n",
    "P, T, $L_r$, $M_r=M(<r)$\n",
    "\n",
    "\n",
    "$P = P_{gas}(\\rho)+ P_{rad}$\n",
    "\n",
    "where $P_{rad}= aT^3/3$\n",
    "\\begin{align}\n",
    "f\\rightarrow \\frac{d}{dr}(M_r, L_r, T, P)\n",
    "\\end{align}\n",
    "\n",
    "other var:\n",
    "$ \\rho(y,r), \\epsilon, \\kappa$\n",
    "\n",
    "use: average $\\kappa$, sum $\\epsilon$\n",
    "\n",
    "Bound-free:\n",
    "\\begin{align}\n",
    "\\bar{\\kappa}_{bf} = 4.34 \\times 10^{25} \\frac{g_{bf}}{t}Z(1+X) \\frac{\\rho}{\\rm g/cm^3} \\left(\\frac{T}{\\rm K}\\right)^{-7/2} {\\rm \\, cm^2 \\, g^{-1}}\n",
    "\\end{align}\n",
    "\n",
    "Free-free:\n",
    "\\begin{align}\n",
    "\\bar{\\kappa}_{ff} = 3.68 \\times 10^{22} g_{ff}(1 - Z)(1 + X) \\frac{\\rho}{\\rm g/cm^3} \\left(\\frac{T}{\\rm K}\\right)^{-7/2} {\\rm \\, cm^2 \\, g^{-1}}.\n",
    "\\end{align}\n",
    "\n",
    "Electron-scattering:\n",
    "\\begin{align}\n",
    "\\bar{\\kappa}_{es} = 0.2 (1+X) {\\rm \\, cm^2 \\, g^{-1}}\n",
    "\\end{align}\n",
    "\n",
    "\n",
    "\n",
    "\n",
    "\n"
   ]
  },
  {
   "cell_type": "raw",
   "metadata": {},
   "source": [
    "func dMdr(y,r)\n",
    "Mr, Lr, T, P = y\n",
    "rho0 = rho(y,r)\n",
    "dmdr0 = 4.0 * np.pi * np.power(r,2) * rho0\n",
    "return dmdr0\n",
    "\n",
    "\n",
    "y0 = [0, Pc, 0, Tc]\n",
    "...\n",
    "derives = [dMdr(y,r), .., .., ..]"
   ]
  },
  {
   "cell_type": "markdown",
   "metadata": {},
   "source": [
    "# Problem 1"
   ]
  },
  {
   "cell_type": "markdown",
   "metadata": {},
   "source": [
    "# (a)-(d)"
   ]
  },
  {
   "cell_type": "markdown",
   "metadata": {},
   "source": [
    "By definition:\n",
    "\\begin{align}\n",
    "M_r=\\rho \\frac{4\\pi}{3}r^3\\\\\n",
    "L = \\epsilon \\rho \\frac{4\\pi}{3} r^3\n",
    "\\end{align}\n",
    "\n",
    "\\begin{align}\n",
    "dM_r = 4\\pi\\rho r^2 dr\\\\\n",
    "dL_r = 4\\pi\\rho\\epsilon r^2 dr\\\\\n",
    "\\end{align}\n",
    "\n",
    "Hence we have:\n",
    "\n",
    "\\begin{align}\n",
    "dM_r = 4\\pi\\rho r^2 dr\\\\\n",
    "dL_r = 4\\pi\\rho\\epsilon r^2 dr\\\\\n",
    "\\end{align}\n",
    "\n",
    "That is:\n",
    "\n",
    "\n",
    "\\begin{align}\n",
    "\\dfrac{dM_r}{dr} &= 4\\pi r^2\\rho_{(P,T)}\\\\\n",
    "\\dfrac{dP}{dr} &= -\\,\\frac{GM_r\\rho}{r^2}\\\\\n",
    "\\dfrac{dL}{dr} &= 4\\pi r^2 \\rho\\epsilon\\\\\n",
    "\\dfrac{dT}{dr} &= -\\frac{3}{4ac}\\frac{\\kappa\\rho}{T^3}\\frac{L_r}{4\\pi r^2}\n",
    "\\end{align}"
   ]
  },
  {
   "cell_type": "markdown",
   "metadata": {},
   "source": [
    "# (e)"
   ]
  },
  {
   "cell_type": "markdown",
   "metadata": {},
   "source": [
    "For boundary conditions,\n",
    "we know that: $M_0=0$, $L_0=0$, and from the data provided: $T_c$, $P_c$\n",
    "\n",
    "\n",
    "And we will check: $M(r=R) = M_\\odot\n",
    "$, $L(r=R)= L_\\odot$ later.\n",
    "\n",
    "\n",
    "\\begin{align}\n",
    "M(r=0) &= 0\\\\\n",
    "L(r=0) &= 0\\\\\n",
    "T(r=0) &= T_c = 15.6 \\cdot 10^6 \\,K\\\\\n",
    "P(r=0) &= P_c = 2.3 \\cdot 10^{16} \\,Pa\\\\\n",
    "\\rho(r=0) &= \\rho_c = 1.51 \\cdot 10^{5} \\,kg\\,m^{-3}\n",
    "\\end{align}\n",
    "\n",
    "\n",
    "\n",
    "To get a better approximation, we may also start from $r_0 = 0.1R_\\odot$\n",
    "\\begin{align}\n",
    "M(r=r_0) &= M_0 = 0.08\\,M_\\odot \\\\\n",
    "L(r=r_0) &= L_0 = 0.4\\,L_\\odot \\\\\n",
    "T(r=r_0) &= T_0 = 13 \\cdot 10^6K\\\\\n",
    "P(r=r_0) &= P_0 = 1 \\cdot 10^{16}Pa\\\\\n",
    "\\rho(r=r_0) &= \\rho_0 = 1.0 \\cdot 10^{5} \\,kg\\,m^{-3}\n",
    "\\end{align}\n",
    "\n",
    "Blackbody radiation temperature:\n",
    "\n",
    "$T_\\odot = 5500 k$\n",
    "   "
   ]
  },
  {
   "cell_type": "markdown",
   "metadata": {},
   "source": [
    "# (f)"
   ]
  },
  {
   "cell_type": "markdown",
   "metadata": {},
   "source": [
    "We can start from somewhere near the center. Then take the values of that position as the initial values."
   ]
  },
  {
   "cell_type": "markdown",
   "metadata": {},
   "source": [
    "# (h)"
   ]
  },
  {
   "cell_type": "code",
   "execution_count": 66,
   "metadata": {
    "collapsed": false
   },
   "outputs": [],
   "source": [
    "%matplotlib inline\n",
    "\n",
    "from astropy import constants as cn\n",
    "from astropy import units as u\n",
    "import numpy as np\n",
    "import matplotlib.pyplot as plt\n",
    "from scipy.integrate import odeint\n",
    "\n",
    "\n",
    "X=0.7\n",
    "Y=0.28\n",
    "Z=0.02\n",
    "mu = 1./(2*X + 3*Y/4. + Z/2.)\n",
    "#consts\n",
    "m_H = 1.08 * cn.u.value #kg\n",
    "M_sun = cn.M_sun.value  #kg\n",
    "L_sun = cn.L_sun.value\n",
    "R_sun = cn.R_sun.value  #m\n",
    "a = 4*cn.sigma_sb.value/cn.c.value\n",
    "\n",
    "#Center\n",
    "Mc = 0\n",
    "Lc = 0\n",
    "Tc = 15.6 * pow(10,6) #K\n",
    "Pc = 2.3 * pow(10,16) #Pa\n",
    "rhoc = 1.51 * pow(10,5)  #kg m^{-3}\n",
    "\n",
    "#r0=0.1R_sun\n",
    "M0 = 0.08*M_sun\n",
    "L0 = 0.4*L_sun\n",
    "T0 = 13 * pow(10,6) #K\n",
    "P0 = pow(10,6) #Pa\n",
    "rho0 = pow(10,5)  #kg m^{-3}\n",
    "\n",
    "\n",
    "\n",
    "\n",
    "\n"
   ]
  },
  {
   "cell_type": "code",
   "execution_count": 73,
   "metadata": {
    "collapsed": false
   },
   "outputs": [],
   "source": [
    "def rho(y):\n",
    "    Mr, Lr, T, P = y\n",
    "    rho = (P - a*T**4/3) * mu / (cn.k_B.value / m_H) / T\n",
    "    return rho\n",
    "\n",
    "def epsilon(y):\n",
    "    Mr, Lr, T, P = y\n",
    "    e_0pp = 1.09 * pow(10, -12) \n",
    "    e_0CNO = 8.24 * pow(10, -31)\n",
    "    X_H = 0.64\n",
    "    X_CNO = 0.015\n",
    "    rho0 = rho(y)\n",
    "    e_pp = e_0pp * rho0 * (X_H **2) * pow(T/pow(10,6),4)\n",
    "    e_CNO = e_0CNO * rho0 * X_H * X_CNO * pow(T/pow(10,6),19.9)\n",
    "    return (e_pp + e_CNO)\n",
    "\n",
    "\n",
    "## Classic Approx. for g_bf, g_ff\n",
    "## random guess t\n",
    "def kappa(y):\n",
    "    g_bf = 1.\n",
    "    g_ff = 1. \n",
    "    t = 100\n",
    "    Mr, Lr, T, P = y\n",
    "    rho0 = rho(y)\n",
    "    X=0.7\n",
    "    Y=0.28\n",
    "    Z=0.02\n",
    "    k_bf = 4.34 * pow(10,25) * g_bf/t * Z * (1+X) * rho0\n",
    "    k_ff = 3.68 * pow(10,22) * g_ff * (1 - Z)*(1 + X) * rho0\n",
    "    k_es = 0.2 * (1+X)\n",
    "    return (k_bf + k_ff + k_es)/3."
   ]
  },
  {
   "cell_type": "code",
   "execution_count": 74,
   "metadata": {
    "collapsed": false
   },
   "outputs": [],
   "source": [
    "def dMdr(y,r):\n",
    "    Mr, Lr, T, P = y\n",
    "    rho0 = rho(y)\n",
    "    dmdr0 = 4.0 * np.pi * np.power(r,2) * rho0\n",
    "    return dmdr0\n",
    "\n",
    "def dPdr(y,r):\n",
    "    Mr, Lr, T, P = y\n",
    "    rho0 = rho(y)\n",
    "    dpdr0 = -cn.G.value*Mr*rho0/r**2\n",
    "    return dpdr0\n",
    "\n",
    "\n",
    "def dLdr(y,r):\n",
    "    Mr, Lr, T, P = y\n",
    "    rho0 = rho(y)\n",
    "    dldr0 = 4. * np.pi * pow(r,2) * rho0 * epsilon(y)\n",
    "    return dldr0\n",
    "\n",
    "def dTdr(y,r):\n",
    "    Mr, Lr, T, P = y\n",
    "    rho0 = rho(y)\n",
    "    dtdr0 = -3. * kappa(y) * rho0 * Lr / (16. * cn.sigma_sb.value * pow(T,3) * 4. * np.pi * pow(r,2))\n",
    "    return dtdr0\n"
   ]
  },
  {
   "cell_type": "code",
   "execution_count": 75,
   "metadata": {
    "collapsed": false,
    "scrolled": true
   },
   "outputs": [
    {
     "name": "stdout",
     "output_type": "stream",
     "text": [
      "Excess work done on this call (perhaps wrong Dfun type).\n",
      "Run with full_output = 1 to get quantitative information.\n"
     ]
    },
    {
     "data": {
      "image/png": "[encoded data removed]",
      "text/plain": [
       "<matplotlib.figure.Figure at 0x108380d10>"
      ]
     },
     "metadata": {},
     "output_type": "display_data"
    }
   ],
   "source": [
    "def f(y, r):\n",
    "    Mr, Lr, T, P = y\n",
    "    derivs = [dMdr(y,r), dPdr(y,r), dLdr(y,r), dTdr(y,r)]\n",
    "    return derivs\n",
    "\n",
    "\n",
    "##Initial Condition\n",
    "##Center\n",
    "yc = Mc, Lc, Tc, Pc\n",
    "##0.1R_sun\n",
    "y0 = M0, L0, T0, P0\n",
    "\n",
    "\n",
    "\n",
    "\n",
    "rStop = R_sun\n",
    "rInc = R_sun/500.\n",
    "r0 = np.arange(0.1*R_sun, rStop, rInc)\n",
    "rc = np.arange(0., rStop, rInc)\n",
    "\n",
    "\n",
    "psoln = odeint(f, y0, r0)\n",
    "\n",
    "\n",
    "fig = plt.figure(1, figsize=(8,8))\n",
    "\n",
    "\n",
    "ax1 = fig.add_subplot(311)\n",
    "ax1.plot(r0, psoln[:,0])\n",
    "ax1.set_xlabel('radius')\n",
    "ax1.set_ylabel('Mass')\n",
    "\n",
    "\n",
    "ax2 = fig.add_subplot(312)\n",
    "ax2.plot(r0, psoln[:,1])\n",
    "ax2.set_xlabel('radius')\n",
    "ax2.set_ylabel('Luminosity')\n",
    "\n",
    "ax3 = fig.add_subplot(313)\n",
    "ax3.plot(r0, psoln[:,1])\n",
    "ax3.set_xlabel('radius')\n",
    "ax3.set_ylabel('Temperature')\n",
    "\n",
    "ax4 = fig.add_subplot(312)\n",
    "ax4.plot(r0, psoln[:,1])\n",
    "ax4.set_xlabel('radius')\n",
    "ax4.set_ylabel('Pressure')\n",
    "\n",
    "\n",
    "\n",
    "plt.tight_layout()\n",
    "plt.show()\n"
   ]
  },
  {
   "cell_type": "code",
   "execution_count": 61,
   "metadata": {
    "collapsed": true
   },
   "outputs": [],
   "source": []
  },
  {
   "cell_type": "code",
   "execution_count": null,
   "metadata": {
    "collapsed": true
   },
   "outputs": [],
   "source": []
  }
 ],
 "metadata": {
  "kernelspec": {
   "display_name": "Python 2",
   "language": "python",
   "name": "python2"
  },
  "language_info": {
   "codemirror_mode": {
    "name": "ipython",
    "version": 2
   },
   "file_extension": ".py",
   "mimetype": "text/x-python",
   "name": "python",
   "nbconvert_exporter": "python",
   "pygments_lexer": "ipython2",
   "version": "2.7.11"
  }
 },
 "nbformat": 4,
 "nbformat_minor": 0
}
