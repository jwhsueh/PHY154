{
 "cells": [
  {
   "cell_type": "code",
   "execution_count": 110,
   "metadata": {
    "collapsed": false
   },
   "outputs": [],
   "source": [
    "#--------------------------------------#\n",
    "# PHY 152: Assignment 2, Making a star #\n",
    "# Bryan J Miller, April 11th, 2016     #\n",
    "#--------------------------------------#\n",
    "\n",
    "# 1 - Energy generation in stars\n",
    "\n",
    "# imported libraries\n",
    "import numpy as np\n",
    "\n",
    "# constants\n",
    "c = 2.998E8                 # [m/s]\n",
    "mass_sun = 2E30             # [kg]\n",
    "r_sun = 7.0E8               # [m]\n",
    "solar_luminosity = 3.8E26   # [W = J/s]\n",
    "energy_coal = 1E7           # [J/kg]\n",
    "mass_proton = 1.6726E-27    # [kg]\n",
    "mass_nuetron_amu =  4.0039  # [amu]\n",
    "mass_proton_amu = 1.0081    # [amu]\n",
    "earth_r = 6371000           # [m]\n",
    "X_H= 0.64                   # X_H\n",
    "X_CNO = 0.015               # X_CNO\n",
    "rho = 1.622E5               # [kg/m^3]\n",
    "T = 1.571E7                 # [K]\n",
    "e0_PP = 1.08E-12            # [Wm^3/kg^2]\n",
    "e0_CNO = 8.24E-31           # [Wm^3/kg^2]\n",
    "\n",
    "# conversion factors\n",
    "s_years = 3.17098E-8        # [years/seconds]\n",
    "mev_joules = 1.60217733e-13 # [Joules/MeV]\n",
    "amu_kg = 1.660538782E-27    # [kg/amu]\n",
    "lbs_kg = 0.453592           # [kg/lbs] \n",
    "au_m = 1.496E11             # [m/au]"
   ]
  },
  {
   "cell_type": "code",
   "execution_count": 111,
   "metadata": {
    "collapsed": false
   },
   "outputs": [
    {
     "name": "stdout",
     "output_type": "stream",
     "text": [
      "\n",
      "(a) If the Sun were like a burning ball of coal it would live only: 1668.93684211 years\n",
      "\n"
     ]
    }
   ],
   "source": [
    "# 1.a\n",
    "\n",
    "# answer\n",
    "one_a = mass_sun*energy_coal*s_years/solar_luminosity # [years]\n",
    "\n",
    "print \"\\n(a) If the Sun were like a burning ball of coal it would live only: \" + str(one_a) + \" years\\n\""
   ]
  },
  {
   "cell_type": "code",
   "execution_count": 112,
   "metadata": {
    "collapsed": false
   },
   "outputs": [
    {
     "name": "stdout",
     "output_type": "stream",
     "text": [
      "\n",
      "(b.1) Each reaction produces 4.25360482621e-12 Joules\n",
      "(b.2) The sun will live 1.06107225371e+11 years\n",
      "\n"
     ]
    }
   ],
   "source": [
    "# 1.b\n",
    "\n",
    "# intermediate calculations\n",
    "mass_difference = (4*mass_proton_amu - mass_nuetron_amu)*amu_kg # [kg]\n",
    "energy_per_reaction = mass_difference*c**2                      # [J]\n",
    "total_H = mass_sun/mass_proton                                  # number of hydrogen atoms (protons)\n",
    "total_reactions = total_H/4                                     # total number of reactions over lifetime\n",
    "\n",
    "# answers\n",
    "one_b_1 = energy_per_reaction                                          # [J]\n",
    "one_b_2 = energy_per_reaction*total_reactions*s_years/solar_luminosity # [years]\n",
    "\n",
    "print \"\\n(b.1) Each reaction produces \" + str(one_b_1) + \" Joules\"\n",
    "print \"(b.2) The sun will live \" + str(one_b_2) + \" years\\n\""
   ]
  },
  {
   "cell_type": "code",
   "execution_count": 113,
   "metadata": {
    "collapsed": false
   },
   "outputs": [
    {
     "name": "stdout",
     "output_type": "stream",
     "text": [
      "\n",
      "(c) I weigh 150 lbs and my mass can create 6.11533006555e+18 Joules\n",
      "\n"
     ]
    }
   ],
   "source": [
    "# 1.c\n",
    "\n",
    "# answer\n",
    "one_c = 150*lbs_kg*(c**2) # [J]\n",
    "\n",
    "print \"\\n(c) I weigh 150 lbs and my mass can create \" + str(one_c) + \" Joules\\n\""
   ]
  },
  {
   "cell_type": "code",
   "execution_count": 114,
   "metadata": {
    "collapsed": false
   },
   "outputs": [
    {
     "name": "stdout",
     "output_type": "stream",
     "text": [
      "\n",
      "(d) My energy can power a house for 193915893.313 years, and can power the whole world for 35.3896415831 days.\n",
      "\n"
     ]
    }
   ],
   "source": [
    "# 1.d\n",
    "\n",
    "# answers\n",
    "one_d_1 = one_c*s_years/1000 # [years]\n",
    "one_d_2 = one_c/(60*60*24*2E12) # [days]\n",
    "\n",
    "print \"\\n(d) My energy can power a house for \" + str(one_d_1) + \" years, and can power the whole world for \" + str(one_d_2) + \" days.\\n\""
   ]
  },
  {
   "cell_type": "code",
   "execution_count": 116,
   "metadata": {
    "collapsed": false
   },
   "outputs": [
    {
     "name": "stdout",
     "output_type": "stream",
     "text": [
      "\n",
      "(e.1) Solar flux on Earth is 1351.17171582 W/m^2\n",
      "(e.2) We would need 1480.19676299 km^2 of solar panels operating at 100% efficency to power the whole world,\n",
      "      so the panels will need to cover 0.000580395947771% of the earth, assuming half the earth is in darkness at all times.\n",
      "\n"
     ]
    }
   ],
   "source": [
    "# 1.e\n",
    "\n",
    "# intermediate calculations\n",
    "half_sa_earth = 2*np.pi*(earth_r**2)   # [m^2]\n",
    "sa_at_au = 4*np.pi*(au_m**2)           # [m^2]\n",
    "flux_earth = solar_luminosity/sa_at_au # [W]\n",
    "sa_panels = 2E12/flux_earth            # [m^2]\n",
    "\n",
    "# answers\n",
    "one_e_1 = flux_earth                    # [W/m^2]\n",
    "one_e_2 = sa_panels/(1000**2)           # [km^2]\n",
    "one_e_3 = (sa_panels/half_sa_earth)*100 # [%]\n",
    "\n",
    "print \"\\n(e.1) Solar flux on Earth is \" + str(one_e_1) + \" W/m^2\"\n",
    "print \"(e.2) We would need \" + str(one_e_2) + \" km^2 of solar panels operating at 100% efficency to power the whole world,\"\n",
    "print \"      so the panels will need to cover \" + str(one_e_3) + \"% of the earth, assuming half the earth is in darkness at all times.\\n\""
   ]
  },
  {
   "cell_type": "code",
   "execution_count": 117,
   "metadata": {
    "collapsed": false
   },
   "outputs": [
    {
     "name": "stdout",
     "output_type": "stream",
     "text": [
      "\n",
      "(f) A total of 6 protons (hydrogen nuclei) are needed to create one helium (2He) and 2 protons, the process is given below:\n",
      "(4 1H -> 1 4He + energy)\n",
      "\n",
      "STEP 1:\n",
      "Two hydrogen nuclei (1H, protons) collide.\n",
      "One pronton changes into a neutron, a neutrino, and a positron.\n",
      "The proton and neutron form a hydrogen isotope (2H).\n",
      "The positron annihilates with an electron, producing gamma-ray photons.\n",
      "\n",
      "STEP 2:\n",
      "The 2H nucleus from step 1 collides with a third proton.\n",
      "A helium isotope (3He) is formed and another gamma-ray photon is released.\n",
      "\n",
      "STEP 3:\n",
      "Two 3He nuclei collide.\n",
      "A helium isotope with two protons and two nuetrons (4He) is formed and two protons are released.\n",
      "\n"
     ]
    }
   ],
   "source": [
    "# 1.f\n",
    "\n",
    "# answer\n",
    "print \"\\n(f) A total of 6 protons (hydrogen nuclei) are needed to create one helium (2He) and 2 protons, the process is given below:\\n(4 1H -> 1 4He + energy)\\n\"\n",
    "print \"STEP 1:\\nTwo hydrogen nuclei (1H, protons) collide.\\nOne pronton changes into a neutron, a neutrino, and a positron.\\nThe proton and neutron form a hydrogen isotope (2H).\\nThe positron annihilates with an electron, producing gamma-ray photons.\\n\"\n",
    "print \"STEP 2:\\nThe 2H nucleus from step 1 collides with a third proton.\\nA helium isotope (3He) is formed and another gamma-ray photon is released.\\n\"\n",
    "print \"STEP 3:\\nTwo 3He nuclei collide.\\nA helium isotope with two protons and two nuetrons (4He) is formed and two protons are released.\\n\""
   ]
  },
  {
   "cell_type": "code",
   "execution_count": 118,
   "metadata": {
    "collapsed": false
   },
   "outputs": [
    {
     "name": "stdout",
     "output_type": "stream",
     "text": [
      "\n",
      "(g.1) The Suns power from the pp cycle is 8.74116441651e+27 Watts.\n",
      "(g.2) The Suns power from the CNO cycle is 1.63374914223e+27 Watts.\n",
      "(g.3) The power generated by these two cycles are equal at a temperature of 17954628.8908 Kelvin.\n",
      "\n"
     ]
    }
   ],
   "source": [
    "# 1.g \n",
    "\n",
    "# intermediate calculations\n",
    "e_PP = e0_PP*rho*(X_H**2)*((T/(1.0E6))**4)         # [W/kg]\n",
    "e_CNO = e0_CNO*rho*X_H*X_CNO*((T/(1.0E6))**19.9)   # [W/kg]\n",
    "eq_temp = 1.0E6*((e0_PP/(e0_CNO*X_CNO))**(1/15.9)) # [K]\n",
    "\n",
    "# answers\n",
    "one_g_1 = e_PP*mass_sun  # [W]\n",
    "one_g_2 = e_CNO*mass_sun # [W]\n",
    "one_g_3 = eq_temp        # [K]\n",
    "\n",
    "print \"\\n(g.1) The Suns power from the pp cycle is \" + str(one_g_1) + \" Watts.\"\n",
    "print \"(g.2) The Suns power from the CNO cycle is \" + str(one_g_2) + \" Watts.\"\n",
    "print \"(g.3) The power generated by these two cycles are equal at a temperature of \"+ str(one_g_3) + \" Kelvin.\\n\""
   ]
  },
  {
   "cell_type": "code",
   "execution_count": 119,
   "metadata": {
    "collapsed": true
   },
   "outputs": [],
   "source": [
    "#--------------------------------------#\n",
    "# PHY 152: Assignment 2, Making a star #\n",
    "# Bryan J Miller, April 11th, 2016     #\n",
    "#--------------------------------------#\n",
    "\n",
    "# 2 - Homogeneous Collapse\n",
    "\n",
    "# constants\n",
    "n = 5E8        # [1/m^3] number density of particles\n",
    "T_J = 50         # [K] typical temp of hydrogen gas cloud\n",
    "k = 1.381E-23  # [J/K] boltzmann constant\n",
    "G =6.67408E-11 # [m^3/kgs^2] gravitational constant"
   ]
  },
  {
   "cell_type": "code",
   "execution_count": 120,
   "metadata": {
    "collapsed": false
   },
   "outputs": [
    {
     "name": "stdout",
     "output_type": "stream",
     "text": [
      "\n",
      "(a) As the cloud collapses it needs to be cold because:\n",
      "    Heat in the gas is a measure of the average kenetic energy of a particle.\n",
      "    This kenetic energy exerts an outward force that opposes gravitational collapse.\n",
      "    The colder the gas is the less it will oppose the collapse.\n",
      "\n"
     ]
    }
   ],
   "source": [
    "# 2.a\n",
    "\n",
    "# answer\n",
    "print \"\\n(a) As the cloud collapses it needs to be cold because:\"\n",
    "print \"    Heat in the gas is a measure of the average kenetic energy of a particle.\"\n",
    "print \"    This kenetic energy exerts an outward force that opposes gravitational collapse.\"\n",
    "print \"    The colder the gas is the less it will oppose the collapse.\\n\""
   ]
  },
  {
   "cell_type": "code",
   "execution_count": 121,
   "metadata": {
    "collapsed": false
   },
   "outputs": [
    {
     "name": "stdout",
     "output_type": "stream",
     "text": [
      "\n",
      "(b) The driving force of the collapse is gravity.\n",
      "\n"
     ]
    }
   ],
   "source": [
    "# 2.b\n",
    "\n",
    "# answer\n",
    "print \"\\n(b) The driving force of the collapse is gravity.\\n\""
   ]
  },
  {
   "cell_type": "code",
   "execution_count": 122,
   "metadata": {
    "collapsed": false
   },
   "outputs": [
    {
     "name": "stdout",
     "output_type": "stream",
     "text": [
      "\n",
      "(c) The Virial Theorem is -U=2K.\n",
      "    It relates the gravitational potential energy to the kinetic energy.\n",
      "    To modify it to reach the conditions of homogeneous collapse:\n",
      "    Substitute in (3/2)*N*k*T for the kinetic energy in 3 dimensions and,\n",
      "    substitute in (-3/5)*(G*(M^2))/R for the gravitational potential energy.\n",
      "    The condition of collapse is when U > 2*K.\n",
      "\n"
     ]
    }
   ],
   "source": [
    "# 2.c\n",
    "\n",
    "# answer\n",
    "print \"\\n(c) The Virial Theorem is -U=2K.\"\n",
    "print \"    It relates the gravitational potential energy to the kinetic energy.\"\n",
    "print \"    To modify it to reach the conditions of homogeneous collapse:\"\n",
    "print \"    Substitute in (3/2)*N*k*T for the kinetic energy in 3 dimensions and,\"\n",
    "print \"    substitute in (-3/5)*(G*(M^2))/R for the gravitational potential energy.\"\n",
    "print \"    The condition of collapse is when U > 2*K.\\n\""
   ]
  },
  {
   "cell_type": "code",
   "execution_count": 123,
   "metadata": {
    "collapsed": false
   },
   "outputs": [
    {
     "name": "stdout",
     "output_type": "stream",
     "text": [
      "\n",
      "(d) Virial Theorem is used to derive Jeans Mass (M_J), which is:\n",
      "    M_J = (((5*k*T)/(G*m_H))^(3/2))*((3/(4*pi*rho))^(1/2))\n",
      "The Jeans radius is:\n",
      "    R_J = ((15*k*T)/(4*pi*G*m_H*rho))^(1/2)\n",
      "\n"
     ]
    }
   ],
   "source": [
    "# 2.d\n",
    "\n",
    "# answer\n",
    "print \"\\n(d) Virial Theorem is used to derive Jeans Mass (M_J), which is:\"\n",
    "print \"    M_J = (((5*k*T)/(G*m_H))^(3/2))*((3/(4*pi*rho))^(1/2))\"\n",
    "print \"The Jeans radius is:\"\n",
    "print \"    R_J = ((15*k*T)/(4*pi*G*m_H*rho))^(1/2)\\n\""
   ]
  },
  {
   "cell_type": "code",
   "execution_count": 124,
   "metadata": {
    "collapsed": false
   },
   "outputs": [
    {
     "name": "stdout",
     "output_type": "stream",
     "text": [
      "\n",
      "(e.1) The Jeans Mass is 2.90602888691e+33 kg.\n",
      "(e.2) The Jeans Radius is 5.26687280974e+19 meters.\n",
      "(e.3) This is about 1453.01444345 times as massive as the sun with a radius of about 75241040139.2 times larger.\n",
      "\n"
     ]
    }
   ],
   "source": [
    "# 2.e\n",
    "\n",
    "# intermediate calculations\n",
    "rho_J = mass_proton*n\n",
    "M_J = (((5.0*k*T_J)/(G*mass_proton))**(3.0/2.0))*(((3.0)/(4.0*np.pi*rho_J))**(1.0/2.0))\n",
    "R_J = ((15*k*T)/(4*np.pi*G*mass_proton*rho_J))**(1.0/2.0)\n",
    "\n",
    "# answers\n",
    "two_e_1 = M_J\n",
    "two_e_2 = R_J\n",
    "two_e_3 = M_J/mass_sun\n",
    "two_e_4 = R_J/r_sun\n",
    "\n",
    "print \"\\n(e.1) The Jeans Mass is \" + str(two_e_1) + \" kg.\"\n",
    "print \"(e.2) The Jeans Radius is \" + str(two_e_2) + \" meters.\"\n",
    "print \"(e.3) This is about \" + str(two_e_3) + \" times as massive as the sun with a radius of about \" + str(two_e_4) + \" times larger.\\n\"\n",
    "\n"
   ]
  },
  {
   "cell_type": "code",
   "execution_count": 125,
   "metadata": {
    "collapsed": false
   },
   "outputs": [
    {
     "name": "stdout",
     "output_type": "stream",
     "text": [
      "\n",
      "(f) Free-fall time derived on paper, please look there.\n",
      "\n"
     ]
    }
   ],
   "source": [
    "# 2.f\n",
    "\n",
    "# answer\n",
    "print \"\\n(f) Free-fall time derived on paper, please look there.\\n\""
   ]
  },
  {
   "cell_type": "code",
   "execution_count": 108,
   "metadata": {
    "collapsed": false
   },
   "outputs": [
    {
     "name": "stdout",
     "output_type": "stream",
     "text": [
      "\n",
      "(g) I would expect free-fall time to also depend on Temperature,\n",
      "    since a larger temperature would increase the thermal pressure thus increasing the free-fall time.\n",
      "    The cloud would have to cool enough before it could begin collapsing.\n",
      "\n"
     ]
    }
   ],
   "source": [
    "# 2.g\n",
    "\n",
    "# answer\n",
    "print \"\\n(g) I would expect free-fall time to also depend on Temperature,\"\n",
    "print \"    since a larger temperature would increase the thermal pressure thus increasing the free-fall time.\"\n",
    "print \"    The cloud would have to cool enough before it could begin collapsing.\\n\""
   ]
  },
  {
   "cell_type": "code",
   "execution_count": 131,
   "metadata": {
    "collapsed": true
   },
   "outputs": [],
   "source": [
    "#--------------------------------------#\n",
    "# PHY 152: Assignment 2, Making a star #\n",
    "# Bryan J Miller, April 11th, 2016     #\n",
    "#--------------------------------------#\n",
    "\n",
    "# 3 - Isothermal/Plane Parallel Atmosphere\n",
    "\n",
    "# constants\n",
    "g = 9.81     # [m/s^2] gravity on Earth\n",
    "R = 8.314E-3 # [(km/s)^2/K] gas constant\n",
    "T_3 = 290    # [K] average temp on Earth is near 290 Kelvin"
   ]
  },
  {
   "cell_type": "code",
   "execution_count": 128,
   "metadata": {
    "collapsed": false
   },
   "outputs": [
    {
     "name": "stdout",
     "output_type": "stream",
     "text": [
      "\n",
      "(a) Hydrostatic balance derived on paper, please look there.\n",
      "\n"
     ]
    }
   ],
   "source": [
    "# 3.a\n",
    "\n",
    "# answer\n",
    "print \"\\n(a) Hydrostatic balance derived on paper, please look there.\\n\""
   ]
  },
  {
   "cell_type": "code",
   "execution_count": 132,
   "metadata": {
    "collapsed": false
   },
   "outputs": [
    {
     "name": "stdout",
     "output_type": "stream",
     "text": [
      "\n",
      "(b) Constant h found on paper, please look there.\n",
      "\n"
     ]
    }
   ],
   "source": [
    "# 3.b\n",
    "\n",
    "# answer\n",
    "print \"\\n(b) Constant h found on paper, please look there.\\n\""
   ]
  },
  {
   "cell_type": "code",
   "execution_count": 138,
   "metadata": {
    "collapsed": false
   },
   "outputs": [
    {
     "name": "stdout",
     "output_type": "stream",
     "text": [
      "\n",
      "(c) Yes, h is really small compared to R, I found h to be:\n",
      "    245.775739042 km.\n",
      "\n"
     ]
    }
   ],
   "source": [
    "# 3.c\n",
    "\n",
    "# answer\n",
    "three_c = (R*T_3)/(g/1000)\n",
    "\n",
    "print \"\\n(c) Yes, h is really small compared to R, I found h to be:\"\n",
    "print \"    \" + str(three_c) + \" km.\\n\""
   ]
  },
  {
   "cell_type": "code",
   "execution_count": 139,
   "metadata": {
    "collapsed": false
   },
   "outputs": [
    {
     "name": "stdout",
     "output_type": "stream",
     "text": [
      "\n",
      "(d) P.E. = mgh = mRT\n",
      "\n"
     ]
    }
   ],
   "source": [
    "# 3.d\n",
    "\n",
    "#answer\n",
    "print \"\\n(d) P.E. = mgh = mRT\\n\""
   ]
  },
  {
   "cell_type": "code",
   "execution_count": 140,
   "metadata": {
    "collapsed": false
   },
   "outputs": [
    {
     "name": "stdout",
     "output_type": "stream",
     "text": [
      "\n",
      "(e) Please see my paper for the answer.\n",
      "\n"
     ]
    }
   ],
   "source": [
    "# 3.e\n",
    "\n",
    "# answer\n",
    "print \"\\n(e) Please see my paper for the answer.\\n\""
   ]
  },
  {
   "cell_type": "code",
   "execution_count": null,
   "metadata": {
    "collapsed": true
   },
   "outputs": [],
   "source": []
  }
 ],
 "metadata": {
  "kernelspec": {
   "display_name": "Python 2",
   "language": "python",
   "name": "python2"
  },
  "language_info": {
   "codemirror_mode": {
    "name": "ipython",
    "version": 2
   },
   "file_extension": ".py",
   "mimetype": "text/x-python",
   "name": "python",
   "nbconvert_exporter": "python",
   "pygments_lexer": "ipython2",
   "version": "2.7.11"
  }
 },
 "nbformat": 4,
 "nbformat_minor": 0
}
