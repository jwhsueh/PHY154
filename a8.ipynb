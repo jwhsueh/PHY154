{
 "cells": [
  {
   "cell_type": "code",
   "execution_count": 3,
   "metadata": {
    "collapsed": true
   },
   "outputs": [],
   "source": [
    "import numpy as np\n",
    "import matplotlib.pyplot as plt\n",
    "from astropy import constants as const\n",
    "from astropy import units as u\n",
    "from scipy.integrate import odeint\n",
    "import scipy.optimize as opt\n",
    "import emcee\n",
    "%matplotlib inline"
   ]
  },
  {
   "cell_type": "code",
   "execution_count": 2,
   "metadata": {
    "collapsed": false
   },
   "outputs": [
    {
     "name": "stdout",
     "output_type": "stream",
     "text": [
      "part a\n",
      "1360.24424696\n",
      "1.2168929114e+17\n",
      "254.542807349 <-Temperature\n",
      "part b\n",
      "290.651828842 <-Temperature\n",
      "part c\n",
      "Fin=pi*integral of (1-a(l))*B(l, T)*dl from 0 to infinity\n",
      "Ttot=(pi/(4*sigma0)*integral of (1-a(l))*(2-a(l)*B(l, T)*dl from 0 to infinity) to the quarter power.\n",
      "part d\n",
      "Carbon Dioxide is definitely within the major wavelength range.\n",
      "Also, it is pretty abundant in the atm. so it is the most problematic.\n",
      "part e\n",
      "Yes. Carbon dioxide level is increasing as well as global temperature.\n"
     ]
    }
   ],
   "source": [
    "#Problem 1\n",
    "print 'part a'\n",
    "pi=np.pi\n",
    "L0=const.L_sun.value\n",
    "r0=const.R_earth.value\n",
    "sigma0=const.sigma_sb.value\n",
    "d0=1.5e11\n",
    "A=0.3\n",
    "Fin=L0/(4*pi*d0**2)\n",
    "print Fin\n",
    "Ein=Fin*pi*r0**2*(1-A)\n",
    "print Ein\n",
    "T4=(Ein/(4*pi*r0**2)/sigma0)\n",
    "T=T4**(1./4.)\n",
    "print T, '<-Temperature'\n",
    "print 'part b'\n",
    "Ein2=sigma0*T4*(1-A)*4*pi*r0**2\n",
    "Eint=Ein+Ein2\n",
    "T4b=(Eint/(4*pi*r0**2)/sigma0)\n",
    "Tb=T4b**(1./4.)\n",
    "print Tb, '<-Temperature'\n",
    "print 'part c'\n",
    "print 'Fin=pi*integral of (1-a(l))*B(l, T)*dl from 0 to infinity'\n",
    "#Ttot=(L0/(sigma0*16*pi*d0**2)*(1-A)*(2-A))**(1./4.)\n",
    "print 'Ttot=(pi/(4*sigma0)*integral of (1-a(l))*(2-a(l)*B(l, T)*dl from 0 to infinity) to the quarter power.'\n",
    "#print Ttot\n",
    "print 'part d'\n",
    "print 'Carbon Dioxide is definitely within the major wavelength range.'\n",
    "print 'Also, it is pretty abundant in the atm. so it is the most problematic.'\n",
    "print 'part e'\n",
    "print 'Yes. Carbon dioxide level is increasing as well as global temperature.'"
   ]
  },
  {
   "cell_type": "code",
   "execution_count": 20,
   "metadata": {
    "collapsed": false
   },
   "outputs": [
    {
     "data": {
      "image/png": "[encoded data removed]",
      "text/plain": [
       "<matplotlib.figure.Figure at 0x1119eb38>"
      ]
     },
     "metadata": {},
     "output_type": "display_data"
    }
   ],
   "source": [
    "from mpl_toolkits.basemap import Basemap\n",
    "from netCDF4 import Dataset, date2index\n",
    "import numpy as np\n",
    "import matplotlib.pyplot as plt\n",
    "from datetime import datetime\n",
    "date = datetime(2016,01,01,0) # date to plot.\n",
    "# open dataset.\n",
    "dataset = \\\n",
    "Dataset('http://www.ncdc.noaa.gov/thredds/dodsC/OISST-V2-AVHRR_agg')\n",
    "timevar = dataset.variables['time']\n",
    "timeindex = date2index(date,timevar) # find time index for desired date.\n",
    "# read sst.  Will automatically create a masked array using\n",
    "# missing_value variable attribute. 'squeeze out' singleton dimensions.\n",
    "sst = dataset.variables['sst'][timeindex,:].squeeze()\n",
    "# read ice.\n",
    "ice = dataset.variables['ice'][timeindex,:].squeeze()\n",
    "# read lats and lons (representing centers of grid boxes).\n",
    "lats = dataset.variables['lat'][:]\n",
    "lons = dataset.variables['lon'][:]\n",
    "lons, lats = np.meshgrid(lons,lats)\n",
    "# create figure, axes instances.\n",
    "fig = plt.figure()\n",
    "ax = fig.add_axes([0.05,0.05,0.9,0.9])\n",
    "# create Basemap instance.\n",
    "# coastlines not used, so resolution set to None to skip\n",
    "# continent processing (this speeds things up a bit)\n",
    "m = Basemap(llcrnrlon=90.,llcrnrlat=-5.,urcrnrlon=150.,urcrnrlat=5.,projection='merc',lat_1=-5.,lat_2=5.,lon_0=120,resolution=None)\n",
    "\n",
    "# draw line around map projection limb.\n",
    "# color background of map projection region.\n",
    "# missing values over land will show up this color.\n",
    "m.drawmapboundary(fill_color='0.3')\n",
    "# plot sst, then ice with pcolor\n",
    "im1 = m.pcolormesh(lons,lats,sst,shading='flat',cmap=plt.cm.jet,latlon=True)\n",
    "im2 = m.pcolormesh(lons,lats,ice,shading='flat',cmap=plt.cm.gist_gray,latlon=True)\n",
    "# draw parallels and meridians, but don't bother labelling them.\n",
    "#m.drawparallels(np.arange(-90.,99.,30.))\n",
    "#m.drawparallels(np.arange(10,70,20),labels=[1,1,0,0])\n",
    "#m.drawmeridians(np.arange(-100,0,20),labels=[0,0,0,1])\n",
    "#m.drawmeridians(np.arange(-180.,180.,60.))\n",
    "# add colorbar\n",
    "cb = m.colorbar(im1,\"bottom\", size=\"5%\", pad=\"2%\")\n",
    "# add a title.\n",
    "ax.set_title('SST and ICE analysis for %s'%date)\n",
    "plt.show()\n"
   ]
  },
  {
   "cell_type": "code",
   "execution_count": 20,
   "metadata": {
    "collapsed": false
   },
   "outputs": [
    {
     "name": "stdout",
     "output_type": "stream",
     "text": [
      "part b\n"
     ]
    },
    {
     "data": {
      "image/png": "[encoded data removed]",
      "text/plain": [
       "<matplotlib.figure.Figure at 0x9f0a278>"
      ]
     },
     "metadata": {},
     "output_type": "display_data"
    }
   ],
   "source": [
    "#Problem 2\n",
    "print 'part b'\n",
    "yr0=np.loadtxt('calidata_final.dat', usecols=[0])\n",
    "T0=np.loadtxt('calidata_final.dat', usecols=[1])\n",
    "Prec0=np.loadtxt('calidata_final.dat', usecols=[2])\n",
    "Snow0=np.loadtxt('calidata_final.dat', usecols=[3])\n",
    "NINO3=np.loadtxt('calidata_final.dat', usecols=[4])\n",
    "#print yr0, T0, NINO3\n",
    "\n",
    "fig = plt.figure(1, figsize=(8,8))\n",
    "ax1 = fig.add_subplot(211)\n",
    "ax1.scatter(yr0, NINO3, s=5)\n",
    "#ax1.errorbar(z, mu, yerr=sigma, linestyle=\"None\")\n",
    "#plt.xlim(xmin=0)\n",
    "plt.show()"
   ]
  },
  {
   "cell_type": "code",
   "execution_count": 5,
   "metadata": {
    "collapsed": false
   },
   "outputs": [
    {
     "name": "stdout",
     "output_type": "stream",
     "text": [
      "part c\n",
      "Five largest EI Nino occurred 1983, 1998, 1972, 1992, 1987.\n"
     ]
    }
   ],
   "source": [
    "print 'part c'\n",
    "print 'Five largest EI Nino occurred 1983, 1998, 1972, 1992, 1987.'"
   ]
  },
  {
   "cell_type": "code",
   "execution_count": 13,
   "metadata": {
    "collapsed": false
   },
   "outputs": [
    {
     "name": "stdout",
     "output_type": "stream",
     "text": [
      "part d\n"
     ]
    },
    {
     "data": {
      "image/png": "[encoded data removed]",
      "text/plain": [
       "<matplotlib.figure.Figure at 0xa018940>"
      ]
     },
     "metadata": {},
     "output_type": "display_data"
    },
    {
     "name": "stdout",
     "output_type": "stream",
     "text": [
      "Yes. Temperature/Precipitation are either extremely high or low.\n"
     ]
    }
   ],
   "source": [
    "print 'part d'\n",
    "fig = plt.figure(1, figsize=(8,8))\n",
    "ax1 = fig.add_subplot(211)\n",
    "ax1.scatter(yr0, NINO3, s=5)\n",
    "ax1.plot(yr0, T0, label='T')\n",
    "ax1.plot(yr0, Prec0/100, label='P')\n",
    "#ax1.errorbar(z, mu, yerr=sigma, linestyle=\"None\")\n",
    "#plt.xlim(xmin=0)\n",
    "plt.show()\n",
    "print 'Yes. Temperature/Precipitation are either extremely high or low.'"
   ]
  },
  {
   "cell_type": "code",
   "execution_count": 22,
   "metadata": {
    "collapsed": false
   },
   "outputs": [
    {
     "name": "stdout",
     "output_type": "stream",
     "text": [
      "part e\n",
      "correlation of NINO3 with temperature is  0.0116917676495\n",
      "correlation of NINO3 with precipitation is  0.395964078652\n",
      "correlation of NINO3 with snow is  0.136006593701\n"
     ]
    }
   ],
   "source": [
    "print 'part e'\n",
    "def r(x, y):\n",
    "    mx=np.mean(x)\n",
    "    my=np.mean(y)\n",
    "    sn=0\n",
    "    sd1=0\n",
    "    sd2=0\n",
    "    for i in range(0, len(x)-1):\n",
    "        sn+=(x[i]-mx)*(y[i]-my)\n",
    "        sd1+=(x[i]-mx)**2\n",
    "        sd2+=(y[i]-my)**2\n",
    "        \n",
    "    r0=sn/np.sqrt(sd1*sd2)\n",
    "    return r0\n",
    "\n",
    "print 'correlation of NINO3 with temperature is ', r(NINO3, T0)\n",
    "print 'correlation of NINO3 with precipitation is ', r(NINO3, Prec0)\n",
    "print 'correlation of NINO3 with snow is ', r(NINO3, Snow0)"
   ]
  },
  {
   "cell_type": "code",
   "execution_count": 23,
   "metadata": {
    "collapsed": false
   },
   "outputs": [
    {
     "name": "stdout",
     "output_type": "stream",
     "text": [
      "part f\n",
      "Definitely heat is expanding.\n",
      "I would say we are in a warm event.\n",
      "especially along the coast, we can observe obvious changes.\n"
     ]
    }
   ],
   "source": [
    "print 'part f'\n",
    "\n",
    "print 'Definitely heat is expanding.'\n",
    "print 'I would say we are in a warm event.'\n",
    "print 'especially along the coast, we can observe obvious changes.'"
   ]
  },
  {
   "cell_type": "code",
   "execution_count": null,
   "metadata": {
    "collapsed": true
   },
   "outputs": [],
   "source": []
  }
 ],
 "metadata": {
  "kernelspec": {
   "display_name": "Python 2",
   "language": "python",
   "name": "python2"
  },
  "language_info": {
   "codemirror_mode": {
    "name": "ipython",
    "version": 2
   },
   "file_extension": ".py",
   "mimetype": "text/x-python",
   "name": "python",
   "nbconvert_exporter": "python",
   "pygments_lexer": "ipython2",
   "version": "2.7.11"
  }
 },
 "nbformat": 4,
 "nbformat_minor": 0
}
