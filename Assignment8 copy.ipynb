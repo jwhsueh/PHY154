{
 "cells": [
  {
   "cell_type": "code",
   "execution_count": 2,
   "metadata": {
    "collapsed": false
   },
   "outputs": [],
   "source": [
    "import numpy as np\n",
    "\n",
    "Lsun = 3.8*10**26\n",
    "Tsun = 5777\n",
    "d = 1.5*10**11\n",
    "Msun = 2*10**30\n",
    "Rsun = 7*10**8\n",
    "Rearth = 6.4*10**6\n",
    "sigma = 5.67*10**(-8)\n",
    "h = 6.62*10**(-34)\n",
    "eV = 1.6*10**(-19)"
   ]
  },
  {
   "cell_type": "code",
   "execution_count": 7,
   "metadata": {
    "collapsed": false
   },
   "outputs": [
    {
     "name": "stdout",
     "output_type": "stream",
     "text": [
      "279.055611542 k\n",
      "255.249717554 k\n"
     ]
    }
   ],
   "source": [
    "def temp1(albedo):\n",
    "    T = (((Rsun**2.0)*(Tsun**4.0) *(1-albedo))/(4*(d**2.0)))**(.25)\n",
    "    return T\n",
    "\n",
    "print temp1(0), 'k'\n",
    "print temp1(.3), 'k'"
   ]
  },
  {
   "cell_type": "code",
   "execution_count": 8,
   "metadata": {
    "collapsed": false
   },
   "outputs": [
    {
     "name": "stdout",
     "output_type": "stream",
     "text": [
      "291.904137462 k\n"
     ]
    }
   ],
   "source": [
    "def tempout(albedo):\n",
    "    T = (((Rearth**2.0)*(temp1(albedo)**4.0) * albedo * (1-albedo))/(4*(Rearth**2.0)))**(.25)\n",
    "    return T\n",
    "\n",
    "def temp2(albedo):\n",
    "    T1 = tempout(albedo) * albedo\n",
    "    #print T1\n",
    "    T2 = temp1(albedo)\n",
    "    #print T2\n",
    "    T = T1 + T2\n",
    "    return T\n",
    "\n",
    "print temp2(.3), 'k'"
   ]
  },
  {
   "cell_type": "markdown",
   "metadata": {
    "collapsed": false
   },
   "source": [
    "1c)\n",
    "\n",
    "B(lambda,T) = (2hc/(lamda^5))/(exp(hc/lambda*k*T) - 1)\n",
    "F = pi * integral[ (1-a(lambda)) * B(lamda,T) * dlambda]\n",
    "\n",
    "1d)\n",
    "\n",
    "While greenhouse effect is desirable, too much of it is catastrophic. Which part of the above\n",
    "equation shows the influence of increased concentration of greenhouse gasses? Using this information,\n",
    "which molecule is the most prominent greenhouse gas and why? Which one is the most\n",
    "problematic?\n",
    "The a(lambda) term in the equation above shows the influence of increased concentration of greenhouse gasses. Water vapor is the most prominent greenhouse gas because as the atmosphere heats up, more water evaporates creating more water vapor. CO2 is the most problematic greenhouse gas because it does not regulate itself.\n",
    "\n",
    "1e)\n",
    "\n",
    "According to the simulation we are in trouble because the increase in CO2 in the atmosphere has spiked exponentially and the peak is much larger than it has been in the past 800000 years."
   ]
  },
  {
   "cell_type": "code",
   "execution_count": 30,
   "metadata": {
    "collapsed": false
   },
   "outputs": [],
   "source": [
    "data = np.loadtxt('calidata_final.dat', unpack=True)\n",
    "year, temp, precip, snow, nino = np.loadtxt('calidata_final.dat',unpack = True)"
   ]
  },
  {
   "cell_type": "code",
   "execution_count": 45,
   "metadata": {
    "collapsed": false
   },
   "outputs": [
    {
     "data": {
      "image/png": "[encoded data removed]",
      "text/plain": [
       "<matplotlib.figure.Figure at 0x569fcd0>"
      ]
     },
     "metadata": {},
     "output_type": "display_data"
    }
   ],
   "source": [
    "from mpl_toolkits.basemap import Basemap\n",
    "from netCDF4 import Dataset, date2index\n",
    "import numpy as np\n",
    "import matplotlib.pyplot as plt\n",
    "from datetime import datetime\n",
    "%matplotlib inline\n",
    "date = datetime(2016,1,1) # date to plot.\n",
    "# open dataset.\n",
    "dataset = \\\n",
    "Dataset('http://www.ncdc.noaa.gov/thredds/dodsC/OISST-V2-AVHRR_agg')\n",
    "timevar = dataset.variables['time']\n",
    "timeindex = date2index(date,timevar) # find time index for desired date.\n",
    "# read sst.  Will automatically create a masked array using\n",
    "# missing_value variable attribute. 'squeeze out' singleton dimensions.\n",
    "sst = dataset.variables['sst'][timeindex,:].squeeze()\n",
    "# read ice.\n",
    "ice = dataset.variables['ice'][timeindex,:].squeeze()\n",
    "# read lats and lons (representing centers of grid boxes).\n",
    "lats = dataset.variables['lat'][:]\n",
    "lons = dataset.variables['lon'][:]\n",
    "lons, lats = np.meshgrid(lons,lats)\n",
    "# create figure, axes instances.\n",
    "fig = plt.figure()\n",
    "ax = fig.add_axes([0.05,0.05,0.9,0.9])\n",
    "# create Basemap instance.\n",
    "# coastlines not used, so resolution set to None to skip\n",
    "# continent processing (this speeds things up a bit)\n",
    "\n",
    "#m = Basemap(projection='kav7',lon_0=0,resolution=None)\n",
    "\n",
    "m = Basemap(llcrnrlon=-150.,llcrnrlat=5.,urcrnrlon=-90.,urcrnrlat=-5.,\\\n",
    "            rsphere=(6378137.00,6356752.3142),\\\n",
    "            resolution='l',projection='merc',\\\n",
    "            lat_0=40.,lon_0=-20.,lat_ts=20.)\n",
    "\n",
    "# draw line around map projection limb.\n",
    "# color background of map projection region.\n",
    "# missing values over land will show up this color.\n",
    "m.drawmapboundary(fill_color='0.3')\n",
    "# plot sst, then ice with pcolor\n",
    "im1 = m.pcolormesh(lons,lats,sst,shading='flat',cmap=plt.cm.jet,latlon=True)\n",
    "im2 = m.pcolormesh(lons,lats,ice,shading='flat',cmap=plt.cm.gist_gray,latlon=True)\n",
    "# draw parallels and meridians, but don't bother labelling them.\n",
    "m.drawparallels(np.arange(-90.,99.,30.))\n",
    "m.drawmeridians(np.arange(-180.,180.,60.))\n",
    "# add colorbar\n",
    "cb = m.colorbar(im1,\"bottom\", size=\"5%\", pad=\"2%\")\n",
    "# add a title.\n",
    "ax.set_title('SST and ICE analysis for %s'%date)\n",
    "plt.show()"
   ]
  },
  {
   "cell_type": "code",
   "execution_count": 51,
   "metadata": {
    "collapsed": false
   },
   "outputs": [
    {
     "data": {
      "image/png": "[encoded data removed]",
      "text/plain": [
       "<matplotlib.figure.Figure at 0xe62b6b0>"
      ]
     },
     "metadata": {},
     "output_type": "display_data"
    }
   ],
   "source": [
    "import numpy as np\n",
    "import matplotlib.pyplot as plt\n",
    "%matplotlib inline\n",
    "\n",
    "year, NINO3 = np.loadtxt('calidata_final.dat', usecols=(0, 4), unpack=True)\n",
    "plt.plot(year, NINO3)\n",
    "plt.xlabel(\"year\")\n",
    "plt.ylabel(\"Degrees Celcius above average\")\n",
    "plt.show()"
   ]
  },
  {
   "cell_type": "code",
   "execution_count": 52,
   "metadata": {
    "collapsed": false
   },
   "outputs": [
    {
     "name": "stdout",
     "output_type": "stream",
     "text": [
      "1998 1983 1973 1992 1987\n"
     ]
    }
   ],
   "source": [
    "n = 5\n",
    "idx = (-NINO3).argsort()[:n]\n",
    "print int(year[idx[0]]),  int(year[idx[1]]), int(year[idx[2]]), int(year[idx[3]]), int(year[idx[4]])"
   ]
  },
  {
   "cell_type": "code",
   "execution_count": 71,
   "metadata": {
    "collapsed": false
   },
   "outputs": [
    {
     "name": "stdout",
     "output_type": "stream",
     "text": [
      "[28 13  3 22 17] [11 26 16 10 33] [23 28  8 13 27]\n",
      "No relative correlation between the 5 strongest years and their precipitations\n"
     ]
    }
   ],
   "source": [
    "temp, precip, snow = np.loadtxt('calidata_final.dat', usecols=(1, 2, 3), unpack=True)\n",
    "n = 5\n",
    "idx2 = (-temp).argsort()[:n]\n",
    "idx3 = (-precip).argsort()[:n]\n",
    "print idx, idx2, idx3\n",
    "print 'No relative correlation between the 5 strongest years and their precipitations'"
   ]
  },
  {
   "cell_type": "code",
   "execution_count": 66,
   "metadata": {
    "collapsed": false
   },
   "outputs": [
    {
     "name": "stdout",
     "output_type": "stream",
     "text": [
      "(0.29927122525910471, 0.067956903073737168)\n"
     ]
    },
    {
     "data": {
      "text/plain": [
       "<matplotlib.text.Text at 0x197ec630>"
      ]
     },
     "execution_count": 66,
     "metadata": {},
     "output_type": "execute_result"
    },
    {
     "data": {
      "image/png": "[encoded data removed]",
      "text/plain": [
       "<matplotlib.figure.Figure at 0x19801990>"
      ]
     },
     "metadata": {},
     "output_type": "display_data"
    }
   ],
   "source": [
    "from scipy.stats.stats import pearsonr\n",
    "\n",
    "print pearsonr(temp, precip)\n",
    "plt.plot(temp,precip, marker = '.', linewidth = 0)\n",
    "plt.xlabel('Temperature (C)')\n",
    "plt.ylabel('Precipitation (mm)')"
   ]
  },
  {
   "cell_type": "code",
   "execution_count": 67,
   "metadata": {
    "collapsed": false
   },
   "outputs": [
    {
     "name": "stdout",
     "output_type": "stream",
     "text": [
      "(0.14197230760465335, 0.39518075319425461)\n"
     ]
    },
    {
     "data": {
      "text/plain": [
       "<matplotlib.text.Text at 0x198ec6d0>"
      ]
     },
     "execution_count": 67,
     "metadata": {},
     "output_type": "execute_result"
    },
    {
     "data": {
      "image/png": "[encoded data removed]",
      "text/plain": [
       "<matplotlib.figure.Figure at 0xf1bedb0>"
      ]
     },
     "metadata": {},
     "output_type": "display_data"
    }
   ],
   "source": [
    "print pearsonr(snow, NINO3)\n",
    "plt.plot(snow,NINO3, marker = '.', linewidth = 0)\n",
    "plt.xlabel('Snow (in)')\n",
    "plt.ylabel('Degrees Celcius above average')"
   ]
  },
  {
   "cell_type": "code",
   "execution_count": 68,
   "metadata": {
    "collapsed": false
   },
   "outputs": [
    {
     "name": "stdout",
     "output_type": "stream",
     "text": [
      "(0.37712170125989769, 0.019596097409072206)\n"
     ]
    },
    {
     "data": {
      "text/plain": [
       "<matplotlib.text.Text at 0xf1bc170>"
      ]
     },
     "execution_count": 68,
     "metadata": {},
     "output_type": "execute_result"
    },
    {
     "data": {
      "image/png": "[encoded data removed]",
      "text/plain": [
       "<matplotlib.figure.Figure at 0x1990d230>"
      ]
     },
     "metadata": {},
     "output_type": "display_data"
    }
   ],
   "source": [
    "print pearsonr(precip, NINO3)\n",
    "plt.plot(precip,NINO3, marker = '.', linewidth = 0)\n",
    "plt.ylabel('Degrees Celcius above average')\n",
    "plt.xlabel('Precipitation (mm)')"
   ]
  },
  {
   "cell_type": "code",
   "execution_count": 69,
   "metadata": {
    "collapsed": false
   },
   "outputs": [
    {
     "name": "stdout",
     "output_type": "stream",
     "text": [
      "(0.0051124458580692608, 0.9756981034908927)\n"
     ]
    },
    {
     "data": {
      "text/plain": [
       "<matplotlib.text.Text at 0x19a6b990>"
      ]
     },
     "execution_count": 69,
     "metadata": {},
     "output_type": "execute_result"
    },
    {
     "data": {
      "image/png": "[encoded data removed]",
      "text/plain": [
       "<matplotlib.figure.Figure at 0x19b8c6f0>"
      ]
     },
     "metadata": {},
     "output_type": "display_data"
    }
   ],
   "source": [
    "print pearsonr(temp, NINO3)\n",
    "plt.plot(temp,NINO3, marker = '.', linewidth = 0)\n",
    "plt.xlabel('Temperature (C)')\n",
    "plt.ylabel('Degrees Celcius above average')"
   ]
  },
  {
   "cell_type": "markdown",
   "metadata": {},
   "source": [
    "2f)\n",
    "\n",
    "The graphic shows the heat temperature increases moving upwards and to the left. It looks like we are in a neutral event currently."
   ]
  },
  {
   "cell_type": "code",
   "execution_count": null,
   "metadata": {
    "collapsed": true
   },
   "outputs": [],
   "source": []
  }
 ],
 "metadata": {
  "kernelspec": {
   "display_name": "Python 2",
   "language": "python",
   "name": "python2"
  },
  "language_info": {
   "codemirror_mode": {
    "name": "ipython",
    "version": 2
   },
   "file_extension": ".py",
   "mimetype": "text/x-python",
   "name": "python",
   "nbconvert_exporter": "python",
   "pygments_lexer": "ipython2",
   "version": "2.7.11"
  }
 },
 "nbformat": 4,
 "nbformat_minor": 0
}
