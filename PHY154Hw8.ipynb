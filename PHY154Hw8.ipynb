{
 "cells": [
  {
   "cell_type": "code",
   "execution_count": 1,
   "metadata": {
    "collapsed": false
   },
   "outputs": [
    {
     "name": "stdout",
     "output_type": "stream",
     "text": [
      "1. a. The equivalent blackbody temperature of the Earth is:  255.002177667 K\n"
     ]
    }
   ],
   "source": [
    "#1. a.\n",
    "import numpy as np\n",
    "\n",
    "#define constants\n",
    "A = 0.3\n",
    "F_s = 1370.0 #units of W/m**2\n",
    "sigma = 5.67*10**(-8.0) #units of W/((m**2)*(K**4))\n",
    "\n",
    "#calculate constants\n",
    "F_e = ((1.0-A)*(F_s))/(4.0)\n",
    "\n",
    "#calculate Temp\n",
    "T_e = ((F_e)/(sigma))**(1.0/4.0) #unit of K\n",
    "\n",
    "print '1. a. The equivalent blackbody temperature of the Earth is: ', T_e, 'K'\n"
   ]
  },
  {
   "cell_type": "code",
   "execution_count": 2,
   "metadata": {
    "collapsed": false
   },
   "outputs": [
    {
     "name": "stdout",
     "output_type": "stream",
     "text": [
      "1. b. The equivalent blackbody temperature of the Earth would be:  291.786161447 K\n"
     ]
    }
   ],
   "source": [
    "#1. b. \n",
    "\n",
    "#about 53% of the energy from the sun is in infrared\n",
    "\n",
    "A = 0.3\n",
    "F_s = 1370.0 #units of W/m**2\n",
    "sigma = 5.67*10**(-8.0) #units of W/((m**2)*(K**4))\n",
    "\n",
    "B = A-((0.50))\n",
    "\n",
    "F_eir = ((1.0-B)*(F_s))/(4.0)\n",
    "\n",
    "#calculate new temperature\n",
    "\n",
    "T_eir = ((F_eir)/(sigma))**(1.0/4.0) #unit of K\n",
    "\n",
    "print '1. b. The equivalent blackbody temperature of the Earth would be: ', T_eir, 'K'"
   ]
  },
  {
   "cell_type": "code",
   "execution_count": 3,
   "metadata": {
    "collapsed": false
   },
   "outputs": [
    {
     "data": {
      "text/plain": [
       "255.00217766738587"
      ]
     },
     "execution_count": 3,
     "metadata": {},
     "output_type": "execute_result"
    }
   ],
   "source": [
    "#1. c.\n",
    "\n",
    "F_s = 1370.0 #units of W/m**2\n",
    "sigma = 5.67*10**(-8.0) #units of W/((m**2)*(K**4))\n",
    "\n",
    "def T(L):\n",
    "    return ((((1.0-(L))*(F_s))/(4.0))/(sigma))**(1.0/4.0)\n",
    "\n",
    "T(0.3)"
   ]
  },
  {
   "cell_type": "code",
   "execution_count": 4,
   "metadata": {
    "collapsed": false
   },
   "outputs": [
    {
     "name": "stdout",
     "output_type": "stream",
     "text": [
      "1. d.\n",
      "*The Albedo (A) is what is changed by the increased concentration of greenhouse gasses.\n",
      "*Water is the most prominent greenhouse gas because it absorbs the most amount of energy in the spectrum radiated to Earth.\n",
      "*Water is the most problematic because of the reason above.\n"
     ]
    }
   ],
   "source": [
    "#1. d.\n",
    "print '1. d.'\n",
    "print '*The Albedo (A) is what is changed by the increased concentration of greenhouse gasses.'\n",
    "print '*Water is the most prominent greenhouse gas because it absorbs the most amount of energy in the spectrum radiated to Earth.'\n",
    "print '*Water is the most problematic because of the reason above.'"
   ]
  },
  {
   "cell_type": "code",
   "execution_count": 5,
   "metadata": {
    "collapsed": false
   },
   "outputs": [
    {
     "name": "stdout",
     "output_type": "stream",
     "text": [
      "1. e.\n",
      "Yes, we are in trouble.\n"
     ]
    }
   ],
   "source": [
    "#1. e.\n",
    "print '1. e.'\n",
    "print 'Yes, we are in trouble.'"
   ]
  },
  {
   "cell_type": "code",
   "execution_count": 21,
   "metadata": {
    "collapsed": false
   },
   "outputs": [
    {
     "data": {
      "image/png": "[encoded data removed]",
      "text/plain": [
       "<matplotlib.figure.Figure at 0x7f98b3cea190>"
      ]
     },
     "metadata": {},
     "output_type": "display_data"
    }
   ],
   "source": [
    "#2. a.\n",
    "\n",
    "from mpl_toolkits.basemap import Basemap\n",
    "from netCDF4 import Dataset, date2index\n",
    "import numpy as np\n",
    "import matplotlib.pyplot as plt\n",
    "from datetime import datetime\n",
    "date = datetime(2016,1,1,0) # date to plot.\n",
    "# open dataset.\n",
    "dataset = \\\n",
    "Dataset('http://www.ncdc.noaa.gov/thredds/dodsC/OISST-V2-AVHRR_agg')\n",
    "timevar = dataset.variables['time']\n",
    "timeindex = date2index(date,timevar) # find time index for desired date.\n",
    "# read sst.  Will automatically create a masked array using\n",
    "# missing_value variable attribute. 'squeeze out' singleton dimensions.\n",
    "sst = dataset.variables['sst'][timeindex,:].squeeze()\n",
    "# read ice.\n",
    "ice = dataset.variables['ice'][timeindex,:].squeeze()\n",
    "# read lats and lons (representing centers of grid boxes).\n",
    "lats = dataset.variables['lat'][:]\n",
    "lons = dataset.variables['lon'][:]\n",
    "lons, lats = np.meshgrid(lons,lats)\n",
    "# create figure, axes instances.\n",
    "fig = plt.figure()\n",
    "ax = fig.add_axes([0.05,0.05,0.9,0.9])\n",
    "# create Basemap instance.\n",
    "# coastlines not used, so resolution set to None to skip\n",
    "# continent processing (this speeds things up a bit)\n",
    "m = Basemap(projection='mill',lon_0=0,resolution=None,llcrnrlon=-150,llcrnrlat=-5,urcrnrlon=-90,urcrnrlat=5)\n",
    "# draw line around map projection limb.\n",
    "# color background of map projection region.\n",
    "# missing values over land will show up this color.\n",
    "m.drawmapboundary(fill_color='0.3')\n",
    "# plot sst, then ice with pcolor\n",
    "im1 = m.pcolormesh(lons,lats,sst,shading='flat',cmap=plt.cm.jet,latlon=True)\n",
    "im2 = m.pcolormesh(lons,lats,ice,shading='flat',cmap=plt.cm.gist_gray,latlon=True)\n",
    "# draw parallels and meridians, but don't bother labelling them.\n",
    "m.drawparallels(np.arange(-90.,90.,1.),labels=[1,1,0,1])\n",
    "m.drawmeridians(np.arange(-180.,180.,10.),labels=[1,1,0,1])\n",
    "# add colorbar\n",
    "cb = m.colorbar(im1,\"bottom\", size=\"5%\", pad=\"2%\")\n",
    "# add a title.\n",
    "ax.set_title('SST and ICE analysis for %s'%date)\n",
    "plt.show()"
   ]
  },
  {
   "cell_type": "code",
   "execution_count": 15,
   "metadata": {
    "collapsed": false
   },
   "outputs": [
    {
     "data": {
      "text/plain": [
       "<matplotlib.text.Text at 0x7f98b398b2d0>"
      ]
     },
     "execution_count": 15,
     "metadata": {},
     "output_type": "execute_result"
    },
    {
     "data": {
      "image/png": "[encoded data removed]",
      "text/plain": [
       "<matplotlib.figure.Figure at 0x7f98b3a1de10>"
      ]
     },
     "metadata": {},
     "output_type": "display_data"
    }
   ],
   "source": [
    "#2. b.\n",
    "\n",
    "import numpy as np\n",
    "\n",
    "NINO3_data = np.loadtxt(\"hw8NINO3.txt\", comments=\"#\", delimiter=\",\", unpack=False)\n",
    "years_data = np.loadtxt(\"hw8years.txt\", comments=\"#\", delimiter=\",\", unpack=False)\n",
    "\n",
    "plt.figure(figsize=(20,12))\n",
    "plt.plot(years_data, NINO3_data,marker='d', linestyle='None', color='c', label='Data')\n",
    "plt.grid(True)\n",
    "plt.xlabel('time (years)',fontsize=18)\n",
    "plt.ylabel('difference in average temperature (degrees C)', fontsize=18)\n",
    "plt.title('Temp difference vs. time',fontsize=22)"
   ]
  },
  {
   "cell_type": "code",
   "execution_count": 16,
   "metadata": {
    "collapsed": false
   },
   "outputs": [
    {
     "name": "stdout",
     "output_type": "stream",
     "text": [
      "2. c.\n",
      "The five largest El Nino events during this time occured in 1998,1983,1973,1992, and 1987.\n"
     ]
    }
   ],
   "source": [
    "#2. c.\n",
    "\n",
    "print '2. c.'\n",
    "print '*The five largest El Nino events during this time occured in 1998,1983,1973,1992, and 1987.'"
   ]
  },
  {
   "cell_type": "code",
   "execution_count": 17,
   "metadata": {
    "collapsed": false
   },
   "outputs": [
    {
     "name": "stdout",
     "output_type": "stream",
     "text": [
      "2. d.\n",
      "These events sometimes seem to relate to the extreme events in precipitation/temperature, but not all of the extreme temperature differences come with extreme precipitation.\n"
     ]
    }
   ],
   "source": [
    "#2. d.\n",
    "\n",
    "print '2. d.'\n",
    "print '*These events sometimes seem to relate to the extreme events in precipitation/temperature, but not all of the extreme temperature differences come with extreme precipitation.'"
   ]
  },
  {
   "cell_type": "code",
   "execution_count": 28,
   "metadata": {
    "collapsed": false
   },
   "outputs": [
    {
     "name": "stdout",
     "output_type": "stream",
     "text": [
      "[[ 1.          0.00511245]\n",
      " [ 0.00511245  1.        ]]\n",
      "[[ 1.         0.3771217]\n",
      " [ 0.3771217  1.       ]]\n",
      "[[ 1.          0.14197231]\n",
      " [ 0.14197231  1.        ]]\n",
      "*This does indicate a correlation between the data sets and NINO3, with the strongest being the temperature, and the weakest being the precipitation.\n",
      "*The snow and precipitation correlation are not equally as strong, the snow is stronger.\n",
      "*These results are consistent with the maps of impacts provided.\n"
     ]
    }
   ],
   "source": [
    "#2. e.\n",
    "import scipy\n",
    "import scipy.stats\n",
    "\n",
    "temp_data = np.loadtxt(\"hw8temp.txt\", comments=\"#\", delimiter=\",\", unpack=False)\n",
    "precip_data = np.loadtxt(\"hw8precip.txt\", comments=\"#\", delimiter=\",\", unpack=False)\n",
    "snowdepth_data = np.loadtxt(\"hw8snowdepth.txt\", comments=\"#\", delimiter=\",\", unpack=False)\n",
    "\n",
    "temp = np.corrcoef(NINO3_data, temp_data, rowvar=False, bias=True)\n",
    "precip = np.corrcoef(NINO3_data, precip_data, rowvar=False, bias=True)\n",
    "snowdepth = np.corrcoef(NINO3_data, snowdepth_data, rowvar=False, bias=True)\n",
    "\n",
    "print temp\n",
    "print precip\n",
    "print snowdepth\n",
    "\n",
    "print '*This does indicate a correlation between the data sets and NINO3, with the strongest being the temperature, and the weakest being the precipitation.'\n",
    "print '*The snow and precipitation correlation are not equally as strong, the snow is stronger.'\n",
    "print '*These results are consistent with the maps of impacts provided.'"
   ]
  },
  {
   "cell_type": "code",
   "execution_count": 20,
   "metadata": {
    "collapsed": false
   },
   "outputs": [
    {
     "name": "stdout",
     "output_type": "stream",
     "text": [
      "2. f.\n",
      "*The animation shows a warming trend gradually moving to the north west in a strip in the pacific ocean.\n",
      "*We are currently in a neutral event.\n"
     ]
    }
   ],
   "source": [
    "#2. f.\n",
    "\n",
    "print '2. f.'\n",
    "print '*The animation shows a warming trend gradually moving to the north west in a strip in the pacific ocean.'\n",
    "print '*We are currently in a neutral event.'"
   ]
  }
 ],
 "metadata": {
  "kernelspec": {
   "display_name": "Python 2",
   "language": "python",
   "name": "python2"
  },
  "language_info": {
   "codemirror_mode": {
    "name": "ipython",
    "version": 2
   },
   "file_extension": ".py",
   "mimetype": "text/x-python",
   "name": "python",
   "nbconvert_exporter": "python",
   "pygments_lexer": "ipython2",
   "version": "2.7.6"
  }
 },
 "nbformat": 4,
 "nbformat_minor": 0
}
