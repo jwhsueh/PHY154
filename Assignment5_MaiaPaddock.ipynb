{
 "cells": [
  {
   "cell_type": "markdown",
   "metadata": {},
   "source": [
    "2(a)"
   ]
  },
  {
   "cell_type": "markdown",
   "metadata": {},
   "source": [
    "First find the y-component of the velocity:\n",
    "$$\\frac{dv_{y}}{dt} = \\frac{G M}{r^{2}} sin(\\theta)$$\n",
    "\n",
    "$$r = \\sqrt{x^{2}+b^{2}}$$\n",
    "\n",
    "$$x = v_{x} t$$\n",
    "\n",
    "$$sin(\\theta) = \\frac{b}{r}$$\n",
    "\n",
    "Substitute into the first equation and integrate from t = $-\\inf$ to $\\inf$:\n",
    "\n",
    "$$\\frac{dv}{dt} = \\frac{G M}{(v_{x} t)^{2} + b^{2}} \\frac{b}{((v_{x} t)^{2} + b^{2})^{\\frac{1}{2}}}$$\n",
    "\n",
    "$$v_{y} = \\frac{2 G M}{v_{x} b}$$"
   ]
  },
  {
   "cell_type": "markdown",
   "metadata": {},
   "source": [
    "use $v_{x} = c$ for a photon:\n",
    "\n",
    "$$tan(\\alpha) = \\frac{v_{y}}{v_{x}} \\approx \\alpha$$ using the small angle formula.\n",
    "\n",
    "Classical deflection angle:\n",
    "    $$\\alpha = \\frac{2 G M}{c^{2} b}$$\n",
    "Relativistic deflection angle:\n",
    "    $$\\alpha = \\frac{4 G M}{c^{2} b}$$"
   ]
  },
  {
   "cell_type": "markdown",
   "metadata": {},
   "source": [
    "2(b)"
   ]
  },
  {
   "cell_type": "code",
   "execution_count": 1,
   "metadata": {
    "collapsed": false
   },
   "outputs": [
    {
     "name": "stdout",
     "output_type": "stream",
     "text": [
      "4.24735799792e-06 \n",
      "0.876106781589 \n",
      "8.49471599584e-06 \n",
      "1.75221356318 \n"
     ]
    }
   ],
   "source": [
    "import numpy as np\n",
    "import matplotlib.pyplot as plt\n",
    "from scipy.integrate import odeint\n",
    "import astropy.constants as const\n",
    "import astropy.units as u\n",
    "\n",
    "\n",
    "#2(b)\n",
    "\n",
    "aClassic = 2*const.M_sun*const.G/(const.c**2*const.R_sun)\n",
    "print aClassic #in radians\n",
    "\n",
    "print aClassic*206271 \n",
    "\n",
    "a = 4*const.M_sun*const.G/(const.c**2*const.R_sun)\n",
    "print a #in radians\n",
    "\n",
    "print a*206271"
   ]
  },
  {
   "cell_type": "markdown",
   "metadata": {},
   "source": [
    "3"
   ]
  },
  {
   "cell_type": "code",
   "execution_count": 2,
   "metadata": {
    "collapsed": false
   },
   "outputs": [
    {
     "name": "stdout",
     "output_type": "stream",
     "text": [
      "5.91967272283e+42 kg\n"
     ]
    }
   ],
   "source": [
    "import numpy as np\n",
    "import matplotlib.pyplot as plt\n",
    "from scipy.integrate import odeint\n",
    "import astropy.constants as const\n",
    "import astropy.units as u\n",
    "\n",
    "#actually put derivation in here\n",
    "#M = Dd*Ds/(Dds) * c^2/(4*G)*theta**2\n",
    "theta = (5.35+.8)/(2*206271)\n",
    "Dd = 1047.3*3.08e22*u.meter\n",
    "Ds = 1768.2*3.08e22*u.meter\n",
    "Dds = Ds - Dd\n",
    "\n",
    "M = Dd*Ds/(Dds) * const.c**2/(4*const.G)*theta**2\n",
    "\n",
    "print M"
   ]
  },
  {
   "cell_type": "markdown",
   "metadata": {},
   "source": [
    "4(a) There are many rays that would end up at the origin in the source plane. There should be rays coming from a circle with an angular radius of $\\theta$, not just the one as illustrated in the image. These rays form an Einstien ring."
   ]
  },
  {
   "cell_type": "markdown",
   "metadata": {},
   "source": [
    "4(b),(c),(d)"
   ]
  },
  {
   "cell_type": "code",
   "execution_count": 3,
   "metadata": {
    "collapsed": false
   },
   "outputs": [
    {
     "data": {
      "image/png": "[encoded data removed]",
      "text/plain": [
       "<matplotlib.figure.Figure at 0x7fad144fac90>"
      ]
     },
     "metadata": {},
     "output_type": "display_data"
    }
   ],
   "source": [
    "import numpy as np\n",
    "import matplotlib.pyplot as plt\n",
    "%matplotlib inline\n",
    "import astropy.constants as const\n",
    "import astropy.units as u\n",
    "#import itertools\n",
    "\n",
    "#beta = theta - Dds/Ds * alpha_hat\n",
    "#def vectorr(I,  J):\n",
    "#return itertools.product(range(K), range(J), range(I))\n",
    "\n",
    "theta = (5.35+.8)/(2.*206271.)\n",
    "Dd = 1047.3*3.08e22\n",
    "Ds = 1768.2*3.08e22\n",
    "Dds = Ds - Dd\n",
    "M = 5.9197e42 #from question 3\n",
    "G = const.G.value\n",
    "c = const.c.value\n",
    "\n",
    "#define one pixel as being 0.05 arsecs\n",
    "pix = 0.05\n",
    "\n",
    "#define distance ratio D:\n",
    "D = Dds/(Ds*Dd)\n",
    "\n",
    "#I tried numpy meshgrid but this method still runs faster\n",
    "\n",
    "fig = plt.figure(1, figsize=(10,10))\n",
    "\n",
    "def get_beta(xcenter, ycenter, radius, size):\n",
    "    \n",
    "    betaX = np.arange(size)\n",
    "    betaY = np.arange(size)\n",
    "\n",
    "    for i in np.nditer(betaX):\n",
    "        for j in np.nditer(betaY):\n",
    "            y = betaX[i]-xcenter\n",
    "            x = betaY[j]-ycenter\n",
    "    \n",
    "            if(y == 0):\n",
    "                by = 0\n",
    "            else:\n",
    "                t = np.arctan2(y, x)\n",
    "                by = y*pix - 206271.*D*4.*G*M/(c**2*(x**2 + y**2)**(1./2.)*4.85e-6*pix)*np.sin(t)\n",
    "        \n",
    "            if(x == 0): \n",
    "                bx = 0\n",
    "            else:\n",
    "                t = np.arctan2(y, x)\n",
    "                bx = x*pix - 206271.*D*4.*G*M/(c**2*(x**2 + y**2)**(1./2.)*4.85e-6*pix)*np.cos(t)   \n",
    "        \n",
    "            r = (bx**2. + by**2.)**(1./2.)\n",
    "            #print r\n",
    "            if((xcenter - radius) < r < (xcenter + radius)):            \n",
    "                plt.scatter(j, i, marker='x', c='black')\n",
    "                \n",
    "    plt.show()\n",
    "    \n",
    "size = 100  #unable to run on jupyter with much larger than a 100 by 100 array\n",
    "get_beta(size/2., size/2., 10, size)    \n",
    "    "
   ]
  },
  {
   "cell_type": "markdown",
   "metadata": {},
   "source": [
    "5(a)"
   ]
  },
  {
   "cell_type": "markdown",
   "metadata": {},
   "source": [
    "$\\tau$ is is the scattering depth of particles, also known as the optical depth and $\\sigma$ is the cross section of the particle.\n",
    "The surface mass density of the material $\\Sigma$ is the number density times the length of the path timesthe mass of each particle.\n",
    "$$\\Sigma = n L m$$\n",
    "Using dimensional analysis, the total area blocked by the particles will be $\\frac{\\sigma A \\Sigma}{m}$. The scattering depth related to the fraction of the light blocked per unit area.\n",
    "$$\\tau = \\frac{\\sigma \\Sigma}{m}$$"
   ]
  },
  {
   "cell_type": "markdown",
   "metadata": {},
   "source": [
    "5(b)"
   ]
  },
  {
   "cell_type": "markdown",
   "metadata": {},
   "source": [
    "The scattering depth of the particles approches zero because the particles do not scatter at a detectable level. Therefore $\\frac{\\sigma}{m}$ is very small, meaning that dark matter has a very large mass relative to the size of the particles.  "
   ]
  }
 ],
 "metadata": {
  "kernelspec": {
   "display_name": "Python 2",
   "language": "python",
   "name": "python2"
  },
  "language_info": {
   "codemirror_mode": {
    "name": "ipython",
    "version": 2
   },
   "file_extension": ".py",
   "mimetype": "text/x-python",
   "name": "python",
   "nbconvert_exporter": "python",
   "pygments_lexer": "ipython2",
   "version": "2.7.6"
  }
 },
 "nbformat": 4,
 "nbformat_minor": 0
}
