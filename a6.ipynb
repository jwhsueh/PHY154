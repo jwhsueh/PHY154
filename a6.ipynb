{
 "cells": [
  {
   "cell_type": "code",
   "execution_count": 3,
   "metadata": {
    "collapsed": true
   },
   "outputs": [],
   "source": [
    "import numpy as np\n",
    "import matplotlib.pyplot as plt\n",
    "from astropy import constants as const\n",
    "from astropy import units as u\n",
    "from scipy.integrate import odeint"
   ]
  },
  {
   "cell_type": "code",
   "execution_count": 101,
   "metadata": {
    "collapsed": false,
    "scrolled": true
   },
   "outputs": [
    {
     "name": "stdout",
     "output_type": "stream",
     "text": [
      "Part a\n",
      "H0 from both data are  374.29190901 , 71.4095638428 , with unit km/sec/Mpc\n"
     ]
    },
    {
     "data": {
      "image/png": "[encoded data removed]",
      "text/plain": [
       "<matplotlib.figure.Figure at 0x7f2077afaf50>"
      ]
     },
     "metadata": {},
     "output_type": "display_data"
    },
    {
     "name": "stdout",
     "output_type": "stream",
     "text": [
      "Part c\n",
      "If the universe is accelerating while expanding, slope should gradually decrease.\n",
      "If the universe is decelerating while expanding, slope should gradually increase.\n",
      "From the plot, the universe seems to be at constant expanding rate.\n"
     ]
    }
   ],
   "source": [
    "#Problem 1\n",
    "print 'Part a'\n",
    "d1=[0.03, 0.03, 0.22, 0.26, 0.28, 0.28, 0.44, 0.5, 0.5, 0.63, 0.79, 0.87, 0.91, 0.87, 0.91, 1, 1.1, 1.1, 1.38, 1.74, 2, 2, 2.004, 2]\n",
    "d2=[]\n",
    "v1=[170, 290, 130, 70, 185, 220, 200, 290, 270, 200, 300, 30, 650, 150, 500, 920, 450, 500, 500, 960, 500, 850, 800, 1090]\n",
    "v2=[32438.4, 53502, 49381.2, 53794.2, 53568.6, 48844.2]\n",
    "v2.append(49990.5)\n",
    "v2.append(39020.4)\n",
    "v2.append(50575.2)\n",
    "v2.append(50916.6)\n",
    "v2.append(37451.4)\n",
    "v2.append(37335.6)\n",
    "v2.append(50627.4)\n",
    "v2.append(28613.4)\n",
    "v2.append(111771)\n",
    "v2.append(53913)\n",
    "v2.append(39033)\n",
    "v2.append(31892.7)\n",
    "v2.append(31508.4)\n",
    "v2.append(39343.2)\n",
    "v2.append(48418.2)\n",
    "v2.append(38887.8)\n",
    "v2.append(39373.2)\n",
    "v2.append(44216.1)\n",
    "v2.append(43655.4)\n",
    "v2.append(34560)\n",
    "v2.append(47784.3)\n",
    "v2.append(10465.5)\n",
    "v2.append(24314.1)\n",
    "v2.append(31394.4)\n",
    "v2.append(20893.2)\n",
    "v2.append(34483.8)\n",
    "v2.append(40906.2)\n",
    "v2.append(43901.1)\n",
    "v2.append(41482.2)\n",
    "v2.append(24328.5)\n",
    "v2.append(41626.2)\n",
    "v2.append(31828.5)\n",
    "v2.append(7349.7)\n",
    "v2.append(44318.7)\n",
    "v2.append(7496.7)\n",
    "v2.append(22999.5)\n",
    "v2.append(23995.8)\n",
    "v2.append(24180.3)\n",
    "v2.append(32014.8)\n",
    "v2.append(48899.7)\n",
    "v2.append(48982.8)\n",
    "v2.append(24133.5)\n",
    "v2.append(32212.5)\n",
    "v2.append(32488.2)\n",
    "v2.append(28473.3)\n",
    "v2.append(50879.7)\n",
    "v2.append(38084.1)\n",
    "v2.append(32294.4)\n",
    "v2.append(28588.8)\n",
    "v2.append(32940.6)\n",
    "v2.append(32700.9)\n",
    "v2.append(31461)\n",
    "v2.append(48847.5)\n",
    "v2.append(43787.7)\n",
    "v2.append(31143)\n",
    "v2.append(22952.7)\n",
    "v2.append(25467.9)\n",
    "v2.append(32814.3)\n",
    "v2.append(23698.8)\n",
    "v2.append(24246.3)\n",
    "v2.append(38095.8)\n",
    "v2.append(24615)\n",
    "v2.append(42468.3)\n",
    "v2.append(24562.8)\n",
    "v2.append(35012.1)\n",
    "v2.append(28461.6)\n",
    "v2.append(33501)\n",
    "v2.append(39369.3)\n",
    "v2.append(23451)\n",
    "v2.append(14546.7)\n",
    "\n",
    "d2.append(455.0802626)\n",
    "d2.append(513.423331)\n",
    "d2.append(576.2840505)\n",
    "d2.append(585.112532)\n",
    "d2.append(523.5059234)\n",
    "d2.append(602.9423649)\n",
    "d2.append(621.0457584)\n",
    "d2.append(476.0406067)\n",
    "d2.append(518.0315373)\n",
    "d2.append(510.7295663)\n",
    "d2.append(446.1683918)\n",
    "d2.append(436.8834569)\n",
    "d2.append(584.3760385)\n",
    "d2.append(393.3092858)\n",
    "d2.append(921.7187029)\n",
    "d2.append(521.0214462)\n",
    "d2.append(496.3776287)\n",
    "d2.append(387.7673154)\n",
    "d2.append(438.2755062)\n",
    "d2.append(462.3263005)\n",
    "d2.append(503.9355539)\n",
    "d2.append(564.2427662)\n",
    "d2.append(526.1529382)\n",
    "d2.append(472.0126088)\n",
    "d2.append(591.4246207)\n",
    "d2.append(555.8745617)\n",
    "d2.append(754.6107713)\n",
    "d2.append(256.564403)\n",
    "d2.append(480.3305395)\n",
    "d2.append(548.3385762)\n",
    "d2.append(373.2152662)\n",
    "d2.append(600.9448255)\n",
    "d2.append(462.4700365)\n",
    "d2.append(624.4174049)\n",
    "d2.append(435.1245629)\n",
    "d2.append(526.6062388)\n",
    "d2.append(542.4443625)\n",
    "d2.append(522.3297953)\n",
    "d2.append(196.2077692)\n",
    "d2.append(548.1603265)\n",
    "d2.append(219.3920064)\n",
    "d2.append(478.2379103)\n",
    "d2.append(492.8030647)\n",
    "d2.append(450.2191876)\n",
    "d2.append(589.8111794)\n",
    "d2.append(641.2928532)\n",
    "d2.append(660.3664488)\n",
    "d2.append(473.6369764)\n",
    "d2.append(565.4439999)\n",
    "d2.append(464.7656258)\n",
    "d2.append(609.4114363)\n",
    "d2.append(663.2624335)\n",
    "d2.append(638.2346816)\n",
    "d2.append(564.8823432)\n",
    "d2.append(371.6269491)\n",
    "d2.append(568.2321474)\n",
    "d2.append(500.5017496)\n",
    "d2.append(450.4052043)\n",
    "d2.append(600.286256)\n",
    "d2.append(654.9543034)\n",
    "d2.append(474.4663315)\n",
    "d2.append(504.1015119)\n",
    "d2.append(477.6946749)\n",
    "d2.append(542.681729)\n",
    "d2.append(446.2029118)\n",
    "d2.append(404.0190099)\n",
    "d2.append(643.3851015)\n",
    "d2.append(423.7416955)\n",
    "d2.append(706.52706)\n",
    "d2.append(582.1278806)\n",
    "d2.append(531.3719192)\n",
    "d2.append(516.86628)\n",
    "d2.append(500.7380572)\n",
    "d2.append(557.1919072)\n",
    "d2.append(492.0678606)\n",
    "d2.append(335.5223076)\n",
    "\n",
    "for i in range(0, 10000):\n",
    "    d2.append(0)\n",
    "    v2.append(0)\n",
    "\n",
    "par1=np.polyfit(d1, v1, 1, full=True)\n",
    "slope1=par1[0][0]\n",
    "xl1=[min(d1), max(d1)]\n",
    "yl1=[slope1*xx for xx in xl1]\n",
    "xl1.append(0)\n",
    "yl1.append(0)\n",
    "\n",
    "par2=np.polyfit(d2, v2, 1, full=True)\n",
    "slope2=par2[0][0]\n",
    "intercept=0\n",
    "intercept=par2[0][1]\n",
    "xl2=[min(d2), max(d2)]\n",
    "yl2=[slope2*xx+intercept for xx in xl2]\n",
    "xl2.append(0)\n",
    "yl2.append(intercept)\n",
    "\n",
    "print 'H0 from both data are ', slope1, ',', slope2, ', with unit km/sec/Mpc'\n",
    "\n",
    "fig = plt.figure(1, figsize=(4,4))\n",
    "ax1 = fig.add_subplot(211)\n",
    "ax1.scatter(d1, v1)\n",
    "ax1.plot(xl1, yl1)\n",
    "plt.xlim(xmin=0)\n",
    "plt.ylim(ymin=0)\n",
    "ax2 = fig.add_subplot(212)\n",
    "ax2.scatter(d2, v2)\n",
    "ax2.plot(xl2, yl2)\n",
    "plt.xlim(xmin=0)\n",
    "plt.ylim(ymin=0)\n",
    "\n",
    "plt.show()\n",
    "\n",
    "print 'Part b'\n",
    "print 'The second data is pretty close to the 68 km/s/Mpc we have right now.'\n",
    "print 'Distance is very likely to be uncertain.'\n",
    "\n",
    "print 'Part c'\n",
    "print 'If the universe is accelerating while expanding, slope should gradually decrease.'\n",
    "print 'If the universe is decelerating while expanding, slope should gradually increase.'\n",
    "print 'From the plot, the universe seems to be at constant expanding rate.'\n"
   ]
  },
  {
   "cell_type": "code",
   "execution_count": 3,
   "metadata": {
    "collapsed": false
   },
   "outputs": [
    {
     "name": "stdout",
     "output_type": "stream",
     "text": [
      "F=GMm/r^2, M=4/3*pi*a^3\n",
      "a double dot=G*rho*4/3*pi*a\n"
     ]
    }
   ],
   "source": [
    "#Problem 2\n",
    "print 'Part a'\n",
    "print 'In very short distances can Newtonian approach be accurate.'\n",
    "print 'I think as long as we are leaving the solar system,'\n",
    "print 'Newtonian approach will be slightly off from reality.'\n",
    "\n",
    "print 'Part b'\n",
    "print 'a double dot=G*rho*4/3*pi*a'\n",
    "\n",
    "print 'Part c'\n",
    "print '1/2*v^2=-G*M*a^-1+constant.'\n",
    "\n",
    "print 'Part d'\n",
    "print 'I don\\'t see how the sign of a dot changes, my a dot should always be positive.'\n",
    "\n",
    "\n",
    "\n",
    "print 'F=GMm/r^2, M=4/3*pi*a^3'\n",
    "print 'a double dot=G*rho*4/3*pi*a'"
   ]
  },
  {
   "cell_type": "code",
   "execution_count": 23,
   "metadata": {
    "collapsed": false
   },
   "outputs": [
    {
     "name": "stdout",
     "output_type": "stream",
     "text": [
      "2.20372991684e-18 Hz 14379297377.5 yr\n"
     ]
    }
   ],
   "source": [
    "#Problem 3\n",
    "\n",
    "#H(a)=H0*sqrt(a**(-4)omegar+a**(-3)omegam+a**(-2)(1-omegam-omegalambda)+omegalambda)\n",
    "\n",
    "#dt=da/adot\n",
    "\n",
    "#t=integral from 0 to 1 of da/adot.\n",
    "\n",
    "#t= integral from 0 to 1 of 1/(a*H(a))\n",
    "\n",
    "#with only omegam=0.27\n",
    "\n",
    "#H(a) = H0*sqrt(a**(-3)*0.27+a**(-2)(1-0.27))\n",
    "\n",
    "# t= integral from 0 to 1 of 1/(H0*a*sqrt(0.27/a**3+0.73/a**2))\n",
    "\n",
    "#t=0.819/H0 = \n",
    "\n",
    "h0=(68*u.km/u.s/u.Mpc)\n",
    "h0=h0.to(u.Hz)\n",
    "h2=1/h0\n",
    "h2=h2.to(u.yr)\n",
    "print h0, h2\n",
    "\n",
    "#14.4 Gyr"
   ]
  },
  {
   "cell_type": "code",
   "execution_count": 10,
   "metadata": {
    "collapsed": false
   },
   "outputs": [
    {
     "name": "stdout",
     "output_type": "stream",
     "text": [
      "The following four plots are for Dc, Da, Dl, H(z), respectively.\n",
      "It is pretty strange that those measures of luminosity \n",
      "form different shapes.\n"
     ]
    },
    {
     "data": {
      "image/png": "[encoded data removed]",
      "text/plain": [
       "<matplotlib.figure.Figure at 0x7fa072251890>"
      ]
     },
     "metadata": {},
     "output_type": "display_data"
    }
   ],
   "source": [
    "#Problem 4\n",
    "\n",
    "omegar=8.4e-5\n",
    "omegam=0.27\n",
    "omegalambda=0.73\n",
    "\n",
    "#Dc=c/H0*integral from 0 to z dz/E(z)\n",
    "z0=np.linspace(1,5,1000)\n",
    "dz=5.0/1000.0\n",
    "Dc0=[]\n",
    "Dc=0\n",
    "Da0=[]\n",
    "Da=0\n",
    "Dl0=[]\n",
    "Dl=0\n",
    "for z in z0:\n",
    "    E=np.sqrt((1/(1+z))**(-4)*omegar+(1/(1+z))**(-3)*omegam+(1/(1+z))**(-2)*(1-omegam-omegalambda)+omegalambda)\n",
    "    dE=dz/E*const.c.value/const.h.value\n",
    "    Dc+=dE\n",
    "    Da=Dc/(1+z)\n",
    "    Dl=Dc*(1+z)\n",
    "    #print dE, Dc\n",
    "    Dc0.append(Dc)\n",
    "    Da0.append(Da)\n",
    "    Dl0.append(Dl)\n",
    "\n",
    "fig = plt.figure(1, figsize=(8,8))\n",
    "#print 'plot for Dc in SI unit:'\n",
    "ax1 = fig.add_subplot(411)\n",
    "ax1.plot(z0, Dc0)\n",
    "#print 'plot for Da in SI unit:'\n",
    "ax2 = fig.add_subplot(412)\n",
    "ax2.plot(z0, Da0)\n",
    "#print 'plot for Dl in SI unit:'\n",
    "ax3 = fig.add_subplot(413)\n",
    "ax3.plot(z0, Dl0)\n",
    "print 'The following four plots are for Dc, Da, Dl, H(z), respectively.'\n",
    "print 'It is pretty strange that those measures of luminosity '\n",
    "print 'form different shapes.'\n",
    "\n",
    "z1=np.linspace(1, 1000, 10000)\n",
    "Hz=[]\n",
    "\n",
    "for z in z1:\n",
    "    a = 1/(1+z)\n",
    "    H=const.h.value*np.sqrt(a**(-4)*8.4e-5+a**(-3)*0.27+a**(-2)*(1-0.27-0.73)+0.73)\n",
    "    Hz.append(H)\n",
    "    \n",
    "ax4 = fig.add_subplot(414)\n",
    "ax4.plot(z1, Hz)\n",
    "plt.show()"
   ]
  },
  {
   "cell_type": "code",
   "execution_count": 1,
   "metadata": {
    "collapsed": false
   },
   "outputs": [
    {
     "name": "stdout",
     "output_type": "stream",
     "text": [
      "test\n"
     ]
    }
   ],
   "source": [
    "print 'test'"
   ]
  },
  {
   "cell_type": "code",
   "execution_count": null,
   "metadata": {
    "collapsed": true
   },
   "outputs": [],
   "source": []
  }
 ],
 "metadata": {
  "kernelspec": {
   "display_name": "Python 2",
   "language": "python",
   "name": "python2"
  },
  "language_info": {
   "codemirror_mode": {
    "name": "ipython",
    "version": 2
   },
   "file_extension": ".py",
   "mimetype": "text/x-python",
   "name": "python",
   "nbconvert_exporter": "python",
   "pygments_lexer": "ipython2",
   "version": "2.7.6"
  }
 },
 "nbformat": 4,
 "nbformat_minor": 0
}
