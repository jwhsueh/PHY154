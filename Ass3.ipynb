{
 "cells": [
  {
   "cell_type": "code",
   "execution_count": 113,
   "metadata": {
    "collapsed": true
   },
   "outputs": [],
   "source": [
    "#Assignment 3"
   ]
  },
  {
   "cell_type": "code",
   "execution_count": 114,
   "metadata": {
    "collapsed": true
   },
   "outputs": [],
   "source": [
    "#a) - #e) on paper"
   ]
  },
  {
   "cell_type": "code",
   "execution_count": 202,
   "metadata": {
    "collapsed": false
   },
   "outputs": [
    {
     "name": "stdout",
     "output_type": "stream",
     "text": [
      "Populating the interactive namespace from numpy and matplotlib\n"
     ]
    }
   ],
   "source": [
    "%pylab inline"
   ]
  },
  {
   "cell_type": "code",
   "execution_count": 273,
   "metadata": {
    "collapsed": true
   },
   "outputs": [],
   "source": [
    "import numpy as np\n",
    "from astropy import constants as cn\n",
    "from astropy import units as un\n",
    "import matplotlib.pyplot as plt\n",
    "import scipy.integrate as spi\n",
    "from scipy.integrate import odeint"
   ]
  },
  {
   "cell_type": "code",
   "execution_count": 357,
   "metadata": {
    "collapsed": false
   },
   "outputs": [],
   "source": [
    "#defining constants\n",
    "a = 7.565e-16\n",
    "X = 0.7\n",
    "Y = 0.28\n",
    "Z = 0.2\n",
    "mu = 1.0 / (2.0*X +(3.0/4.0)*Y +2.0*Z)\n",
    "sigma = (cn.sigma_sb).value\n",
    "c = (cn.c).value\n",
    "G = (cn.G).value\n",
    "L_sun = (cn.L_sun).value\n",
    "R_sun = (cn.R_sun).value\n",
    "M_sun = (cn.M_sun).value\n",
    "kB = (cn.k_B).value\n",
    "pi = np.pi"
   ]
  },
  {
   "cell_type": "code",
   "execution_count": 358,
   "metadata": {
    "collapsed": false
   },
   "outputs": [],
   "source": [
    "def rhofunc(y, r):\n",
    "    Mr, Lr, T, P = y\n",
    "    rho0 = (P - a*T**4.0/3.0) * (mu/(kB*T))\n",
    "    return rho0"
   ]
  },
  {
   "cell_type": "code",
   "execution_count": 373,
   "metadata": {
    "collapsed": false
   },
   "outputs": [],
   "source": [
    "def kappa(y, r):\n",
    "    Mr, Lr, T, P = y\n",
    "    gbf = 1.0\n",
    "    gff = 1.0\n",
    "    t = 10.0\n",
    "    kbf=(4.3e21) * (gbf/t)* Z * (1.0+X) * (rhofunc(y, r) / np.power(T,3.5))\n",
    "    ke = 0.02 * (1.0 + X)\n",
    "    kff=(3.7e18) * gff * (1.0-Z) * (1.0+X) * (rhofunc(y, r) / np.power(T,3.5))\n",
    "    kappa0=((ke + kbf +kff)/3.0) * .01 #conversion\n",
    "    #kappa0=((kbf+kff+kbb) / 3.0) * 0.1 #conversion\n",
    "    return kappa0"
   ]
  },
  {
   "cell_type": "code",
   "execution_count": 374,
   "metadata": {
    "collapsed": false
   },
   "outputs": [],
   "source": [
    "def epsilon(y, r):\n",
    "    Mr, Lr, T, P = y\n",
    "    epsKnot_pp = 1.08e-12\n",
    "    epsKnot_cno = 8.24e-31\n",
    "    X_h = 0.64\n",
    "    X_cno = 0.34\n",
    "    eps_pp = epsKnot_pp * rhofunc(y, r) * X_h**2 * (T / 1e6)**4.0\n",
    "    eps_cno = epsKnot_cno * rhofunc(y, r) * X_h * X_cno * (T / 1e6)**(19.9)\n",
    "    eps0 = eps_pp + eps_cno\n",
    "    return eps0"
   ]
  },
  {
   "cell_type": "code",
   "execution_count": 375,
   "metadata": {
    "collapsed": true
   },
   "outputs": [],
   "source": [
    "def dm_dr(y, r):\n",
    "    Mr, Lr, T, P = y\n",
    "    dmdr0 = 4.0 * rhofunc(y, r) * pi * r**2\n",
    "    return dmdr0"
   ]
  },
  {
   "cell_type": "code",
   "execution_count": 376,
   "metadata": {
    "collapsed": false
   },
   "outputs": [],
   "source": [
    "def dp_dr(y, r):\n",
    "    Mr, Lr, T, P = y\n",
    "    dpdr0 = -(G * M_sun * rhofunc(y, r)) / r**2\n",
    "    return dpdr0"
   ]
  },
  {
   "cell_type": "code",
   "execution_count": 377,
   "metadata": {
    "collapsed": false
   },
   "outputs": [],
   "source": [
    "def dl_dr(y, r):\n",
    "    Mr, Lr, T, P = y\n",
    "    dldr0 = 4.0 * epsilon(y, r) * rhofunc(y, r) * pi * r**2\n",
    "    return dldr0"
   ]
  },
  {
   "cell_type": "code",
   "execution_count": 378,
   "metadata": {
    "collapsed": true
   },
   "outputs": [],
   "source": [
    "def dt_dr(y, r):\n",
    "    Mr, Lr, T, P = y\n",
    "    dtdr0 = -(3.0* kappa(y, r) * rhofunc(y, r) * Lr) / (16.0 * a * c * T**3 * pi * r**2)\n",
    "    return dtdr0"
   ]
  },
  {
   "cell_type": "code",
   "execution_count": 379,
   "metadata": {
    "collapsed": true
   },
   "outputs": [],
   "source": [
    "def main(y, r):\n",
    "    Mr, Lr, T, P = y\n",
    "    DiffEQs = [dm_dr(y,r), dl_dr(y,r), dt_dr(y,r), dp_dr(y,r)]\n",
    "    return DiffEQs"
   ]
  },
  {
   "cell_type": "code",
   "execution_count": 380,
   "metadata": {
    "collapsed": true
   },
   "outputs": [],
   "source": [
    "#initial conditions\n",
    "T_knot = 15.6e6\n",
    "Lr_knot = 0.0\n",
    "P_knot = 2.3e16\n",
    "Mr_knot = 0.0\n",
    "y_knot = [Mr_knot, Lr_knot, T_knot, P_knot]"
   ]
  },
  {
   "cell_type": "code",
   "execution_count": 381,
   "metadata": {
    "collapsed": true
   },
   "outputs": [],
   "source": [
    "#make radius array for solution\n",
    "r = np.logspace(np.log10(0.01 * R_sun), np.log10(R_sun), num = 100)"
   ]
  },
  {
   "cell_type": "code",
   "execution_count": 382,
   "metadata": {
    "collapsed": false
   },
   "outputs": [
    {
     "name": "stdout",
     "output_type": "stream",
     "text": [
      "Excess work done on this call (perhaps wrong Dfun type).\n",
      "Run with full_output = 1 to get quantitative information.\n",
      "[[  0.00000000e+000   0.00000000e+000   1.56000000e+007   2.30000000e+016]\n",
      " [  1.34899922e+001   4.81971550e+025   1.43115878e+006   2.30000000e+016]\n",
      " [  9.88131292e-323   6.90424490e-310   6.90412551e-310   9.88131292e-324]\n",
      " [  6.90412551e-310   7.35566515e-316   9.88131292e-324   9.88131292e-323]\n",
      " [  6.90424606e-310   6.90412551e-310   4.94065646e-324   7.35567977e-316]\n",
      " [  9.88131292e-323   1.69759663e-313   1.48219694e-323   7.35567384e-316]\n",
      " [  7.35567661e-316   7.35567937e-316   9.88131292e-323   6.90427218e-310]\n",
      " [  4.94065646e-324   6.90412551e-310   6.90427218e-310   4.94065646e-324]\n",
      " [  3.18299369e-313   6.90412551e-310   6.90424490e-310   3.18299369e-313]\n",
      " [  6.90412551e-310   6.90424490e-310   3.39519327e-313   4.45619116e-313]\n",
      " [  9.88131292e-323   6.90427219e-310   4.45619116e-313   6.90412551e-310]\n",
      " [  6.90427219e-310   3.39519327e-313   6.15378779e-313   0.00000000e+000]\n",
      " [  0.00000000e+000   6.15378779e-313   7.35566949e-316   7.35567226e-316]\n",
      " [  7.35568214e-316   0.00000000e+000   0.00000000e+000   1.69759663e-313]\n",
      " [  1.69759663e-313   7.35566594e-316   7.35568293e-316   7.35568333e-316]\n",
      " [  6.90424537e-310   9.88131292e-324   4.94065646e-324   7.35566515e-316]\n",
      " [  7.35568926e-316   9.88131292e-323   6.90424490e-310   4.94065646e-324]\n",
      " [  5.30498948e-313   0.00000000e+000   0.00000000e+000   1.27319747e-313]\n",
      " [  3.45845952e-323   0.00000000e+000   7.35568847e-316   4.94065646e-324]\n",
      " [  0.00000000e+000   1.48219694e-323   4.94065646e-324   7.35566515e-316]\n",
      " [  4.94065646e-324   6.90426996e-310   4.94065646e-324   2.47032823e-323]\n",
      " [  8.48798316e-313   8.89318163e-323   7.35569439e-316   6.90427093e-310]\n",
      " [  4.94065646e-324   6.90427093e-310   2.12199579e-313   8.48798316e-313]\n",
      " [  4.94065646e-324   7.35570072e-316   9.88131292e-323   6.90424537e-310]\n",
      " [  4.94065646e-324   0.00000000e+000   9.88131292e-323   6.90424537e-310]\n",
      " [  1.03977794e-312   0.00000000e+000   0.00000000e+000   6.90412551e-310]\n",
      " [  7.35569716e-316   7.35569993e-316   7.35570348e-316   0.00000000e+000]\n",
      " [  0.00000000e+000   8.48798316e-313   4.94065646e-324   7.35571060e-316]\n",
      " [  6.90412551e-310   2.10109598e-316   6.90412551e-310   2.25066210e-316]\n",
      " [  0.00000000e+000   4.45619116e-313   1.33685735e-312   6.90427095e-310]\n",
      " [  7.35570783e-316   6.91691904e-323   7.35567226e-316   7.35567503e-316]\n",
      " [  7.35570704e-316   0.00000000e+000   0.00000000e+000   8.48798316e-314]\n",
      " [  2.47032823e-323   7.35566594e-316   7.35571139e-316   7.35567621e-316]\n",
      " [  0.00000000e+000   9.88131292e-324   8.48798316e-314   7.35566515e-316]\n",
      " [  7.35566594e-316   7.35571416e-316   5.72938864e-313   7.63918485e-313]\n",
      " [  9.88131292e-324   4.94065646e-324   7.35566515e-316   7.35572088e-316]\n",
      " [  7.35572364e-316   6.90412551e-310   1.90979621e-313   2.47032823e-323]\n",
      " [  7.35570230e-316   7.35571890e-316   7.00258611e-313   7.00258611e-313]\n",
      " [  2.96439388e-323   6.90412551e-310   7.35566515e-316   6.90423429e-310]\n",
      " [  2.25066071e-316   7.42698527e-313   7.42698527e-313   0.00000000e+000]\n",
      " [  0.00000000e+000   6.91691904e-323   7.35571692e-316   7.35571969e-316]\n",
      " [  7.35572641e-316   0.00000000e+000   0.00000000e+000   5.72938864e-313]\n",
      " [  9.88131292e-323   6.90424490e-310   4.94065646e-324   8.27578358e-313]\n",
      " [  8.27578358e-313   9.88131292e-324   8.27578358e-313   9.88131292e-324]\n",
      " [  7.35573392e-316   7.35573669e-316   6.90412551e-310   6.90427215e-310]\n",
      " [  4.94065646e-324   4.94065646e-324   3.45845952e-323   9.54898106e-313]\n",
      " [  9.54898106e-313   6.90412551e-310   6.90427219e-310   6.90412551e-310]\n",
      " [  2.25066704e-316               nan   9.97338022e-313   9.97338022e-313]\n",
      " [  0.00000000e+000   0.00000000e+000   6.91691904e-323   7.35572997e-316]\n",
      " [  7.35573273e-316   7.35573945e-316   0.00000000e+000   0.00000000e+000]\n",
      " [  8.27578358e-313   9.88131292e-323   6.90424490e-310   6.90412551e-310]\n",
      " [  1.08221785e-312   1.08221785e-312   9.88131292e-324   1.08221785e-312]\n",
      " [  9.88131292e-324   7.35574696e-316   7.35574973e-316   6.90412551e-310]\n",
      " [  6.90427215e-310   6.90412551e-310   4.94065646e-324   1.33685735e-312]\n",
      " [  1.20953760e-312   1.20953760e-312   6.90412551e-310   6.90427219e-310]\n",
      " [  4.94065646e-324   1.48219694e-323   7.35574736e-316   1.25197752e-312]\n",
      " [  1.25197752e-312   0.00000000e+000   0.00000000e+000   6.91691904e-323]\n",
      " [  7.35574301e-316   7.35574578e-316   7.35575250e-316   0.00000000e+000]\n",
      " [  0.00000000e+000   1.08221785e-312   1.03753786e-322   7.35570190e-316]\n",
      " [  4.94065646e-324   2.97079411e-313   2.97079411e-313   2.47032823e-323]\n",
      " [  2.97079411e-313   2.47032823e-323   7.35569835e-316   7.35575605e-316]\n",
      " [  8.48798317e-314   6.90412551e-310   8.48798317e-314   9.88131292e-323]\n",
      " [  6.90424490e-310   4.94065646e-324   1.57027689e-312   2.33419537e-313]\n",
      " [  1.48219694e-323   2.33419537e-313   1.48219694e-323   7.35576119e-316]\n",
      " [  8.91238232e-313   8.48798317e-314   1.50661701e-312   8.48798317e-314]\n",
      " [  0.00000000e+000   0.00000000e+000   4.94065646e-324   6.90427218e-310]\n",
      " [  7.35567345e-316   7.35567503e-316   7.35576633e-316   4.94065646e-324]\n",
      " [  1.10343781e-312   7.35566515e-316   1.10343781e-312   1.65515672e-312]\n",
      " [  1.65515672e-312   9.88131292e-324   1.65515672e-312   9.88131292e-324]\n",
      " [  7.35576673e-316   1.18831764e-312   7.35576949e-316   1.61271680e-312]\n",
      " [  6.90412551e-310   1.61271680e-312   1.10343781e-312   6.90427219e-310]\n",
      " [  1.10343781e-312   1.76125651e-312   1.76125651e-312   7.90505033e-323]\n",
      " [  1.76125651e-312   1.31563739e-312   2.10101534e-316   1.31563739e-312]\n",
      " [  1.82491638e-312   1.82491638e-312   9.88131292e-324   1.82491638e-312]\n",
      " [  9.88131292e-324   7.35577503e-316   1.08221785e-312   7.35577779e-316]\n",
      " [  1.76125651e-312   9.88131292e-324   1.76125651e-312   9.88131292e-324]\n",
      " [  7.35577226e-316   1.03977794e-312   7.35578056e-316   1.71881659e-312]\n",
      " [  9.88131292e-324   1.71881659e-312   9.88131292e-324   6.87788786e-320]\n",
      " [  6.90427199e-310   8.73275574e-316   0.00000000e+000   0.00000000e+000]\n",
      " [  2.54639495e-313   2.47032823e-323   7.35569835e-316   7.35578609e-316]\n",
      " [  8.48798317e-314   6.90412551e-310   8.48798317e-314   9.88131292e-323]\n",
      " [  6.90424490e-310   4.94065646e-324   4.94065646e-324   2.33419537e-313]\n",
      " [  8.48798317e-314   2.33419537e-313   1.48219694e-323   7.35579123e-316]\n",
      " [  6.90412551e-310   8.48798317e-314   5.94158821e-313   8.48798317e-314]\n",
      " [  0.00000000e+000   0.00000000e+000   4.94065646e-324   6.90424490e-310]\n",
      " [  7.35567345e-316   7.35567503e-316   7.35579637e-316   4.94065646e-324]\n",
      " [  2.75859453e-313   7.35566515e-316   7.63918485e-313   8.48798317e-314]\n",
      " [  6.90427219e-310   4.94065646e-324   1.90979621e-313   5.51718906e-313]\n",
      " [  9.88131292e-324   8.27578359e-313   0.00000000e+000   0.00000000e+000]\n",
      " [  6.91691904e-323   7.35579400e-316   7.35579676e-316   7.35580348e-316]\n",
      " [  0.00000000e+000   0.00000000e+000   5.94158822e-313   7.21478569e-313]\n",
      " [  7.35579123e-316   6.90412551e-310   7.35580427e-316   2.97079411e-313]\n",
      " [  4.88059032e-313   2.97079411e-313   7.85138443e-313   6.90424490e-310]\n",
      " [  4.94065646e-324   7.35580269e-316   9.33678148e-313   9.88131292e-324]\n",
      " [  9.33678148e-313   5.51718906e-313   7.35580704e-316   1.48219694e-323]\n",
      " [  7.35580981e-316   8.91238232e-313   1.90979621e-313   8.91238232e-313]\n",
      " [  2.75859453e-313   6.90424490e-310   6.90412551e-310   4.94065646e-324]\n",
      " [  1.06099790e-312   9.88131292e-324   1.06099790e-312   8.91238232e-313]\n",
      " [  7.35581257e-316   1.48219694e-323   7.35581534e-316   1.01855798e-312]\n",
      " [  9.88131292e-323   1.01855798e-312   9.97338022e-313   6.90427218e-310]]\n"
     ]
    }
   ],
   "source": [
    "#call the ODE solver\n",
    "rsolN = odeint(main, y_knot, r)\n",
    "print rsolN"
   ]
  },
  {
   "cell_type": "code",
   "execution_count": 383,
   "metadata": {
    "collapsed": false
   },
   "outputs": [
    {
     "data": {
      "text/plain": [
       "<matplotlib.text.Text at 0x7f1883202b10>"
      ]
     },
     "execution_count": 383,
     "metadata": {},
     "output_type": "execute_result"
    },
    {
     "data": {
      "image/png": "[encoded data removed]",
      "text/plain": [
       "<matplotlib.figure.Figure at 0x7f188329b610>"
      ]
     },
     "metadata": {},
     "output_type": "display_data"
    }
   ],
   "source": [
    "#plot dmdr\n",
    "fig = plt.figure(1, figsize=(8,8))\n",
    "dmdrGraph = fig.add_subplot(411)\n",
    "dmdrGraph.plot(r, rsolN[:,0])\n",
    "dmdrGraph.set_xlabel('Radius [m]')\n",
    "dmdrGraph.set_ylabel('Mass [kg]')\n",
    "dmdrGraph.set_title('Mass as a Function of Radius')"
   ]
  },
  {
   "cell_type": "code",
   "execution_count": 384,
   "metadata": {
    "collapsed": false
   },
   "outputs": [
    {
     "data": {
      "text/plain": [
       "<matplotlib.text.Text at 0x7f1883135dd0>"
      ]
     },
     "execution_count": 384,
     "metadata": {},
     "output_type": "execute_result"
    },
    {
     "data": {
      "image/png": "[encoded data removed]",
      "text/plain": [
       "<matplotlib.figure.Figure at 0x7f1883172a90>"
      ]
     },
     "metadata": {},
     "output_type": "display_data"
    }
   ],
   "source": [
    "#plot dpdr\n",
    "fig = plt.figure(2, figsize=(8,8))\n",
    "dpdrGraph = fig.add_subplot(412)\n",
    "dpdrGraph.plot(r, rsolN[:,1])\n",
    "dpdrGraph.set_xlabel('Radius [m]')\n",
    "dpdrGraph.set_ylabel('Pressure [N/m^2]')\n",
    "dpdrGraph.set_title('Pressure as a Function of Radius')"
   ]
  },
  {
   "cell_type": "code",
   "execution_count": 385,
   "metadata": {
    "collapsed": false
   },
   "outputs": [
    {
     "data": {
      "text/plain": [
       "<matplotlib.text.Text at 0x7f18830e5f10>"
      ]
     },
     "execution_count": 385,
     "metadata": {},
     "output_type": "execute_result"
    },
    {
     "data": {
      "image/png": "[encoded data removed]",
      "text/plain": [
       "<matplotlib.figure.Figure at 0x7f1883129a90>"
      ]
     },
     "metadata": {},
     "output_type": "display_data"
    }
   ],
   "source": [
    "#plot dtdr\n",
    "fig = plt.figure(3, figsize=(8,8))\n",
    "dtdrGraph = fig.add_subplot(413)\n",
    "dtdrGraph.plot(r, rsolN[:,2])\n",
    "dtdrGraph.set_xlabel('Radius [m]')\n",
    "dtdrGraph.set_ylabel('Temperature [K]')\n",
    "dtdrGraph.set_title('Temperature as a Function of Radius')"
   ]
  },
  {
   "cell_type": "code",
   "execution_count": 386,
   "metadata": {
    "collapsed": false
   },
   "outputs": [
    {
     "data": {
      "text/plain": [
       "<matplotlib.text.Text at 0x7f1883024810>"
      ]
     },
     "execution_count": 386,
     "metadata": {},
     "output_type": "execute_result"
    },
    {
     "data": {
      "image/png": "[encoded data removed]",
      "text/plain": [
       "<matplotlib.figure.Figure at 0x7f1883058c90>"
      ]
     },
     "metadata": {},
     "output_type": "display_data"
    }
   ],
   "source": [
    "#plot dldr\n",
    "fig = plt.figure(4, figsize=(8,8))\n",
    "dldrGraph = fig.add_subplot(414)\n",
    "dldrGraph.plot(r, rsolN[:,3])\n",
    "dldrGraph.set_xlabel('Radius [m]')\n",
    "dldrGraph.set_ylabel('Luminosity [W]')\n",
    "dldrGraph.set_title('Luminosity as a Function of Radius')"
   ]
  },
  {
   "cell_type": "code",
   "execution_count": null,
   "metadata": {
    "collapsed": true
   },
   "outputs": [],
   "source": []
  },
  {
   "cell_type": "code",
   "execution_count": null,
   "metadata": {
    "collapsed": true
   },
   "outputs": [],
   "source": []
  }
 ],
 "metadata": {
  "kernelspec": {
   "display_name": "Python 2",
   "language": "python",
   "name": "python2"
  },
  "language_info": {
   "codemirror_mode": {
    "name": "ipython",
    "version": 2
   },
   "file_extension": ".py",
   "mimetype": "text/x-python",
   "name": "python",
   "nbconvert_exporter": "python",
   "pygments_lexer": "ipython2",
   "version": "2.7.6"
  }
 },
 "nbformat": 4,
 "nbformat_minor": 0
}
