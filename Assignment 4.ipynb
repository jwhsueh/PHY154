{
 "cells": [
  {
   "cell_type": "code",
   "execution_count": 4,
   "metadata": {
    "collapsed": false
   },
   "outputs": [
    {
     "name": "stdout",
     "output_type": "stream",
     "text": [
      "For 1aThe merry-go round modle is A while the planetary orbit is C the respective velocities are A: v(r) = rw B: v(r) ~ sqrt(r) C: v(r) = sqrt(GM/r) and D: v(r) ~ r^2\n",
      "for 1b see a flat rotation curve such that as one moves outward the rotation curve becomes near constant which opposes the expectedcenter dominant mass becoming closer to rwsinO like a sperical projection\n",
      "No there is a discrepancy in the mass dominant portion of the galaxy.  The rotation curve suggests a large spherical distribution of additional matter that leads to the idea of Dark matter not visually accounted for by the original model\n",
      "For 2c we do not account for the dark matter compnent thus the outcome not going to constant.  We are missing mass needed for the observed curve.\n",
      "For 2d the approximate total mass should be around 5.755E11 solar masses and about 60 kpc diameter.  The halo model is more accurate for the dark matter component but for all of them the Plumber sphere is closest as the DM sphere is projected to be uniform\n",
      "Excess work done on this call (perhaps wrong Dfun type).\n",
      "Run with full_output = 1 to get quantitative information.\n",
      "Excess work done on this call (perhaps wrong Dfun type).\n",
      "Run with full_output = 1 to get quantitative information.\n",
      "Excess work done on this call (perhaps wrong Dfun type).\n",
      "Run with full_output = 1 to get quantitative information.\n"
     ]
    },
    {
     "name": "stderr",
     "output_type": "stream",
     "text": [
      "ERROR: Line magic function `%inline` not found.\n"
     ]
    },
    {
     "ename": "ValueError",
     "evalue": "object too deep for desired array",
     "output_type": "error",
     "traceback": [
      "\u001b[1;31m---------------------------------------------------------------------------\u001b[0m",
      "\u001b[1;31mValueError\u001b[0m                                Traceback (most recent call last)",
      "\u001b[1;32m<ipython-input-4-2f02401b228b>\u001b[0m in \u001b[0;36m<module>\u001b[1;34m()\u001b[0m\n\u001b[0;32m     49\u001b[0m         \u001b[1;32mreturn\u001b[0m \u001b[1;36m2\u001b[0m\u001b[1;33m*\u001b[0m\u001b[0mnp\u001b[0m\u001b[1;33m.\u001b[0m\u001b[0mpi\u001b[0m\u001b[1;33m*\u001b[0m\u001b[0mr\u001b[0m\u001b[1;33m*\u001b[0m\u001b[0msd\u001b[0m\u001b[1;33m\u001b[0m\u001b[0m\n\u001b[0;32m     50\u001b[0m \u001b[1;33m\u001b[0m\u001b[0m\n\u001b[1;32m---> 51\u001b[1;33m \u001b[0mbulge\u001b[0m \u001b[1;33m=\u001b[0m \u001b[0modeint\u001b[0m\u001b[1;33m(\u001b[0m\u001b[0mdm_dr\u001b[0m\u001b[1;33m,\u001b[0m \u001b[0mrb\u001b[0m\u001b[1;33m,\u001b[0m\u001b[0mls\u001b[0m\u001b[1;33m)\u001b[0m\u001b[1;33m\u001b[0m\u001b[0m\n\u001b[0m\u001b[0;32m     52\u001b[0m \u001b[0mhalo\u001b[0m \u001b[1;33m=\u001b[0m  \u001b[0modeint\u001b[0m\u001b[1;33m(\u001b[0m\u001b[0mdm_dr\u001b[0m\u001b[1;33m,\u001b[0m \u001b[0mrh\u001b[0m\u001b[1;33m,\u001b[0m \u001b[0mls\u001b[0m\u001b[1;33m)\u001b[0m\u001b[1;33m\u001b[0m\u001b[0m\n\u001b[0;32m     53\u001b[0m \u001b[0mdisk\u001b[0m \u001b[1;33m=\u001b[0m \u001b[0modeint\u001b[0m\u001b[1;33m(\u001b[0m\u001b[0mdmdr\u001b[0m\u001b[1;33m,\u001b[0m \u001b[0msd\u001b[0m\u001b[1;33m,\u001b[0m \u001b[0mls\u001b[0m\u001b[1;33m)\u001b[0m\u001b[1;33m\u001b[0m\u001b[0m\n",
      "\u001b[1;32mC:\\Users\\Darth Cameronus\\Anaconda\\lib\\site-packages\\scipy\\integrate\\odepack.pyc\u001b[0m in \u001b[0;36modeint\u001b[1;34m(func, y0, t, args, Dfun, col_deriv, full_output, ml, mu, rtol, atol, tcrit, h0, hmax, hmin, ixpr, mxstep, mxhnil, mxordn, mxords, printmessg)\u001b[0m\n\u001b[0;32m    146\u001b[0m     output = _odepack.odeint(func, y0, t, args, Dfun, col_deriv, ml, mu,\n\u001b[0;32m    147\u001b[0m                              \u001b[0mfull_output\u001b[0m\u001b[1;33m,\u001b[0m \u001b[0mrtol\u001b[0m\u001b[1;33m,\u001b[0m \u001b[0matol\u001b[0m\u001b[1;33m,\u001b[0m \u001b[0mtcrit\u001b[0m\u001b[1;33m,\u001b[0m \u001b[0mh0\u001b[0m\u001b[1;33m,\u001b[0m \u001b[0mhmax\u001b[0m\u001b[1;33m,\u001b[0m \u001b[0mhmin\u001b[0m\u001b[1;33m,\u001b[0m\u001b[1;33m\u001b[0m\u001b[0m\n\u001b[1;32m--> 148\u001b[1;33m                              ixpr, mxstep, mxhnil, mxordn, mxords)\n\u001b[0m\u001b[0;32m    149\u001b[0m     \u001b[1;32mif\u001b[0m \u001b[0moutput\u001b[0m\u001b[1;33m[\u001b[0m\u001b[1;33m-\u001b[0m\u001b[1;36m1\u001b[0m\u001b[1;33m]\u001b[0m \u001b[1;33m<\u001b[0m \u001b[1;36m0\u001b[0m\u001b[1;33m:\u001b[0m\u001b[1;33m\u001b[0m\u001b[0m\n\u001b[0;32m    150\u001b[0m         \u001b[1;32mprint\u001b[0m\u001b[1;33m(\u001b[0m\u001b[0m_msgs\u001b[0m\u001b[1;33m[\u001b[0m\u001b[0moutput\u001b[0m\u001b[1;33m[\u001b[0m\u001b[1;33m-\u001b[0m\u001b[1;36m1\u001b[0m\u001b[1;33m]\u001b[0m\u001b[1;33m]\u001b[0m\u001b[1;33m)\u001b[0m\u001b[1;33m\u001b[0m\u001b[0m\n",
      "\u001b[1;31mValueError\u001b[0m: object too deep for desired array"
     ]
    }
   ],
   "source": [
    "#Ha, Cameron   SID: 998511368\n",
    "import numpy as np\n",
    "import scipy\n",
    "import matplotlib\n",
    "import matplotlib.pyplot as plt\n",
    "from scipy.integrate import odeint\n",
    "%inline matplotlib\n",
    "\n",
    "print \"For 1aThe merry-go round modle is A while the planetary orbit is C the respective velocities are A: v(r) = rw B: v(r) ~ sqrt(r) C: v(r) = sqrt(GM/r) and D: v(r) ~ r^2\"\n",
    "print \"for 1b see a flat rotation curve such that as one moves outward the rotation curve becomes near constant which opposes the expectedcenter dominant mass becoming closer to rwsinO like a sperical projection\"\n",
    "print \"No there is a discrepancy in the mass dominant portion of the galaxy.  The rotation curve suggests a large spherical distribution of additional matter that leads to the idea of Dark matter not visually accounted for by the original model\"\n",
    "print \"For 2c we do not account for the dark matter compnent thus the outcome not going to constant.  We are missing mass needed for the observed curve.\"\n",
    "print \"For 2d the approximate total mass should be around 5.755E11 solar masses and about 60 kpc diameter.  The halo model is more accurate for the dark matter component but for all of them the Plumber sphere is closest as the DM sphere is projected to be uniform\"\n",
    "\n",
    "\n",
    "# constants\n",
    "G = 6.674E-11\n",
    "Ms = 2E30\n",
    "Mb = 1.3E10*Ms\n",
    "Mh = (10**9)*Ms\n",
    "Md = 6.5E10*Ms\n",
    "abulge = 0.4\n",
    "ahalo = 0.5\n",
    "adisk = 4\n",
    "omega = 250 #km/s or  8.1019e-15 kpc/s\n",
    "\n",
    "#density functions\n",
    "def rhoh(ahalo, r):\n",
    "\treturn Mh*(Ms*(10**9))*((ahalo + r)**(-3.1))\n",
    "\n",
    "def sigmad(adisk, r):\n",
    "\treturn Md/(2*np.pi*adisk**2)*np.exp(-r/adisk)\n",
    "\n",
    "def rhob(abulge,r):\n",
    "\treturn (Mb/(4*np.pi*(abulge**3)))*(1+(r/abulge)**2)**(-5/2)\n",
    "\n",
    "\n",
    "\t\n",
    "#integration and plotting\t\n",
    "ls = np.linspace(0,30,100)\t\n",
    "rb = odeint(rhob, abulge, ls)*(Ms/((3.086E19)**3))\t# conversion back to solar mass units\n",
    "rh = odeint(rhoh, ahalo, ls)*(Ms/((3.086E19)**3))\n",
    "sd = odeint(sigmad, adisk, ls)*(Ms/((3.086E19)**3))\n",
    "\t\n",
    "def dm_dr(rb, r):\n",
    "\treturn 4*np.pi*rb*(r**2)\n",
    "\t\n",
    "def dmdr(sd, r):\n",
    "\treturn 2*np.pi*r*sd\n",
    "\n",
    "bulge = odeint(dm_dr, rb,ls)\n",
    "halo = \todeint(dm_dr, rh, ls)\n",
    "disk = odeint(dmdr, sd, ls)\n",
    "\n",
    "def vbulge(omega, r):\n",
    "\treturn  r*omega\n",
    "\n",
    "def vdisk(r):\n",
    "\treturn  np.sqrt((G*Ms)/r)\n",
    "\n",
    "def vhalo(r):\n",
    "\treturn  np.sqrt((G*Ms)/r)\n",
    "\n",
    "vb\t= odeint(vbulge, 0.0, ls)\n",
    "vd\t= odeint(vdisk, 0.0, ls)\n",
    "vh\t= odeint(vhalo, 0.0, ls)\n",
    "vt\t= vb + vd + vh\n",
    "\t\n",
    "yerr = 0.2*ls\n",
    "xerr = 0\n",
    "\n",
    "plt.plot(ls, vb, \"-\", label=\"bulge\")\n",
    "plt.plot(ls, vd, \"-\", label=\"disk\")\n",
    "plt.plot(ls, vh, \"-\", label=\"halo\")\n",
    "plt.plot(ls, vt, \"-\", label=\"total\")\n",
    "plt.plot(ls, vb)\n",
    "plt.plot(ls, vh)\n",
    "plt.plot(ls, vd)\n",
    "plt.plot(ls, vt)\n",
    "plt.errorbar(ls, vb, xerr, yerr)\n",
    "plt.errorbar(ls, vd, xerr, yerr)\n",
    "plt.errorbar(ls, vh, xerr, yerr)\n",
    "plt.errorbar(ls, vt, xerr, yerr)\n",
    "plt.xlabel(\"kpc\")\n",
    "plt.ylabel(\"solar masses\")\n",
    "plt.legend();\n",
    "\n"
   ]
  },
  {
   "cell_type": "code",
   "execution_count": null,
   "metadata": {
    "collapsed": true
   },
   "outputs": [],
   "source": []
  }
 ],
 "metadata": {
  "kernelspec": {
   "display_name": "Python 2",
   "language": "python",
   "name": "python2"
  },
  "language_info": {
   "codemirror_mode": {
    "name": "ipython",
    "version": 2
   },
   "file_extension": ".py",
   "mimetype": "text/x-python",
   "name": "python",
   "nbconvert_exporter": "python",
   "pygments_lexer": "ipython2",
   "version": "2.7.11"
  }
 },
 "nbformat": 4,
 "nbformat_minor": 0
}
