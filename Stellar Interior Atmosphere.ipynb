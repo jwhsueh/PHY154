{
 "cells": [
  {
   "cell_type": "code",
   "execution_count": 2,
   "metadata": {
    "collapsed": false
   },
   "outputs": [],
   "source": [
    "import numpy as np\n",
    "import math as m\n",
    "from astropy import units as u\n",
    "from astropy import constants as const"
   ]
  },
  {
   "cell_type": "markdown",
   "metadata": {},
   "source": [
    "# 1 Energy generation in stars"
   ]
  },
  {
   "cell_type": "markdown",
   "metadata": {},
   "source": [
    "(a) What would be Sun's' lifetime if above was correct?"
   ]
  },
  {
   "cell_type": "code",
   "execution_count": 3,
   "metadata": {
    "collapsed": false
   },
   "outputs": [
    {
     "name": "stdout",
     "output_type": "stream",
     "text": [
      "The Sun's life would be 1638.86571687 yr\n"
     ]
    }
   ],
   "source": [
    "coal_rate = 1e7*u.J/u.kg\n",
    "#rate*mass*luminosity=time\n",
    "life = coal_rate * const.M_sun / const.L_sun\n",
    "life = life.to(u.yr) #convert units into years\n",
    "print \"The Sun's life would be\", life"
   ]
  },
  {
   "cell_type": "markdown",
   "metadata": {},
   "source": [
    "(b) How much energy does the reaction release?\n",
    "How long would it take to consume all Sun's energy?"
   ]
  },
  {
   "cell_type": "code",
   "execution_count": 25,
   "metadata": {
    "collapsed": false
   },
   "outputs": [
    {
     "name": "stdout",
     "output_type": "stream",
     "text": [
      " Each reaction would release 4.25339081498e-12 J\n",
      "It would take 1.04188772426e+11 yr to consume all Sun's energy\n"
     ]
    }
   ],
   "source": [
    "mass_nuetron_amu =  4.0039\n",
    "mass_proton_amu = 1.0081\n",
    "amu_kg = 1.660538782E-27\n",
    "\n",
    "delta_m = (4.*mass_proton_amu - mass_nuetron_amu)*amu_kg *u.kg\n",
    "delta_e = delta_m*const.c**2\n",
    "delta_e = delta_e.to(u.J)\n",
    "total_H = const.M_sun/const.m_p\n",
    "total_reactions = total_H/4\n",
    "\n",
    "lifetime = delta_e*total_reactions/const.L_sun\n",
    "lifetime = lifetime.to(u.yr)\n",
    "\n",
    "\n",
    "print \"Each reaction would release\", delta_e\n",
    "print \"It would take\", lifetime, \"to consume all Sun's energy\""
   ]
  },
  {
   "cell_type": "markdown",
   "metadata": {},
   "source": [
    "(c) If you convert your entire mass into energy, how much would you be able to produce?"
   ]
  },
  {
   "cell_type": "code",
   "execution_count": 26,
   "metadata": {
    "collapsed": false
   },
   "outputs": [
    {
     "name": "stdout",
     "output_type": "stream",
     "text": [
      "At a weight of 80kg I would produce 7.19004142989e+18 J of energy\n"
     ]
    }
   ],
   "source": [
    "#E = m * c^2\n",
    "energy = 80 * u.kg * const.c**2\n",
    "energy = energy.to(u.J)\n",
    "print \"At a weight of 80kg I would produce\", energy, \"of energy\""
   ]
  },
  {
   "cell_type": "markdown",
   "metadata": {
    "collapsed": true
   },
   "source": [
    "(d) A small house uses about 1kW of power. How long would your energy be able to sustain your household? How about the entire world?"
   ]
  },
  {
   "cell_type": "code",
   "execution_count": 36,
   "metadata": {
    "collapsed": false
   },
   "outputs": [
    {
     "name": "stdout",
     "output_type": "stream",
     "text": [
      "I could power a house for 227838664.217 yr\n",
      "I could power the world for 41.6090360526 d\n"
     ]
    }
   ],
   "source": [
    "one_d_house = energy/1000/u.J*u.s\n",
    "one_d_house = one_d_house.to(u.yr)\n",
    "\n",
    "one_d_world = energy/2e12/u.J*u.s\n",
    "one_d_world = one_d_world.to(u.d)\n",
    "\n",
    "print \"I could power a house for\", one_d_house\n",
    "print \"I could power the world for\", one_d_world"
   ]
  },
  {
   "cell_type": "markdown",
   "metadata": {
    "collapsed": true
   },
   "source": [
    "(e) Calculate the flux of sunlight here on Earth. If you had perfectly efficient solar cells, how large would they need to be to save all world’s energy problems?"
   ]
  },
  {
   "cell_type": "code",
   "execution_count": 62,
   "metadata": {
    "collapsed": false
   },
   "outputs": [
    {
     "name": "stdout",
     "output_type": "stream",
     "text": [
      "The flux of sunlight on Earth is  1367.56693468 W / m2\n",
      "We would need  1462.45126968 km2  of 100% efficient solar panels to power the whole world\n",
      "The panels will need to cover  0.000572155378333 % of the earth, assuming only half the earth is receiving\n",
      "sunlight at any point in time\n"
     ]
    }
   ],
   "source": [
    "sa_earth = 4*np.pi*(const.R_earth**2)*u.m*u.m\n",
    "sa_at_au = 4*np.pi*(u.au**2)\n",
    "sa_at_au = sa_at_au.to(u.m**2)\n",
    "\n",
    "flux_earth = const.L_sun/sa_at_au\n",
    "sa_panels = 2E12/flux_earth\n",
    "\n",
    "\n",
    "one_e_flux = flux_earth\n",
    "total_panels = sa_panels*u.W\n",
    "total_panels = total_panels.to(u.km**2)\n",
    "one_e_3 = (sa_panels/(sa_earth/2))*100*u.m**2*u.W\n",
    "\n",
    "print \"The flux of sunlight on Earth is \", one_e_flux\n",
    "print \"We would need \", total_panels, \" of 100% efficient solar panels to power the whole world\"\n",
    "print \"The panels will need to cover \", one_e_3, \"% of the earth, assuming only half the earth is receiving\"\n",
    "print \"sunlight at any point in time\""
   ]
  },
  {
   "cell_type": "markdown",
   "metadata": {},
   "source": [
    "(f) The p-p chain is the main nuclear process in the Sun. Write down the reaction process (in a single line)."
   ]
  },
  {
   "cell_type": "markdown",
   "metadata": {},
   "source": [
    "A total of 6 hydrogen nuclei (protons) are needed to create one helium (2He) and 2 protons\n",
    "(4 1H -> 1 4He + energy)\n",
    "\n",
    "This process can be broken down into three steps:\n",
    "\n",
    "Step one:\n",
    "Two hydrogen nuclei (1H) collide.\n",
    "One pronton is converted into a neutron, a neutrino, and a positron.\n",
    "The proton and neutron form a hydrogen isotope (2H).\n",
    "The positron annihilates with an electron, producing gamma-ray photons.\n",
    "The step occurs twice before the next.\n",
    "\n",
    "Step two:\n",
    "The 2H nucleus collides with a hydrogen nuclei (1H).\n",
    "A helium isotope (3He) is created and another gamma-ray photon is released.\n",
    "\n",
    "Step three:\n",
    "Two 3He nuclei collide.\n",
    "A helium isotope with two protons and two nuetrons (4He) is formed and two protons are released.\n",
    "\n"
   ]
  },
  {
   "cell_type": "markdown",
   "metadata": {},
   "source": [
    "(g) What is Sun’s power from pp and CNO cycle respectively? At what temperature are they equally important?"
   ]
  },
  {
   "cell_type": "code",
   "execution_count": 76,
   "metadata": {
    "collapsed": false
   },
   "outputs": [
    {
     "name": "stdout",
     "output_type": "stream",
     "text": [
      "The Sun's power from the pp cycle is  8.69352507044e+27 W\n",
      "The Sun's power from the CNO cycle is  1.62484520941e+27 W\n",
      "The power generated by these two cycles are equal at a temperature of  17954628.8908 K\n"
     ]
    }
   ],
   "source": [
    "rho = 1.622E5*u.kg/u.m**3\n",
    "T = 1.571E7*u.K\n",
    "e0_PP = 1.08E-12*((u.W*u.m**3)/(u.kg**2))\n",
    "e0_CNO = 8.24E-31*((u.W*u.m**3)/(u.kg**2))\n",
    "X_H= 0.64\n",
    "X_CNO = 0.015\n",
    "\n",
    "e_PP = e0_PP*rho*(X_H**2)*((T/(1.0E6*u.K))**4)\n",
    "e_CNO = e0_CNO*rho*X_H*X_CNO*((T/(1.0E6*u.K))**19.9)\n",
    "eq_temp = 1.0E6*((e0_PP/(e0_CNO*X_CNO))**(1/15.9))*u.K\n",
    "\n",
    "spp_power = e_PP*const.M_sun\n",
    "scno_power = e_CNO*const.M_sun\n",
    "\n",
    "\n",
    "print \"The Sun's power from the pp cycle is \", spp_power\n",
    "print \"The Sun's power from the CNO cycle is \", scno_power\n",
    "print \"The power generated by these two cycles are equal at a temperature of \", eq_temp"
   ]
  },
  {
   "cell_type": "markdown",
   "metadata": {},
   "source": [
    "# 2 Homogeneous Collapse"
   ]
  },
  {
   "cell_type": "markdown",
   "metadata": {},
   "source": [
    "(a) Why does a cloud of gas need to be cold?"
   ]
  },
  {
   "cell_type": "markdown",
   "metadata": {},
   "source": [
    "The gas cloud needs to be cold as it collapses because heat in the gas is a measure of the average kenetic energy of a particle. Kenetic energy exerts an outward force that opposes gravitational collapse. The colder the gas is the less it will oppose the collapse.\n"
   ]
  },
  {
   "cell_type": "markdown",
   "metadata": {},
   "source": [
    "(b) Which is the main force driving the collapse?"
   ]
  },
  {
   "cell_type": "markdown",
   "metadata": {},
   "source": [
    "The driving force of the collapse is gravity."
   ]
  },
  {
   "cell_type": "markdown",
   "metadata": {},
   "source": [
    "(c) Write down the Virial Theorem. What does it describe? How do you have to modify it to reach the conditions of homogeneous collapse?"
   ]
  },
  {
   "cell_type": "markdown",
   "metadata": {},
   "source": [
    "The Virial Theorem is -U=2K.\n",
    "\n",
    "It describes a relationship between gravitational potential energy and kinetic energy.\n",
    "\n",
    "To modify it to reach the conditions of homogeneous collapse:\n",
    "\n",
    "Substitute (3/2)*N*k*T for the kinetic energy in 3 dimensions and substitute (-3/5)*(G*(M^2))/R for the gravitational potential energy. The condition of collapse is when U > 2*K."
   ]
  },
  {
   "cell_type": "markdown",
   "metadata": {},
   "source": [
    "(d) What is the minimum mass needed to initiate a spontaneous collapse? This mass is known as a Jeans mass. What is the equivalent minimum radius?\n"
   ]
  },
  {
   "cell_type": "code",
   "execution_count": 78,
   "metadata": {
    "collapsed": false
   },
   "outputs": [
    {
     "name": "stdout",
     "output_type": "stream",
     "text": [
      "Virial Theorem is used to derive Jeans Mass (M_J), which is:\n",
      "M_J = (((5*k*T)/(G*m_H))^(3/2))*((3/(4*pi*rho))^(1/2))\n",
      "The Jeans radius is:\n",
      "R_J = ((15*k*T)/(4*pi*G*m_H*rho))^(1/2)\n"
     ]
    }
   ],
   "source": [
    "print \"Virial Theorem is used to derive Jeans Mass (M_J), which is:\"\n",
    "print \"M_J = (((5*k*T)/(G*m_H))^(3/2))*((3/(4*pi*rho))^(1/2))\"\n",
    "print \"The Jeans radius is:\"\n",
    "print \"R_J = ((15*k*T)/(4*pi*G*m_H*rho))^(1/2)\""
   ]
  },
  {
   "cell_type": "markdown",
   "metadata": {},
   "source": [
    "(e) For a typical diffuse hydrogen cloud, T = 50K and n = 5×108m−3 (number density of particles). Calculate the Jeans mass and Jeans radius. How do they compare to the mass/radius of the Sun?"
   ]
  },
  {
   "cell_type": "code",
   "execution_count": 96,
   "metadata": {
    "collapsed": false
   },
   "outputs": [
    {
     "name": "stdout",
     "output_type": "stream",
     "text": [
      "The Jeans Mass is  2.90500146839e+33 kg\n",
      "The Jeans Radius is  5.26622918538e+19 m\n",
      "This is about  1460  times as massive as the sun with a radius of about  75717737040  times larger.\n",
      "\n"
     ]
    }
   ],
   "source": [
    "n = 5e8/u.m**3\n",
    "T_J = 50*u.K\n",
    "T = 1.571e7*u.K\n",
    "\n",
    "rho_J = const.m_p*n\n",
    "M_J = (((5.0*const.k_B*T_J)/(const.G*const.m_p))**(3.0/2.0))*(((3.0)/(4.0*np.pi*rho_J))**(1.0/2.0))\n",
    "R_J = ((15*const.k_B*T)/(4*np.pi*const.G*const.m_p*rho_J))**(1.0/2.0)\n",
    "\n",
    "compare_mass = M_J.to(u.kg)/const.M_sun\n",
    "compare_radius = R_J.to(u.m)/const.R_sun\n",
    "\n",
    "print \"The Jeans Mass is \", M_J.to(u.kg)\n",
    "print \"The Jeans Radius is \", R_J.to(u.m)\n",
    "print \"This is about \", int(compare_mass), \" times as massive as the sun with a radius of about \", int(compare_radius), \" times larger.\\n\"\n",
    "\n"
   ]
  },
  {
   "cell_type": "markdown",
   "metadata": {},
   "source": [
    "(f) Finally, Prove that a homogeneous, pressureless, sphere of gas with density ρ will collapse to a point in the free-fall time"
   ]
  },
  {
   "cell_type": "markdown",
   "metadata": {},
   "source": [
    "Derived on paper"
   ]
  },
  {
   "cell_type": "markdown",
   "metadata": {},
   "source": [
    "(g) Would you expect t_ff to depend upon another quantity? Which?"
   ]
  },
  {
   "cell_type": "markdown",
   "metadata": {},
   "source": [
    "I would expect free-fall time to also depend on temperature, a higher temperature would increase thermal pressure which would increase the free-fall time. The cloud would have to cool enough before it could begin collapsing. This was discussed in question 2(a)\n"
   ]
  },
  {
   "cell_type": "markdown",
   "metadata": {},
   "source": [
    "# 3 Isothermal/Plane Parallel Atmosphere"
   ]
  },
  {
   "cell_type": "markdown",
   "metadata": {},
   "source": [
    "(a) Start by writing down the hydrostatic balance."
   ]
  },
  {
   "cell_type": "markdown",
   "metadata": {},
   "source": [
    "See paper"
   ]
  },
  {
   "cell_type": "markdown",
   "metadata": {},
   "source": [
    "(b) Show that density ρ changes with height z for an isothermal atmosphere. Determine the constant h."
   ]
  },
  {
   "cell_type": "markdown",
   "metadata": {},
   "source": [
    "See paper"
   ]
  },
  {
   "cell_type": "markdown",
   "metadata": {},
   "source": [
    "(c) Since we started with an assumption of plane parallel atmosphere, we assumed h <<\u001c",
    " R. Is this the case?"
   ]
  },
  {
   "cell_type": "code",
   "execution_count": 115,
   "metadata": {
    "collapsed": false
   },
   "outputs": [
    {
     "name": "stdout",
     "output_type": "stream",
     "text": [
      "Yes, h is really small compared to R\n",
      "h can be calculated to be ~ 245.775739042 km\n"
     ]
    }
   ],
   "source": [
    "g = 9.81\n",
    "R = 8.314E-3\n",
    "T_3 = 290\n",
    "h = (R*T_3)/(g/1000)*u.km\n",
    "\n",
    "print \"Yes, h is really small compared to R\"\n",
    "print \"h can be calculated to be ~\", h"
   ]
  },
  {
   "cell_type": "markdown",
   "metadata": {},
   "source": [
    "(d) Another interpretation of the scale height: think of it as the distance that the particle traveled. Use equation for h, what is the energy gain?\n"
   ]
  },
  {
   "cell_type": "markdown",
   "metadata": {},
   "source": [
    " P.E. = mgh = mRT"
   ]
  },
  {
   "cell_type": "markdown",
   "metadata": {},
   "source": [
    "(e) What is the pressure at a given depth?"
   ]
  },
  {
   "cell_type": "markdown",
   "metadata": {},
   "source": [
    "See paper"
   ]
  },
  {
   "cell_type": "code",
   "execution_count": null,
   "metadata": {
    "collapsed": true
   },
   "outputs": [],
   "source": []
  }
 ],
 "metadata": {
  "kernelspec": {
   "display_name": "Python 2",
   "language": "python",
   "name": "python2"
  },
  "language_info": {
   "codemirror_mode": {
    "name": "ipython",
    "version": 2
   },
   "file_extension": ".py",
   "mimetype": "text/x-python",
   "name": "python",
   "nbconvert_exporter": "python",
   "pygments_lexer": "ipython2",
   "version": "2.7.11"
  }
 },
 "nbformat": 4,
 "nbformat_minor": 0
}
