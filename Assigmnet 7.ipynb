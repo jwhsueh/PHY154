{
 "cells": [
  {
   "cell_type": "code",
   "execution_count": 1,
   "metadata": {
    "collapsed": false
   },
   "outputs": [
    {
     "data": {
      "image/png": "[encoded data removed]",
      "text/plain": [
       "<matplotlib.figure.Figure at 0x610e0b0>"
      ]
     },
     "metadata": {},
     "output_type": "display_data"
    }
   ],
   "source": [
    "import numpy as np\n",
    "import matplotlib.pyplot as plt\n",
    "from scipy.optimize import curve_fit\n",
    "from scipy.integrate import quad\n",
    "from math import log10\n",
    "%matplotlib inline\n",
    "\n",
    "with open(\"SN.dat\") as textfile:\n",
    "    lines = [line.split() for line in textfile]\n",
    "\n",
    "redshift = []\n",
    "mu = []\n",
    "sigma = []\n",
    "\n",
    "for i in range(1,293):\n",
    "    redshift.append(lines[i][1])\n",
    "    mu.append(float(lines[i][2]))\n",
    "    sigma.append(float(lines[i][3]))\n",
    "\n",
    "def Ez1(z):\n",
    "    Ez = ((1+z)**(3))** (1.0/2)\n",
    "    return Ez\n",
    "\n",
    "def DC0(z):\n",
    "    return (3000)*(1/Ez1(z))\n",
    "\n",
    "def DC1(z):\n",
    "    DC = quad(DC0, 0, z)\n",
    "    return DC[0]\n",
    "\n",
    "def DL1(z):\n",
    "    DL = DC1(z) * (1 + z)\n",
    "    return DL\n",
    "    \n",
    "def fmu(z):\n",
    "    fmu = 25 - 5*log10(.7) + 5*log10(DL1(z))\n",
    "    return fmu\n",
    "\n",
    "##\n",
    "##\n",
    "##\n",
    "\n",
    "#def Ez2(z):\n",
    "#    Ez = ( ((.23 * (1+z)**(3)) + ((1 - .23) * (1+z)**(2))) ** (1.0/2))\n",
    "#    return Ez\n",
    "\n",
    "def Ez2(z):\n",
    "    Ez =  ((.23 * (1+z)**(3)) + (1 - .23)) ** (1.0/2)\n",
    "    return Ez\n",
    "\n",
    "def DC2(z):\n",
    "    return (3000)*(1.0/Ez2(z))\n",
    "\n",
    "def DC3(z):\n",
    "    DC = quad(DC2, 0, z)\n",
    "    return DC[0]\n",
    "\n",
    "def DL2(z):\n",
    "    DL = DC3(z) * (1 + z)\n",
    "    return DL\n",
    "\n",
    "def fmu2(z):\n",
    "    fmu = 25 - 5*log10(.7) + 5*log10(DL2(z))\n",
    "    return fmu\n",
    "\n",
    "z = np.linspace(0.001,1.8,100)\n",
    "\n",
    "mu1 = []\n",
    "for i in range(100):\n",
    "    mu1.append(fmu(z[i]))\n",
    "    \n",
    "mu2 = []\n",
    "for i in range(100):\n",
    "    mu2.append(fmu2(z[i]))\n",
    "\n",
    "    \n",
    "plt.errorbar(np.array(redshift), np.array(mu), yerr = np.array(sigma), marker = '.', linestyle = 'None', color ='b', label ='SN data')\n",
    "plt.ylabel('mu')\n",
    "plt.xlabel('z')\n",
    "plt.plot(z, mu1, color ='r', label = 'OM = 1')\n",
    "plt.plot(z, mu2, color = 'black', label = 'OM = .23')  \n",
    "plt.legend(loc = 'lower right')\n",
    "#plt.ylim(0,50)\n",
    "plt.show()"
   ]
  },
  {
   "cell_type": "markdown",
   "metadata": {
    "collapsed": true
   },
   "source": [
    "2b)\n",
    "\n",
    "The difference between the OM = 1 and the OM = .23 is that the mu values associated with the OM = 1 line are lower than the OM = .23 mu values. The OM = .23 values fit the curve of the data better than the OM = 1 data values."
   ]
  },
  {
   "cell_type": "code",
   "execution_count": 2,
   "metadata": {
    "collapsed": false
   },
   "outputs": [],
   "source": [
    "from scipy.optimize import fmin\n",
    "\n",
    "\n",
    "def Ez(z, h, OM):\n",
    "    Ez =  ((OM * (1+z)**(3)) + (1 - OM)) ** (1.0/2)\n",
    "    return Ez\n",
    "\n",
    "def DC0(z, h, OM):\n",
    "    return (3000.0)*(1.0/Ez(z,h,OM))\n",
    "\n",
    "def DC1(z, h, OM):\n",
    "    DC = quad(DC0, 0.0, z, args=(h, OM))\n",
    "    return DC[0]\n",
    "\n",
    "def DL(z, h, OM):\n",
    "    DL = DC1(z, h, OM) * (1 + z)\n",
    "    return DL\n",
    "\n",
    "def fmu2(z, h, OM):\n",
    "    fmu = 25 - 5*log10(h) + 5*log10(DL(z, h, OM))\n",
    "    return fmu\n",
    "\n",
    "znew, munew, sigmanew = np.loadtxt('SN.dat', usecols=(1,2,3), unpack=True)\n",
    "\n",
    "\n",
    "def chi_2(params, zdata, mudata, sigmadata):\n",
    "    h, OM = params\n",
    "    mun = []\n",
    "    for i in range(len(zdata)):\n",
    "            mun.append(fmu2(zdata[i], h, OM))\n",
    "    chi = []\n",
    "    for j in range(len(mun)):\n",
    "        duh = (((mudata[j] - mun[j])**2) / (sigmadata[j]**2))\n",
    "        chi.append(duh)\n",
    "    return np.sum(chi)"
   ]
  },
  {
   "cell_type": "code",
   "execution_count": 3,
   "metadata": {
    "collapsed": false
   },
   "outputs": [
    {
     "name": "stdout",
     "output_type": "stream",
     "text": [
      "Optimization terminated successfully.\n",
      "         Current function value: 393.490323\n",
      "         Iterations: 33\n",
      "         Function evaluations: 61\n",
      "[ 0.63051212  0.31830284]\n"
     ]
    }
   ],
   "source": [
    "p0 = ([0.7, 0.23])\n",
    "opt = fmin(chi_2, p0, args=(znew, munew, sigmanew))\n",
    "print opt"
   ]
  },
  {
   "cell_type": "code",
   "execution_count": 4,
   "metadata": {
    "collapsed": false
   },
   "outputs": [
    {
     "data": {
      "image/png": "[encoded data removed]",
      "text/plain": [
       "<matplotlib.figure.Figure at 0x374a470>"
      ]
     },
     "metadata": {},
     "output_type": "display_data"
    }
   ],
   "source": [
    "mu_ = []\n",
    "for i in range(100):\n",
    "    mu_.append(fmu2(z[i], opt[0], opt[1]))\n",
    "\n",
    "plt.errorbar(znew, munew, yerr=sigmanew, fmt='.', label = 'SN data')    \n",
    "plt.plot(z, mu_, 'r', label = 'h = 0.63 & OM = 0.32')\n",
    "plt.xlabel(\"z\")\n",
    "plt.ylabel(\"mu\")\n",
    "plt.legend(loc = 'lower right')\n",
    "plt.show()"
   ]
  },
  {
   "cell_type": "code",
   "execution_count": 58,
   "metadata": {
    "collapsed": false,
    "scrolled": true
   },
   "outputs": [
    {
     "data": {
      "text/plain": [
       "(array([[ 0.63246533,  0.31872412],\n",
       "        [ 0.63372844,  0.3095958 ],\n",
       "        [ 0.62943377,  0.30389899],\n",
       "        [ 0.62612455,  0.32090579],\n",
       "        [ 0.624491  ,  0.34264405],\n",
       "        [ 0.62671901,  0.31469032],\n",
       "        [ 0.62969629,  0.33791404],\n",
       "        [ 0.63147595,  0.33784402],\n",
       "        [ 0.62437469,  0.35165842],\n",
       "        [ 0.62028685,  0.36118996]]),\n",
       " array([-196.88627668, -196.87167   , -197.33785999, -197.27465704,\n",
       "        -197.12933325, -197.43547915, -197.19874363, -197.63809182,\n",
       "        -197.2898841 , -197.86069682]),\n",
       " ('MT19937', array([3836834274, 3732677604, 2828914948, 1733529208, 2587064595,\n",
       "          667907237, 3077624243, 2209533484,   37983462, 1165774267,\n",
       "         3762546886, 2098417473, 3576501184, 1191662258, 2048353106,\n",
       "         1804760172, 3929527004, 3112112147,  576342462,  265979502,\n",
       "         2295510085,  386791544, 2790716975,  901851646, 2873437712,\n",
       "         1825799920, 2672501840,  598066765, 3746379552, 2458414383,\n",
       "         1058043628, 2317813482,  791944191, 1392605214, 1861119606,\n",
       "         1028943203, 3948238833, 3417289047, 4046871695, 1449275235,\n",
       "         2349476623, 3258881037,  943697500, 4219671888, 1290456426,\n",
       "         3099757693, 1643146103, 2108443420,  563028892, 4108048582,\n",
       "          309642057,  360897261, 2138571948,  960443509, 2280142054,\n",
       "         3946777988,  570353372, 2750478295, 4288790747, 4237123871,\n",
       "         1499421302, 2942673777, 1782974520, 1685336316, 3730762994,\n",
       "         2317969952, 2802758999, 2721996823, 3098254554, 3355627641,\n",
       "         4117347171,  270609086, 1632309424, 2304194867, 1391519186,\n",
       "          268358033,  180600406, 1863909911, 4018515626, 1316482739,\n",
       "         3275791136, 2129964246, 1843986926, 1673009815,  263888727,\n",
       "         3027049483, 3303248222, 3656987416, 1184034280, 2724448959,\n",
       "         2564332490, 3544087401, 3242124651, 4195216484,   57172383,\n",
       "         1584795172, 3004641998, 3230576947,  962185115, 1297751172,\n",
       "         1399270075, 1656550480, 4044672933, 2703007248, 4231790153,\n",
       "          965943329, 3561796236, 2221796686, 1572284399, 1071885896,\n",
       "         2401702661, 3197826625, 1530811585, 1884622196,  785601171,\n",
       "         4017089330, 2307107029,   11415008, 2868684812, 1229202472,\n",
       "         1934623312, 1212013352, 4154152397, 3883592316, 1812516004,\n",
       "         3537102798, 2684005994,  208373857, 2985649020, 2542710664,\n",
       "          825109455,  222633831,   76058756, 1167357298, 4187387182,\n",
       "         3571538117,  423943463,  780383035, 3681920710, 3585166672,\n",
       "         1814921137, 2424917343, 3571162245, 3199720112, 1691341669,\n",
       "          927910375,   19645463, 2642836562, 1435580522, 2790393522,\n",
       "         2537587961, 2662237846, 2518542261, 3886277177,  871873030,\n",
       "           36610401, 3432862090, 3330788470,  943905056, 2024962035,\n",
       "         3932412023,   82794868, 2548097903, 4072305233, 1504261566,\n",
       "         2774367002, 2284122907,  921427065,  349995439, 4220174505,\n",
       "         3883101507, 3540555649,  544202609, 4237828856, 3093750025,\n",
       "         2899256039, 1043341520, 2723266082,  616982962, 1947029551,\n",
       "         1058869032, 2224368819,  464596370, 1589310234, 2303340129,\n",
       "         3968917596, 4133128948, 2004177497, 4063354927, 3112668250,\n",
       "         2900389209, 1084828706, 1699238169, 4102382252,  830769702,\n",
       "         2449144199, 2010625237, 2350261299, 3999343675, 3636007353,\n",
       "         1126120569, 3018448589,  726309058, 2989385611, 1062950955,\n",
       "         1223758061,   63361342, 4069355903, 2934018695, 3141622827,\n",
       "         1483716647, 4158316042, 3229732195, 4061677555,  785449129,\n",
       "         2250074166, 2326158294, 1855705871, 4095420182, 2111728541,\n",
       "         3857714320, 1453569683, 3970592676, 2884100941, 3179061368,\n",
       "         2399767188, 2496136740, 4147498833,  557118180, 3896877395,\n",
       "         3841034996, 3083833005,  644717418, 3358103613, 1511814746,\n",
       "         1345856153, 4069644265, 1320839569, 3995617537, 1475965200,\n",
       "         3077483274, 1049973551,  924300437, 2769939171, 2671050813,\n",
       "         1242594581, 2905125513, 4233558869, 2114225293, 1294871805,\n",
       "          572931266, 2436878322, 2640303759, 1565280723,  802251566,\n",
       "         4130978812, 1242425414, 3274328874, 3783269105,  810093184,\n",
       "          534738877, 3781583622, 3719443987, 3300741973, 2774208874,\n",
       "         2235679637, 2010113107,  364632922,  982925605, 3287481255,\n",
       "         3333276843,  199157870, 2449035487,  762810088, 2866910906,\n",
       "         1585202941, 2548211137, 1924516444,  227766256, 3208781044,\n",
       "         1494233240, 3568888552,  852432609, 2935872348, 1603902667,\n",
       "         2814708461,  864716999, 3469578971, 2042903290, 2667975909,\n",
       "         1482582359, 1211620286,   48677844, 2003503433, 3141065174,\n",
       "         3311262972, 2317423688,  268534939, 2822868485, 1450996459,\n",
       "          521304190, 1554176991, 4151403411, 3657808087,  551713552,\n",
       "         1178563410, 2712240710, 3671100527, 1274302271, 1638284775,\n",
       "         1009720638, 3424796513, 2513167844, 1992106839, 2865041826,\n",
       "         2506741660, 1287654580, 1943399492, 1222011034, 1833733071,\n",
       "         1990300948,  537478094,  502322471, 2729348634,  925526489,\n",
       "         1738437118, 3218650906, 1737131225, 3574543979,  118419605,\n",
       "          406264259, 3926299441, 2810638961, 1335858786, 1586223733,\n",
       "          554460477, 3962780402, 1856272249, 3128383719,  795650676,\n",
       "          617796340, 2793854407, 2680587005, 1315750572,  717195287,\n",
       "         2647774224, 2840867357, 3471656191, 3149901151, 2852105828,\n",
       "         3094595447, 2256977664,  701617505, 3372870109,  562370852,\n",
       "         1655803308,  807681421,  594525648, 3144681441, 2260176952,\n",
       "          251917638, 4061000410,  725282275, 1922774230, 1672867554,\n",
       "          750242091, 1910677417, 2330813457, 3475927705,  362304318,\n",
       "         3726676786, 1883714572, 3309655037,  410137832, 2812185039,\n",
       "         2609662766, 3135317558,   60896728, 1932580672,  579408843,\n",
       "         3441255394, 1995727278, 3168932393, 2829471843, 3489873077,\n",
       "         2288455282, 1204000728, 2787825371, 1198907341, 3556680935,\n",
       "          328448810, 2997888457, 2849286124, 3564118368, 3300989263,\n",
       "         3541201933, 1157885885, 1287563261, 3605266831,  158724422,\n",
       "         1284805602, 3971251766,  979035542, 4233811053, 3011502299,\n",
       "         2994238999, 3651173380, 2273432312, 3325181969, 1728903239,\n",
       "         4212662925,  215389400, 2637709194, 1031920740,  780860160,\n",
       "         2302984598, 3004405025, 2336849668,  339754084, 2501815915,\n",
       "         1353768622,  642419579, 2090133221,  330624370,  326817509,\n",
       "         4024172449, 4245709818, 1210953115, 1029828097, 1817979434,\n",
       "          346879557, 1867014779, 3636264779, 1546644152, 2470702246,\n",
       "         3107778265, 1104452801, 4148777653,  820060341, 3425629435,\n",
       "         3469643882,  645273222, 2760074729, 1603317181,   80707126,\n",
       "          808579326, 1117338706, 3702766751, 2807146537, 1225663637,\n",
       "         4049708340,  842906974, 3336285603, 3993093341, 4019793683,\n",
       "         1847803278, 2380721786, 3160862970,  760255193, 2543755915,\n",
       "          242104465, 1739527618,  569320606,  912172242,  519576970,\n",
       "         1028819597, 1037213573, 3727275592, 4020555379,  708180899,\n",
       "          230950707, 1007565501, 2387164042, 3526394067, 2791955319,\n",
       "         4151339965,  757926417, 2768769667, 2700405244, 1804452990,\n",
       "          952037075,   99751614, 3150477680, 2811698566,  739467783,\n",
       "         2833911938, 1649917736, 2445342131, 1888934943, 1789918722,\n",
       "         3079766098, 4258084080, 1131632939, 2595708703,  618999701,\n",
       "         2428534336, 2059273994, 3213270222, 2383176918, 2214831588,\n",
       "         2636310015, 1168923849, 2141020133, 1211533353, 1401142508,\n",
       "          593895937,  288023600, 1588641586, 3488832407, 4049698771,\n",
       "         3191420329,  557237224,  868025291,  553720113,  769617786,\n",
       "         2170495725,  607300484, 1806198437,  963727026, 2369762187,\n",
       "           45718237, 2702482432, 3024136071, 2905012277,  668865238,\n",
       "         2575642838, 3681025753,  469584648, 2596287670, 3291385148,\n",
       "         2914148061, 3534814057,  725094999, 3850389735, 2992831880,\n",
       "         1389043139,  764599792,  576560297, 3529464530,  375455131,\n",
       "         2929812307, 4075871808, 4065562239, 2592737168,  992293014,\n",
       "         1940655240, 1540470008, 3331233298, 3560227835,  356436241,\n",
       "         3816652662,  645462755,  138933512, 3378478211, 3856186646,\n",
       "         2712904283, 3668220734, 1095399338, 3931813216,  777293536,\n",
       "         3370595554, 1369785327, 1291321019,  825261291,  442221074,\n",
       "         3725340988, 2204849507, 1840757037, 2537751380, 1381480609,\n",
       "         3994077260, 2816397543,  141066756,   89296140, 3258545993,\n",
       "          692179989, 1624226390,  221337378, 3488064126, 3603267065,\n",
       "          122342879, 3987862351,  273438012, 2130397125, 1059688760,\n",
       "          465335029, 1389267819, 3617572725, 1098619279,  947237535,\n",
       "         2317507741,  552896378, 1664349614, 3222768585, 1743004958,\n",
       "         3601385259,  905924956, 2535862122, 2862894779, 3288995722,\n",
       "         1214113520, 3141857855,  487698272,  956523791,  651463234,\n",
       "         4033463307, 2482012996, 2585235457, 3745368461, 2567737047,\n",
       "          273454873,  500837878, 3543000774, 2102796889,  636025739,\n",
       "         3201414103, 3001209764, 3329158235, 3980106112, 1956455405,\n",
       "         4049269057, 3524319166, 3486384591, 2002474828], dtype=uint32), 565, 0, 0.0))"
      ]
     },
     "execution_count": 58,
     "metadata": {},
     "output_type": "execute_result"
    }
   ],
   "source": [
    "import emcee\n",
    "\n",
    "def lnprob(params, znew, munew, sigmanew):\n",
    "    h, OM = params\n",
    "    if OM < 0 or OM > 1:\n",
    "        return -1e20\n",
    "    if h < 0 or h > 1:\n",
    "        return -1e20\n",
    "    return -0.5 * chi_2(params, znew, munew, sigmanew)\n",
    "\n",
    "ndim = 2\n",
    "nwalkers = 10\n",
    "\n",
    "p0 = np.random.rand(ndim * nwalkers).reshape((nwalkers, ndim))\n",
    "\n",
    "sampler = emcee.EnsembleSampler(nwalkers, ndim, lnprob, args=(znew, munew, sigmanew))\n",
    "\n",
    "#pos, prob, state = sampler.run_mcmc(p0, 10)\n",
    "\n",
    "#sampler.reset()\n",
    "\n",
    "sampler.run_mcmc(pos, 100, rstate0=state)\n",
    "\n",
    "\n",
    "\n",
    "#print(\"Mean acceptance fraction: {0:.3f}\"\n",
    "#                .format(np.mean(sampler.acceptance_fraction)))\n"
   ]
  },
  {
   "cell_type": "code",
   "execution_count": 57,
   "metadata": {
    "collapsed": false
   },
   "outputs": [
    {
     "data": {
      "image/png": "[encoded data removed]",
      "text/plain": [
       "<matplotlib.figure.Figure at 0x6452af0>"
      ]
     },
     "metadata": {},
     "output_type": "display_data"
    }
   ],
   "source": [
    "import matplotlib.pyplot as plt\n",
    "from matplotlib.patches import Ellipse\n",
    "%matplotlib inline\n",
    "circle = Ellipse((.63,.35),.15, .3, 5, color = 'b', fill = False)\n",
    "fig = plt.gcf()\n",
    "fig.gca().add_artist(circle)\n",
    "\n",
    "plt.plot(sampler.flatchain[:,0], sampler.flatchain[:,1], marker = '.', linestyle = 'None')\n",
    "plt.xlabel('h')\n",
    "plt.ylabel('OM')\n",
    "plt.xlim(0,1)\n",
    "plt.ylim(0,1)\n",
    "\n",
    "plt.show()"
   ]
  },
  {
   "cell_type": "markdown",
   "metadata": {},
   "source": [
    "4a)\n",
    "\n",
    "We do not search for the minimum, we search for the maximum\n",
    "\n",
    "4c)\n",
    "\n",
    "MCMC lets us see the errors on thr hubble constant and the omega m.\n",
    "\n",
    "4d)\n",
    "\n",
    "I get a hubble constant of around 0.63 +/- 0.075, an omega m of around 0.35 +/- 0.15, and an omega lambda of around .65."
   ]
  },
  {
   "cell_type": "code",
   "execution_count": null,
   "metadata": {
    "collapsed": false
   },
   "outputs": [],
   "source": []
  },
  {
   "cell_type": "code",
   "execution_count": null,
   "metadata": {
    "collapsed": true
   },
   "outputs": [],
   "source": []
  }
 ],
 "metadata": {
  "kernelspec": {
   "display_name": "Python 2",
   "language": "python",
   "name": "python2"
  },
  "language_info": {
   "codemirror_mode": {
    "name": "ipython",
    "version": 2
   },
   "file_extension": ".py",
   "mimetype": "text/x-python",
   "name": "python",
   "nbconvert_exporter": "python",
   "pygments_lexer": "ipython2",
   "version": "2.7.11"
  }
 },
 "nbformat": 4,
 "nbformat_minor": 0
}
