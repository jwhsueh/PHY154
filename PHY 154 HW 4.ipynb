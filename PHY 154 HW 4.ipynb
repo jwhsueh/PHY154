{
 "cells": [
  {
   "cell_type": "code",
   "execution_count": 1,
   "metadata": {
    "collapsed": false
   },
   "outputs": [
    {
     "data": {
      "image/png": "[encoded data removed]",
      "text/plain": [
       "<matplotlib.figure.Figure at 0x109f77fd0>"
      ]
     },
     "metadata": {},
     "output_type": "display_data"
    }
   ],
   "source": [
    "import numpy as np\n",
    "import matplotlib.pyplot as plt\n",
    "\n",
    "%matplotlib inline\n",
    "PHY157file='/Users/noahknoblauch/PHY154/Velocity_data.txt'\n",
    "Velocity_data=np.loadtxt(PHY157file)\n",
    "\n",
    "\n",
    "radius=Velocity_data[:,0]\n",
    "velocity=Velocity_data[:,1]\n",
    "\n",
    "x=[]\n",
    "for i in radius:\n",
    "    i=0.2*i/18.5\n",
    "    x.append(i)\n",
    "    \n",
    "\n",
    "xerr=x*velocity\n",
    "\n",
    "plt.scatter(radius,velocity)\n",
    "plt.errorbar(radius,velocity,xerr,fmt='none')\n",
    "plt.ylim(0,400)\n",
    "plt.grid()\n",
    "plt.show()"
   ]
  },
  {
   "cell_type": "code",
   "execution_count": 24,
   "metadata": {
    "collapsed": false
   },
   "outputs": [],
   "source": []
  },
  {
   "cell_type": "code",
   "execution_count": null,
   "metadata": {
    "collapsed": true
   },
   "outputs": [],
   "source": []
  }
 ],
 "metadata": {
  "kernelspec": {
   "display_name": "Python 2",
   "language": "python",
   "name": "python2"
  },
  "language_info": {
   "codemirror_mode": {
    "name": "ipython",
    "version": 2
   },
   "file_extension": ".py",
   "mimetype": "text/x-python",
   "name": "python",
   "nbconvert_exporter": "python",
   "pygments_lexer": "ipython2",
   "version": "2.7.11"
  }
 },
 "nbformat": 4,
 "nbformat_minor": 0
}
