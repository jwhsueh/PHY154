{
 "cells": [
  {
   "cell_type": "code",
   "execution_count": 1,
   "metadata": {
    "collapsed": false
   },
   "outputs": [
    {
     "name": "stdout",
     "output_type": "stream",
     "text": [
      "Populating the interactive namespace from numpy and matplotlib\n"
     ]
    }
   ],
   "source": [
    "%pylab inline\n",
    "from astropy import constants as const\n",
    "from astropy import units as u"
   ]
  },
  {
   "cell_type": "code",
   "execution_count": 4,
   "metadata": {
    "collapsed": false
   },
   "outputs": [
    {
     "data": {
      "text/latex": [
       "$254.42941 \\; \\mathrm{K}$"
      ],
      "text/plain": [
       "<Quantity 254.4294124817241 K>"
      ]
     },
     "execution_count": 4,
     "metadata": {},
     "output_type": "execute_result"
    }
   ],
   "source": [
    "#1 (a) for planetary albedo of .3\n",
    "\n",
    "const.sigma_sb\n",
    "T_sun = 5777*u.K \n",
    "A = .3\n",
    "flux = const.sigma_sb * (T_sun)**4.0\n",
    "Luminosity = 4.0 * np.pi * const.R_sun**2.0 * flux\n",
    "flux_in = Luminosity/ (4*np.pi*(1.5e11*u.m)**2.0)\n",
    "energy_in = flux_in*(np.pi*const.R_earth**2.0)*(1-A)\n",
    "flux_out = energy_in/(4*np.pi*const.R_earth**2.0)\n",
    "T_earth = (flux_out/const.sigma_sb)**(1.0/4.0)\n",
    "T_earth"
   ]
  },
  {
   "cell_type": "code",
   "execution_count": 25,
   "metadata": {
    "collapsed": false
   },
   "outputs": [
    {
     "data": {
      "text/latex": [
       "$290.52235 \\; \\mathrm{K}$"
      ],
      "text/plain": [
       "<Quantity 290.5223479664891 K>"
      ]
     },
     "execution_count": 25,
     "metadata": {},
     "output_type": "execute_result"
    }
   ],
   "source": [
    "#(b) assuming greenhouse effect for (1-A) reabsorbtion\n",
    "\n",
    "const.sigma_sb\n",
    "T_sun = 5777*u.K \n",
    "A = .3\n",
    "flux = const.sigma_sb * (T_sun)**4.0\n",
    "Luminosity = 4.0 * np.pi * const.R_sun**2.0 * flux\n",
    "flux_in = Luminosity/ (4*np.pi*(1.5e11*u.m)**2.0)\n",
    "energy_in = flux_in*(np.pi*const.R_earth**2.0)*(1-A)\n",
    "flux_out = energy_in/(4*np.pi*const.R_earth**2.0)*(1.7)\n",
    "T_earth = (flux_out/const.sigma_sb)**(1.0/4.0)\n",
    "T_earth\n"
   ]
  },
  {
   "cell_type": "code",
   "execution_count": 8,
   "metadata": {
    "collapsed": false
   },
   "outputs": [],
   "source": [
    "#(c)\n",
    "def T(Lambda):\n",
    "    return ((((1.0-(Lambda))*(flux_in))/(4.0))/(const.sigma_sb))**(1.0/4.0)\n",
    "\n",
    "Albedo = 0.30\n",
    "\n"
   ]
  },
  {
   "cell_type": "markdown",
   "metadata": {},
   "source": [
    "#(d) \n",
    "Increased concentration of greenhouse gasses results in an increase in trapped infrared radiation. The most prominent of the gasses is water, which absorbs radiation over a large spectrum of longer wavelengths. This is not as problematic as CO2 because the amount of water vapor is not increasing as much as CO2."
   ]
  },
  {
   "cell_type": "code",
   "execution_count": null,
   "metadata": {
    "collapsed": true
   },
   "outputs": [],
   "source": [
    "#(e) Yes we are in trouble."
   ]
  },
  {
   "cell_type": "code",
   "execution_count": 14,
   "metadata": {
    "collapsed": false
   },
   "outputs": [
    {
     "data": {
      "image/png": "[encoded data removed]",
      "text/plain": [
       "<matplotlib.figure.Figure at 0x7f60bdc5dc90>"
      ]
     },
     "metadata": {},
     "output_type": "display_data"
    }
   ],
   "source": [
    "#2(a)\n",
    "\n",
    "from mpl_toolkits.basemap import Basemap\n",
    "from netCDF4 import Dataset, date2index\n",
    "import numpy as np\n",
    "import matplotlib.pyplot as plt\n",
    "from datetime import datetime\n",
    "\n",
    "\n",
    "\n",
    "\n",
    "date = datetime(2016,1,1,0) # date to plot.\n",
    "# open dataset.\n",
    "dataset = \\\n",
    "Dataset('http://www.ncdc.noaa.gov/thredds/dodsC/OISST-V2-AVHRR_agg')\n",
    "timevar = dataset.variables['time']\n",
    "timeindex = date2index(date,timevar) # find time index for desired date.\n",
    "# read sst.  Will automatically create a masked array using\n",
    "# missing_value variable attribute. 'squeeze out' singleton dimensions.\n",
    "sst = dataset.variables['sst'][timeindex,:].squeeze()\n",
    "# read ice.\n",
    "ice = dataset.variables['ice'][timeindex,:].squeeze()\n",
    "# read lats and lons (representing centers of grid boxes).\n",
    "lats = dataset.variables['lat'][:]\n",
    "lons = dataset.variables['lon'][:]\n",
    "lons, lats = np.meshgrid(lons,lats)\n",
    "# create figure, axes instances.\n",
    "fig = plt.figure()\n",
    "ax = fig.add_axes([0.05,0.05,0.9,0.9])\n",
    "# create Basemap instance.\n",
    "# coastlines not used, so resolution set to None to skip\n",
    "# continent processing (this speeds things up a bit)\n",
    "m = Basemap(llcrnrlon=-150.,llcrnrlat=-5.,urcrnrlon=-90.,urcrnrlat=5.,\n",
    "           projection='mill',lon_0=0,\n",
    "          resolution =None)\n",
    "\n",
    "# draw line around map projection limb.\n",
    "# color background of map projection region.\n",
    "# missing values over land will show up this color.\n",
    "m.drawmapboundary(fill_color='0.3')\n",
    "# plot sst, then ice with pcolor\n",
    "im1 = m.pcolormesh(lons,lats,sst,shading='flat',cmap=plt.cm.jet,latlon=True)\n",
    "im2 = m.pcolormesh(lons,lats,ice,shading='flat',cmap=plt.cm.gist_gray,latlon=True)\n",
    "# draw parallels and meridians, but don't bother labelling them.\n",
    "m.drawparallels(np.arange(-90.,99.,30.))\n",
    "m.drawmeridians(np.arange(-180.,180.,60.))\n",
    "# add colorbar\n",
    "cb = m.colorbar(im1,\"bottom\", size=\"5%\", pad=\"2%\")\n",
    "# add a title.\n",
    "ax.set_title('SST and ICE analysis for %s'%date)\n",
    "plt.show()"
   ]
  },
  {
   "cell_type": "code",
   "execution_count": 18,
   "metadata": {
    "collapsed": false
   },
   "outputs": [
    {
     "data": {
      "text/plain": [
       "<matplotlib.text.Text at 0x7f60bddd9c10>"
      ]
     },
     "execution_count": 18,
     "metadata": {},
     "output_type": "execute_result"
    },
    {
     "data": {
      "image/png": "[encoded data removed]",
      "text/plain": [
       "<matplotlib.figure.Figure at 0x7f60bdd00f10>"
      ]
     },
     "metadata": {},
     "output_type": "display_data"
    }
   ],
   "source": [
    "data = np.loadtxt(\"calidata_final.dat\")\n",
    "nino3 = data[:,4]\n",
    "years = data[:,0]\n",
    "\n",
    "plt.figure(figsize=(15,10))\n",
    "plt.scatter(years, nino3)\n",
    "plt.grid(True,linestyle=\"-.\")\n",
    "plt.xlabel('Time [yr]',fontsize=16)\n",
    "plt.ylabel('Difference in average temperature [C]', fontsize=16)\n",
    "plt.title('Temp difference vs Time',fontsize=20)"
   ]
  },
  {
   "cell_type": "code",
   "execution_count": 19,
   "metadata": {
    "collapsed": true
   },
   "outputs": [],
   "source": [
    "#(c) The five largest El Nino events were in 1973, 1983, 1987, 1992, and 1998"
   ]
  },
  {
   "cell_type": "code",
   "execution_count": 20,
   "metadata": {
    "collapsed": false
   },
   "outputs": [
    {
     "data": {
      "text/plain": [
       "array([[  1.97000000e+03,   6.94305000e+00,   3.97662400e+02,\n",
       "         -9.90000000e+01,   7.70000000e-01],\n",
       "       [  1.97100000e+03,   5.28360000e+00,   2.28904800e+02,\n",
       "         -9.90000000e+01,  -1.45000000e+00],\n",
       "       [  1.97200000e+03,   4.62315000e+00,   2.26339400e+02,\n",
       "         -9.90000000e+01,  -6.00000000e-01],\n",
       "       [  1.97300000e+03,   4.48440000e+00,   3.66293400e+02,\n",
       "         -9.90000000e+01,   1.74000000e+00],\n",
       "       [  1.97400000e+03,   5.61660000e+00,   2.89560000e+02,\n",
       "         -9.90000000e+01,  -1.46000000e+00],\n",
       "       [  1.97500000e+03,   5.20035000e+00,   2.67538200e+02,\n",
       "         -9.90000000e+01,  -6.40000000e-01],\n",
       "       [  1.97600000e+03,   6.46020000e+00,   1.37033000e+02,\n",
       "         -9.90000000e+01,  -1.49000000e+00],\n",
       "       [  1.97700000e+03,   6.27705000e+00,   1.02819200e+02,\n",
       "         -9.90000000e+01,   7.00000000e-01],\n",
       "       [  1.97800000e+03,   7.14285000e+00,   4.93420400e+02,\n",
       "         -9.90000000e+01,   1.70000000e-01],\n",
       "       [  1.97900000e+03,   4.17915000e+00,   2.95681400e+02,\n",
       "         -9.90000000e+01,  -1.00000000e-02],\n",
       "       [  1.98000000e+03,   7.32045000e+00,   4.40385200e+02,\n",
       "         -9.90000000e+01,   3.40000000e-01],\n",
       "       [  1.98100000e+03,   7.55910000e+00,   2.38556800e+02,\n",
       "          2.58000000e+01,  -2.80000000e-01],\n",
       "       [  1.98200000e+03,   6.13830000e+00,   3.08864000e+02,\n",
       "          5.80000000e+01,   2.10000000e-01],\n",
       "       [  1.98300000e+03,   6.03840000e+00,   4.43255400e+02,\n",
       "          7.55000000e+01,   3.06000000e+00],\n",
       "       [  1.98400000e+03,   6.59895000e+00,   2.53644400e+02,\n",
       "          4.01000000e+01,  -5.30000000e-01],\n",
       "       [  1.98500000e+03,   4.96170000e+00,   1.46989800e+02,\n",
       "          2.60000000e+01,  -1.21000000e+00],\n",
       "       [  1.98600000e+03,   7.38150000e+00,   3.86029200e+02,\n",
       "          5.62000000e+01,  -7.40000000e-01],\n",
       "       [  1.98700000e+03,   5.67765000e+00,   1.93090800e+02,\n",
       "          2.32000000e+01,   9.70000000e-01],\n",
       "       [  1.98800000e+03,   5.80530000e+00,   2.53339600e+02,\n",
       "          2.89000000e+01,   6.00000000e-01],\n",
       "       [  1.98900000e+03,   4.70085000e+00,   1.63398200e+02,\n",
       "          3.90000000e+01,  -1.41000000e+00],\n",
       "       [  1.99000000e+03,   5.48895000e+00,   1.62890200e+02,\n",
       "          2.58000000e+01,   2.10000000e-01],\n",
       "       [  1.99100000e+03,   5.96625000e+00,   1.11379000e+02,\n",
       "          9.00000000e+00,  -2.00000000e-02],\n",
       "       [  1.99200000e+03,   6.43800000e+00,   2.70306800e+02,\n",
       "          2.45000000e+01,   1.38000000e+00],\n",
       "       [  1.99300000e+03,   4.64535000e+00,   5.44855400e+02,\n",
       "          9.10000000e+01,   4.00000000e-02],\n",
       "       [  1.99400000e+03,   5.77755000e+00,   2.17957400e+02,\n",
       "          3.09000000e+01,   1.00000000e-02],\n",
       "       [  1.99500000e+03,   6.84870000e+00,   4.24256200e+02,\n",
       "          6.98000000e+01,   7.40000000e-01],\n",
       "       [  1.99600000e+03,   7.52580000e+00,   4.31063400e+02,\n",
       "          4.79000000e+01,  -7.30000000e-01],\n",
       "       [  1.99700000e+03,   6.84870000e+00,   4.42239400e+02,\n",
       "          8.56000000e+01,  -8.00000000e-01],\n",
       "       [  1.99800000e+03,   5.79420000e+00,   5.38835600e+02,\n",
       "          6.76000000e+01,   3.19000000e+00],\n",
       "       [  1.99900000e+03,   5.69430000e+00,   2.64515600e+02,\n",
       "          6.33000000e+01,  -1.07000000e+00],\n",
       "       [  2.00000000e+03,   7.02630000e+00,   3.27583800e+02,\n",
       "          5.17000000e+01,  -1.44000000e+00],\n",
       "       [  2.00100000e+03,   5.67765000e+00,   2.24586800e+02,\n",
       "          2.90000000e+01,  -5.30000000e-01],\n",
       "       [  2.00200000e+03,   6.03285000e+00,   2.41274600e+02,\n",
       "          4.74000000e+01,  -3.90000000e-01],\n",
       "       [  2.00300000e+03,   7.23165000e+00,   3.22427600e+02,\n",
       "          4.79000000e+01,   8.30000000e-01],\n",
       "       [  2.00400000e+03,   5.86635000e+00,   3.64998000e+02,\n",
       "          4.86000000e+01,   2.90000000e-01],\n",
       "       [  2.00500000e+03,   6.46575000e+00,   3.74853200e+02,\n",
       "          5.51000000e+01,   2.60000000e-01],\n",
       "       [  2.00600000e+03,   6.88755000e+00,   3.84733800e+02,\n",
       "          5.80000000e+01,  -5.70000000e-01],\n",
       "       [  2.00700000e+03,   5.72760000e+00,   2.13461600e+02,\n",
       "          3.20000000e+01,   7.50000000e-01]])"
      ]
     },
     "execution_count": 20,
     "metadata": {},
     "output_type": "execute_result"
    }
   ],
   "source": [
    "#(d) The El Nino years sometimes correspond to extreme weather but it is\n",
    "# not always the case."
   ]
  },
  {
   "cell_type": "code",
   "execution_count": 24,
   "metadata": {
    "collapsed": false
   },
   "outputs": [
    {
     "name": "stdout",
     "output_type": "stream",
     "text": [
      "Temperature correlation = 0.0051\n",
      "Precipitation correlation = 0.3771\n",
      "Snow corr = 0.1420\n"
     ]
    }
   ],
   "source": [
    "temp = data[:,1]\n",
    "precip = data[:,2]\n",
    "snow = data[:,3]\n",
    "\n",
    "temperature = np.corrcoef(nino3, temp, rowvar=False, bias=True)\n",
    "precipitation = np.corrcoef(nino3, precip, rowvar=False, bias=True)\n",
    "snowdepth = np.corrcoef(nino3, snow, rowvar=False, bias=True)\n",
    "\n",
    "print \"Temperature correlation = %.4f\" % temperature[1,0]\n",
    "print \"Precipitation correlation = %.4f\" % precipitation[1,0]\n",
    "print \"Snow corr = %.4f\" % snowdepth[1,0]\n"
   ]
  },
  {
   "cell_type": "code",
   "execution_count": null,
   "metadata": {
    "collapsed": true
   },
   "outputs": [],
   "source": [
    "# This suggests that ENSO doesn't correlate with temperature but has a \n",
    "# slight correlation with precipitation and less so with snow.\n",
    "# this seems consistant with the intro maps."
   ]
  },
  {
   "cell_type": "code",
   "execution_count": null,
   "metadata": {
    "collapsed": true
   },
   "outputs": [],
   "source": [
    "#f The graphic shows a warm temperatures moving to the north west. We are in\n",
    "# a warm event."
   ]
  }
 ],
 "metadata": {
  "kernelspec": {
   "display_name": "Python 2",
   "language": "python",
   "name": "python2"
  },
  "language_info": {
   "codemirror_mode": {
    "name": "ipython",
    "version": 2
   },
   "file_extension": ".py",
   "mimetype": "text/x-python",
   "name": "python",
   "nbconvert_exporter": "python",
   "pygments_lexer": "ipython2",
   "version": "2.7.6"
  }
 },
 "nbformat": 4,
 "nbformat_minor": 0
}
