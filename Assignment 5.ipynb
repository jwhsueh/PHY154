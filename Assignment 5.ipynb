{
 "cells": [
  {
   "cell_type": "markdown",
   "metadata": {},
   "source": [
    "## 2 1911 Solar Eclipse ##"
   ]
  },
  {
   "cell_type": "markdown",
   "metadata": {},
   "source": [
    "    (a)\n",
    "    r = (x^2 + b^2)^(1/2)\n",
    "    sin(theta) = b/r\n",
    "    dv_y/dt = GMsin(theta)/(r^2) = GMsin(theta)/(x^2 + b^2) = GMb/(x^2 + b^2)^(3/2) \n",
    "    v_x=c\n",
    "    t = x/v_x = x/c --> x = ct \n",
    "    dv_y = GMb/(c^2*t^2+b^2)^(3/2)dt\n",
    "    v_y = 2GM/bc\n",
    "    tan(alpha) = alpha = v_y/v_x = 2GM/(b*c^2) \n",
    "\n",
    "    (b)\n",
    "    Newton: alpha = 2GM/(b*c^2) = 4.257*10^-6 radians = .878 arcsec \n",
    "    Einstein: alpha  = 8.515*10^-6 radians = 1.756 arcsec"
   ]
  },
  {
   "cell_type": "markdown",
   "metadata": {},
   "source": [
    "## 3 Masses of Galaxies"
   ]
  },
  {
   "cell_type": "markdown",
   "metadata": {},
   "source": [
    "    Ds*theta - Ds*beta = Dds*alpha(hat) \n",
    "    theta - beta = (Dds/Ds)*alpha(hat) \n",
    "    beta = theta - (Dds/Ds)(4GM)/(Dd*theta*c^2)\n",
    "    Assuming Einstein ring, beta = 0\n",
    "    theta_E = (theta_1 + theta_2)/2\n",
    "    M = (Ds/Dds)*theta_E*(Dd*theta_E*c^2)/4G\n",
    "    M = 5.91*10^42 kg"
   ]
  },
  {
   "cell_type": "markdown",
   "metadata": {},
   "source": [
    "## 4 Solving the Lens Equation"
   ]
  },
  {
   "cell_type": "markdown",
   "metadata": {},
   "source": [
    "    (a) If the source is right behind the lensing mass, there are an infinite number of rays. They originate from the source and form an Einstein ring on the lens."
   ]
  },
  {
   "cell_type": "code",
   "execution_count": 2,
   "metadata": {
    "collapsed": true
   },
   "outputs": [],
   "source": [
    "import numpy as np\n",
    "import math\n",
    "import matplotlib.pyplot as plt\n",
    "%matplotlib inline\n",
    "\n",
    "Mpc2m = 3.08*10**22\n",
    "arcs2rad = 4.848*10**(-6)\n",
    "Ds = 1768.2*Mpc2m\n",
    "Dds = 720.9*Mpc2m\n",
    "Dd = 1047.3*Mpc2m\n",
    "M = 5.91*10**42\n",
    "c = 3*10**8\n",
    "G = 6.67408*10**(-11)\n",
    "\n",
    "\n",
    "def betax(x,y):\n",
    "    theta = x - 400\n",
    "    thetb = y - 400\n",
    "    if theta > 0:\n",
    "        beta = (theta)*(0.05*arcs2rad) - (Dds/Ds)*(4*G*M)/((c**2)*np.sqrt(theta**2 + thetb**2)*(0.05*arcs2rad)*Dd)\n",
    "        return beta\n",
    "    else:\n",
    "        beta = (theta)*(0.05*arcs2rad) + (Dds/Ds)*(4*G*M)/((c**2)*np.sqrt(theta**2 + thetb**2)*(0.05*arcs2rad)*Dd)\n",
    "        return beta\n",
    "\n",
    "def betay(x,y):\n",
    "    theta = x - 400\n",
    "    thetb = y - 400\n",
    "    if thetb > 0:\n",
    "        beta = (thetb)*(0.05*arcs2rad) - (Dds/Ds)*(4*G*M)/((c**2)*np.sqrt(theta**2 + thetb**2)*(0.05*arcs2rad)*Dd)\n",
    "        return beta\n",
    "    else:\n",
    "        beta = (thetb)*(0.05*arcs2rad) + (Dds/Ds)*(4*G*M)/((c**2)*np.sqrt(theta**2 + thetb**2)*(0.05*arcs2rad)*Dd)\n",
    "        return beta\n",
    "\n",
    "\n",
    "def xbeta(x,y):\n",
    "    if x == 400:# or y == 400:\n",
    "        return 0\n",
    "    else:\n",
    "        xbeta = betax(x,y)\n",
    "        xbeta = int(round(206271 * xbeta / 0.05))\n",
    "        return xbeta\n",
    "\n",
    "def ybeta(x,y):\n",
    "    if y == 400:# or x == 400:\n",
    "        return 0\n",
    "    else:\n",
    "        ybeta = betay(x,y)\n",
    "        ybeta = int(round(206271 * ybeta / 0.05))\n",
    "        return ybeta\n",
    "\n",
    "lscreen = np.zeros((800,800,2))\n",
    "rscreen = np.zeros((800,800,2))\n",
    "\n",
    "x = 1\n",
    "y = 1\n",
    "\n",
    "for x in range(1,801):\n",
    "    #lscreen[x-1, y-1, 0] = xbeta(x,y)\n",
    "    #lscreen[x-1, y-1, 1] = ybeta(x,y)\n",
    "    for y in range(1,801):\n",
    "        lscreen[799-x, 799-y, 0] = -xbeta(x,y)/10\n",
    "        lscreen[799-x, 799-y, 1] = -ybeta(x,y)/10"
   ]
  },
  {
   "cell_type": "code",
   "execution_count": 3,
   "metadata": {
    "collapsed": false
   },
   "outputs": [
    {
     "name": "stdout",
     "output_type": "stream",
     "text": [
      "(c)\n"
     ]
    },
    {
     "data": {
      "image/png": "[encoded data removed]",
      "text/plain": [
       "<matplotlib.figure.Figure at 0x3872b70>"
      ]
     },
     "metadata": {},
     "output_type": "display_data"
    }
   ],
   "source": [
    "source = np.zeros((400,2))\n",
    "\n",
    "i = 0\n",
    "xoff = 0\n",
    "yoff = 0\n",
    "    \n",
    "for a in range(-10,11):\n",
    "    for b in range(-10,11):\n",
    "        vala = a**2\n",
    "        valb = b**2\n",
    "        val = vala + valb\n",
    "        value = int(round(np.sqrt(val)))\n",
    "        if a == 0 and b == 0:\n",
    "            i = i\n",
    "        elif  value < 11:\n",
    "            source[i,0] = a + xoff\n",
    "            source[i,1] = b + yoff\n",
    "            i += 1\n",
    "            \n",
    "ahit = []\n",
    "bhit = []\n",
    "\n",
    "xoff = 0\n",
    "yoff = 0\n",
    "\n",
    "for x in range(0, 800):\n",
    "    for y in range(0, 800):\n",
    "        for i in range(0,400): \n",
    "            if source[i,0] == lscreen[x,y,0] and source[i,1] == lscreen[x,y,1]:\n",
    "                if a != 0 and b !=0:\n",
    "                    ahit.append(x+1)\n",
    "                    bhit.append(y+1)\n",
    "                    \n",
    "print \"(c)\"\n",
    "                    \n",
    "plt.scatter(ahit,bhit)\n",
    "plt.ylim(0,800)\n",
    "plt.xlim(0,800)\n",
    "plt.show()"
   ]
  },
  {
   "cell_type": "code",
   "execution_count": 4,
   "metadata": {
    "collapsed": false
   },
   "outputs": [
    {
     "name": "stdout",
     "output_type": "stream",
     "text": [
      "(d)\n"
     ]
    },
    {
     "data": {
      "image/png": "[encoded data removed]",
      "text/plain": [
       "<matplotlib.figure.Figure at 0x3905080>"
      ]
     },
     "metadata": {},
     "output_type": "display_data"
    }
   ],
   "source": [
    "source = np.zeros((400,2))\n",
    "\n",
    "i = 0\n",
    "xoff = -20\n",
    "yoff = -20\n",
    "    \n",
    "for a in range(-10,11):\n",
    "    for b in range(-10,11):\n",
    "        vala = a**2\n",
    "        valb = b**2\n",
    "        val = vala + valb\n",
    "        value = int(round(np.sqrt(val)))\n",
    "        if a == 0 and b == 0:\n",
    "            i = i\n",
    "        elif  value < 11:\n",
    "            source[i,0] = a + xoff\n",
    "            source[i,1] = b + yoff\n",
    "            i += 1\n",
    "            \n",
    "ahit = []\n",
    "bhit = []\n",
    "\n",
    "for x in range(0, 800):\n",
    "    for y in range(0, 800):\n",
    "        for i in range(0,400):\n",
    "            if source[i,0] == lscreen[x,y,0] and source[i,1] == lscreen[x,y,1]:\n",
    "                if a != 0 and b !=0:\n",
    "                    ahit.append(x+1)\n",
    "                    bhit.append(y+1)\n",
    "\n",
    "print \"(d)\"\n",
    "                    \n",
    "plt.scatter(ahit,bhit)\n",
    "plt.ylim(0,800)\n",
    "plt.xlim(0,800)\n",
    "plt.show()"
   ]
  },
  {
   "cell_type": "markdown",
   "metadata": {
    "collapsed": true
   },
   "source": [
    "## 5 Gravitational lensing and the Bullet Cluster"
   ]
  },
  {
   "cell_type": "markdown",
   "metadata": {},
   "source": [
    "    (a)\n",
    "    tau = (sigma/m)*Sigma\n",
    "    \n",
    "    (b)\n",
    "    Sigma = 0.02 m^2/kg\n",
    "    We can say that sigma/m must be very small or almost infinitesimal because if the particles do not scatter at a detectable level then tau must be close to zero. "
   ]
  }
 ],
 "metadata": {
  "kernelspec": {
   "display_name": "Python 2",
   "language": "python",
   "name": "python2"
  },
  "language_info": {
   "codemirror_mode": {
    "name": "ipython",
    "version": 2
   },
   "file_extension": ".py",
   "mimetype": "text/x-python",
   "name": "python",
   "nbconvert_exporter": "python",
   "pygments_lexer": "ipython2",
   "version": "2.7.11"
  }
 },
 "nbformat": 4,
 "nbformat_minor": 0
}
