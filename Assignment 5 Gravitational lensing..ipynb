{
 "cells": [
  {
   "cell_type": "code",
   "execution_count": 1,
   "metadata": {
    "collapsed": true
   },
   "outputs": [],
   "source": [
    "#Elizabeth and Nathan\n",
    "\n",
    "# Part A\n",
    "\n",
    "\n",
    "import scipy\n",
    "\n",
    "import numpy as np\n",
    "\n",
    "import matplotlib.pyplot as plt\n",
    "\n",
    "from scipy.integrate import odeint\n",
    "\n",
    "from astropy import constants as constants\n",
    "\n",
    "from astropy import units as units\n",
    "\n",
    "import math \n",
    "\n",
    "%matplotlib inline\n",
    "\n",
    "\n",
    "\n",
    "\n",
    "\n",
    "\n",
    "c_r= (1.0/3600)* ((np.pi)/180) #arcsec t0 rad\n",
    "\n",
    "N=800\n",
    "\n",
    "delta= 0.05*c_r\n",
    "Dl=1047.3*3.08E22\n",
    "Ds=1768.2*3.08E22\n",
    "G=2.30E-11\n",
    "M=5.9E42\n",
    "c=3.0E8\n",
    "cs=c*c\n",
    "\n",
    "\n",
    "center_x, center_y=400,400\n",
    "\n",
    "origin_theta= 400\n",
    "\n",
    "\n",
    "\n",
    "theta=[[0]*N for _ in range(N)]    \n",
    "\n",
    "#rho_left=[[0]*N for _ in range(N)]\n",
    "\n",
    "rho=[[0]*N for _ in range(N)]\n",
    "\n",
    "for i in range(N):\n",
    "    \n",
    "    for j in range(N):\n",
    "        \n",
    "        nx= float(i-origin_theta)\n",
    "    \n",
    "        ny= float(j-origin_theta)\n",
    "        \n",
    "        \n",
    "            \n",
    "        rho[i][j]=math.atan2(float(ny),float(nx))\n",
    "            \n",
    "        theta[i][j]= delta*np.sqrt(nx**2+ ny**2)\n",
    "        \n",
    "        \n",
    "        \n",
    "\n",
    "alpha=[[0]*N for _ in range(N)]    \n",
    "\n",
    "for i in range(N):\n",
    "    \n",
    "    for j in range(N):\n",
    "    \n",
    "        nx=i-origin_theta\n",
    "    \n",
    "        ny=j-origin_theta\n",
    "        \n",
    "        if theta[i][j]==0:\n",
    "            \n",
    "            alpha[i][j]=0\n",
    "        else:\n",
    "                \n",
    "            alpha[i][j]=((Ds-Dl)/(Ds))*((4*G*M)/((theta[i][j])*cs*Dl))\n",
    "\n",
    "                                    \n",
    "#beta1=np.zeros((5, 5, 1))                                    \n",
    "\n",
    "beta=[[0]*N for _ in range(N)]\n",
    "\n",
    "for i in range(N):\n",
    "    \n",
    "    for j in range(N):\n",
    "    \n",
    "        nx=i-origin_theta\n",
    "    \n",
    "        ny=j-origin_theta\n",
    "    \n",
    "        beta[i][j]= ((theta[i][j]) - (alpha[i][j]))\n",
    "    \n",
    "BetaX = np.zeros((N,N,2))\n",
    "                                    \n",
    "for i in range(N):\n",
    "    \n",
    "    for j in range(N):\n",
    "        \n",
    "        x=np.cos(rho[i][j])*beta[i][j]\n",
    "        \n",
    "        y=np.sin(rho[i][j])*beta[i][j]\n",
    "        \n",
    "        BetaX[i,j,0] = int(round(x*206271/0.05))\n",
    "        \n",
    "        BetaX[i,j,1] = int(round(y*206271/0.05))\n",
    "        \n",
    "\n",
    "        \n",
    "        \n",
    "#print theta\n",
    "\n",
    "#print \"hello\" \n",
    "\n",
    "#print rho\n",
    "#print \"he\"\n",
    "#print alpha\n",
    "\n",
    "#print \"hell\"\n",
    "\n",
    "#print beta"
   ]
  },
  {
   "cell_type": "code",
   "execution_count": 2,
   "metadata": {
    "collapsed": false
   },
   "outputs": [
    {
     "data": {
      "text/plain": [
       "<matplotlib.collections.PathCollection at 0x796f048>"
      ]
     },
     "execution_count": 2,
     "metadata": {},
     "output_type": "execute_result"
    },
    {
     "data": {
      "image/png": "[encoded data removed]",
      "text/plain": [
       "<matplotlib.figure.Figure at 0x36ef780>"
      ]
     },
     "metadata": {},
     "output_type": "display_data"
    }
   ],
   "source": [
    "# Part C\n",
    "\n",
    "\n",
    "a = 10\n",
    "xoffset = 0\n",
    "yoffset = 0\n",
    "xb = []\n",
    "yb = []\n",
    "\n",
    "for i in range(-a,a+1):\n",
    "    for j in range(-a,a+1):\n",
    "        rab = np.sqrt((i)**2 + (j)**2)\n",
    "        \n",
    "        if i==0 and j==0:\n",
    "            i=i\n",
    "        \n",
    "        elif rab <= a:\n",
    "            xb.append(i + xoffset)\n",
    "            yb.append(j + yoffset)\n",
    "#print xb\n",
    "#print yb\n",
    "\n",
    "xxx = []\n",
    "yyy = []\n",
    "for i in range(N):\n",
    "    for j in range(N):\n",
    "        for k in range(len(xb)):\n",
    "            if xb[k] == BetaX[i,j,0] and yb[k] == BetaX[i,j,1]:\n",
    "                xxx.append(i+1)\n",
    "                yyy.append(j+1)\n",
    "\n",
    "plt.scatter(xxx, yyy)\n",
    "\n",
    "#plt.xlim(0, 800)\n",
    "#plt.ylim(0, 800)"
   ]
  },
  {
   "cell_type": "code",
   "execution_count": 2,
   "metadata": {
    "collapsed": false
   },
   "outputs": [
    {
     "data": {
      "text/plain": [
       "<matplotlib.collections.PathCollection at 0xd203048>"
      ]
     },
     "execution_count": 2,
     "metadata": {},
     "output_type": "execute_result"
    },
    {
     "data": {
      "image/png": "[encoded data removed]",
      "text/plain": [
       "<matplotlib.figure.Figure at 0x36f3d68>"
      ]
     },
     "metadata": {},
     "output_type": "display_data"
    }
   ],
   "source": [
    "# Part D\n",
    "\n",
    "\n",
    "\n",
    "\n",
    "a = 10\n",
    "xoffset = 10\n",
    "yoffset = 20\n",
    "xb = []\n",
    "yb = []\n",
    "\n",
    "for i in range(-a,a+1):\n",
    "    for j in range(-a,a+1):\n",
    "        rab = np.sqrt((i)**2 + (j)**2)\n",
    "        \n",
    "        if i==0 and j==0:\n",
    "            i=i\n",
    "        \n",
    "        elif rab <= a:\n",
    "            xb.append(i + xoffset)\n",
    "            yb.append(j + yoffset)\n",
    "#print xb\n",
    "#print yb\n",
    "\n",
    "xxx = []\n",
    "yyy = []\n",
    "for i in range(N):\n",
    "    for j in range(N):\n",
    "        for k in range(len(xb)):\n",
    "            if xb[k] == BetaX[i,j,0] and yb[k] == BetaX[i,j,1]:\n",
    "                xxx.append(i+1)\n",
    "                yyy.append(j+1)\n",
    "\n",
    "plt.scatter(xxx, yyy)\n",
    "\n",
    "#plt.xlim(0, 800)\n",
    "#plt.ylim(0, 800)"
   ]
  },
  {
   "cell_type": "code",
   "execution_count": null,
   "metadata": {
    "collapsed": false
   },
   "outputs": [],
   "source": []
  }
 ],
 "metadata": {
  "kernelspec": {
   "display_name": "Python 2",
   "language": "python",
   "name": "python2"
  },
  "language_info": {
   "codemirror_mode": {
    "name": "ipython",
    "version": 2
   },
   "file_extension": ".py",
   "mimetype": "text/x-python",
   "name": "python",
   "nbconvert_exporter": "python",
   "pygments_lexer": "ipython2",
   "version": "2.7.11"
  }
 },
 "nbformat": 4,
 "nbformat_minor": 0
}
