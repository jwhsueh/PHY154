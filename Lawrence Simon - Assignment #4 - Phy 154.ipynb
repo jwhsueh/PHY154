{
 "cells": [
  {
   "cell_type": "code",
   "execution_count": 2,
   "metadata": {
    "collapsed": true
   },
   "outputs": [],
   "source": [
    "# Problem 1a: Estimate the power law form for the velocity as a function of the radius\n",
    "# Calculate Density as a function of radius for all these systems\n",
    "\n",
    "# A: v(r) = r*(omega)\n",
    "# We know that we have a constant since we have a linear relationship, and we know that that constant is omega because the angle changes.\n",
    "\n",
    "# B: We have two portions that I will have different velocities for:\n",
    "# First portion: speed increases linearly as a function of distance\n",
    "# Equation of First portion: v = r*(omega)\n",
    "# Second portion: speed is constant as a function of distance\n",
    "# Equation of Second Portion: v = v_constant\n",
    "# Note that the Constant here represents a constant speed, v_constant\n",
    "\n",
    "# C: v(r) proportional to 1/(sqrt(r))\n",
    "\n",
    "# D: v(r) proportional to r^2\n",
    "\n",
    "# To determine density, we will assume same density profile everywhere.\n",
    "# rho = (rho_0)*(r^n)\n",
    "# Our goal will be to calculate n.\n",
    "\n",
    "# For Part A: rho is constant.\n",
    "# therefore, mass, M, is proportional to r^3\n",
    "# v proportional to r\n",
    "\n",
    "# For Part B: we have two parts here as mentioned earlier\n",
    "# Linear Part: v proportional to r\n",
    "# Constant Part: v proportional to constant, v_constant\n",
    "# calculating the integral:\n",
    "# M = Integral (rho*(r^n)*(4*pi*r^2) dr)\n",
    "# M = Integral (rho*(r^(n+2)*(4*pi)) dr)\n",
    "# M = (4*pi*rho)*((r^(n+3))/(n+3))\n",
    "# For this to work, we need n = -2, because we know that 4*pi*rho*r will give us ((v^2)*(r)/(G))\n",
    "\n",
    "# For Part C: We have that velocity is proportional to 1/sqrt(r)\n",
    "\n",
    "# For Part D: Mass depends on r^5"
   ]
  },
  {
   "cell_type": "code",
   "execution_count": null,
   "metadata": {
    "collapsed": true
   },
   "outputs": [],
   "source": []
  }
 ],
 "metadata": {
  "kernelspec": {
   "display_name": "Python 2",
   "language": "python",
   "name": "python2"
  },
  "language_info": {
   "codemirror_mode": {
    "name": "ipython",
    "version": 2
   },
   "file_extension": ".py",
   "mimetype": "text/x-python",
   "name": "python",
   "nbconvert_exporter": "python",
   "pygments_lexer": "ipython2",
   "version": "2.7.6"
  }
 },
 "nbformat": 4,
 "nbformat_minor": 0
}
