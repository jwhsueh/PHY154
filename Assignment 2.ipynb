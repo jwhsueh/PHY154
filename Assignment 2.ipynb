{
 "cells": [
  {
   "cell_type": "code",
   "execution_count": 3,
   "metadata": {
    "collapsed": true
   },
   "outputs": [],
   "source": [
    "M=2.0e30 #Solar mass in kilograms #Problem 1a"
   ]
  },
  {
   "cell_type": "code",
   "execution_count": null,
   "metadata": {
    "collapsed": true
   },
   "outputs": [],
   "source": []
  },
  {
   "cell_type": "code",
   "execution_count": 4,
   "metadata": {
    "collapsed": true
   },
   "outputs": [],
   "source": [
    "L=3.8e26 #Solar luminosity in Joules per second"
   ]
  },
  {
   "cell_type": "code",
   "execution_count": 5,
   "metadata": {
    "collapsed": true
   },
   "outputs": [],
   "source": [
    "pi=3.141596"
   ]
  },
  {
   "cell_type": "code",
   "execution_count": 6,
   "metadata": {
    "collapsed": true
   },
   "outputs": [],
   "source": [
    "H=1.00784 #Mass hydrogen in amu"
   ]
  },
  {
   "cell_type": "code",
   "execution_count": 7,
   "metadata": {
    "collapsed": true
   },
   "outputs": [],
   "source": [
    "He=4.002602 #Mass helium in amu"
   ]
  },
  {
   "cell_type": "code",
   "execution_count": 9,
   "metadata": {
    "collapsed": false
   },
   "outputs": [
    {
     "data": {
      "text/plain": [
       "1675.313405904783"
      ]
     },
     "execution_count": 9,
     "metadata": {},
     "output_type": "execute_result"
    }
   ],
   "source": [
    "10**7*M/L*1/(pi*10**7) #Time in years of sun burning chemically"
   ]
  },
  {
   "cell_type": "code",
   "execution_count": 12,
   "metadata": {
    "collapsed": true
   },
   "outputs": [],
   "source": [
    "m=(4*H-He)*1.660468e-27 #mass released by nuclear fusion in kg #Problem 1b"
   ]
  },
  {
   "cell_type": "code",
   "execution_count": 13,
   "metadata": {
    "collapsed": false
   },
   "outputs": [
    {
     "data": {
      "text/plain": [
       "4.775173874399973e-29"
      ]
     },
     "execution_count": 13,
     "metadata": {},
     "output_type": "execute_result"
    }
   ],
   "source": [
    "m"
   ]
  },
  {
   "cell_type": "code",
   "execution_count": 14,
   "metadata": {
    "collapsed": true
   },
   "outputs": [],
   "source": [
    "c=3.0e8 #speed of light"
   ]
  },
  {
   "cell_type": "code",
   "execution_count": 15,
   "metadata": {
    "collapsed": true
   },
   "outputs": [],
   "source": [
    "E=m*c**2"
   ]
  },
  {
   "cell_type": "code",
   "execution_count": 16,
   "metadata": {
    "collapsed": false
   },
   "outputs": [
    {
     "data": {
      "text/plain": [
       "4.297656486959976e-12"
      ]
     },
     "execution_count": 16,
     "metadata": {},
     "output_type": "execute_result"
    }
   ],
   "source": [
    "E"
   ]
  },
  {
   "cell_type": "code",
   "execution_count": 31,
   "metadata": {
    "collapsed": false
   },
   "outputs": [],
   "source": [
    "P= M/(H*1.660468e-27) #protons in sun"
   ]
  },
  {
   "cell_type": "code",
   "execution_count": 32,
   "metadata": {
    "collapsed": false
   },
   "outputs": [],
   "source": [
    "R=P/4 #number of reactions"
   ]
  },
  {
   "cell_type": "code",
   "execution_count": 33,
   "metadata": {
    "collapsed": false
   },
   "outputs": [
    {
     "data": {
      "text/plain": [
       "2.9877750955102018e+56"
      ]
     },
     "execution_count": 33,
     "metadata": {},
     "output_type": "execute_result"
    }
   ],
   "source": [
    "R\n"
   ]
  },
  {
   "cell_type": "code",
   "execution_count": 34,
   "metadata": {
    "collapsed": true
   },
   "outputs": [],
   "source": [
    "T=E*R #joules per kilogram"
   ]
  },
  {
   "cell_type": "code",
   "execution_count": 35,
   "metadata": {
    "collapsed": false
   },
   "outputs": [
    {
     "data": {
      "text/plain": [
       "1.284043102079688e+45"
      ]
     },
     "execution_count": 35,
     "metadata": {},
     "output_type": "execute_result"
    }
   ],
   "source": [
    "T"
   ]
  },
  {
   "cell_type": "code",
   "execution_count": 36,
   "metadata": {
    "collapsed": false
   },
   "outputs": [
    {
     "data": {
      "text/plain": [
       "107558731133.68324"
      ]
     },
     "execution_count": 36,
     "metadata": {},
     "output_type": "execute_result"
    }
   ],
   "source": [
    "T/L*(1/(pi*10**7)) #Time burning in years"
   ]
  },
  {
   "cell_type": "code",
   "execution_count": 37,
   "metadata": {
    "collapsed": true
   },
   "outputs": [],
   "source": [
    "E = M*c**2 #Problem 1c"
   ]
  },
  {
   "cell_type": "code",
   "execution_count": 38,
   "metadata": {
    "collapsed": false
   },
   "outputs": [
    {
     "data": {
      "text/plain": [
       "1.8e+47"
      ]
     },
     "execution_count": 38,
     "metadata": {},
     "output_type": "execute_result"
    }
   ],
   "source": [
    "E"
   ]
  },
  {
   "cell_type": "code",
   "execution_count": 39,
   "metadata": {
    "collapsed": true
   },
   "outputs": [],
   "source": [
    "Me=113.4 #My mass in kg"
   ]
  },
  {
   "cell_type": "code",
   "execution_count": 40,
   "metadata": {
    "collapsed": true
   },
   "outputs": [],
   "source": [
    "E=Me*c**2"
   ]
  },
  {
   "cell_type": "code",
   "execution_count": 41,
   "metadata": {
    "collapsed": false
   },
   "outputs": [
    {
     "data": {
      "text/plain": [
       "1.0206e+19"
      ]
     },
     "execution_count": 41,
     "metadata": {},
     "output_type": "execute_result"
    }
   ],
   "source": [
    "E"
   ]
  },
  {
   "cell_type": "code",
   "execution_count": 43,
   "metadata": {
    "collapsed": false
   },
   "outputs": [
    {
     "data": {
      "text/plain": [
       "3.2486672379262005e+22"
      ]
     },
     "execution_count": 43,
     "metadata": {},
     "output_type": "execute_result"
    }
   ],
   "source": [
    "E/1000*(1/pi*10**7) #How long would I sustain a household with my energy (in years)?"
   ]
  },
  {
   "cell_type": "code",
   "execution_count": 44,
   "metadata": {
    "collapsed": false
   },
   "outputs": [
    {
     "data": {
      "text/plain": [
       "16243336189631.004"
      ]
     },
     "execution_count": 44,
     "metadata": {},
     "output_type": "execute_result"
    }
   ],
   "source": [
    "E/(2e12)*(1/pi*10**7) #How long would I sustain the world with my energy (in years)?"
   ]
  },
  {
   "cell_type": "code",
   "execution_count": 45,
   "metadata": {
    "collapsed": true
   },
   "outputs": [],
   "source": [
    "years=1/(pi*10**7)"
   ]
  },
  {
   "cell_type": "code",
   "execution_count": 25,
   "metadata": {
    "collapsed": false
   },
   "outputs": [],
   "source": [
    "#Question 1e \n",
    "Lumin = 3.8e26 #Solar luminosity in watts\n",
    "dist = 1.5e11 #distance to the sun from earth in meters"
   ]
  },
  {
   "cell_type": "code",
   "execution_count": null,
   "metadata": {
    "collapsed": false
   },
   "outputs": [],
   "source": []
  },
  {
   "cell_type": "code",
   "execution_count": 26,
   "metadata": {
    "collapsed": false
   },
   "outputs": [],
   "source": [
    "pi=3.141596 "
   ]
  },
  {
   "cell_type": "code",
   "execution_count": 27,
   "metadata": {
    "collapsed": false
   },
   "outputs": [
    {
     "name": "stdout",
     "output_type": "stream",
     "text": [
      "3.8e+26 3.141596 1.5e+11\n",
      "1343.9736434\n"
     ]
    }
   ],
   "source": [
    "print Lumin,pi,dist\n",
    "\n",
    "Flux = Lumin / (4.0*pi*dist**2.0)\n",
    "print Flux"
   ]
  },
  {
   "cell_type": "code",
   "execution_count": 28,
   "metadata": {
    "collapsed": true
   },
   "outputs": [],
   "source": [
    "Power = 2.0e12 #Earth power in Watts"
   ]
  },
  {
   "cell_type": "code",
   "execution_count": 29,
   "metadata": {
    "collapsed": false
   },
   "outputs": [
    {
     "name": "stdout",
     "output_type": "stream",
     "text": [
      "1488124421.05\n"
     ]
    }
   ],
   "source": [
    "Solar = Power / Flux\n",
    "print Solar"
   ]
  },
  {
   "cell_type": "code",
   "execution_count": 31,
   "metadata": {
    "collapsed": false
   },
   "outputs": [],
   "source": [
    "import numpy as np\n",
    "from astropy import constants as constants\n",
    "from astropy import units as units"
   ]
  },
  {
   "cell_type": "code",
   "execution_count": 33,
   "metadata": {
    "collapsed": true
   },
   "outputs": [],
   "source": [
    "#Question 1f\n",
    "#4 protons => He (Helium-4) + 2(positron) + 2(neutrino)"
   ]
  },
  {
   "cell_type": "code",
   "execution_count": 43,
   "metadata": {
    "collapsed": false
   },
   "outputs": [
    {
     "name": "stdout",
     "output_type": "stream",
     "text": [
      "1.08e-12 m3 W / kg2\n",
      "8.24e-31 m3 W / kg2\n",
      "162200.0 kg / m3\n",
      "15710000.0 K\n"
     ]
    }
   ],
   "source": [
    "#Question 1g\n",
    "epsilon_0pp = 1.08e-12*units.W*(units.m**3)*(units.kg**-2)\n",
    "print epsilon_0pp\n",
    "\n",
    "epsilon_0CNO = 8.24e-31*units.W*(units.m**3)*(units.kg**-2)\n",
    "print epsilon_0CNO\n",
    "\n",
    "rho = 1.622e5*(units.kg)/(units.m**3)\n",
    "print rho\n",
    "\n",
    "chi_H = 0.64\n",
    "chi_He = 0.34\n",
    "chi_CNO = 0.015\n",
    "T = 1.571e7*units.K\n",
    "print T"
   ]
  },
  {
   "cell_type": "code",
   "execution_count": 5,
   "metadata": {
    "collapsed": false
   },
   "outputs": [
    {
     "name": "stdout",
     "output_type": "stream",
     "text": [
      "1.08e-12 m3 W / kg2\n",
      "8.24e-31 m3 W / kg2\n",
      "162200.0 kg / m3\n",
      "15710000.0 K\n",
      "0.00437058220825 W / kg\n",
      "0.000816874571117 W / kg\n",
      "1.7482328833e+27 W\n",
      "3.26749828447e+26 W\n"
     ]
    }
   ],
   "source": [
    "import numpy as np\n",
    "from astropy import constants as constants\n",
    "from astropy import units as units\n",
    "\n",
    "epsilon_0pp = 1.08e-12*units.W*(units.m**3)*(units.kg**-2)\n",
    "print epsilon_0pp\n",
    "\n",
    "epsilon_0CNO = 8.24e-31*units.W*(units.m**3)*(units.kg**-2)\n",
    "print epsilon_0CNO\n",
    "\n",
    "rho = 1.622e5*(units.kg)/(units.m**3)\n",
    "print rho\n",
    "\n",
    "chi_H = 0.64\n",
    "chi_He = 0.34\n",
    "chi_CNO = 0.015\n",
    "T = 1.571e7*units.K\n",
    "print T\n",
    "\n",
    "epsilon_pp = epsilon_0pp*rho*chi_H**2*(T/(10**6*units.K))**4\n",
    "print epsilon_pp\n",
    "\n",
    "epsilon_CNO = epsilon_0CNO*rho*chi_H*chi_CNO*(T/(10**6*units.K))**19.9\n",
    "print epsilon_CNO\n",
    "\n",
    "#Power emitted by processes\n",
    "power_pp = epsilon_pp * .2 * 2.0e30*units.kg\n",
    "power_CNO = epsilon_CNO * .2 * 2.0e30*units.kg\n",
    "print power_pp\n",
    "print power_CNO"
   ]
  },
  {
   "cell_type": "code",
   "execution_count": 47,
   "metadata": {
    "collapsed": false
   },
   "outputs": [
    {
     "name": "stdout",
     "output_type": "stream",
     "text": [
      "17457678.6198 K\n"
     ]
    }
   ],
   "source": [
    "T_that_matters = 10**6*units.K*((chi_H*epsilon_0pp)/(chi_CNO*epsilon_0CNO))**(1/15.9)\n",
    "print T_that_matters"
   ]
  },
  {
   "cell_type": "code",
   "execution_count": null,
   "metadata": {
    "collapsed": false
   },
   "outputs": [],
   "source": [
    "x"
   ]
  },
  {
   "cell_type": "code",
   "execution_count": null,
   "metadata": {
    "collapsed": true
   },
   "outputs": [],
   "source": [
    "\n"
   ]
  },
  {
   "cell_type": "code",
   "execution_count": null,
   "metadata": {
    "collapsed": true
   },
   "outputs": [],
   "source": []
  }
 ],
 "metadata": {
  "kernelspec": {
   "display_name": "Python 2",
   "language": "python",
   "name": "python2"
  },
  "language_info": {
   "codemirror_mode": {
    "name": "ipython",
    "version": 2
   },
   "file_extension": ".py",
   "mimetype": "text/x-python",
   "name": "python",
   "nbconvert_exporter": "python",
   "pygments_lexer": "ipython2",
   "version": "2.7.11"
  }
 },
 "nbformat": 4,
 "nbformat_minor": 0
}
