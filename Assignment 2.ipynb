{
 "cells": [
  {
   "cell_type": "code",
   "execution_count": 59,
   "metadata": {
    "collapsed": false
   },
   "outputs": [],
   "source": [
    "import numpy as np\n",
    "from astropy import constants as cn\n",
    "from astropy import units as u\n",
    "pi=3.1415"
   ]
  },
  {
   "cell_type": "code",
   "execution_count": 79,
   "metadata": {
    "collapsed": false
   },
   "outputs": [
    {
     "name": "stdout",
     "output_type": "stream",
     "text": [
      "t= 1638.86571687 yr\n"
     ]
    }
   ],
   "source": [
    "#Question 1\n",
    "\n",
    "#part a \n",
    "\n",
    "#t=r*M/L\n",
    "\n",
    "r=1e7*u.J/u.kg\n",
    "t=((r*cn.M_sun)/cn.L_sun)\n",
    "t=t.to(u.yr)\n",
    "print \"t=\",t"
   ]
  },
  {
   "cell_type": "code",
   "execution_count": 80,
   "metadata": {
    "collapsed": false
   },
   "outputs": [
    {
     "name": "stdout",
     "output_type": "stream",
     "text": [
      "n= 1.05964348281e+11 yr\n"
     ]
    }
   ],
   "source": [
    "#part b \n",
    "\n",
    "#Divide mass of sun by 4 hydrogen mass to see how many reactions can occur. \n",
    "#Multiply by deltaE to find total energy produced. Divide by L_sun to get time.\n",
    "\n",
    "deltaE= 27*u.MeV\n",
    "deltaEJ= deltaE.to(u.J)\n",
    "n=((cn.M_sun/(4*cn.m_p))*deltaEJ)/cn.L_sun\n",
    "n=n.to(u.yr)\n",
    "print \"n=\",n"
   ]
  },
  {
   "cell_type": "code",
   "execution_count": 81,
   "metadata": {
    "collapsed": false
   },
   "outputs": [
    {
     "name": "stdout",
     "output_type": "stream",
     "text": [
      "E= 8.98755178737e+19 J\n"
     ]
    }
   ],
   "source": [
    "#part c\n",
    "\n",
    "#E=mc^2 and yes, my mass is 1000 kg\n",
    "\n",
    "m=1000*u.kg\n",
    "E=m*((cn.c)**2)\n",
    "E=E.to(u.J)\n",
    "print \"E=\",E"
   ]
  },
  {
   "cell_type": "code",
   "execution_count": 82,
   "metadata": {
    "collapsed": false
   },
   "outputs": [
    {
     "name": "stdout",
     "output_type": "stream",
     "text": [
      "House= 2847983302.71 yr\n",
      "World= 1.42399165136 yr\n"
     ]
    }
   ],
   "source": [
    "#part d\n",
    "\n",
    "#take my energy and divide by household consumption and then world.\n",
    "\n",
    "house=1000*(u.W)\n",
    "world=2e12*(u.W)\n",
    "House=E/house\n",
    "World=E/world\n",
    "House=House.to(u.yr)\n",
    "World=World.to(u.yr)\n",
    "print \"House=\", House\n",
    "print \"World=\", World"
   ]
  },
  {
   "cell_type": "code",
   "execution_count": 78,
   "metadata": {
    "collapsed": false
   },
   "outputs": [
    {
     "name": "stdout",
     "output_type": "stream",
     "text": [
      "1.495978707e+11 m\n",
      "Flux = 1367.60726891 W / m2\n",
      "Area = 1462408138.26 m2\n"
     ]
    }
   ],
   "source": [
    "#part e\n",
    "\n",
    "#luminosity of the sun/by surface of sphere (r=dist to the earth)\n",
    "#take variable world/flux -> area needed\n",
    "\n",
    "r=1*u.AU\n",
    "r=r.to(u.m)\n",
    "print r\n",
    "Flux=(cn.L_sun)/(4*pi*(r**2))\n",
    "print \"Flux =\",Flux\n",
    "Area=world/Flux\n",
    "print \"Area =\",Area"
   ]
  },
  {
   "cell_type": "code",
   "execution_count": 83,
   "metadata": {
    "collapsed": true
   },
   "outputs": [],
   "source": [
    "#part f\n",
    "\n",
    "# 4H --> He4 + 2e + 2v"
   ]
  },
  {
   "cell_type": "code",
   "execution_count": 104,
   "metadata": {
    "collapsed": false
   },
   "outputs": [
    {
     "name": "stdout",
     "output_type": "stream",
     "text": [
      "epp= 0.00437058220825 W / kg\n",
      "ecno= 0.000816874571117 W / kg\n",
      " \n",
      "Sun's power(PP-Chain Cycle)= 1.73870501409e+27 W\n",
      "Sun's power(CNO Cycle)= 3.24969041882e+26 W\n",
      " \n",
      "T=10e5K(eoppXh/eocno'Xcno)^(1/15.9)\n",
      "T= 17457678.6198 K\n"
     ]
    }
   ],
   "source": [
    "#part g\n",
    "\n",
    "#use mass of the core of the sun (0.2 solar masses)\n",
    "\n",
    "eopp=1.08e-12*(((u.W)*((u.m)**3))/((u.kg)**2))\n",
    "eocno=8.24e-31*(((u.W)*((u.m)**3))/((u.kg)**2))\n",
    "T=1.571e7\n",
    "rho=1.622e5*((u.kg)/((u.m)**3))\n",
    "Xh=0.64\n",
    "Xcno=0.015\n",
    "\n",
    "epp=eopp*rho*(Xh**2)*((T/(10e5))**4)\n",
    "ecno=eocno*rho*Xh*Xcno*((T/(10e5))**19.9)\n",
    "\n",
    "print \"epp=\",epp\n",
    "print \"ecno=\",ecno\n",
    "\n",
    "print \" \"\n",
    "powerpp=epp*0.2*(cn.M_sun)\n",
    "powercno=ecno*0.2*(cn.M_sun)\n",
    "\n",
    "print \"Sun's power(PP-Chain Cycle)=\",powerpp\n",
    "print \"Sun's power(CNO Cycle)=\",powercno\n",
    "\n",
    "#set epp=ecno and solve for T.\n",
    "\n",
    "T=(10e5*(u.K))*(((eopp*Xh)/(eocno*Xcno))**(1/15.9))\n",
    "\n",
    "print \" \"\n",
    "print \"T=10e5K(eoppXh/eocno'Xcno)^(1/15.9)\"\n",
    "print \"T=\", T"
   ]
  },
  {
   "cell_type": "code",
   "execution_count": 127,
   "metadata": {
    "collapsed": false
   },
   "outputs": [
    {
     "name": "stdout",
     "output_type": "stream",
     "text": [
      "Jean's Mass: 2.90504430729e+33 kg\n",
      "Jean's Radius: 1.21290683772e+17 m\n"
     ]
    }
   ],
   "source": [
    "#QUESTION 2\n",
    "\n",
    "#part a: A gas cloud needs to be cold so that the internal thermal pressure is low so that it does not fight collapse.\n",
    "#part b: The main driving force of collapse is gravity.\n",
    "#part c: Virial Theorem: 2K+U=0 . The Virial Theorem describes the relationship between potenial and kinetic energy in a statistically steady system. We modify the virial theorem by using (3/2)NkT for kinetic energy and (3/5)GM^2/R for a self gravitating sphere.\n",
    "#part d: \n",
    "#Mj=((5*k*t/G*mh)**(3/2))*((3/4*pi*rho)**(1/2))\n",
    "#Rj=((15*k*T)/(4*pi*g*mu*mh*rho))**(1/2)\n",
    "\n",
    "#part e:\n",
    "\n",
    "t=50*(u.K)\n",
    "n=(5e8*(1/(u.m)**3))\n",
    "RHO=n*(cn.m_p)\n",
    "mu=0.6\n",
    "\n",
    "Mj=(((5*(cn.k_B)*t)/((cn.G)*(cn.m_p)))**1.5)*((3/(4*pi*RHO))**(0.5))\n",
    "Rj=((15*(cn.k_B)*t)/(4*pi*(cn.G)*mu*(cn.m_p)*RHO))**(0.5)\n",
    "\n",
    "Mj=Mj.to(u.kg)\n",
    "Rj=Rj.to(u.m)\n",
    "\n",
    "print \"Jean's Mass:\", Mj\n",
    "print \"Jean's Radius:\", Rj"
   ]
  },
  {
   "cell_type": "code",
   "execution_count": 128,
   "metadata": {
    "collapsed": true
   },
   "outputs": [],
   "source": [
    "#part f is turned in as an image\n",
    "#part g: I would expect tff to depend on temperature because tcool will be larger with a higher temperature.\n"
   ]
  },
  {
   "cell_type": "code",
   "execution_count": null,
   "metadata": {
    "collapsed": true
   },
   "outputs": [],
   "source": []
  }
 ],
 "metadata": {
  "kernelspec": {
   "display_name": "Python 2",
   "language": "python",
   "name": "python2"
  },
  "language_info": {
   "codemirror_mode": {
    "name": "ipython",
    "version": 2
   },
   "file_extension": ".py",
   "mimetype": "text/x-python",
   "name": "python",
   "nbconvert_exporter": "python",
   "pygments_lexer": "ipython2",
   "version": "2.7.6"
  }
 },
 "nbformat": 4,
 "nbformat_minor": 0
}
