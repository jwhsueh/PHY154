{
 "cells": [
  {
   "cell_type": "code",
   "execution_count": 4,
   "metadata": {
    "collapsed": true
   },
   "outputs": [],
   "source": [
    "import numpy as np"
   ]
  },
  {
   "cell_type": "code",
   "execution_count": 42,
   "metadata": {
    "collapsed": false
   },
   "outputs": [
    {
     "name": "stdout",
     "output_type": "stream",
     "text": [
      "E =  2e+37 J\n",
      "t =  51948051948.1 s\n",
      "T =  1647.26192123 year\n"
     ]
    }
   ],
   "source": [
    "#problem 1\n",
    "#a\n",
    "M_sun = 2.0 * (10 ** 30)\n",
    "L_sun = 3.85 * (10 ** 26)\n",
    "r = 10 ** 7\n",
    "E_sun = r*M_sun\n",
    "print \"E = \", E_sun, \"J\"\n",
    "t = E_sun/(L_sun)\n",
    "print \"t = \", t, \"s\"\n",
    "T = t / (3600 * 24 * 365)\n",
    "print \"T = \", T, \"year\""
   ]
  },
  {
   "cell_type": "code",
   "execution_count": 44,
   "metadata": {
    "collapsed": false
   },
   "outputs": [
    {
     "name": "stdout",
     "output_type": "stream",
     "text": [
      "m = 3e-29 kg\n",
      "E =  4.32e-12 J\n",
      "E_total =  1.29341317365e+45 J\n",
      "t =  3.35951473676e+18 s\n",
      "T = 1.06529513469e+11 year\n"
     ]
    }
   ],
   "source": [
    "#b\n",
    "c = 3.0E8\n",
    "M_H = 1.67 * (10 ** -27)\n",
    "M_He = 6.65 * (10 ** -27)\n",
    "N = M_sun/M_H\n",
    "m = 4.0*M_H - M_He\n",
    "print \"m =\", m, \"kg\"\n",
    "E = 27. * 1.6 * (10 ** -13)\n",
    "print \"E = \", E, \"J\"\n",
    "E_total = E * N/4.0\n",
    "print \"E_total = \", E_total, \"J\"\n",
    "t = E_total/(L_sun)\n",
    "print \"t = \", t, \"s\"\n",
    "T = t / (3600 * 24 * 365)\n",
    "print \"T =\", T, \"year\"\n"
   ]
  },
  {
   "cell_type": "code",
   "execution_count": 46,
   "metadata": {
    "collapsed": false
   },
   "outputs": [
    {
     "name": "stdout",
     "output_type": "stream",
     "text": [
      "M_me = 42.75 kg\n",
      "E_me = 3.8475e+18 J\n"
     ]
    }
   ],
   "source": [
    "#c\n",
    "M_me = 95 * 0.45\n",
    "print \"M_me =\", M_me, \"kg\"\n",
    "E_me = M_me * (c ** 2)\n",
    "print \"E_me =\", E_me, \"J\""
   ]
  },
  {
   "cell_type": "code",
   "execution_count": 50,
   "metadata": {
    "collapsed": false
   },
   "outputs": [
    {
     "name": "stdout",
     "output_type": "stream",
     "text": [
      "t = 3.8475e+15 s\n",
      "T = 122003424.658 yr\n",
      "t = 1923750.0 s\n",
      "T = 0.0610017123288 yr\n"
     ]
    }
   ],
   "source": [
    "#d\n",
    "P_H = 10 ** 3\n",
    "P_W = 2 * (10 ** 12)\n",
    "t_h = E_me/P_H\n",
    "print \"t =\", t_h, \"s\"\n",
    "T_h = t_h / (3600 * 24 * 365)\n",
    "print \"T =\", T_h, \"yr\"\n",
    "t_w = E_me/P_W\n",
    "print \"t =\", t_w, \"s\"\n",
    "T_w = t_w / (3600 * 24 * 365)\n",
    "print \"T =\", T_w, \"yr\""
   ]
  },
  {
   "cell_type": "code",
   "execution_count": 51,
   "metadata": {
    "collapsed": false
   },
   "outputs": [
    {
     "name": "stdout",
     "output_type": "stream",
     "text": [
      "F = 1361.69911755 W/m^2\n",
      "A = 1468753246.75 m^2\n"
     ]
    }
   ],
   "source": [
    "#e\n",
    "d = 1.5 * (10 ** 11)\n",
    "F = L_sun/(4.0 * pi * (d **2))\n",
    "print \"F =\", F, \"W/m^2\"\n",
    "A = P_W/F\n",
    "print \"A =\", A, \"m^2\""
   ]
  },
  {
   "cell_type": "code",
   "execution_count": 52,
   "metadata": {
    "collapsed": true
   },
   "outputs": [],
   "source": [
    "#f\n",
    "# 4H --> He-4 + 2e^+ + 2v"
   ]
  },
  {
   "cell_type": "code",
   "execution_count": 76,
   "metadata": {
    "collapsed": false
   },
   "outputs": [
    {
     "name": "stdout",
     "output_type": "stream",
     "text": [
      "e_pp =  0.00437058220825 W/kg\n",
      "P_PP =  1.7482328833e+27 W\n",
      "e_cno =  0.000816874571117 W/Kg\n",
      "P_cno =  3.26749828447e+26 W\n",
      "T_new =  17457678.6198 K\n",
      "0.00518745677937\n"
     ]
    }
   ],
   "source": [
    "#g\n",
    "e_ipp = 1.08 * (10 ** -12)\n",
    "e_icno = 8.24 * (10 ** -31)\n",
    "T = 1.571 * (10 ** 7)\n",
    "p = 1.622 * (10 ** 5)\n",
    "X_H = 0.64\n",
    "X_HE = 0.34\n",
    "X_CNO = 0.015\n",
    "\n",
    "e_pp = e_ipp * p * (X_H ** 2) * ((T/(10 ** 6)) ** 4)\n",
    "print \"e_pp = \", e_pp, \"W/kg\"\n",
    "P_pp = e_pp * 0.2 * M_sun\n",
    "print \"P_PP = \", P_pp, \"W\"\n",
    "\n",
    "e_cno = e_icno * p * X_H * X_CNO * ((T/(10 ** 6)) ** 19.9)\n",
    "print \"e_cno = \", e_cno, \"W/Kg\"\n",
    "P_cno = e_cno * 0.2 * M_sun\n",
    "print \"P_cno = \", P_cno, \"W\"\n",
    "\n",
    "T_new = (10. ** 6) * (((e_ipp * X_H)/(e_icno * X_CNO)) ** (1/15.9))\n",
    "print \"T_new = \", T_new, \"K\"\n",
    "\n",
    "e = e_pp+e_cno\n",
    "print e"
   ]
  },
  {
   "cell_type": "code",
   "execution_count": 28,
   "metadata": {
    "collapsed": true
   },
   "outputs": [],
   "source": [
    "#problem 2\n",
    "#a\n",
    "#The gas cloud needs to be cold so that the pressure is low enough for it to\n",
    "#collapse. Otherwise, the particles will be moving too fast and it will create\n",
    "#thermal pressure, so collapse won't be possible."
   ]
  },
  {
   "cell_type": "code",
   "execution_count": 29,
   "metadata": {
    "collapsed": true
   },
   "outputs": [],
   "source": [
    "#b\n",
    "#Gravity is the main force in gas cloud collapse."
   ]
  },
  {
   "cell_type": "code",
   "execution_count": 30,
   "metadata": {
    "collapsed": true
   },
   "outputs": [],
   "source": [
    "#c\n",
    "# 2K = |U|\n",
    "#It relates the kinetic energy to the potential energy in statistically stable\n",
    "#systems. We modify it by saying that U = (-3/5) Gm^2/R, which means that density\n",
    "#is constant."
   ]
  },
  {
   "cell_type": "code",
   "execution_count": 59,
   "metadata": {
    "collapsed": false
   },
   "outputs": [],
   "source": [
    "#d \n",
    "#jeans mass\n",
    "M_j = ((5.0*k*T/(G*m_H)) ** 1.5) * ((3.0/(4.0*pi*p)) ** 0.5)\n",
    "#jeans radius\n",
    "R_j = ((15.0 * k * T)/(4.0 * pi * G * m_H * p)) ** 0.5\n",
    "k = 1.38 * (10 ** -23)\n",
    "G = 6.67 * (10 ** -11)\n",
    "mu = 0.6\n",
    "m_H = 1.67 * (10 ** -27)"
   ]
  },
  {
   "cell_type": "code",
   "execution_count": 75,
   "metadata": {
    "collapsed": false
   },
   "outputs": [
    {
     "name": "stdout",
     "output_type": "stream",
     "text": [
      "M_j = 3.76277648896e+33 kg\n",
      "R_j = 1.2148751024e+17 m\n",
      "M_j/M_sun = 1881.38824448\n",
      "R_j/R_sun = 2.18188775575e+14\n"
     ]
    }
   ],
   "source": [
    "#e\n",
    "T = 50.0\n",
    "n = 5. * (10 ** 8)\n",
    "M_sun = 2. * (10 ** 30)\n",
    "R_sun = 6.96 * (10 * 8)\n",
    "p = n * mu * m_H\n",
    "M_j = ((5.0*k*T/(G*m_H)) ** 1.5) * ((3.0/(4.0*pi*p)) ** 0.5)\n",
    "print \"M_j =\", M_j, \"kg\"\n",
    "R_j = ((15.0 * k * T)/(4.0 * pi * G * m_H * p)) ** 0.5\n",
    "print \"R_j =\", R_j, \"m\"\n",
    "M = M_j/M_sun\n",
    "R = R_j/R_sun\n",
    "print \"M_j/M_sun =\", M\n",
    "print \"R_j/R_sun =\", R"
   ]
  },
  {
   "cell_type": "code",
   "execution_count": null,
   "metadata": {
    "collapsed": true
   },
   "outputs": [],
   "source": []
  },
  {
   "cell_type": "code",
   "execution_count": null,
   "metadata": {
    "collapsed": true
   },
   "outputs": [],
   "source": []
  }
 ],
 "metadata": {
  "kernelspec": {
   "display_name": "Python 2",
   "language": "python",
   "name": "python2"
  },
  "language_info": {
   "codemirror_mode": {
    "name": "ipython",
    "version": 2
   },
   "file_extension": ".py",
   "mimetype": "text/x-python",
   "name": "python",
   "nbconvert_exporter": "python",
   "pygments_lexer": "ipython2",
   "version": "2.7.6"
  }
 },
 "nbformat": 4,
 "nbformat_minor": 0
}
