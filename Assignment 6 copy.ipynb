{
 "cells": [
  {
   "cell_type": "markdown",
   "metadata": {},
   "source": [
    "# Assignment 6: Our Expanding Universe\n",
    "## Nathanael J. Reynolds\n",
    "## 999643303\n"
   ]
  },
  {
   "cell_type": "markdown",
   "metadata": {},
   "source": [
    "### 1 Hubble’s Law\n",
    "#### Edwin Hubble’s classic article on the expanding universe appeared in PNAS in 1929 [Hubble, E. P. (1929) Proc. Natl. Acad. Sci. USA 15, 168173]. The chief result, that a galaxy’s distance is proportional to its redshift, is so well known and so deeply embedded into the language of astronomy through the Hubble diagram, the Hubble constant, Hubble’s Law, and the Hubble time, that the article itself is rarely referenced. Even though Hubble’s distances have a large systematic error, this article opened the way to investigation of the expanding, evolving, and accelerating universe that engages today’s burgeoning field of cosmology.\n",
    "\n",
    "#### (a) In Fig. 1 you can see two Hubble diagrams (velocity-distance relations) derived using Hubble’s original measurements of distances to nearby galaxies as well as using SN Ia. Create similar graphs using original Hubble data (hubble1.dat) and the newer data for galaxies for SDSS (hubble2.dat). The measured quantities are magnitudes, redshift, ra and dec. Distance and velocity are derived quantities. For each of these estimate the Hubble constant $H_0$ in km/s/Mpc and errors, where $v = H_0d$. Motivate the particular choice of units."
   ]
  },
  {
   "cell_type": "code",
   "execution_count": 1,
   "metadata": {
    "collapsed": false
   },
   "outputs": [
    {
     "name": "stdout",
     "output_type": "stream",
     "text": [
      "Using matplotlib backend: MacOSX\n",
      "Populating the interactive namespace from numpy and matplotlib\n"
     ]
    }
   ],
   "source": [
    "%pylab"
   ]
  },
  {
   "cell_type": "code",
   "execution_count": 10,
   "metadata": {
    "collapsed": false
   },
   "outputs": [
    {
     "name": "stdout",
     "output_type": "stream",
     "text": [
      "for hubble1.dat: H =  453.859994085 km/s/Mpc\n",
      "\n",
      "\n",
      "for hubble2.dat: H =  95.3815270598 km/s/Mpc\n"
     ]
    }
   ],
   "source": [
    "import numpy as np\n",
    "import matplotlib.pyplot as plt\n",
    "\n",
    "#hubble1.dat\n",
    "R = [.032, .03, .214, .263, .275, .275, .45, .5, .5, .63, .8, .9, .9, .9, .9, 1.0, 1.1, 1.1, 1.4, 1.7, 2.0, 2.0, 2.0, 2.0] #Units in MPC\n",
    "v = [170.0, 290.0, -130.0, -70.0, -185.0, -220.0, 200.0, 290.0, 270.0, 200.0, 300.0, -30.0, 650.0, 150.0, 500.0, 920.0, 450.0, 500.0, 500.0, 960.0, 500.0, 850.0, 800.0, 1090.0] #Units in km/s\n",
    "\n",
    "fit = np.polyfit(R, v, 1)\n",
    "fit_fn = np.poly1d(fit)\n",
    "a, c = np.polyfit(R, v, 1)\n",
    "print 'for hubble1.dat: H = ',a, 'km/s/Mpc'\n",
    "print '\\n'\n",
    "\n",
    "#plotting hubble1,dat\n",
    "plt.subplot(211)\n",
    "plt.scatter(R, v)\n",
    "plt.plot(R, fit_fn(R))\n",
    "plt.xlabel('Distance (Mpc)')\n",
    "plt.ylabel('Velocity (km/s)')\n",
    "plt.show()\n",
    "\n",
    "#hubble2.dat\n",
    "Distance = [455.080262578889, 513.423330990469, 576.284050479181, 585.11253203513, 523.505923367395, 602.942364857819, 621.045758404246, 476.040606680382, 518.031537285099, 510.729566262954, 446.168391770437, 436.883456944802, 584.376038491964, 393.309285829825, 921.718702915427, 521.021446168506, 496.377628699792, 387.767315447025, 438.275506181106, 462.326300514848, 503.935553915330, 564.242766238536, 526.152938229947, 472.012608766812, 591.424620672351, 555.874561672524, 754.610771264363, 256.564402953741, 480.330539459983, 548.338576155372, 373.215266152547, 600.944825516626, 462.470036516221, 624.417404890712, 435.124562873535, 526.606238840822, 542.444362456180, 522.329795254029, 196.207769174429, 548.160326545777, 219.392006448455, 478.237910284818, 492.803064694433, 450.219187626743, 589.811179401418, 641.292853186580, 660.366448835543, 473.636976393135, 565.443999903072, 464.765625773623, 609.411436308505, 663.262433494619, 638.234681583160, 564.882343204837, 371.626949103319, 568.232147351329, 500.501749625619, 450.405204281736, 600.286256034905, 654.954303351453, 474.46633151924, 504.101511928981, 477.694674884753, 542.6817289928, 446.202911752882, 404.0190098882, 643.3851015385, 423.741695518756, 706.52706001605, 582.12788058965, 531.371919175265, 516.866279977287, 500.738057206238, 557.191907210439, 492.067860569201, 335.522307560975]\n",
    "velocity = [32438.4,53502,49381.2,53794.2,53568.6,48844.2,49990.5,39020.4,50575.2,50916.6,37451.4,37335.6,50627.4,28613.4,111771,53913,39033,31892.7,31508.4,39343.2,48418.2,38887.8,39373.2,44216.1,43655.4,34560,47784.3,10465.5,24314.1,31394.4,20893.2,34483.8,40906.2,43901.1,41482.2,24328.5,41626.2,31828.5,7349.7,44318.7,7496.7,22999.5,23995.8,24180.3,32014.8,48899.7,48982.8,24133.5,32212.5,32488.2,28473.3,50879.7,38084.1,32294.4,28588.8,32940.6,32700.9,31461,48847.5,43787.7,31143,22952.7,25467.9,32814.3,23698.8,24246.3,38095.8,24615,42468.3,24562.8,35012.1,28461.6,33501,39369.3,23451,14546.7]\n",
    "    \n",
    "error = range(len(Distance))\n",
    "fit1 = np.polyfit(Distance, velocity, 1)\n",
    "fit1_fn = np.poly1d(fit1)\n",
    "m, b = np.polyfit(Distance, velocity, 1)\n",
    "print 'for hubble2.dat: H = ',m,'km/s/Mpc'\n",
    "\n",
    "#plotting hubble2.dat\n",
    "plt.subplot(212)\n",
    "plt.scatter(Distance, velocity)\n",
    "plt.plot(Distance, fit1_fn(Distance))\n",
    "plt.xlabel('Distance (Mpc)')\n",
    "plt.ylabel('Velocity (km/s)')\n",
    "plt.errorbar(Distance, velocity, yerr=error, fmt='o', ecolor='r', label='velocity')\n",
    "plt.show()"
   ]
  },
  {
   "cell_type": "markdown",
   "metadata": {},
   "source": [
    "#### (b) Is the data consistent with the current estimated value from the Planck satellite ($H_0 = 68 \\pm 1$km/s/Mpc)? Read the article posted on smartsite eaa-hubblediag.pdf and particularly concentrate on determining distances and velocity, which are derived quantities. Which axis is likely very uncertain? \n",
    "the distance axis is likely uncertain\n",
    "\n",
    "#### (c) Consider now $H(t)$, the expansion rate of the Universe. Can you draw conclusion about it from the data? How would a diagram look like if the Universe was accelerating (decelerating) whilst expanding? Remember, objects further away tell us about the Universe further in the past.\n",
    "objects farther away would have decreasing redshift"
   ]
  },
  {
   "cell_type": "markdown",
   "metadata": {
    "collapsed": true
   },
   "source": [
    "### 2 Cosmic Dynamics: the Friedmann Equations\n",
    "#### From the Friedman equation and the ’first law of thermodynamics’, we will derive the expansion equation [i.e. $H(a)$] for a Universe containing matter, radiation, and a substance with an equation of state $P_\\lambda = w\\rho_\\lambda c^2$, where w is a constant (say, $w \\in [−1, 0]$). We will use Newtonian approach for now, modifying it later.\n",
    "\n",
    "#### (a) Over what length scales can Newtonian approach be a good approximation? When do we need to start considering GR (think about what GR describes)?\n",
    "##### answer: The Newtonian approach is a good approximation where the length scales of the system in question are not comparable to the curvature of spacetime\n",
    "\n",
    "#### (b) Start with an expanding sphere. The world line of a homogeneous and isotropic sphere can be defined as $(\\vec {r},t) = [a(t)\\vec {x},t]$ and $H(t) = \\dot {a}/a$ is the expansion rate. Write down the equation of motion (i.e. express $\\ddot {a}(t)$ in terms of $\\rho(t)$ and $a(t)$.\n",
    "##### answer: \n",
    "$$ \\ddot{r}(t) = -\\frac{GM(r)}{r^2} $$\n",
    "\n",
    "$$ \\ddot{a}(t) x = -\\frac{G}{[a(t)x]^2} \\frac{4}{3}\\pi\\rho(t)[r(t)]^3 $$\n",
    "\n",
    "$$ \\ddot{a}(t) = -\\frac{4\\pi G\\rho(t) [a(t)x]^3}{3[a(t)]^2 x^3} $$\n",
    "\n",
    "$$ \\ddot{a}(t) = -\\frac{4\\pi G}{3}\\rho(t)a(t) $$\n",
    "\n",
    "#### (c) Multiply the equation with $\\dot {a} (t)$ and integrate. What does the equation tell you?\n",
    "\n",
    "$$ \\ddot{a}\\dot{a} = -\\frac{4\\pi G}{3}\\rho a\\dot{a} $$\n",
    "\n",
    "$$\\frac{1}{2}\\frac{\\text{d}(\\dot{a}^2)}{\\text{d}t}= -\\frac{4\\pi G}{3}\\rho\\frac{1}{2}\\frac{\\text{d}(a^2)}{\\text{d}t} $$\n",
    "\n",
    "$$ \\int \\text{d}(\\dot{a}^2) = -\\frac{4\\pi G}{3}\\rho\\int\\text{d}(a^2) $$\n",
    "\n",
    "$$ \\dot{a}^2 = \\frac{8\\pi G}{3}\\rho a^2 - K $$\n",
    "\n",
    "or\n",
    "\n",
    "$$ \\left(\\frac{\\dot{a}}{a}\\right)^2 = [H(t)]^2 = \\frac{8\\pi G}{3}\\rho(t) - \\frac{K}{[a(t)]^2} $$\n",
    "\n",
    "The Hubble parameter is dependent on density and the scale factor.\n",
    "\n",
    "#### (d) Think about the integration constant (say K). How does it’s value change the sign of $\\dot {a}$? Consider K > 0,K < 0,K = 0.\n",
    "The value K does not change the sign of $\\dot{a}(t)$, which is protected by a square (we don't want imaginary values), however:\n",
    "$$ K \\leq \\frac{8\\pi G}{3}\\rho(t)[a(t)]^2 $$\n",
    "\n",
    "#### Consider now K = 0. What does \n",
    "$$\\rho_{cr} := \\frac {3H_0^2}{8\\pi G} = 1.88 \\times 10^{-29} h^2gcm^{-3}$$\n",
    "#### stand for? From now on write all densities in terms of\n",
    "$$\\Omega_0 := \\frac {\\rho_0}{\\rho_{cr}}$$\n",
    "##### answer: It is the characteristic density of the current universe separating an eternally expanding Universe from one that eventually recontracts.\n",
    "\n",
    "#### (f) Consider now cosmology with three ingredients, matter, radiation, and vacuum energy. $ρ = ρ_m + ρ_{rad} + ρ_λ$ and $P = P_r + P_λ$. Why is matter considered pressure-free? (FYI $P_r = \\frac {1}{3} ρ_rc^2$ and $P_λ = wρ_λc^2$).\n",
    "##### answer: matter is consider pressure-free because particles of matter typically do not move at a speed comparable to the speed of light\n",
    "\n",
    "#### (g) What would the scaling of $ρ_m$ be (i.e. write down $ρ_m(t)$ in terms of $ρ_{m,0} = ρ_m(t = t_0)$ and $a(t)$? The corresponding expressions for radiation and vacuum energy are $ρ_r(t) = ρ_{r,0}a^{−4}$ and $ρ_λ(t) = ρ_{λ,0}$ = const.\n",
    "##### answer: \n",
    "$$ \\rho_m = \\rho_{m,0}a^{-4}$$\n",
    "\n",
    "#### (h) Define densities\n",
    "$$Ω_{r,λ,m} = \\frac {ρ_{r,λ,m,0}}{ρ_{cr}}$$\n",
    "\n",
    "#### Plug these into (c) and write down $H(t)$ in terms of $Ω_{r,λ,m}$, K, and a(t). Express K in terms of $H(t_0) = H_0$ (Hubble constant today) and $a(t_0) = 1$.\n",
    "##### answer: \n",
    "$$ [H(a)]^2=H_0^2(\\Omega_m a^{-3} + \\Omega_r a^{-4} + \\Omega_\\lambda + (1-\\Omega_m-\\Omega_r-\\Omega_\\lambda)a^{-2}) $$\n",
    "\n",
    "#### (i) Finally write down $H(z) = H_0E(z)$, where 1 + z = 1/a.\n",
    "##### answer: \n",
    "$$[H(z)]^2=H_0^2(\\Omega_\\lambda + (1-\\Omega_\\lambda-\\Omega_m-\\Omega_r)(1+z)^2 + \\Omega_m(1+z)^3 + \\Omega_r(1+z)^4)$$\n",
    "\n",
    "$$H(z)=H_0\\sqrt{\\Omega_rz^4+(4\\Omega_r+\\Omega_m)z^3+(5\\Omega_r+2\\Omega_m-\\Omega_\\lambda+1)z^2+(2\\Omega_r+\\Omega_m-2\\Omega_\\lambda-2)z+1}$$"
   ]
  },
  {
   "cell_type": "markdown",
   "metadata": {},
   "source": [
    "### 3 The Age Problem\n",
    "#### The observed age of the oldest globular clusters, 13Gyr, and the Hubble Constant, 68km/s/Mpc together place an interesting constraint on the density of a pure matter Universe.\n",
    "#### (a) What is the Hubble time: $t_{H,0}$?"
   ]
  },
  {
   "cell_type": "code",
   "execution_count": 3,
   "metadata": {
    "collapsed": false
   },
   "outputs": [
    {
     "data": {
      "text/latex": [
       "$14.379297 \\; \\mathrm{Gyr}$"
      ],
      "text/plain": [
       "<Quantity 14.379297377546006 Gyr>"
      ]
     },
     "execution_count": 3,
     "metadata": {},
     "output_type": "execute_result"
    }
   ],
   "source": [
    "from astropy import units as u\n",
    "H_0 = 68 *u.km/u.s/u.Mpc\n",
    "t_H0 = 1/H_0\n",
    "t_H0.to('Gyr')"
   ]
  },
  {
   "cell_type": "markdown",
   "metadata": {},
   "source": [
    "#### (b) What is tage for Ωm = 0 (empty) and 1 (flat; Einstein-de Sitter). Hint: write down dt in terms of da and integrate.\n",
    "\n",
    "In an empty Universe ($\\Omega_r = \\Omega_\\lambda = \\Omega_m = 0$):\n",
    "$$H(a) = H_0\\sqrt{a^{-2}}$$\n",
    "\n",
    "$$\\frac{\\dot{a}}{a} = \\frac{H_0}{a}$$\n",
    "\n",
    "$$\\frac{\\text{d}a}{\\text{d}t} = H_0$$\n",
    "\n",
    "$$\\int_0^1 \\text{d}a = \\int_0^{t_{age}} H_0 \\text{d}t$$\n",
    "\n",
    "$$ 1 = H_0 t_{age} $$\n",
    "\n",
    "$$t_{age} = \\frac{1}{H_0} = t_{H,0}$$\n",
    "\n",
    "\n",
    "In an Einstein-deSitter Universe ($\\Omega_r = \\Omega_\\lambda = 0$ , $\\Omega_m = 1$):\n",
    "$$H(a) = H_0\\sqrt{a^{-3}}$$\n",
    "\n",
    "$$\\frac{\\dot{a}}{a} = \\frac{H_0}{a^{3/2}}$$\n",
    "\n",
    "$$\\int_0^1 a^{1/2} \\text{d}a = \\int_0^{t_{age}} H_0 \\text{d}t$$\n",
    "\n",
    "$$ \\frac{2}{3} = H_0 t_{age} $$\n",
    "\n",
    "$$t_{age} = \\frac{2}{3H_0} = \\frac{2}{3}t_{H,0}$$"
   ]
  },
  {
   "cell_type": "code",
   "execution_count": 4,
   "metadata": {
    "collapsed": false
   },
   "outputs": [
    {
     "data": {
      "text/latex": [
       "$9.5861983 \\; \\mathrm{Gyr}$"
      ],
      "text/plain": [
       "<Quantity 9.586198251697338 Gyr>"
      ]
     },
     "execution_count": 4,
     "metadata": {},
     "output_type": "execute_result"
    }
   ],
   "source": [
    "t_EdS = 2*t_H0/3\n",
    "t_EdS.to('Gyr')"
   ]
  },
  {
   "cell_type": "markdown",
   "metadata": {},
   "source": [
    "#### (c) Calculate age for current Ωm = 0.27. What age does this give? Do you now see why there was an ”age problem” with pure matter models?\n",
    "\n",
    "For a pure matter Universe with $\\Omega_m = 0.27$ (($\\Omega_r = \\Omega_\\lambda = 0$):\n",
    "$$H(a) = H_0\\sqrt{0.27a^{-3} + 0.73a^{-2}}$$\n",
    "\n",
    "$$\\frac{\\dot{a}}{a\\sqrt{0.27a^{-3} + 0.73a^{-2}}} = H_0$$\n",
    "\n",
    "$$\\int_0^1 \\frac{\\text{d}a}{\\sqrt{0.27a^{-1} + 0.73}} = \\int_0^{t_{age}} H_0 \\text{d}t$$\n",
    "\n",
    "$$ 0.82 \\approx H_0 t_{age} $$\n",
    "\n",
    "$$ t_{age} \\approx \\frac{0.82}{H_0} = 0.82 t_{H,0} $$"
   ]
  },
  {
   "cell_type": "code",
   "execution_count": 5,
   "metadata": {
    "collapsed": false
   },
   "outputs": [
    {
     "data": {
      "text/latex": [
       "$11.778456 \\; \\mathrm{Gyr}$"
      ],
      "text/plain": [
       "<Quantity 11.77845634367975 Gyr>"
      ]
     },
     "execution_count": 5,
     "metadata": {},
     "output_type": "execute_result"
    }
   ],
   "source": [
    "t_age = 0.819126*t_H0\n",
    "t_age.to('Gyr')"
   ]
  },
  {
   "cell_type": "markdown",
   "metadata": {},
   "source": [
    "Since the oldest observed objects are > 13 Gyr, \"pure matter\" cosmological models are incorrect."
   ]
  },
  {
   "cell_type": "code",
   "execution_count": null,
   "metadata": {
    "collapsed": true
   },
   "outputs": [],
   "source": []
  }
 ],
 "metadata": {
  "kernelspec": {
   "display_name": "Python 2",
   "language": "python",
   "name": "python2"
  },
  "language_info": {
   "codemirror_mode": {
    "name": "ipython",
    "version": 2
   },
   "file_extension": ".py",
   "mimetype": "text/x-python",
   "name": "python",
   "nbconvert_exporter": "python",
   "pygments_lexer": "ipython2",
   "version": "2.7.11"
  }
 },
 "nbformat": 4,
 "nbformat_minor": 0
}
