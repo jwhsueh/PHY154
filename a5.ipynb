{
 "cells": [
  {
   "cell_type": "code",
   "execution_count": 3,
   "metadata": {
    "collapsed": true
   },
   "outputs": [],
   "source": [
    "import numpy as np\n",
    "import matplotlib.pyplot as plt\n",
    "from astropy import constants as const\n",
    "from astropy import units as u\n",
    "from scipy.integrate import odeint"
   ]
  },
  {
   "cell_type": "code",
   "execution_count": 4,
   "metadata": {
    "collapsed": true
   },
   "outputs": [],
   "source": [
    "#Problem 1"
   ]
  },
  {
   "cell_type": "code",
   "execution_count": 6,
   "metadata": {
    "collapsed": false
   },
   "outputs": [
    {
     "name": "stdout",
     "output_type": "stream",
     "text": [
      "0.876106781589 1.75221356318 arcseconds\n"
     ]
    }
   ],
   "source": [
    "#Problem 2\n",
    "\n",
    "b = const.R_sun.value\n",
    "G = const.G.value\n",
    "M = const.M_sun.value\n",
    "vx = const.c.value\n",
    "c = vx\n",
    "#alpha = vy/vx \n",
    "alpha = 2*G*M/(b*vx*vx)*206271\n",
    "print alpha, alpha*2, 'arcseconds'"
   ]
  },
  {
   "cell_type": "code",
   "execution_count": 7,
   "metadata": {
    "collapsed": false
   },
   "outputs": [
    {
     "name": "stdout",
     "output_type": "stream",
     "text": [
      "z=1.41 -> Ds=1768.2 Mpc -> Ds= 5.456099376e+25 m\n",
      "z=0.36 -> Dd=1047.3 Mpc -> Dd= 3.231632664e+25 m\n",
      "3.24608276462e+42\n"
     ]
    }
   ],
   "source": [
    "#Problem 3\n",
    "\n",
    "print 'z=1.41 -> Ds=1768.2 Mpc -> Ds=', 3.08568e22*1768.2, 'm'\n",
    "print 'z=0.36 -> Dd=1047.3 Mpc -> Dd=', 3.08568e22*1047.3, 'm'\n",
    "\n",
    "theta = (5.35-0.8)/2.0/206271\n",
    "\n",
    "Ds=5.4561e25\n",
    "Dd=3.2316e25\n",
    "Dds=Ds-Dd\n",
    "\n",
    "alpha = theta*Ds/Dds\n",
    "M=alpha*const.c.value*const.c.value*Dd*theta/(4*const.G.value)\n",
    "print M"
   ]
  },
  {
   "cell_type": "code",
   "execution_count": 16,
   "metadata": {
    "collapsed": false
   },
   "outputs": [
    {
     "name": "stdout",
     "output_type": "stream",
     "text": [
      "part a\n",
      "Light coming from a circle could converge to the origin.\n",
      "part b\n",
      "See my dbx, dby defined in the code.\n",
      "part c\n",
      "See image below.\n",
      "Plot\n"
     ]
    },
    {
     "data": {
      "image/png": "[encoded data removed]",
      "text/plain": [
       "<matplotlib.figure.Figure at 0x7fcd98365210>"
      ]
     },
     "metadata": {},
     "output_type": "display_data"
    }
   ],
   "source": [
    "#Problem 4 \n",
    "\n",
    "print 'part a'\n",
    "print 'Light coming from a circle could converge to the origin.'\n",
    "\n",
    "print 'part b'\n",
    "print 'See my dbx, dby defined in the code.'\n",
    "\n",
    "print 'part c'\n",
    "print 'See image below.'\n",
    "\n",
    "betax = [[0 for x in range(801)] for y in range(801)]\n",
    "betay = [[0 for x in range(801)] for y in range(801)]\n",
    "theta = [[0 for x in range(801)] for y in range(801)]\n",
    "ray=[[],[]]\n",
    "ncount = 0\n",
    "for i in range (0, 800):\n",
    "    for j in range (0, 800):\n",
    "        if i == 400 & j == 400:\n",
    "            continue\n",
    "        else:\n",
    "            dx=i-400\n",
    "            dy=j-400\n",
    "            theta[i][j] = 0.05*np.sqrt(dx*dx+dy*dy)/206271\n",
    "            rho=np.arctan2(dy,dx)\n",
    "            dbx=(np.cos(rho)*Dds/Ds*4*G*M/c/c/(Dd*theta[i][j]))*206271\n",
    "            dby=(np.sin(rho)*Dds/Ds*4*G*M/c/c/(Dd*theta[i][j]))*206271\n",
    "            betax[i][j]=dx*0.05-dbx\n",
    "            betay[i][j]=dy*0.05-dby\n",
    "            if (betax[i][j])**2+(betay[i][j])**2 < 0.25:\n",
    "                    ray[0].append(i)\n",
    "                    ray[1].append(j)\n",
    "                    ncount+=1\n",
    "#theta-beta = dds/ds*alpha beta=0 \n",
    "#Rs=theta1*Dd\n",
    "#for i in range(0,ncount-1):\n",
    "#    print ray[0][i], ray[1][i]\n",
    "print 'Plot' \n",
    "fig = plt.figure(1, figsize=(8,8))\n",
    "ax1 = fig.add_subplot(111)\n",
    "ax1.scatter(ray[0], ray[1], s=0.1)\n",
    "ax1.set_xlim(0, 801)\n",
    "ax1.set_ylim(0, 801)\n",
    "plt.show()"
   ]
  },
  {
   "cell_type": "code",
   "execution_count": 14,
   "metadata": {
    "collapsed": false
   },
   "outputs": [
    {
     "name": "stdout",
     "output_type": "stream",
     "text": [
      "part c\n",
      "The image below is what happens when we move the point.\n",
      "Plot\n"
     ]
    },
    {
     "data": {
      "image/png": "[encoded data removed]",
      "text/plain": [
       "<matplotlib.figure.Figure at 0x7fcd98247e10>"
      ]
     },
     "metadata": {},
     "output_type": "display_data"
    }
   ],
   "source": [
    "#Problem 4\n",
    "\n",
    "print 'part c'\n",
    "print 'The image below is what happens when we move the point.'\n",
    "\n",
    "betax = [[0 for x in range(801)] for y in range(801)]\n",
    "betay = [[0 for x in range(801)] for y in range(801)]\n",
    "theta = [[0 for x in range(801)] for y in range(801)]\n",
    "ray=[[],[]]\n",
    "ncount = 0\n",
    "for i in range (0, 800):\n",
    "    for j in range (0, 800):\n",
    "        if i == 400 & j == 400:\n",
    "            continue\n",
    "        else:\n",
    "            dx=i-400\n",
    "            dy=j-400\n",
    "            theta[i][j] = 0.05*np.sqrt(dx*dx+dy*dy)/206271\n",
    "            rho=np.arctan2(dy,dx)\n",
    "            dbx=(np.cos(rho)*Dds/Ds*4*G*M/c/c/(Dd*theta[i][j]))*206271\n",
    "            dby=(np.sin(rho)*Dds/Ds*4*G*M/c/c/(Dd*theta[i][j]))*206271\n",
    "            betax[i][j]=dx*0.05-dbx\n",
    "            betay[i][j]=dy*0.05-dby\n",
    "            if (betax[i][j]-1)**2+(betay[i][j]-2)**2 < 0.25:\n",
    "                    ray[0].append(i)\n",
    "                    ray[1].append(j)\n",
    "                    ncount+=1\n",
    "#theta-beta = dds/ds*alpha beta=0 \n",
    "#Rs=theta1*Dd\n",
    "#for i in range(0,ncount-1):\n",
    "#    print ray[0][i], ray[1][i]\n",
    "print 'Plot' \n",
    "fig = plt.figure(1, figsize=(8,8))\n",
    "ax1 = fig.add_subplot(111)\n",
    "ax1.scatter(ray[0], ray[1], s=0.1)\n",
    "ax1.set_xlim(0, 801)\n",
    "ax1.set_ylim(0, 801)\n",
    "plt.show()"
   ]
  },
  {
   "cell_type": "code",
   "execution_count": null,
   "metadata": {
    "collapsed": true
   },
   "outputs": [],
   "source": []
  }
 ],
 "metadata": {
  "kernelspec": {
   "display_name": "Python 2",
   "language": "python",
   "name": "python2"
  },
  "language_info": {
   "codemirror_mode": {
    "name": "ipython",
    "version": 2
   },
   "file_extension": ".py",
   "mimetype": "text/x-python",
   "name": "python",
   "nbconvert_exporter": "python",
   "pygments_lexer": "ipython2",
   "version": "2.7.6"
  }
 },
 "nbformat": 4,
 "nbformat_minor": 0
}
