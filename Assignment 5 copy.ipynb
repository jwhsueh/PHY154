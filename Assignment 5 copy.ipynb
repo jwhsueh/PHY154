{
 "cells": [
  {
   "cell_type": "markdown",
   "metadata": {},
   "source": [
    "# Assignment 5\n",
    "## Gravitational Lensing\n",
    "### Nathanael Reynolds\n",
    "### 999643303"
   ]
  },
  {
   "cell_type": "markdown",
   "metadata": {},
   "source": [
    "### 2 1911 Solar Eclipse\n",
    "#### The 1919 Eclipse Expedition to test the light-bending prediction of General Relativity remains one of the most famous physics experiments of the 20th century. In 1801, J G von Soldner calculated, according to Newtonian theory, that the position of a star seen near the edge of the Sun should shift by 0.875 arcseconds relative to its position measured half a year later, when the Sun is elsewhere in the sky. However, Arthur Eddington measured this effect as 1.75′′ and confirmed Einsteins prediction during the solar eclipse in May 1919.\n",
    "\n",
    "#### (a) Derive the expression for the deflection angle $\\alpha$ according to Newtons theory.\n",
    "\n",
    "$$ F = \\frac {GMm}{r^2} $$\n",
    "\n",
    "$$ r = [x^2 +(a-y)^2]^{1/2}$$\n",
    "\n",
    "#### Gravitational mass of a photon:\n",
    "$$M_{photon} = p/c$$\n",
    "\n",
    "$$ F_x = \\frac {dp_x}{dt} = \\frac {GMp cos\\theta}{c[x^2 + (a-y)^2]} = \\frac {GMp}{c} \\frac {x}{(x^2+R^2)^{3/2}}$$\n",
    "\n",
    "$$ F_y = \\frac {dp_y}{dt} = \\frac {GMp sin\\theta}{c[x^2 + (a-y)^2]} = \\frac {GMp}{c} \\frac {R}{(x^2+R^2)^{3/2}}$$\n",
    "\n",
    "#### Let a = R and y << R and x = ct\n",
    "\n",
    "$$ \\Delta p_x = \\frac {GMp}{c^2} \\int_{-\\infty}^\\infty {\\mathrm {d}x \\frac {x}{(x^2+R^2)^{3/2}}}=0 $$\n",
    "\n",
    "$$ \\Delta p_y = \\frac {GMp}{c^2} \\int_{-\\infty}^\\infty {\\mathrm {d}x \\frac {R}{(x^2+R^2)^{3/2}}} = \\frac {2GMp}{Rc^2} $$\n",
    "\n",
    "$$ \\alpha = \\frac {\\Delta p_y}{p} = \\frac {2GM}{Rc^2} $$\n",
    "\n",
    "#### (b) Calculate both values of the deflection angle $\\alpha$ (according to Newtons and Einsteins theories)\n",
    "\n",
    "\n",
    "\n",
    "\n",
    "\n",
    "\n"
   ]
  },
  {
   "cell_type": "code",
   "execution_count": 1,
   "metadata": {
    "collapsed": false
   },
   "outputs": [
    {
     "name": "stdout",
     "output_type": "stream",
     "text": [
      "The deflection angle according to Newton in arcseconds is:\n",
      "0.875794661006\n",
      "\n",
      "\n",
      "The deflection angle according to Einstein in arcseconds is:\n",
      "1.75158932201\n"
     ]
    }
   ],
   "source": [
    "import math \n",
    "import numpy as np\n",
    "import scipy\n",
    "from astropy import constants as constants\n",
    "from astropy import units as units\n",
    "\n",
    "M_Solar = 1.989e30 * units.kg\n",
    "R_Solar = 695700.0 * units.km * ((1000 * units.m) / units.km) \n",
    "\n",
    "#Returns alpha in arcseconds\n",
    "def Newton (M, R):\n",
    "    alpha = 2 * (constants.G * M) / (R * constants.c**2)\n",
    "    alpha = alpha * (180 / np.pi) * (60)**2\n",
    "    return alpha\n",
    "\n",
    "#Returns alpha in arcseconds\n",
    "def Einstein (M, R):\n",
    "    alpha = 4 * (constants.G * M) / (R * constants.c**2)\n",
    "    alpha = alpha * (180 / np.pi) * (60)**2\n",
    "    return alpha\n",
    "\n",
    "print \"The deflection angle according to Newton in arcseconds is:\" \n",
    "print Newton (M_Solar, R_Solar)\n",
    "\n",
    "print \"\\n\"\n",
    "print \"The deflection angle according to Einstein in arcseconds is:\" \n",
    "print Einstein (M_Solar, R_Solar)\n"
   ]
  },
  {
   "cell_type": "markdown",
   "metadata": {},
   "source": [
    "### 3 Masses of Galaxies\n",
    "#### For the quasar Q0957+561 shown on the right we measure $\\theta_1 = 5.35′′$, and $\\theta_2 = −0.8′′$. The quasar is at a redshift of $z_s = 1.41$ and the lens is at $z_l = 0.36$. Calculate the mass of the galaxy. Note: you will need to evaluate angular diameter distances here. Use http://www.astro.ucla.edu/~wright/CosmoCalc.html and as- sume standard (ΛCDM) cosmology. Next time we will calculate these ourselves. For simplicity assume $D_{ds} = D_s − D_d$, even though this is not the case in the expanding universe!"
   ]
  },
  {
   "cell_type": "code",
   "execution_count": 2,
   "metadata": {
    "collapsed": false,
    "scrolled": true
   },
   "outputs": [
    {
     "name": "stdout",
     "output_type": "stream",
     "text": [
      "The mass of the galaxy is calculated to be: \n",
      "1.29615318584e+43 kg\n"
     ]
    }
   ],
   "source": [
    "L_Solar = 3.8e26 * units.W #Solar luminosity\n",
    "Theta_1 = 5.35 #units in arcseconds\n",
    "Theta_2 = -0.8 #units in arcseconds\n",
    "z_s = 1.41 #location of redshift\n",
    "z_l = 0.36 #location of lens\n",
    "Mpc = 3.08e22 * units.m #Megaparsec to meters conversion\n",
    "D_s = 1768.2 * Mpc #Distance between observer to source\n",
    "D_d =  1047.3 * Mpc #Distace between observer to lens\n",
    "D_ds = D_s - D_d #Distance between lens and source\n",
    "\n",
    "\n",
    "#Angle Theta in Radians\n",
    "Theta = (Theta_1 + Theta_2) * (1.0 / 3600.0) * (np.pi / 180.0)\n",
    "\n",
    "#Critical surface density\n",
    "Sigma_crit = (constants.c**2) / (4 * np.pi * constants.G) * D_s / (D_d * D_ds)\n",
    "\n",
    "#Gravitational lensing estimate of galaxy\n",
    "M_Galaxy = np.pi * (D_d * Theta)**2 * Sigma_crit\n",
    "\n",
    "print \"The mass of the galaxy is calculated to be: \"\n",
    "print M_Galaxy\n",
    "\n"
   ]
  },
  {
   "cell_type": "markdown",
   "metadata": {
    "collapsed": true
   },
   "source": [
    "### 4 Solving the Lens Equation\n",
    "#### One of the simplest ways to produce simulations of gravitational lenses is to use a parametric model, a procedure that turns out to be particularly well suited for computer simulations. In a parametric model, the mathematics and physics of a phenomenon are reasonably well understood, and the results of the simulations depend on the values of a number of variables, or parameters.\n",
    "\n",
    "#### The toaster in your kitchen is an example of a parametric system with one parameter: the position of the lever that controls how dark you like your toast (e.g., light, brown, or burnt). Thanks to this parameter, you will not need different toasters to make different kinds of toast. The physics, mathematics, and engineering behind how toasters work (electricity coming on, elements heating up, etc.) do not change. The predictable result, your toast, depends only on the particular value of the model parameter, the position of the lever. With some trial and error, you can usually find an optimal parameter value that suits your taste. To produce simulations of gravitational lenses, we choose a deflecting mass distribution M(θ) and a distribution of light on the background source plane to observe through the lens. We will now investigate some imaging properties for the lens from previous problem.\n",
    "\n",
    "#### (a) Think of a ray that would end up at the origin in the source plane. How many such rays could you think there are? Where do they originate?\n",
    "\n",
    "#### There are an infinite number of rays\n",
    "\n",
    "#### (b) Back to your computer (python will be great for this again). Consider an array of $N^2$ pixels. For example, the WFPC2 camera on the Hubble Space Telescope produces 800 × 800 pixel images with $\\Delta = 0.05′′$ (By comparison, the full moon is about 0.5 degrees or 1800 arcseconds across, nearly 50 times wider than the Hubbles field-of-view!) Shoot a ray through the center $\\theta$ of each of the $N^2$ pixels, calculate the deflection angle $\\alpha(\\theta)$, and solve the lens equation for the point $\\beta$ where the ray pierces the source plane. This is opposite to the direction the light travels through the lens, but this is valid because gravitational lenses show optical reciprocity: light travels the same way in both directions through the lens."
   ]
  },
  {
   "cell_type": "code",
   "execution_count": 3,
   "metadata": {
    "collapsed": false
   },
   "outputs": [
    {
     "name": "stdout",
     "output_type": "stream",
     "text": [
      "Using matplotlib backend: MacOSX\n",
      "Populating the interactive namespace from numpy and matplotlib\n"
     ]
    }
   ],
   "source": [
    "%pylab"
   ]
  },
  {
   "cell_type": "code",
   "execution_count": 49,
   "metadata": {
    "collapsed": false
   },
   "outputs": [],
   "source": [
    "import matplotlib.pyplot as plt\n",
    "\n",
    "Theta_1R = Theta_1 * (1 / 3600) * (np.pi / 180) #Theta_1 in radians\n",
    "Theta_2R = Theta_1 * (1 / 3600) * (np.pi / 180) #Theta_2 in radians\n",
    "Theta_E = math.sqrt(D_ds / D_s * 4 * (constants.G * M_Galaxy) / (constants.c**2 * D_d)) #Units in radians\n",
    "Theta_ER = Theta_E * (180 / np.pi) * (60 / 1)**2 #Units in arcseconds\n",
    "\n",
    "#Function takes in an angle in radians and outputs an angle in radians\n",
    "def alpha(angle):\n",
    "    alpha = (D_ds / D_s) * 4 * (constants.G * M_Galaxy) / (constants.c**2 * angle * D_d)\n",
    "    return alpha\n",
    "\n",
    "# beta = angle - alpha(angle)\n",
    "\n",
    "for i in range(1, 40):\n",
    "    for j in range (1, 40):\n",
    "        \n",
    "        dx = i - 20.0\n",
    "        dy = j - 20.0\n",
    "        r1 = np.sqrt(dx**2 + dy**2)\n",
    "        \n",
    "        if i != 20:\n",
    "            bx = (dx * 0.05 * (4.848e-6)) - (4.0 * D_ds * constants.G * M_Galaxy*10**4) / (D_s * D_d * constants.c**2 * r1 * (4.848e-6) * 0.05)\n",
    "            \n",
    "        else: \n",
    "            bx == 0\n",
    "        if j != 20:\n",
    "            by = (dy * 0.05 * (4.848e-6)) - (4.0 * D_ds * constants.G * M_Galaxy*10**4) / (D_s * D_d * constants.c**2 * r1 * (4.848e-6) * 0.05)\n",
    "    \n",
    "        else:\n",
    "            by == 0\n",
    "            \n",
    "        r = np.sqrt(bx**2 + by**2)\n",
    "        if (4.0 < r < 5.0):\n",
    "            plt.subplot(211)\n",
    "            plt.scatter(i, j)\n",
    "            plt.subplot(212)\n",
    "            plt.scatter(bx, by)\n",
    "            \n",
    "plt.show()\n",
    "            "
   ]
  },
  {
   "cell_type": "markdown",
   "metadata": {},
   "source": [
    "#### (c) Consider now a small circular source in the source plane (say 1′′ in diameter). Determine whether the signal was emitted from the source, i.e. did any of the rays hit the source. Plot all the rays (in the image plane) that hit the source. This is how an image would look like"
   ]
  },
  {
   "cell_type": "code",
   "execution_count": 35,
   "metadata": {
    "collapsed": false
   },
   "outputs": [],
   "source": [
    "for i in range(1, 40):\n",
    "    for j in range (1, 40):\n",
    "        \n",
    "        dx = i - 40.0\n",
    "        dy = j - 40.0\n",
    "        r1 = np.sqrt(dx**2 + dy**2)\n",
    "        \n",
    "        if i != 20:\n",
    "            bx = (dx * 0.05 * (4.848e-6)) - (4.0 * D_ds * constants.G * M_Galaxy*10**4) / (D_s * D_d * constants.c**2 * r1 * (4.848e-6) * 0.05)\n",
    "            \n",
    "        else: \n",
    "            bx == 0\n",
    "        if j != 20:\n",
    "            by = (dy * 0.05 * (4.848e-6)) - (4.0 * D_ds * constants.G * M_Galaxy*10**4) / (D_s * D_d * constants.c**2 * r1 * (4.848e-6) * 0.05)\n",
    "    \n",
    "        else:\n",
    "            by == 0\n",
    "            \n",
    "        r = np.sqrt(bx**2 + by**2)\n",
    "        if (4.0 < r < 5.0):\n",
    "            plt.subplot(211)\n",
    "            plt.scatter(i, j)\n",
    "            plt.subplot(212)\n",
    "            plt.scatter(bx, by)\n",
    "            \n",
    "plt.show()"
   ]
  },
  {
   "cell_type": "markdown",
   "metadata": {
    "collapsed": true
   },
   "source": [
    "#### (d) Now move the source around. Can you reproduce the image configuration from previous plot?\n"
   ]
  },
  {
   "cell_type": "code",
   "execution_count": 46,
   "metadata": {
    "collapsed": true
   },
   "outputs": [],
   "source": [
    "for i in range(1, 40):\n",
    "    for j in range (1, 40):\n",
    "        \n",
    "        dx = i - 20.0\n",
    "        dy = j - 20.0\n",
    "        r1 = np.sqrt(dx**2 + dy**2)\n",
    "        \n",
    "        if i != 20:\n",
    "            bx = (dx * 0.05 * (4.848e-6)) - (4.0 * D_ds * constants.G * M_Galaxy*10**4) / (D_s * D_d * constants.c**2 * r1 * (4.848e-6) * 0.05)\n",
    "            \n",
    "        else: \n",
    "            bx == 0\n",
    "        if j != 20:\n",
    "            by = (dy * 0.05 * (4.848e-6)) - (4.0 * D_ds * constants.G * M_Galaxy*10**4) / (D_s * D_d * constants.c**2 * r1 * (4.848e-6) * 0.05)\n",
    "    \n",
    "        else:\n",
    "            by == 0\n",
    "            \n",
    "        r = np.sqrt(bx**2 + by**2)\n",
    "        if (4.4 < r < 5.0):\n",
    "            plt.subplot(211)\n",
    "            plt.scatter(i, j)\n",
    "            plt.subplot(212)\n",
    "            plt.scatter(bx, by)\n",
    "            "
   ]
  },
  {
   "cell_type": "markdown",
   "metadata": {},
   "source": [
    "### 5 Gravitational lensing and the Bullet Cluster\n",
    "#### My research in the past has been particularly connected to the Bullet Cluster. As you have seen from the lecture, with the help of gravitational lensing we have realized that dark matter does not self-interact much. But “much” is not very quantitative prediction. So in this part we will estimate the upper limits of the cross section σ per unit mass m.\n",
    "\n",
    "#### (a) Derive the equation for scattering depth of particles τ in terms of σ, m, and the surface mass density of the material Σ.\n",
    "\n"
   ]
  },
  {
   "cell_type": "markdown",
   "metadata": {},
   "source": [
    "$$ \\sigma = \\pi r^2$$\n",
    "$$V_{cylinder} = LA$$\n",
    "$$N_{absorbers} = nLA$$\n",
    "$$\\sigma_{total}=nLA\\sigma$$\n",
    "$$F_{abs}=\\sigma_{total}/A=nL\\sigma$$\n",
    "$$\\tau = nL\\sigma$$\n",
    "$$\\Sigma = nL$$\n",
    "$$\\tau = \\Sigma\\sigma$$\n",
    "\n",
    "#### (b) With gravitational lensing we measure Σ = 0.02m2/kg and deduce that particles do not scatter at a detectable level. What can you say about σ/m?"
   ]
  },
  {
   "cell_type": "code",
   "execution_count": null,
   "metadata": {
    "collapsed": false
   },
   "outputs": [],
   "source": []
  },
  {
   "cell_type": "code",
   "execution_count": null,
   "metadata": {
    "collapsed": true
   },
   "outputs": [],
   "source": []
  }
 ],
 "metadata": {
  "kernelspec": {
   "display_name": "Python 2",
   "language": "python",
   "name": "python2"
  },
  "language_info": {
   "codemirror_mode": {
    "name": "ipython",
    "version": 2
   },
   "file_extension": ".py",
   "mimetype": "text/x-python",
   "name": "python",
   "nbconvert_exporter": "python",
   "pygments_lexer": "ipython2",
   "version": "2.7.11"
  }
 },
 "nbformat": 4,
 "nbformat_minor": 0
}
