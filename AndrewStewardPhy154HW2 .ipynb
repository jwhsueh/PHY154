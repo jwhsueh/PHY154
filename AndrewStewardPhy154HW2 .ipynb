{
 "cells": [
  {
   "cell_type": "code",
   "execution_count": 42,
   "metadata": {
    "collapsed": false
   },
   "outputs": [
    {
     "name": "stdout",
     "output_type": "stream",
     "text": [
      "The time the sun would burn if it were made of wood is 1.669E+03 years.\n"
     ]
    }
   ],
   "source": [
    "#1. a)\n",
    "\n",
    "MassSun = 2*10**30\n",
    "Yield = 1*10**7\n",
    "\n",
    "Energy = MassSun*Yield\n",
    "\n",
    "LumSun = 3.8*10**26\n",
    "\n",
    "TimeLived = (Energy / LumSun)/(3600.0*24.0*365.0)\n",
    "\n",
    "print 'The time the sun would burn if it were made of wood is', '%.3E' % TimeLived, 'years.'"
   ]
  },
  {
   "cell_type": "code",
   "execution_count": 43,
   "metadata": {
    "collapsed": false
   },
   "outputs": [
    {
     "name": "stdout",
     "output_type": "stream",
     "text": [
      "The energy released in 1 reaction is 3.600E-09 Joules.\n",
      "The time the sun would live is 9.048E+10 years.\n"
     ]
    }
   ],
   "source": [
    "#1. b)\n",
    "\n",
    "C = 3.0*10**8\n",
    "\n",
    "MassH = 1.66*10**-24\n",
    "\n",
    "MassHe = 6.6*10**-24\n",
    "\n",
    "Mass4H = 4*MassH\n",
    "\n",
    "MassLeft = Mass4H-MassHe\n",
    "\n",
    "EnergyOne = MassLeft*C**2\n",
    "\n",
    "print 'The energy released in 1 reaction is', '%.3E' % EnergyOne, 'Joules.'\n",
    "\n",
    "NumH = MassSun / MassH\n",
    "\n",
    "EnergyAll = (NumH/4.0)*EnergyOne\n",
    "\n",
    "TimeLives = (EnergyAll/LumSun)/(3600.0*24.0*365.0)\n",
    "\n",
    "print 'The time the sun would live is', '%.3E' % TimeLives, 'years.'"
   ]
  },
  {
   "cell_type": "code",
   "execution_count": 44,
   "metadata": {
    "collapsed": false
   },
   "outputs": [
    {
     "name": "stdout",
     "output_type": "stream",
     "text": [
      "The energy I would release if my body was converted is 9.000E+18 Joules.\n"
     ]
    }
   ],
   "source": [
    "#1. c)\n",
    "\n",
    "#If I am 100kg\n",
    "\n",
    "MeMass = 100\n",
    "\n",
    "EnergyMe = MeMass*C**2\n",
    "\n",
    "print 'The energy I would release if my body was converted is', '%.3E' % EnergyMe, 'Joules.'"
   ]
  },
  {
   "cell_type": "code",
   "execution_count": 45,
   "metadata": {
    "collapsed": false
   },
   "outputs": [
    {
     "name": "stdout",
     "output_type": "stream",
     "text": [
      "The time my energy could run my household would be 2.854E+08 years.\n",
      "The time my energy could run the world would be 1.427E-01 years.\n"
     ]
    }
   ],
   "source": [
    "#1. d)\n",
    "\n",
    "HouseEnergy = 1.0*10**3\n",
    "\n",
    "WorldEnergy = 2.0*10**12\n",
    "\n",
    "HouseTime = (EnergyMe / HouseEnergy)/(3600.0*24.0*365.0)\n",
    "\n",
    "print 'The time my energy could run my household would be', '%.3E' % HouseTime, 'years.'\n",
    "\n",
    "WorldTime = (EnergyMe / WorldEnergy)/(3600.0*24.0*365.0)\n",
    "\n",
    "print 'The time my energy could run the world would be', '%.3E' % WorldTime, 'years.'"
   ]
  },
  {
   "cell_type": "code",
   "execution_count": 57,
   "metadata": {
    "collapsed": false
   },
   "outputs": [
    {
     "name": "stdout",
     "output_type": "stream",
     "text": [
      "The flux of sunlight on Earth is 1.344E+03 Watts per square Meter.\n",
      "The area you would need of perfect solar cells to power the world would be 1.488E+09 square Meters.\n",
      "The area you would need of satellite solar cells to power the world would be 3.720E+09 square Meters.\n"
     ]
    }
   ],
   "source": [
    "#1. e)\n",
    "\n",
    "import numpy as np\n",
    "\n",
    "EarthsRadius = 6.37*10**6\n",
    "\n",
    "EarthsSA = 4.0*np.pi*(EarthsRadius**2.0)\n",
    "\n",
    "AU = 1.5*10**11\n",
    "\n",
    "SunToEarthSphere = 4.0*np.pi*(AU**2.0)\n",
    "\n",
    "LumPerSM = LumSun / SunToEarthSphere\n",
    "\n",
    "FluxEarth = WorldEnergy / LumPerSM\n",
    "\n",
    "print 'The flux of sunlight on Earth is', '%.3E' % LumPerSM, 'Watts per square Meter.'\n",
    "\n",
    "PerfectCellArea = FluxEarth\n",
    "\n",
    "print 'The area you would need of perfect solar cells to power the world would be', \"%.3E\" % PerfectCellArea, 'square Meters.'\n",
    "\n",
    "FrtyPercentArea = PerfectCellArea/0.4\n",
    "\n",
    "print 'The area you would need of satellite solar cells to power the world would be', \"%.3E\" % FrtyPercentArea, 'square Meters.'\n"
   ]
  },
  {
   "cell_type": "code",
   "execution_count": 47,
   "metadata": {
    "collapsed": true
   },
   "outputs": [],
   "source": [
    "#1. f) write the PP chain reaction in a single line.\n",
    "\n",
    "#There are 2 sets of 2 Hydrogen atoms that combine and release a poistron and a Neutrino,\n",
    "#the sets then get and extra hydrogen and release a Gamma ray,\n",
    "#the two sets of three then combine and release 2 of the Hydrogens and create a He atom."
   ]
  },
  {
   "cell_type": "code",
   "execution_count": 48,
   "metadata": {
    "collapsed": false
   },
   "outputs": [
    {
     "name": "stdout",
     "output_type": "stream",
     "text": [
      "The Suns power from the pp cycle is 8.741E+27 Watts.\n",
      "The Suns power from the CNO cycle is 1.634E+27 Watts.\n"
     ]
    }
   ],
   "source": [
    "#1. g) \n",
    "\n",
    "XH= 0.64\n",
    "XCNO = 0.015\n",
    "Rho = 1.622*10**5\n",
    "T = 1.571*10**7\n",
    "ENotPP = 1.08*10**(-12)\n",
    "ENotCNO = 8.24*10**(-31)\n",
    "\n",
    "EnGenPP = ENotPP*Rho*(XH**2)*((T/(1.0*10**6))**4) #watts per kg is generation rates units\n",
    "\n",
    "EnGenCNO = ENotCNO*Rho*XH*XCNO*((T/(1.0*10**6))**19.9) #watts per kg is generation rates units\n",
    "\n",
    "PowerSunPP = EnGenPP*MassSun \n",
    "\n",
    "PowerSunCNO = EnGenCNO*MassSun\n",
    "\n",
    "print 'The Suns power from the pp cycle is', \"%.3E\" % PowerSunPP, 'Watts.'\n",
    "\n",
    "print 'The Suns power from the CNO cycle is', '%.3E' % PowerSunCNO, 'Watts.'\n",
    "\n",
    "#what temp makes the two processes equal?"
   ]
  },
  {
   "cell_type": "code",
   "execution_count": 49,
   "metadata": {
    "collapsed": true
   },
   "outputs": [],
   "source": [
    " #2. a)\n",
    "  \n",
    " #As the cloud collapses it needs to be cold because:\n",
    "  #heat in the gas is a measure of average kenetic energy of a particle,\n",
    "  #this kenetic energy induces an outward force that opposes gravitational collapse.\n",
    "  #the colder the gas is the less it will oppose the collapse."
   ]
  },
  {
   "cell_type": "code",
   "execution_count": 50,
   "metadata": {
    "collapsed": true
   },
   "outputs": [],
   "source": [
    "#2. b)\n",
    "\n",
    "#The main force driving the collapse is gravity."
   ]
  },
  {
   "cell_type": "code",
   "execution_count": 51,
   "metadata": {
    "collapsed": true
   },
   "outputs": [],
   "source": [
    "#2. c)\n",
    "\n",
    "#The Virial Theorem is -U=2K,\n",
    "#relating the gravitational potential energy to the kinetic energy.\n",
    "#To modify it to reach the conditions of collapse:\n",
    "#Substitute in (3)*((1/2)*N*K*T) for the kinetic energy is 3 dimensions,\n",
    "#substitute in (-3/5)*(G*(M**2))/R for the gravitational potential energy.\n",
    "#The correct conditions for collapse is when U > 2*K"
   ]
  },
  {
   "cell_type": "code",
   "execution_count": 52,
   "metadata": {
    "collapsed": false
   },
   "outputs": [],
   "source": [
    "#2. d)\n",
    "\n",
    "#Radius of the cloud = ((3*M)/(4*np.pi*RHO))**(1/3)\n",
    "\n",
    "#Thus the virial theorem can be stated as\n",
    "\n",
    "#Mass = (((5*k*T)/(G*m))**(3/2))*(((3)/(4*np.pi*RHO))**(1/2))\n",
    "\n",
    "#The Jeans radius is R = ((Mass)*2*G*m*(mass of hydrogen))/(3*k*T)"
   ]
  },
  {
   "cell_type": "code",
   "execution_count": 53,
   "metadata": {
    "collapsed": false
   },
   "outputs": [
    {
     "name": "stdout",
     "output_type": "stream",
     "text": [
      "The Jeans Mass is 2.950E+27 kilograms.\n",
      "The Jeans Radius is 3.365E+56 meters.\n"
     ]
    }
   ],
   "source": [
    "#2. e)\n",
    "\n",
    "T = 50\n",
    "n = 5.0*10**8\n",
    "k = 1.38*10**(-23)\n",
    "G = 6.67*10**(-11)\n",
    "RHO = MassH*n\n",
    "\n",
    "JeansM = (((5.0*k*T)/(G*MassH))**(3.0/2.0))*(((3.0)/(4.0*np.pi*RHO))**(1.0/2.0))\n",
    "\n",
    "print 'The Jeans Mass is', '%.3E' % JeansM, 'kilograms.'\n",
    "\n",
    "JeansR = (G*(JeansM**2))/(5*n*k*T)\n",
    "\n",
    "print 'The Jeans Radius is', '%.3E' % JeansR, 'meters.'\n",
    "\n"
   ]
  },
  {
   "cell_type": "code",
   "execution_count": 54,
   "metadata": {
    "collapsed": true
   },
   "outputs": [],
   "source": [
    "#2. f) "
   ]
  },
  {
   "cell_type": "code",
   "execution_count": 55,
   "metadata": {
    "collapsed": true
   },
   "outputs": [],
   "source": [
    "#2. g)"
   ]
  },
  {
   "cell_type": "code",
   "execution_count": 56,
   "metadata": {
    "collapsed": true
   },
   "outputs": [],
   "source": [
    "#3. a)"
   ]
  }
 ],
 "metadata": {
  "kernelspec": {
   "display_name": "Python 2",
   "language": "python",
   "name": "python2"
  },
  "language_info": {
   "codemirror_mode": {
    "name": "ipython",
    "version": 2
   },
   "file_extension": ".py",
   "mimetype": "text/x-python",
   "name": "python",
   "nbconvert_exporter": "python",
   "pygments_lexer": "ipython2",
   "version": "2.7.6"
  }
 },
 "nbformat": 4,
 "nbformat_minor": 0
}
