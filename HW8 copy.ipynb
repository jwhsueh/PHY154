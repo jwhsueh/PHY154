{
 "cells": [
  {
   "cell_type": "markdown",
   "metadata": {},
   "source": [
    "Notes: $B(\\lambda, T )$"
   ]
  },
  {
   "cell_type": "code",
   "execution_count": null,
   "metadata": {
    "collapsed": false
   },
   "outputs": [],
   "source": [
    "\n"
   ]
  },
  {
   "cell_type": "markdown",
   "metadata": {},
   "source": [
    "# Problem 1\n",
    "## (a)"
   ]
  },
  {
   "cell_type": "code",
   "execution_count": 1,
   "metadata": {
    "collapsed": false
   },
   "outputs": [
    {
     "name": "stderr",
     "output_type": "stream",
     "text": [
      "/Users/Ray/anaconda/lib/python2.7/site-packages/IPython/kernel/__init__.py:13: ShimWarning: The `IPython.kernel` package has been deprecated. You should import from ipykernel or jupyter_client instead.\n",
      "  \"You should import from ipykernel or jupyter_client instead.\", ShimWarning)\n"
     ]
    }
   ],
   "source": [
    "import astropy.constants as const\n",
    "import numpy as np\n",
    "import matplotlib.pyplot as plt\n",
    "\n",
    "from mpl_toolkits.basemap import Basemap\n",
    "from netCDF4 import Dataset, date2index\n",
    "from datetime import datetime"
   ]
  },
  {
   "cell_type": "code",
   "execution_count": 2,
   "metadata": {
    "collapsed": false
   },
   "outputs": [
    {
     "name": "stdout",
     "output_type": "stream",
     "text": [
      "278.656541818 K 254.884691982 K 206.228914959 K\n"
     ]
    }
   ],
   "source": [
    "# sigma_sb, \n",
    "# powerin = L/4pi*d^2 * pi*r^2\n",
    "# powerout = sigma*T^4*4pi*r^2\n",
    "\n",
    "\n",
    "## no green house\n",
    "def T1(A):\n",
    "    power_in = (1-A) * const.L_sun * pow(const.R_earth, 2) * np.pi/(4*np.pi*pow(const.au,2))\n",
    "    T = np.sqrt(np.sqrt(power_in/const.sigma_sb/(4*np.pi * pow(const.R_earth,2))))\n",
    "    return T\n",
    "\n",
    "print T1(0), T1(0.3), T1(0.7) "
   ]
  },
  {
   "cell_type": "markdown",
   "metadata": {},
   "source": [
    "## (b)"
   ]
  },
  {
   "cell_type": "code",
   "execution_count": 3,
   "metadata": {
    "collapsed": false
   },
   "outputs": [
    {
     "data": {
      "text/latex": [
       "$372.698 \\; \\mathrm{K}$"
      ],
      "text/plain": [
       "<Quantity 372.69772151836884 K>"
      ]
     },
     "execution_count": 3,
     "metadata": {},
     "output_type": "execute_result"
    }
   ],
   "source": [
    "## green hosue\n",
    "## (1-A)[pi*R_e^2]F_surf + (1-A) sigma * T^4 * (4pi * R_e^2) = sigma T^4 4pi R_E\n",
    "def T2(A):\n",
    "    power_in1 = (1-A) * const.L_sun * pow(const.R_earth, 2) * np.pi/(4*np.pi*pow(const.au,2))\n",
    "    #power_in2 = (1-A) * power_in1\n",
    "    power_in = power_in1 *(1-A)/A\n",
    "    T = np.sqrt(np.sqrt(power_in/const.sigma_sb/(4*np.pi * pow(const.R_earth,2))))\n",
    "    return T\n",
    "T2(0.2)"
   ]
  },
  {
   "cell_type": "markdown",
   "metadata": {
    "collapsed": false
   },
   "source": [
    "## (c) "
   ]
  },
  {
   "cell_type": "markdown",
   "metadata": {},
   "source": [
    "Since albedo $a_{(\\lambda)}$ is a function about wavelenth, we can integrate the original function over $1-a_{(\\lambda)}$ as following:\n",
    "\n",
    "\\begin{align}\n",
    "    F_s &= \\displaystyle\\int_0^\\infty(1-a_{(\\lambda)}) \\,B_{(\\lambda, T)}\\,d\\lambda\\\\\n",
    "    &= \\displaystyle\\int_0^\\infty(1-a_{(\\lambda)}) \\, \\frac{2hc^2/\\lambda^5}{e^{hc/\\lambda kT}-1}   \\,d\\lambda\\\\\n",
    "\\end{align}\n"
   ]
  },
  {
   "cell_type": "markdown",
   "metadata": {},
   "source": [
    "## (d) "
   ]
  },
  {
   "cell_type": "raw",
   "metadata": {},
   "source": [
    "The albedo is the part showing influence of the concentration of greenhouse gas. While albedo decreases, the influence of greenhouse will inrease, resulting in a higher temperature.\n"
   ]
  },
  {
   "cell_type": "code",
   "execution_count": null,
   "metadata": {
    "collapsed": true
   },
   "outputs": [],
   "source": []
  },
  {
   "cell_type": "markdown",
   "metadata": {},
   "source": [
    "# Problem 2\n"
   ]
  },
  {
   "cell_type": "code",
   "execution_count": 11,
   "metadata": {
    "collapsed": false
   },
   "outputs": [
    {
     "name": "stdout",
     "output_type": "stream",
     "text": [
      "38 38\n"
     ]
    }
   ],
   "source": [
    "year, T, precip, snowdepth, NINO3 = np.loadtxt(\"calidata_final.dat\", unpack = True)\n",
    "print len(year), len(T)"
   ]
  },
  {
   "cell_type": "raw",
   "metadata": {
    "collapsed": false
   },
   "source": [
    "date = datetime(2007,12,15,0) # date to plot.\n",
    "# open dataset.\n",
    "dataset = \\\n",
    "Dataset('http://www.ncdc.noaa.gov/thredds/dodsC/OISST-V2-AVHRR_agg')\n",
    "timevar = dataset.variables['time']\n",
    "timeindex = date2index(date,timevar) # find time index for desired date.\n",
    "# read sst.  Will automatically create a masked array using\n",
    "# missing_value variable attribute. 'squeeze out' singleton dimensions.\n",
    "sst = dataset.variables['sst'][timeindex,:].squeeze()\n",
    "# read ice.\n",
    "ice = dataset.variables['ice'][timeindex,:].squeeze()\n",
    "# read lats and lons (representing centers of grid boxes).\n",
    "lats = dataset.variables['lat'][:]\n",
    "lons = dataset.variables['lon'][:]\n",
    "lons, lats = np.meshgrid(lons,lats)\n",
    "# create figure, axes instances.\n"
   ]
  },
  {
   "cell_type": "raw",
   "metadata": {
    "collapsed": true
   },
   "source": [
    "## failed to load functions\n",
    "## Kernel crashed\n",
    "\n",
    "#############\n",
    "\n",
    "fig = plt.figure()\n",
    "ax = fig.add_axes([0.05,0.05,0.9,0.9])\n",
    "# create Basemap instance.\n",
    "# coastlines not used, so resolution set to None to skip\n",
    "# continent processing (this speeds things up a bit)\n",
    "m = Basemap(projection='kav7',lon_0=0,resolution=None)\n",
    "# draw line around map projection limb.\n",
    "# color background of map projection region.\n",
    "# missing values over land will show up this color.\n",
    "m.drawmapboundary(fill_color='0.3')\n",
    "# plot sst, then ice with pcolor\n",
    "im1 = m.pcolormesh(lons,lats,sst,shading='flat',cmap=plt.cm.jet,latlon=True)\n",
    "im2 = m.pcolormesh(lons,lats,ice,shading='flat',cmap=plt.cm.gist_gray,latlon=True)\n",
    "# draw parallels and meridians, but don't bother labelling them.\n",
    "m.drawparallels(np.arange(-90.,99.,30.))\n",
    "m.drawmeridians(np.arange(-180.,180.,60.))\n",
    "# add colorbar\n",
    "cb = m.colorbar(im1,\"bottom\", size=\"5%\", pad=\"2%\")\n",
    "# add a title.\n",
    "ax.set_title('SST and ICE analysis for %s'%date)\n",
    "plt.show()"
   ]
  },
  {
   "cell_type": "raw",
   "metadata": {},
   "source": [
    "# from mpl_toolkits.basemap import Basemap\n",
    "import numpy as np\n",
    "import matplotlib.pyplot as plt\n",
    "# create new figure, axes instances.\n",
    "fig=plt.figure()\n",
    "ax=fig.add_axes([0.1,0.1,0.8,0.8])\n",
    "# setup mercator map projection.\n",
    "m = Basemap(llcrnrlon=-100.,llcrnrlat=20.,urcrnrlon=20.,urcrnrlat=60.,\\\n",
    "            rsphere=(6378137.00,6356752.3142),\\\n",
    "            resolution='l',projection='merc',\\\n",
    "            lat_0=40.,lon_0=-20.,lat_ts=20.)\n",
    "# nylat, nylon are lat/lon of New York\n",
    "nylat = 40.78; nylon = -73.98\n",
    "# lonlat, lonlon are lat/lon of London.\n",
    "lonlat = 51.53; lonlon = 0.08\n",
    "# draw great circle route between NY and London\n",
    "m.drawgreatcircle(nylon,nylat,lonlon,lonlat,linewidth=2,color='b')\n",
    "m.drawcoastlines()\n",
    "m.fillcontinents()\n",
    "# draw parallels\n",
    "m.drawparallels(np.arange(10,90,20),labels=[1,1,0,1])\n",
    "# draw meridians\n",
    "m.drawmeridians(np.arange(-180,180,30),labels=[1,1,0,1])\n",
    "ax.set_title('Great Circle from New York to London')\n",
    "plt.show()"
   ]
  },
  {
   "cell_type": "markdown",
   "metadata": {},
   "source": [
    "According to $\\textit{Numerical Recipes}$, the linear correlation coefficient $r$ is given by the formula:\n",
    "\\begin{align}\n",
    "r = \\frac{\\displaystyle\\sum_i (x_i - \\overline{x})(y_i - \\overline{y})}\n",
    "    {\\sqrt{\\displaystyle\\sum_i(x_i - \\overline{x})^2}\\sqrt{\\displaystyle\\sum_i(y_i - \\overline{y})^2}}\n",
    "\\end{align}"
   ]
  },
  {
   "cell_type": "code",
   "execution_count": 9,
   "metadata": {
    "collapsed": false
   },
   "outputs": [
    {
     "name": "stdout",
     "output_type": "stream",
     "text": [
      "cor_r(T, NINO3), cor_r(precip, NINO3), cor_r(snowdepth, NINO3)\n",
      "0.00511244585807 0.37712170126 0.141972307605\n"
     ]
    }
   ],
   "source": [
    "## correlation between temperature/precipitation/snow with NINO3\n",
    "## year, T, precip, snowdepth, NINO3\n",
    "def cor_r(x, y):\n",
    "    x_m = np.sum(x)/len(x)\n",
    "    y_m = np.sum(y)/len(y)\n",
    "    num = np.sum((x-x_m)*(y-y_m))\n",
    "    den = np.sqrt(np.sum(np.power(x-x_m , 2))) * np.sqrt(np.sum(np.power(y-y_m , 2)))\n",
    "    return num/den\n",
    "print 'cor_r(T, NINO3), cor_r(precip, NINO3), cor_r(snowdepth, NINO3)'\n",
    "print cor_r(T, NINO3), cor_r(precip, NINO3), cor_r(snowdepth, NINO3)"
   ]
  },
  {
   "cell_type": "raw",
   "metadata": {},
   "source": [
    "Hence, percipitation and NINO3 are strongly correlated, and snowdepth is less so. Temperature is barely correlated with NINO3."
   ]
  },
  {
   "cell_type": "raw",
   "metadata": {},
   "source": [
    "From the Climate Prediction Center (CPC), we are currently in a warm event. Temperature tends to increase in a short run, and the influence of the warm waather will expand from south to more nothern parts."
   ]
  },
  {
   "cell_type": "code",
   "execution_count": null,
   "metadata": {
    "collapsed": true
   },
   "outputs": [],
   "source": []
  }
 ],
 "metadata": {
  "kernelspec": {
   "display_name": "Python 2",
   "language": "python",
   "name": "python2"
  },
  "language_info": {
   "codemirror_mode": {
    "name": "ipython",
    "version": 2
   },
   "file_extension": ".py",
   "mimetype": "text/x-python",
   "name": "python",
   "nbconvert_exporter": "python",
   "pygments_lexer": "ipython2",
   "version": "2.7.11"
  }
 },
 "nbformat": 4,
 "nbformat_minor": 0
}
