{
 "cells": [
  {
   "cell_type": "markdown",
   "metadata": {},
   "source": [
    "# Gravitational Lensing"
   ]
  },
  {
   "cell_type": "markdown",
   "metadata": {},
   "source": [
    "### 1 Gravitational Lensing"
   ]
  },
  {
   "cell_type": "markdown",
   "metadata": {},
   "source": [
    "Strong gravitational lensing is a phenomenon that was long predicted by Einstein, Zwicky, and others, confirmed observationally in 1979, and which is now rapidly coming of age as a powerful tool. Gravitational lensing has many applications to fundamental problems in physics and astrophysics. As a quick overview list, with observations of strong gravitational lenses, it is possible to study extremely magnified galaxies from as far back as the dawn of cosmic time, measure the expansion and acceleration rate of the universe, determine the internal structure and the dark matter distribution within the central portions of distant galaxies, and even set meaningful measurements of the particle nature of dark matter."
   ]
  },
  {
   "cell_type": "markdown",
   "metadata": {},
   "source": [
    "(a) Get yourself familiar with gravitational lensing. Read the introduction here: http://adsabs.harvard.edu/abs/2003astro.ph..6465S (First two chapters)"
   ]
  },
  {
   "cell_type": "markdown",
   "metadata": {},
   "source": [
    "### 2 1911 Solar Eclipse"
   ]
  },
  {
   "cell_type": "markdown",
   "metadata": {},
   "source": [
    "The 1919 Eclipse Expedition to test the light-bending prediction of General Relativity remains one of the most famous physics experiments of the 20th century. In 1801, J. G. von Soldner calculated, according to Newtonian theory, that the position of a star seen near the edge of the Sun should shift by 0.875 arcseconds relative to its position measured half a year later, when the Sun is elsewhere in the sky. However, Arthur Eddington measured this effect as 1.75′′ and confirmed Einsteins prediction during the solar eclipse in May 1919."
   ]
  },
  {
   "cell_type": "markdown",
   "metadata": {},
   "source": [
    "(a) Derive the expression for the deflection angle $\\alpha$ according to Newton's theory."
   ]
  },
  {
   "cell_type": "markdown",
   "metadata": {
    "collapsed": true
   },
   "source": [
    "$$ \\vec{a}_y = \\frac{\\vec{F}}{m} $$\n",
    "\n",
    "$$\\frac{\\text{d}v_y}{\\text{d}t} \\hat{\\jmath} = \\frac{GM}{r^2} \\hat{r}$$\n",
    "\n",
    "$$\\int_0^{v_y} \\text{d}v_y ' = \\int_{-\\infty}^{\\infty} \\frac{GMR}{(R^2 + (ct)^2)^{3/2}} \\text{d}t$$\n",
    "\n",
    "$$ v_y = \\frac{2GM}{cR}$$\n",
    "\n",
    "$$ \\frac{v_y}{c} = \\sin(\\alpha) \\approx \\alpha $$\n",
    "\n",
    "$$ \\alpha = \\frac{2GM}{c^2 R} $$"
   ]
  },
  {
   "cell_type": "markdown",
   "metadata": {},
   "source": [
    "(b) Calculate both values of the deflection angle $\\alpha$ (according to Newton's and Einstein's theories)."
   ]
  },
  {
   "cell_type": "markdown",
   "metadata": {},
   "source": [
    "$$\\alpha_{Nt} = \\frac{2GM}{c^2 R}$$\n",
    "\n",
    "$$\\alpha_{GR} = \\frac{4GM}{c^2 R}$$\n",
    "Where $R = \\frac{D_l D_s}{D_{ls}}\\theta$\n",
    "\n",
    "($\\beta = \\theta - \\alpha$)"
   ]
  },
  {
   "cell_type": "code",
   "execution_count": 15,
   "metadata": {
    "collapsed": false
   },
   "outputs": [
    {
     "name": "stdout",
     "output_type": "stream",
     "text": [
      "alpha_Nt = 0.876080474503\n",
      "alpha_GR = 1.75216094901\n"
     ]
    }
   ],
   "source": [
    "import numpy as np\n",
    "from astropy import constants as c\n",
    "\n",
    "alpha_Nt = 2*c.G*c.M_sun/(c.R_sun*c.c**2)\n",
    "alpha_GR = 4*c.G*c.M_sun/(c.R_sun*c.c**2)\n",
    "\n",
    "print \"alpha_Nt =\", alpha_Nt*60*60*360/(2*np.pi)\n",
    "print \"alpha_GR =\", alpha_GR*60*60*360/(2*np.pi)"
   ]
  },
  {
   "cell_type": "markdown",
   "metadata": {},
   "source": [
    "### 3 Masses of Galaxies"
   ]
  },
  {
   "cell_type": "markdown",
   "metadata": {},
   "source": [
    "For the quasar Q0957+561 shown in Figure 1 we measure $\\theta_1 = 5.35′′$, and $\\theta_2 = −0.8′′$. The quasar is at a redshift of $z_s = 1.41$ and the lens is at $z_l = 0.36$. Calculate the mass of the galaxy. Note: you will need to evaluate angular diameter distances here. Use http://www.astro.ucla.edu/~wright/CosmoCalc.html and assume standard ($\\Lambda\\text{CDM}$) cosmology. Next time we will calculate these ourselves. For simplicity assume $D_{ds} = D_s − D_d$, even though this is not the case in the expanding universe!\n",
    "\n",
    "Some useful numbers:\n",
    "\n",
    "Solar luminosity: $L_{\\odot} = 3.8 × 10^{26} \\text{W}$\n",
    "\n",
    "Solar mass: $M_{\\odot} = 2.0 × 10^{30} \\text{kg}$\n",
    "\n",
    "Solar radius: $R_{\\odot} = 7.0 × 10^8 \\text{m}$\n",
    "\n",
    "Grav. Constant: $G = 6.67 × 10^{−11} \\text{m}^3\\text{kg}^{-1}\\text{s}^{-2}$\n",
    "\n",
    "Megaparsec: $1 \\text{Mpc} = 3.08 × 10^{22} \\text{m}$\n",
    "\n",
    "$\\frac{4G}{c^2} = 3 × 10^{−27} \\frac{\\text{m}}{\\text{kg}}$"
   ]
  },
  {
   "cell_type": "markdown",
   "metadata": {
    "collapsed": true
   },
   "source": [
    "From the calculator: $D_s = 1768.2 \\text{Mpc}$ and $D_l = 1047.3 \\text{Mpc}$.\n",
    "\n",
    "Therefore $D_{ls} = 720.9 \\text{Mpc}$."
   ]
  },
  {
   "cell_type": "markdown",
   "metadata": {},
   "source": [
    "### 4 Solving the Lens Equation"
   ]
  },
  {
   "cell_type": "markdown",
   "metadata": {},
   "source": [
    "One of the simplest ways to produce simulations of gravitational lenses is to use a parametric model, a procedure that turns out to be particularly well suited for computer simulations. In a parametric model, the mathematics and physics of a phenomenon are reasonably well understood, and the results of the simulations depend on the values of a number of variables, or parameters. The toaster in your kitchen is an example of a parametric system with one parameter: the position of the lever that controls how dark you like your toast (e.g. light, brown, or burnt). Thanks to this parameter, you will not need different toasters to make different kinds of toast. The physics, mathematics, and engineering behind how toasters work (electricity coming on, elements heating up, etc.) do not change. The predictable result, your toast, depends only on the particular value of the model parameter, the position of the lever. With some trial and error, you can usually find an optimal parameter value that suits your taste. To produce simulations of gravitational lenses, we choose a deflecting mass distribution $M(\\theta)$ and a distribution of light on the background source plane to observe through the lens. We will now investigate some imaging properties for the lens from previous problem."
   ]
  },
  {
   "cell_type": "markdown",
   "metadata": {},
   "source": [
    "(a) Think of a ray that would end up at the origin in the source plane. How many such rays could you think there are?     Where do they originate?"
   ]
  },
  {
   "cell_type": "markdown",
   "metadata": {
    "collapsed": true
   },
   "source": [
    "There is a circle of such rays. This is called an \"Einstein Ring\" and is only produced the background source is exactly aligned with the lensing object (along the line of sight)."
   ]
  },
  {
   "cell_type": "markdown",
   "metadata": {},
   "source": [
    "(b) Back to your computer (Python will be great for this again). Consider an array of $N^2$ pixels. For example, the WFPC2 camera on the Hubble Space Telescope produces $800 × 800$ pixel images with $\\Delta = 0.05′′$ (By comparison, the full moon is about $0.5$ degrees or $1800$ arcseconds across, nearly $50$ times wider than the Hubble's field-of-view!) Shoot a ray through the center $\\theta$ of each of the $N^2$ pixels, calculate the deflection angle $\\alpha(\\theta)$, and solve the lens equation for the point $\\beta$ where the ray pierces the source plane. This is opposite to the direction the light travels through the lens, but this is valid because gravitational lenses show optical reciprocity: light travels the same way in both directions through the lens."
   ]
  },
  {
   "cell_type": "code",
   "execution_count": null,
   "metadata": {
    "collapsed": true
   },
   "outputs": [],
   "source": []
  },
  {
   "cell_type": "markdown",
   "metadata": {},
   "source": [
    "(c) Consider now a small circular source in the source plane (say $1′′$ in diameter). Determine whether the signal was emitted from the source, i.e. did any of the rays hit the source. Plot all the rays (in the image plane) that hit the source. This is how an image would look like"
   ]
  },
  {
   "cell_type": "code",
   "execution_count": null,
   "metadata": {
    "collapsed": true
   },
   "outputs": [],
   "source": []
  },
  {
   "cell_type": "markdown",
   "metadata": {},
   "source": [
    "(d) Now move the source around. Can you reproduce the image configuration from previous plot?"
   ]
  },
  {
   "cell_type": "code",
   "execution_count": null,
   "metadata": {
    "collapsed": true
   },
   "outputs": [],
   "source": []
  },
  {
   "cell_type": "markdown",
   "metadata": {},
   "source": [
    "(e) Not required but fun: if you have an iPhone (iPad or iSomething), download the free gravitational lensing app and play with it. It’s doing the very same thing you just did above. And this is what a lot of us on the fifth floor do for research. Model gravitational lenses that is, not play with the app. http://itunes.apple.com/us/app/gravlenshd/id318275930"
   ]
  },
  {
   "cell_type": "code",
   "execution_count": null,
   "metadata": {
    "collapsed": true
   },
   "outputs": [],
   "source": []
  },
  {
   "cell_type": "markdown",
   "metadata": {},
   "source": [
    "### 5 Gravitational Lensing and the Bullet Cluster"
   ]
  },
  {
   "cell_type": "markdown",
   "metadata": {},
   "source": [
    "My research in the past has been particularly connected to the Bullet Cluster. As you have seen from the lecture, with the help of gravitational lensing we have realized that dark matter does not self-interact much. But “much” is not very quantitative prediction. So in this part we will estimate the upper limits of the cross section $\\sigma$ per unit mass $m$."
   ]
  },
  {
   "cell_type": "markdown",
   "metadata": {},
   "source": [
    "a) Derive the equation for scattering depth of particles $\\tau$ in terms of $\\sigma$, $m$, and the surface mass density of the material $\\Sigma$."
   ]
  },
  {
   "cell_type": "markdown",
   "metadata": {
    "collapsed": true
   },
   "source": [
    "By dimensional analysis, it stands to reason:\n",
    "$$\\tau \\propto \\frac{m}{\\sigma\\Sigma} $$"
   ]
  },
  {
   "cell_type": "markdown",
   "metadata": {},
   "source": [
    "(b) With gravitational lensing we measure $\\Sigma = 0.02 \\frac{\\text{m}^2}{\\text{kg}}$ and deduce that particles do not scatter at a detectable level. What can you say about $\\frac{\\sigma}{m}$?"
   ]
  },
  {
   "cell_type": "markdown",
   "metadata": {
    "collapsed": true
   },
   "source": [
    "If the scattering depth is very large, then $\\frac{\\sigma}{m}$ must be very small."
   ]
  },
  {
   "cell_type": "code",
   "execution_count": null,
   "metadata": {
    "collapsed": true
   },
   "outputs": [],
   "source": []
  }
 ],
 "metadata": {
  "kernelspec": {
   "display_name": "Python 2",
   "language": "python",
   "name": "python2"
  },
  "language_info": {
   "codemirror_mode": {
    "name": "ipython",
    "version": 2
   },
   "file_extension": ".py",
   "mimetype": "text/x-python",
   "name": "python",
   "nbconvert_exporter": "python",
   "pygments_lexer": "ipython2",
   "version": "2.7.11"
  }
 },
 "nbformat": 4,
 "nbformat_minor": 0
}
