{
 "cells": [
  {
   "cell_type": "code",
   "execution_count": 1,
   "metadata": {
    "collapsed": true
   },
   "outputs": [],
   "source": [
    "#Physics 154 Assignment 2"
   ]
  },
  {
   "cell_type": "code",
   "execution_count": 2,
   "metadata": {
    "collapsed": true
   },
   "outputs": [],
   "source": [
    "#1a) What would the sun's lifetime be if it burned at 10^7 J/kg?"
   ]
  },
  {
   "cell_type": "code",
   "execution_count": 3,
   "metadata": {
    "collapsed": true
   },
   "outputs": [],
   "source": [
    "MassSol = 2E30 #kg"
   ]
  },
  {
   "cell_type": "code",
   "execution_count": 54,
   "metadata": {
    "collapsed": true
   },
   "outputs": [],
   "source": [
    "LumSol = 3.8E26"
   ]
  },
  {
   "cell_type": "code",
   "execution_count": 6,
   "metadata": {
    "collapsed": true
   },
   "outputs": [],
   "source": [
    "RatePerMass = 1E7 #J/kg"
   ]
  },
  {
   "cell_type": "code",
   "execution_count": 7,
   "metadata": {
    "collapsed": true
   },
   "outputs": [],
   "source": [
    "E_coal = RatePerMass * MassSol #J"
   ]
  },
  {
   "cell_type": "code",
   "execution_count": 8,
   "metadata": {
    "collapsed": false,
    "scrolled": true
   },
   "outputs": [
    {
     "data": {
      "text/plain": [
       "2.0000000000000001e+37"
      ]
     },
     "execution_count": 8,
     "metadata": {},
     "output_type": "execute_result"
    }
   ],
   "source": [
    "E_coal"
   ]
  },
  {
   "cell_type": "code",
   "execution_count": 10,
   "metadata": {
    "collapsed": true
   },
   "outputs": [],
   "source": [
    "time_coal = E_coal/LumSol #time it takes sun to burn using coal in seconds"
   ]
  },
  {
   "cell_type": "code",
   "execution_count": 11,
   "metadata": {
    "collapsed": false
   },
   "outputs": [
    {
     "data": {
      "text/plain": [
       "52219321148.82507"
      ]
     },
     "execution_count": 11,
     "metadata": {},
     "output_type": "execute_result"
    }
   ],
   "source": [
    "time_coal"
   ]
  },
  {
   "cell_type": "code",
   "execution_count": 12,
   "metadata": {
    "collapsed": true
   },
   "outputs": [],
   "source": [
    "time_coal_yrs = time_coal / 3.154E7"
   ]
  },
  {
   "cell_type": "code",
   "execution_count": 14,
   "metadata": {
    "collapsed": false
   },
   "outputs": [
    {
     "data": {
      "text/plain": [
       "1655.6538094110676"
      ]
     },
     "execution_count": 14,
     "metadata": {},
     "output_type": "execute_result"
    }
   ],
   "source": [
    "time_coal_yrs"
   ]
  },
  {
   "cell_type": "code",
   "execution_count": 15,
   "metadata": {
    "collapsed": true
   },
   "outputs": [],
   "source": [
    "#1b) How much energy does a hydrogen to helium fusion take? How long would it be to consume all the sun's energy?"
   ]
  },
  {
   "cell_type": "code",
   "execution_count": 77,
   "metadata": {
    "collapsed": false
   },
   "outputs": [],
   "source": [
    "import numpy as np\n",
    "from astropy import constants as constants\n",
    "from astropy import units as units\n",
    "pi = 3.1415"
   ]
  },
  {
   "cell_type": "code",
   "execution_count": 92,
   "metadata": {
    "collapsed": false
   },
   "outputs": [
    {
     "name": "stdout",
     "output_type": "stream",
     "text": [
      "time_reaction = 1.05964348281e+11 yr\n"
     ]
    }
   ],
   "source": [
    "E_reaction = 27*units.MeV #energy of each reaction\n",
    "E_reaction_J = E_reaction.to(units.J) #energy of each reaction in Joules\n",
    "time_reaction = (constants.M_sun/(4*constants.m_p)) * E_reaction/constants.L_sun #total number reactions times energy of each reaction divided by total energy (luminosity of sun)\n",
    "time_reaction = time_reaction.to(units.yr)\n",
    "print \"time_reaction =\", time_reaction"
   ]
  },
  {
   "cell_type": "code",
   "execution_count": null,
   "metadata": {
    "collapsed": true
   },
   "outputs": [],
   "source": [
    "#1c) If you could convert all your mass into energy"
   ]
  },
  {
   "cell_type": "code",
   "execution_count": 91,
   "metadata": {
    "collapsed": false
   },
   "outputs": [
    {
     "name": "stdout",
     "output_type": "stream",
     "text": [
      "alexEnergy = 4.08034851147e+18 kg m2 / s2\n"
     ]
    }
   ],
   "source": [
    "alexMass = 45.4*units.kg #I am tiny\n",
    "alexEnergy = alexMass * (constants.c)**2 #if all my mass were converted to energy\n",
    "print \"alexEnergy =\", alexEnergy"
   ]
  },
  {
   "cell_type": "code",
   "execution_count": 73,
   "metadata": {
    "collapsed": true
   },
   "outputs": [],
   "source": [
    "#1d) How long would your energy sustain a household with 1kW of power? How about the world?"
   ]
  },
  {
   "cell_type": "code",
   "execution_count": 90,
   "metadata": {
    "collapsed": false
   },
   "outputs": [
    {
     "name": "stdout",
     "output_type": "stream",
     "text": [
      "time_house = 129298441.943 yr\n",
      "time_world = 0.0646492209716 yr\n"
     ]
    }
   ],
   "source": [
    "power_house = 1000*units.W\n",
    "power_world = 2 * 10**12 * units.W\n",
    "time_house = alexEnergy /  power_house\n",
    "time_house = time_house.to(units.yr)\n",
    "time_world = alexEnergy / power_world\n",
    "time_world = time_world.to(units.yr)\n",
    "print \"time_house =\", time_house\n",
    "print \"time_world =\", time_world"
   ]
  },
  {
   "cell_type": "code",
   "execution_count": 76,
   "metadata": {
    "collapsed": true
   },
   "outputs": [],
   "source": [
    "#1e) flux of sunlight on earth? If solar cells were perfectly efficient, how large would they need to be to solve world's energy porblems? "
   ]
  },
  {
   "cell_type": "code",
   "execution_count": 88,
   "metadata": {
    "collapsed": false
   },
   "outputs": [
    {
     "name": "stdout",
     "output_type": "stream",
     "text": [
      "areaCell = 1462408138.26 m2\n"
     ]
    }
   ],
   "source": [
    "d_earth_sun = 1*units.AU\n",
    "d_earth_sun = d_earth_sun.to(units.m)\n",
    "flux_Earth = constants.L_sun / (4 * pi * d_earth_sun**2) #flux on earth\n",
    "areaCell = power_world / flux_Earth\n",
    "print \"areaCell =\", areaCell"
   ]
  },
  {
   "cell_type": "code",
   "execution_count": 93,
   "metadata": {
    "collapsed": true
   },
   "outputs": [],
   "source": [
    "#1f)write down the p-p chain"
   ]
  },
  {
   "cell_type": "code",
   "execution_count": 94,
   "metadata": {
    "collapsed": false
   },
   "outputs": [
    {
     "name": "stdout",
     "output_type": "stream",
     "text": [
      "4*Proton --> He4 + 2 * positron + 2 * electron neutrino\n"
     ]
    }
   ],
   "source": [
    "print \"4*Proton --> He4 + 2 * positron + 2 * electron neutrino\""
   ]
  },
  {
   "cell_type": "code",
   "execution_count": 95,
   "metadata": {
    "collapsed": true
   },
   "outputs": [],
   "source": [
    "#1g) what is sun's power from the pp and CNO cycles? At what T are they equally important?"
   ]
  },
  {
   "cell_type": "code",
   "execution_count": 127,
   "metadata": {
    "collapsed": false
   },
   "outputs": [
    {
     "name": "stdout",
     "output_type": "stream",
     "text": [
      "epsilon_pp = 0.00437058220825 W / kg\n",
      "power_pp =  1.73870501409e+27 W\n",
      "epsilon_cno = 0.000817865923752 W / kg\n",
      "power_cno =  3.25363421787e+26 W\n"
     ]
    }
   ],
   "source": [
    "epsilon_pp_value = 1.08e-12 * units.W * (units.m)**3 / (units.kg)**2\n",
    "epsilon_cno_value = 8.25e-31 * units.W *(units.m)**3 / (units.kg)**2\n",
    "p = 1.622e5 * units.kg / (units.m)**3 \n",
    "Tc = 1.571e7 * units.K\n",
    "Tother = 10**6 * units.K\n",
    "Xh = 0.64\n",
    "Xhe = 0.34\n",
    "Xcno = 0.015\n",
    "epsilon_pp = epsilon_pp_value * p * (Xh)**2 *(Tc/Tother)**4\n",
    "epsilon_cno = epsilon_cno_value * p * Xh * Xcno * (Tc/Tother)**19.9\n",
    "power_pp = epsilon_pp * 0.2 * constants.M_sun #multiplying by mass of core of sun\n",
    "power_cno = epsilon_cno * 0.2 * constants.M_sun #multiplying by mass of core of sun\n",
    "print \"epsilon_pp =\", epsilon_pp\n",
    "print \"power_pp = \", power_pp\n",
    "print \"epsilon_cno =\", epsilon_cno\n",
    "print \"power_cno = \", power_cno"
   ]
  },
  {
   "cell_type": "code",
   "execution_count": 129,
   "metadata": {
    "collapsed": false
   },
   "outputs": [
    {
     "name": "stdout",
     "output_type": "stream",
     "text": [
      "T = 17456346.994 K\n"
     ]
    }
   ],
   "source": [
    "T = Tother*((epsilon_pp_value * Xh)/(epsilon_cno_value * Xcno)) ** (1/15.9)\n",
    "print \"T =\", T"
   ]
  },
  {
   "cell_type": "code",
   "execution_count": 130,
   "metadata": {
    "collapsed": true
   },
   "outputs": [],
   "source": [
    "#2a) Why does a cloud gas need to be cold?"
   ]
  },
  {
   "cell_type": "code",
   "execution_count": 131,
   "metadata": {
    "collapsed": true
   },
   "outputs": [],
   "source": [
    "# Answer: because the gavitational potential energy needs to be greater than the thermal kenetic energy!"
   ]
  },
  {
   "cell_type": "code",
   "execution_count": 132,
   "metadata": {
    "collapsed": true
   },
   "outputs": [],
   "source": [
    "#2b) Which is the main force driving the collapse?"
   ]
  },
  {
   "cell_type": "code",
   "execution_count": 133,
   "metadata": {
    "collapsed": true
   },
   "outputs": [],
   "source": [
    "# Answer: gravity!"
   ]
  },
  {
   "cell_type": "code",
   "execution_count": 134,
   "metadata": {
    "collapsed": true
   },
   "outputs": [],
   "source": [
    "#2c) (i) Write down the virial theorem. (ii) What does it describe? (iii) How do you modify it to reach the conditions of homogeneous collapse?"
   ]
  },
  {
   "cell_type": "code",
   "execution_count": 135,
   "metadata": {
    "collapsed": true
   },
   "outputs": [],
   "source": [
    "#(i) 2KE = U"
   ]
  },
  {
   "cell_type": "code",
   "execution_count": 136,
   "metadata": {
    "collapsed": true
   },
   "outputs": [],
   "source": [
    "#(ii) In thermal equilibrium, it describes the relationship between gravitational potential energy and thermal kinetic energy"
   ]
  },
  {
   "cell_type": "code",
   "execution_count": 137,
   "metadata": {
    "collapsed": true
   },
   "outputs": [],
   "source": [
    "#(iii) 3*(Kb)*T*N = -(3/5)(G * M^2) / R"
   ]
  },
  {
   "cell_type": "code",
   "execution_count": 138,
   "metadata": {
    "collapsed": true
   },
   "outputs": [],
   "source": [
    "THE REST IS ON A PAPER OF WHICH I TURNED IN THE IMAGE"
   ]
  },
  {
   "cell_type": "code",
   "execution_count": null,
   "metadata": {
    "collapsed": true
   },
   "outputs": [],
   "source": []
  }
 ],
 "metadata": {
  "kernelspec": {
   "display_name": "Python 2",
   "language": "python",
   "name": "python2"
  },
  "language_info": {
   "codemirror_mode": {
    "name": "ipython",
    "version": 2
   },
   "file_extension": ".py",
   "mimetype": "text/x-python",
   "name": "python",
   "nbconvert_exporter": "python",
   "pygments_lexer": "ipython2",
   "version": "2.7.6"
  }
 },
 "nbformat": 4,
 "nbformat_minor": 0
}
