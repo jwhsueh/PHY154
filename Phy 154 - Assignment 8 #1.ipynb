{
 "cells": [
  {
   "cell_type": "code",
   "execution_count": 2,
   "metadata": {
    "collapsed": true
   },
   "outputs": [],
   "source": [
    "#1a. Flux = sigma * Temp^4\n",
    "#F = σT**4\n",
    "#Absorbed = 0.3; Reflected = 1 - 0.3 = 0.7\n",
    "#Let A = Absorbed = 0.3; Let B = Reflected = 0.7\n",
    "#Flux = L/(4*pi*d^2)\n",
    "\n",
    "#-----------------------\n",
    "\n",
    "#Step 1: Calculate flux that's hitting surface of earth\n",
    "\n",
    "#F_surface = L_sun / 4*pi*(d^2)\n",
    "#T_eff_sun = 5777 K\n",
    "\n",
    "#F_surface = (3.8*10^26)/(4*pi*(1.50*10^11)^2)\n",
    "\n",
    "#F_surface = 1370 W/(m^2)\n",
    "\n",
    "#Note that we could have also gotten this value using the following equation:\n",
    "#L_sun = ((σ)(T_sun^4)(4*pi*R^2))/(4*pi*d^2)\n",
    "\n",
    "#1b. We need to calculate using albedo as well (i.e. A = 0.7, B = 0.3)\n",
    "#F_surf proportional to (σ)*(T_earth^4)\n",
    "\n",
    "#((pi)*(R_earth^2)*(F_surf)) = (σ)*((T_earth)^4)*(4*pi*((R_earth^4)^2))\n",
    "#T_earth = 280K\n",
    "\n",
    "#For our albedo situation we basically have the exact same thing as the line above our T_earth = 280K statement except that we include the (1-A) term on the left side of the equation to account for a non-perfect situation.\n",
    "#((1-A)(pi)*(R_earth^2)*(F_surf)) = (σ)*((T_earth)^4)*(4*pi*((R_earth^4)^2))\n",
    "#Note that 1-A is also just B\n",
    "\n",
    "#0.7*F_surf = 4*(σ)*(T_earth^4)\n",
    "#T_earth = 254 K (or -18 degrees Celsius)...We need a little bit of the greenhouse effect since this is too cool for survival.\n",
    "\n",
    "#Question 1d.\n",
    "#Note that ozone is most prominent in the greenhouse effect and that carbon dioxide is the most problematic.\n",
    "\n",
    "#Question 1e.\n",
    "#This is definitely problematic, yes."
   ]
  },
  {
   "cell_type": "code",
   "execution_count": null,
   "metadata": {
    "collapsed": true
   },
   "outputs": [],
   "source": [
    "#"
   ]
  }
 ],
 "metadata": {
  "kernelspec": {
   "display_name": "Python 2",
   "language": "python",
   "name": "python2"
  },
  "language_info": {
   "codemirror_mode": {
    "name": "ipython",
    "version": 2
   },
   "file_extension": ".py",
   "mimetype": "text/x-python",
   "name": "python",
   "nbconvert_exporter": "python",
   "pygments_lexer": "ipython2",
   "version": "2.7.6"
  }
 },
 "nbformat": 4,
 "nbformat_minor": 0
}
