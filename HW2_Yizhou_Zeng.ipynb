{
 "cells": [
  {
   "cell_type": "code",
   "execution_count": 49,
   "metadata": {
    "collapsed": false
   },
   "outputs": [
    {
     "data": {
      "text/latex": [
       "$1584.4 \\; \\mathrm{yr}$"
      ],
      "text/plain": [
       "<Quantity 1584.4043907014473 yr>"
      ]
     },
     "execution_count": 49,
     "metadata": {},
     "output_type": "execute_result"
    }
   ],
   "source": [
    "#NAME: Yizhou Zeng\n",
    "#SID: 999153246\n",
    "import numpy as np\n",
    "from astropy import units as u\n",
    "t = 5*1E10 * u.s\n",
    "t.to(u.yr)"
   ]
  },
  {
   "cell_type": "markdown",
   "metadata": {},
   "source": [
    "# Probem1\n",
    "\n",
    "  (a)"
   ]
  },
  {
   "cell_type": "code",
   "execution_count": 50,
   "metadata": {
    "collapsed": false
   },
   "outputs": [
    {
     "data": {
      "text/plain": [
       "(<Quantity 52631578947.36842 J / W>, <Quantity 1668.9364201981361 J / W>)"
      ]
     },
     "execution_count": 50,
     "metadata": {},
     "output_type": "execute_result"
    }
   ],
   "source": [
    "\n",
    "M_s = 2 * pow(10,30) *u.kg\n",
    "L = 3.8 * pow(10,26) *u.W\n",
    "D = pow(10,7) *u.J/u.kg\n",
    "lifetime = M_s*D/L #sec\n",
    "Lifetime = lifetime/3600/24/365 #year\n",
    "lifetime, Lifetime"
   ]
  },
  {
   "cell_type": "code",
   "execution_count": 51,
   "metadata": {
    "collapsed": false
   },
   "outputs": [
    {
     "data": {
      "text/latex": [
       "$1.07191\\times 10^{+11} \\; \\mathrm{yr}$"
      ],
      "text/plain": [
       "<Quantity 107191118775.31079 yr>"
      ]
     },
     "execution_count": 51,
     "metadata": {},
     "output_type": "execute_result"
    }
   ],
   "source": [
    "## (b)\n",
    "#4H -> 1He\n",
    "#4p -> 2p + 2n + E\n",
    "#27  MeV = 4.3 * pow(10, -12)\n",
    "E_pn = 4.3 * pow(10,-12) * u.J\n",
    "mp = 1.6726 * pow(10, -27) * u.kg\n",
    "E_b = M_s / (4*mp) * E_pn\n",
    "lifetime_b = E_b / L\n",
    "Lifetime_b = lifetime_b.to(u.yr)\n",
    "Lifetime_b"
   ]
  },
  {
   "cell_type": "code",
   "execution_count": 52,
   "metadata": {
    "collapsed": false
   },
   "outputs": [
    {
     "data": {
      "text/latex": [
       "$7.2\\times 10^{+18} \\; \\mathrm{J}$"
      ],
      "text/plain": [
       "<Quantity 7.2e+18 J>"
      ]
     },
     "execution_count": 52,
     "metadata": {},
     "output_type": "execute_result"
    }
   ],
   "source": [
    "##(c)\n",
    "mass_self = 80 * u.kg\n",
    "c = 3*pow(10,8) *u.m/u.s\n",
    "E_self = mass_self * pow(c,2)\n",
    "E_self = E_self.to(u.J)\n",
    "E_self "
   ]
  },
  {
   "cell_type": "code",
   "execution_count": 53,
   "metadata": {
    "collapsed": false
   },
   "outputs": [
    {
     "name": "stdout",
     "output_type": "stream",
     "text": [
      "228154232.261 yr\n",
      "0.114077116131 yr\n"
     ]
    }
   ],
   "source": [
    "##(d)\n",
    "P_house = 1000 *u.W\n",
    "P_world = 2 * pow(10, 12) * u.W\n",
    "time_house = E_self/P_house\n",
    "time_house = time_house.to(u.yr)\n",
    "time_world = E_self/P_world\n",
    "time_world = time_world.to(u.yr)\n",
    "print time_house\n",
    "print time_world"
   ]
  },
  {
   "cell_type": "code",
   "execution_count": 54,
   "metadata": {
    "collapsed": false
   },
   "outputs": [
    {
     "data": {
      "text/latex": [
       "$1351.17 \\; \\mathrm{\\frac{W}{m^{2}}}$"
      ],
      "text/plain": [
       "<Quantity 1351.1717158170504 W / m2>"
      ]
     },
     "execution_count": 54,
     "metadata": {},
     "output_type": "execute_result"
    }
   ],
   "source": [
    "## (e)\n",
    "AU = 1.4960 * pow(10,11) * u.m\n",
    "flux = L / (4 * np.pi * AU**2 )\n",
    "flux"
   ]
  },
  {
   "cell_type": "markdown",
   "metadata": {
    "collapsed": true
   },
   "source": [
    "(f)\n",
    "$H + H \\rightarrow {}^2H + e^+ + \\gamma_e + 0.42Mev$\n",
    " \n"
   ]
  },
  {
   "cell_type": "code",
   "execution_count": 55,
   "metadata": {
    "collapsed": false
   },
   "outputs": [
    {
     "name": "stdout",
     "output_type": "stream",
     "text": [
      "Sun's power from pp and CNO are  0.00441105056203 W / kg and 0.000816874571117 W / kg\n",
      "tempurature is about  5.09827447391497e+922*1000000**316.41 K\n"
     ]
    }
   ],
   "source": [
    "#(g)\n",
    "e_0pp = 1.09 * pow(10, -12) *(u.W*(u.m)**3*(u.kg)**(-2))\n",
    "e_0CNO = 8.24 * pow(10, -31) *(u.W*(u.m)**3*(u.kg)**(-2))\n",
    "T_c = 1.571 * pow(10, 7) *u.K\n",
    "rho = 1.622 * pow(10,5) *u.kg/(u.m)**3\n",
    "X_H = 0.64\n",
    "X_CNO = 0.015\n",
    "\n",
    "T = T_c\n",
    "e_pp = e_0pp * rho * X_H **2 * pow(T/pow(10,6)/u.K,4)\n",
    "e_CNO = e_0CNO * rho * X_H * X_CNO * pow(T/pow(10,6)/u.K ,19.9)\n",
    "\n",
    "print \"Sun's power from pp and CNO are \",e_pp,'and', e_CNO\n",
    "\n",
    "from sympy.solvers import solve\n",
    "from sympy import Symbol\n",
    "e_0pp = 1.09 * pow(10, -12) \n",
    "e_0CNO = 8.24 * pow(10, -31)\n",
    "T_c = 1.571 * pow(10, 7) \n",
    "rho = 1.622 * pow(10,5) \n",
    "X_H = 0.64\n",
    "X_CNO = 0.015\n",
    "T = Symbol(\"T\")\n",
    "e_pp = e_0pp * rho * X_H **2 * pow(T/pow(10,6),4)\n",
    "e_CNO = e_0CNO * rho * X_H * X_CNO * pow(T/pow(10,6),19.9)\n",
    "#Te = solve(e_pp - e_CNO, T)\n",
    "e_pp, e_CNO\n",
    "Cp = e_pp/T**4\n",
    "Cc = e_CNO /T**19.9\n",
    "T_e = pow((Cc * Cp), -15.9)*u.K\n",
    "print \"tempurature is about \", T_e"
   ]
  },
  {
   "cell_type": "markdown",
   "metadata": {},
   "source": [
    "# Problem 2"
   ]
  },
  {
   "cell_type": "markdown",
   "metadata": {},
   "source": [
    "(a)\n",
    "Low tempurature means low moving speed of particles. Hence higher chances for them to collide with each other"
   ]
  },
  {
   "cell_type": "markdown",
   "metadata": {},
   "source": [
    "(b) \n",
    "Gravity.\n",
    "As energy escapes from the core of a star, the core will receive higher gravity from the outter part. "
   ]
  },
  {
   "cell_type": "markdown",
   "metadata": {},
   "source": [
    "(c)\n",
    "Virial Theorem:\n",
    "\\begin{equation}\n",
    "\\langle T\\rangle = -\\,\\sum\\langle\\frac{1}{2} F_i\\,\\cdotp r_i \\rangle\n",
    "\\end{equation}\n",
    "where $T$ is the kinetic energy and $F, r$ are forces and distances between objects respectively.\n",
    "\n",
    "This describes the average kinetic energy of a consevative system is related to the forces acted and distances in between, hence a constant."
   ]
  },
  {
   "cell_type": "markdown",
   "metadata": {},
   "source": [
    "(d) Consider the contracting sphere, with $c_s,\\,R$ being the sound velocity in the medium and star radius respectively. To let the star collapse, we need\n",
    "\\begin{equation}\n",
    "t_{sound} = \\frac{R}{c_s} < t_{ff} = \\frac{1}{\\sqrt{G}\\rho}\n",
    "\\end{equation}\n",
    "where $t_{ff}$ is the free fall time.\n",
    "\n",
    "Hence the critical raidus $R_J$ and the corresponding mass $M_J$:\n",
    "\\begin{equation}\n",
    "R_J = \\frac{c_s}{2\\sqrt{G}\\rho}\\\\\n",
    "M_J = \\frac{4\\pi}{3}\\rho R^3_J = \\big(\\frac{\\pi}{6}\\big)\\frac{c_s^3}{G^{3/2}\\rho^{1/2}}\n",
    "\\end{equation}\n",
    "\n",
    "Equivalently, we have $M_J = 3\\cdotp 10^4 (T^3/n)^{1/2}$"
   ]
  },
  {
   "cell_type": "code",
   "execution_count": 56,
   "metadata": {
    "collapsed": false
   },
   "outputs": [
    {
     "name": "stdout",
     "output_type": "stream",
     "text": [
      "M_J = 30000.0 solar mass\n",
      "R_J = 1.57103962695e-10 J(1/2) kg m(1/2) / N(1/2)\n",
      "This is a lot larger than the data of our sun.\n"
     ]
    }
   ],
   "source": [
    "#(f)\n",
    "T = 50 *u.K\n",
    "n = 5*pow(10,8)*(u.m)**(-3)\n",
    "kb = 1.38*pow(10,-23)*u.J/u.K\n",
    "G= 6.674*pow(10,-11) *u.N*u.m**2/u.kg**2\n",
    "\n",
    "M_J = 3*pow(10,4)*(T**3/n)**(1/2) \n",
    "R_J = np.sqrt(15*kb*T/(4*np.pi*G*n))\n",
    "print \"M_J =\",M_J, \"solar mass\"\n",
    "print \"R_J =\",R_J\n",
    "print \"This is a lot larger than the data of our sun.\""
   ]
  },
  {
   "cell_type": "markdown",
   "metadata": {},
   "source": [
    "(g)\n",
    "We have the density \n",
    "\\begin{align}\n",
    "\\rho = 3M/4\\pi R^3\n",
    "\\end{align}\n",
    "where the volumn is $V=4\\pi R^3/3$\n",
    "\n",
    "Hence the acceleration of gravity inside raidus $R$ will depend only on the mass within it.\n",
    "Or equivalently:\n",
    "\\begin{align}\n",
    "\\ddot r(t) = -\\,\\frac{Gm}{r^2} = \\dot u(r(t))\\\\\n",
    "\\frac{1}{2}d(u^2) = -\\frac{GM}{r^2}\\,dr\\\\\n",
    "u^2 = 2GM(\\frac{1}{r}-\\frac{1}{R}) = (\\dot r)^2\\\\\n",
    "\\therefore\\,\\, dt = -\\,\\frac{dr}{(\\frac{2GM}{R})^{1/2}(\\frac{R}{r}-1)^{1/2}}\n",
    "\\end{align}\n",
    "We let $\\zeta = \\frac{r}{R}$, and $d\\zeta = dr/R$, then:\n",
    "\\begin{align}\n",
    "dt = -\\big(8\\pi G\\rho/3\\big)^{-1/2}\\big(\\frac{\\zeta}{1-\\zeta}\\big)^{1/2}\\,d\\zeta\n",
    "\\end{align}\n",
    "To get the time, we integrate from radius to the center, or from $\\zeta = 1$ to $\\zeta = 0$:\n",
    "\\begin{align}\n",
    "t_{ff} = -\\bigg(\\frac{8\\pi G\\rho}{3}\\bigg)^{-1/2}\\int\\limits_{\\zeta=1}^0 \\,\\bigg( \\frac{\\zeta}{1-\\zeta}\\bigg)^{1/2}\\,d\\zeta\n",
    "\\end{align}\n",
    "By wolfram:\n",
    "\\begin{equation}\n",
    "\\displaystyle t_{ff} = \\bigg(\\frac{3\\pi}{32G\\rho}\\bigg)^{1/2}\n",
    "\\end{equation}"
   ]
  },
  {
   "cell_type": "markdown",
   "metadata": {},
   "source": [
    "(h)\n",
    "By divergence theorem, the movement inside the mass at point $R$, will only denpend on the mass distribution inside it. Hence the quantities $\\rho$ and $G$ will be required. The only other possible quantity will be the radius $R$."
   ]
  },
  {
   "cell_type": "markdown",
   "metadata": {},
   "source": [
    "# Problem3"
   ]
  },
  {
   "cell_type": "markdown",
   "metadata": {},
   "source": [
    "\n",
    "\n",
    "(a) \n",
    "\n",
    "Pressure on top and bottom, weight:\n",
    "\\begin{align}\n",
    "F_{top} &= -P_{top} \\cdotp A\\\\\n",
    "F_{bottom} &= P_{bottom}\\cdotp A\\\\\n",
    "F_{weight} &= -\\rho g V = -\\rho g A r\n",
    "\\end{align}\n",
    "Hecne\n",
    "\\begin{align}\n",
    "P_{bottom} - P_{top} - \\rho \\cdotp g\\cdotp z &=0\\\\\n",
    "P_{top} - P_{bottom} &= -\\rho \\cdotp g \\cdotp z\\\\\n",
    "dP &= -\\rho \\cdotp g \\cdotp dz \n",
    "\\end{align}\n",
    "\n",
    "\n"
   ]
  },
  {
   "cell_type": "markdown",
   "metadata": {},
   "source": [
    "(b)\n",
    "\n",
    "In a isothermal sphere, T is constant.\n",
    "\\begin{align}\n",
    "\\frac{dP}{dz} &= - \\frac{GM\\rho}{R^2} = -g\\rho\\\\\n",
    "P &= \\frac{n}{V}RT = C \\rho \\\\\n",
    "\\frac{dP}{dz} &= -\\frac{cPV}{z} = -\\frac{cPAz}{z} = -NP\\\\\n",
    "\\frac{d\\rho}{dz} &= -N'P\n",
    "\\rho(z) = \\rho_0 \\,exp[-\\frac{z-z_0}{h}]\n",
    "\\end{align}\n",
    "where $\\rho(z_0) = \\rho_0$"
   ]
  },
  {
   "cell_type": "markdown",
   "metadata": {
    "collapsed": true
   },
   "source": [
    "(c)\n",
    "\n",
    "We derive the equations above with no assumption about hieght $h$ and radius $R$.\n",
    "Hence this will apply to the case $h \\ll R$, but also the general case."
   ]
  },
  {
   "cell_type": "markdown",
   "metadata": {},
   "source": [
    "(d) \n",
    "\n",
    "In the gravitational field of the star,\n",
    "the potential is defined:\n",
    "\\begin{align}\n",
    "V= -\\,\\frac{Gm}{r}\n",
    "\\end{align}\n",
    "Hence to get the energy gained, we integrate the equation on both sides,\n",
    "and let $V(R)=0$ without losing generality. Therefore:\n",
    "\\begin{align}\n",
    "\\Delta E = -\\,\\int\\limits_R^h\\frac{Gm}{r} = -Gm\\ln{R}\n",
    "\\end{align}\n",
    "That is, the energy gained is $GM\\ln{r}$"
   ]
  },
  {
   "cell_type": "markdown",
   "metadata": {},
   "source": [
    "(e)\n",
    "\n",
    "From the results in (b),\n",
    "\\begin{align}\n",
    "\\frac{dP}{dz} &= -g\\rho\\\\\n",
    "\\rho(z) &= \\rho_0 \\,exp[-\\frac{z-z_0}{h}]\\\\\n",
    "\\end{align}\n",
    "Hence, we can combine these two:\n",
    "\\begin{align}\n",
    "\\frac{dP}{dz} &= -g \\rho_0 \\,exp\\bigg[-\\frac{z-z_0}{h}\\bigg]\\\\\n",
    "\\Rightarrow P &= g\\rho_0 h\\,exp\\bigg[-\\frac{z-z_0}{h}\\bigg]\n",
    "\\end{align}"
   ]
  },
  {
   "cell_type": "code",
   "execution_count": null,
   "metadata": {
    "collapsed": true
   },
   "outputs": [],
   "source": []
  }
 ],
 "metadata": {
  "kernelspec": {
   "display_name": "Python 2",
   "language": "python",
   "name": "python2"
  },
  "language_info": {
   "codemirror_mode": {
    "name": "ipython",
    "version": 2
   },
   "file_extension": ".py",
   "mimetype": "text/x-python",
   "name": "python",
   "nbconvert_exporter": "python",
   "pygments_lexer": "ipython2",
   "version": "2.7.11"
  }
 },
 "nbformat": 4,
 "nbformat_minor": 0
}
