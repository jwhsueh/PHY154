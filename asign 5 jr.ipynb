{
 "cells": [
  {
   "cell_type": "code",
   "execution_count": 19,
   "metadata": {
    "collapsed": false
   },
   "outputs": [
    {
     "name": "stdout",
     "output_type": "stream",
     "text": [
      "The deflection angle according to Newton in arcseconds is:\n",
      "0.875794661006\n",
      "\n",
      "\n",
      "The deflection angle according to Einstein in arcseconds is:\n",
      "1.75158932201\n"
     ]
    }
   ],
   "source": [
    "# b) Calculate both values of the deflection angle alpha (according to Newtons and Einsteins theories)\n",
    "import math \n",
    "import numpy as np\n",
    "import scipy\n",
    "from astropy import constants as constants\n",
    "from astropy import units as units\n",
    "\n",
    "Msol = 1.989e30 * units.kg\n",
    "Rsol = 695700.0 * units.km * ((1000 * units.m) / units.km) \n",
    "\n",
    "#Returns alpha in arcseconds\n",
    "def Newton (M, R):\n",
    "    alpha = 2 * (constants.G * M) / (R * constants.c**2)\n",
    "    alpha = alpha * (180 / np.pi) * (60)**2\n",
    "    return alpha\n",
    "\n",
    "#Returns alpha in arcseconds\n",
    "def Einstein (M, R):\n",
    "    alpha = 4 * (constants.G * M) / (R * constants.c**2)\n",
    "    alpha = alpha * (180 / np.pi) * (60)**2\n",
    "    return alpha\n",
    "\n",
    "print \"The deflection angle according to Newton in arcseconds is:\" \n",
    "print Newton (Msol, Rsol)\n",
    "\n",
    "print \"\\n\"\n",
    "print \"The deflection angle according to Einstein in arcseconds is:\" \n",
    "print Einstein (Msol, Rsol)"
   ]
  },
  {
   "cell_type": "code",
   "execution_count": 18,
   "metadata": {
    "collapsed": false
   },
   "outputs": [
    {
     "name": "stdout",
     "output_type": "stream",
     "text": [
      "The mass of the galaxy is calculated to be: \n",
      "1.29615318584e+43 kg\n"
     ]
    }
   ],
   "source": [
    "#3 Masses of Galaxies\n",
    "Lsol = 3.8e26 * units.W #Solar luminosity\n",
    "Deta1 = 5.35 #units in arcseconds\n",
    "Deta2 = -0.8 #units in arcseconds\n",
    "zs = 1.41 #location of redshift\n",
    "zl = 0.36 #location of lens\n",
    "Mpc = 3.08e22 * units.m #Megaparsec to meters conversion\n",
    "Ds = 1768.2 * Mpc #Distance between observer to source\n",
    "Dd =  1047.3 * Mpc #Distace between observer to lens\n",
    "Dds = D_s - D_d #Distance between lens and source\n",
    "\n",
    "\n",
    "#Angle Deta in Radians\n",
    "Deta = (Deta1 + Deta2) * (1.0 / 3600.0) * (np.pi / 180.0)\n",
    "\n",
    "#Critical surface density\n",
    "Sigma_crit = (constants.c**2) / (4 * np.pi * constants.G) * Ds / (Dd * Dds)\n",
    "\n",
    "#Gravitational lensing estimate of galaxy\n",
    "Mgal = np.pi * (Dd * Deta)**2 * Sigma_crit\n",
    "\n",
    "print \"The mass of the galaxy is calculated to be: \"\n",
    "print Mgal"
   ]
  },
  {
   "cell_type": "code",
   "execution_count": 20,
   "metadata": {
    "collapsed": false
   },
   "outputs": [
    {
     "name": "stdout",
     "output_type": "stream",
     "text": [
      "Using matplotlib backend: Qt4Agg\n",
      "Populating the interactive namespace from numpy and matplotlib\n"
     ]
    }
   ],
   "source": [
    "#4 solving for the lens equation\n",
    "# b) \n",
    "%pylab\n",
    "import matplotlib.pyplot as plt\n",
    "import math \n",
    "import numpy as np\n",
    "import scipy\n",
    "from astropy import constants as constants\n",
    "from astropy import units as units\n",
    "\n",
    "\n",
    "Lsol = 3.8e26 * units.W #Solar luminosity\n",
    "Deta1 = 5.35 #units in arcseconds\n",
    "Deta2 = -0.8 #units in arcseconds\n",
    "zs = 1.41 #location of redshift\n",
    "zl = 0.36 #location of lens\n",
    "Mpc = 3.08e22 * units.m #Megaparsec to meters conversion\n",
    "Ds = 1768.2 * Mpc #Distance between observer to source\n",
    "Dd =  1047.3 * Mpc #Distace between observer to lens\n",
    "Dds = Ds - Dd #Distance between lens and source\n",
    "\n",
    "Deta1R = Deta1 * (1 / 3600) * (np.pi / 180) #Deta1 in radians\n",
    "Deta2R = Deta1 * (1 / 3600) * (np.pi / 180) #Deta2 in radians\n",
    "DetaE = math.sqrt(Dds / Ds * 4 * (constants.G * Mgal) / (constants.c**2 * Dd)) #Units in radians\n",
    "DetaER = DetaE * (180 / np.pi) * (60 / 1)**2 #Units in arcseconds\n",
    "\n",
    "#Function takes in an angle in radians and outputs an angle in radians\n",
    "def alpha(angle):\n",
    "    alpha = (Dds / Ds) * 4 * (constants.G * Mgal) / (constants.c**2 * angle * Dd)\n",
    "    return alpha\n",
    "\n",
    "# beta = angle - alpha(angle)\n",
    "\n",
    "for i in range(1, 40):\n",
    "    for j in range (1, 40):\n",
    "        \n",
    "        dx = i - 20.0\n",
    "        dy = j - 20.0\n",
    "        r1 = np.sqrt(dx**2 + dy**2)\n",
    "        \n",
    "        if i != 20:\n",
    "            bx = (dx * 0.05 * (4.848e-6)) - (4.0 * Dds * constants.G * Mgal*10**4) / (Ds * Dd * constants.c**2 * r1 * (4.848e-6) * 0.05)\n",
    "            \n",
    "        else: \n",
    "            bx == 0\n",
    "        if j != 20:\n",
    "            by = (dy * 0.05 * (4.848e-6)) - (4.0 * Dds * constants.G * Mgal*10**4) / (Ds * Dd * constants.c**2 * r1 * (4.848e-6) * 0.05)\n",
    "    \n",
    "        else:\n",
    "            by == 0\n",
    "            \n",
    "        r = np.sqrt(bx**2 + by**2)\n",
    "        if (4.0 < r < 5.0):\n",
    "            plt.subplot(211)\n",
    "            plt.scatter(i, j)\n",
    "            plt.subplot(212)\n",
    "            plt.scatter(bx, by)\n",
    "            \n",
    "plt.show()         "
   ]
  },
  {
   "cell_type": "code",
   "execution_count": null,
   "metadata": {
    "collapsed": true
   },
   "outputs": [],
   "source": []
  },
  {
   "cell_type": "code",
   "execution_count": 21,
   "metadata": {
    "collapsed": false
   },
   "outputs": [
    {
     "name": "stdout",
     "output_type": "stream",
     "text": [
      "Using matplotlib backend: Qt4Agg\n",
      "Populating the interactive namespace from numpy and matplotlib\n"
     ]
    }
   ],
   "source": [
    "# c)\n",
    "%pylab\n",
    "import matplotlib.pyplot as plt\n",
    "import math \n",
    "import numpy as np\n",
    "import scipy\n",
    "from astropy import constants as constants\n",
    "from astropy import units as units\n",
    "\n",
    "\n",
    "Lsol = 3.8e26 * units.W #Solar luminosity\n",
    "Deta1 = 5.35 #units in arcseconds\n",
    "Deta2 = -0.8 #units in arcseconds\n",
    "zs = 1.41 #location of redshift\n",
    "zl = 0.36 #location of lens\n",
    "Mpc = 3.08e22 * units.m #Megaparsec to meters conversion\n",
    "Ds = 1768.2 * Mpc #Distance between observer to source\n",
    "Dd =  1047.3 * Mpc #Distace between observer to lens\n",
    "Dds = Ds - Dd #Distance between lens and source\n",
    "\n",
    "for i in range(1, 40):\n",
    "    for j in range (1, 40):\n",
    "        \n",
    "        dx = i - 40.0\n",
    "        dy = j - 40.0\n",
    "        r1 = np.sqrt(dx**2 + dy**2)\n",
    "        \n",
    "        if i != 20:\n",
    "            bx = (dx * 0.05 * (4.848e-6)) - (4.0 * Dds * constants.G * Mgal*10**4) / (Ds * Dd * constants.c**2 * r1 * (4.848e-6) * 0.05)\n",
    "            \n",
    "        else: \n",
    "            bx == 0\n",
    "        if j != 20:\n",
    "            by = (dy * 0.05 * (4.848e-6)) - (4.0 * Dds * constants.G * Mgal*10**4) / (Ds * Dd * constants.c**2 * r1 * (4.848e-6) * 0.05)\n",
    "    \n",
    "        else:\n",
    "            by == 0\n",
    "            \n",
    "        r = np.sqrt(bx**2 + by**2)\n",
    "        if (4.0 < r < 5.0):\n",
    "            plt.subplot(211)\n",
    "            plt.scatter(i, j)\n",
    "            plt.subplot(212)\n",
    "            plt.scatter(bx, by)\n",
    "            \n",
    "plt.show()\n"
   ]
  },
  {
   "cell_type": "code",
   "execution_count": 22,
   "metadata": {
    "collapsed": false
   },
   "outputs": [
    {
     "name": "stdout",
     "output_type": "stream",
     "text": [
      "Using matplotlib backend: Qt4Agg\n",
      "Populating the interactive namespace from numpy and matplotlib\n"
     ]
    }
   ],
   "source": [
    "# d)\n",
    "%pylab\n",
    "import matplotlib.pyplot as plt\n",
    "import math \n",
    "import numpy as np\n",
    "import scipy\n",
    "from astropy import constants as constants\n",
    "from astropy import units as units\n",
    "\n",
    "\n",
    "Lsol = 3.8e26 * units.W #Solar luminosity\n",
    "Deta1 = 5.35 #units in arcseconds\n",
    "Deta2 = -0.8 #units in arcseconds\n",
    "zs = 1.41 #location of redshift\n",
    "zl = 0.36 #location of lens\n",
    "Mpc = 3.08e22 * units.m #Megaparsec to meters conversion\n",
    "Ds = 1768.2 * Mpc #Distance between observer to source\n",
    "Dd =  1047.3 * Mpc #Distace between observer to lens\n",
    "Dds = Ds - Dd #Distance between lens and source\n",
    "\n",
    "for i in range(1, 40):\n",
    "    for j in range (1, 40):\n",
    "        \n",
    "        dx = i - 20.0\n",
    "        dy = j - 20.0\n",
    "        r1 = np.sqrt(dx**2 + dy**2)\n",
    "        \n",
    "        if i != 20:\n",
    "            bx = (dx * 0.05 * (4.848e-6)) - (4.0 * Dds * constants.G * Mgal*10**4) / (Ds * Dd * constants.c**2 * r1 * (4.848e-6) * 0.05)\n",
    "            \n",
    "        else: \n",
    "            bx == 0\n",
    "        if j != 20:\n",
    "            by = (dy * 0.05 * (4.848e-6)) - (4.0 * Dds * constants.G * Mgal*10**4) / (Ds * Dd * constants.c**2 * r1 * (4.848e-6) * 0.05)\n",
    "    \n",
    "        else:\n",
    "            by == 0\n",
    "            \n",
    "        r = np.sqrt(bx**2 + by**2)\n",
    "        if (4.4 < r < 5.0):\n",
    "            plt.subplot(211)\n",
    "            plt.scatter(i, j)\n",
    "            plt.subplot(212)\n",
    "            plt.scatter(bx, by)\n"
   ]
  }
 ],
 "metadata": {
  "kernelspec": {
   "display_name": "Python 2",
   "language": "python",
   "name": "python2"
  },
  "language_info": {
   "codemirror_mode": {
    "name": "ipython",
    "version": 2
   },
   "file_extension": ".py",
   "mimetype": "text/x-python",
   "name": "python",
   "nbconvert_exporter": "python",
   "pygments_lexer": "ipython2",
   "version": "2.7.11"
  }
 },
 "nbformat": 4,
 "nbformat_minor": 0
}
