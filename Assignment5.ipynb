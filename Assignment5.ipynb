{
 "cells": [
  {
   "cell_type": "markdown",
   "metadata": {},
   "source": [
    "2a)\n",
    "\n",
    "dv_y/dt = GMsin(theta)/(r^2) = GMsin(theta)/(x^2 + b^2) = GMb/(x^2 + b^2)^(3/2) \n",
    "t = x/v_x = x/c --> x = ct \n",
    "dv_y = GMb/(c^2t^2+b^2)^(3/2) dt\n",
    "\n",
    "2b)\n",
    "\n",
    "Newton: v_y = 2GM/(bc) = 4.25710^-6 radians = .878 arcsec \n",
    "GR: v_y = 8.515*10^-6 radians = 1.756 arcsec\n",
    "\n",
    "3)\n",
    "\n",
    "thetaDs - betaDs = Ddsalpha(hat) \n",
    "theta - beta = (Dds/Ds)alpha(hat) \n",
    "beta = theta - (Dds/Ds)(4GM)/(c^2 theta Dd)\n",
    "0 = theta - (Dds/Ds)(4GM)/(c^2 theta Dd)\n",
    "--> Mass = (Ds/Dds)(c^2*theta * Dd/(4G))\n",
    "Mass = 5.925*10^42kg\n",
    "\n",
    "4a)\n",
    "\n",
    "If the source object is right behind the lensing mass then an einstein ring will form around the lensing mass."
   ]
  },
  {
   "cell_type": "code",
   "execution_count": 2,
   "metadata": {
    "collapsed": false
   },
   "outputs": [],
   "source": [
    "# 4b)\n",
    "import numpy as np\n",
    "import math\n",
    "import matplotlib.pyplot as plt\n",
    "%matplotlib inline\n",
    "\n",
    "Ds = 1768.2 * 3.08*10**22\n",
    "Dds = 720.9 * 3.08*10**22\n",
    "Dd = 1047.3 * 3.08*10**22\n",
    "M = 5.925 * 10**42\n",
    "c = 3 * 10**8\n",
    "G = 6.67408 * 10**(-11)\n",
    "\n",
    "\n",
    "def betax(x,y):\n",
    "    theta = x - 400\n",
    "    thetb = y - 400\n",
    "    if theta > 0:\n",
    "        beta = (theta) * (.05 * 4.848 * (10**(-6))) - (Dds/Ds) * (4*G*M) / ( (c**2) * np.sqrt(theta**2 + thetb**2) * (0.05 * 4.848 * (10**(-6)))* Dd)\n",
    "        return beta\n",
    "    else:\n",
    "        beta = (theta) * (.05 * 4.848 * (10**(-6))) + (Dds/Ds) * (4*G*M) / ( (c**2) * np.sqrt(theta**2 + thetb**2) * (0.05 * 4.848 * (10**(-6)))* Dd)\n",
    "        return beta\n",
    "\n",
    "def betay(x,y):\n",
    "    theta = x - 400\n",
    "    thetb = y - 400\n",
    "    if thetb > 0:\n",
    "        beta = (thetb) * (.05 * 4.848 * (10**(-6))) - (Dds/Ds) * (4*G*M) / ( (c**2) * np.sqrt(theta**2 + thetb**2) * (0.05 * 4.848 * (10**(-6)))* Dd)\n",
    "        return beta\n",
    "    else:\n",
    "        beta = (thetb) * (.05 * 4.848 * (10**(-6))) + (Dds/Ds) * (4*G*M) / ( (c**2) * np.sqrt(theta**2 + thetb**2) * (0.05 * 4.848 * (10**(-6)))* Dd)\n",
    "        return beta\n",
    "\n",
    "\n",
    "def xbeta(x,y):\n",
    "    if x == 400:# or y == 400:\n",
    "        return 0\n",
    "    else:\n",
    "        xbeta = betax(x,y)\n",
    "        xbeta = int(round(206271 * xbeta / 0.05))\n",
    "        return xbeta\n",
    "\n",
    "def ybeta(x,y):\n",
    "    if y == 400:# or x == 400:\n",
    "        return 0\n",
    "    else:\n",
    "        ybeta = betay(x,y)\n",
    "        ybeta = int(round(206271 * ybeta / 0.05))\n",
    "        return ybeta\n",
    "\n",
    "lscreen = np.zeros((800,800,2))\n",
    "rscreen = np.zeros((800,800,2))\n",
    "\n",
    "x = 1\n",
    "y = 1\n",
    "\n",
    "for x in range(1,801):\n",
    "    #lscreen[x-1, y-1, 0] = xbeta(x,y)\n",
    "    #lscreen[x-1, y-1, 1] = ybeta(x,y)\n",
    "    for y in range(1,801):\n",
    "        lscreen[799-x, 799-y, 0] = -xbeta(x,y)/10\n",
    "        lscreen[799-x, 799-y, 1] = -ybeta(x,y)/10"
   ]
  },
  {
   "cell_type": "code",
   "execution_count": 4,
   "metadata": {
    "collapsed": false
   },
   "outputs": [
    {
     "data": {
      "image/png": "[encoded data removed]",
      "text/plain": [
       "<matplotlib.figure.Figure at 0x71c1c70>"
      ]
     },
     "metadata": {},
     "output_type": "display_data"
    }
   ],
   "source": [
    "# 4b,c)\n",
    "source = np.zeros((400,2))\n",
    "\n",
    "i = 0\n",
    "xoff = 0\n",
    "yoff = 0\n",
    "    \n",
    "for a in range(-10,11):\n",
    "        \n",
    "    for b in range(-10,11):\n",
    "        vala = a**2\n",
    "        valb = b**2\n",
    "        val = vala + valb\n",
    "        value = int(round(np.sqrt(val)))\n",
    "        if a == 0 and b == 0:\n",
    "            i = i\n",
    "        elif  value < 10:\n",
    "            source[i,0] = a + xoff\n",
    "            source[i,1] = b + yoff\n",
    "            i += 1\n",
    "            \n",
    "ahit = []\n",
    "bhit = []\n",
    "\n",
    "xoff = 0\n",
    "yoff = 0\n",
    "\n",
    "for x in range(0, 800):\n",
    "    \n",
    "    for y in range(0, 800):\n",
    "        \n",
    "        for i in range(0,400):\n",
    "            \n",
    "            if source[i,0] == lscreen[x,y,0] and source[i,1] == lscreen[x,y,1]:\n",
    "                if a != 0 and b !=0:\n",
    "                    ahit.append(x+1)\n",
    "                    bhit.append(y+1)\n",
    "                    \n",
    "plt.scatter(ahit,bhit)\n",
    "plt.ylim(0,800)\n",
    "plt.xlim(0,800)\n",
    "plt.show()"
   ]
  },
  {
   "cell_type": "code",
   "execution_count": 6,
   "metadata": {
    "collapsed": false
   },
   "outputs": [
    {
     "data": {
      "image/png": "[encoded data removed]",
      "text/plain": [
       "<matplotlib.figure.Figure at 0x7618e10>"
      ]
     },
     "metadata": {},
     "output_type": "display_data"
    }
   ],
   "source": [
    "# 4d)\n",
    "source = np.zeros((400,2))\n",
    "\n",
    "i = 0\n",
    "xoff = -20\n",
    "yoff = -20\n",
    "    \n",
    "for a in range(-10,11):\n",
    "        \n",
    "    for b in range(-10,11):\n",
    "        vala = a**2\n",
    "        valb = b**2\n",
    "        val = vala + valb\n",
    "        value = int(round(np.sqrt(val)))\n",
    "        if a == 0 and b == 0:\n",
    "            i = i\n",
    "        elif  value < 10:\n",
    "            source[i,0] = a + xoff\n",
    "            source[i,1] = b + yoff\n",
    "            i += 1\n",
    "            \n",
    "ahit = []\n",
    "bhit = []\n",
    "\n",
    "for x in range(0, 800):\n",
    "    \n",
    "    for y in range(0, 800):\n",
    "        \n",
    "        for i in range(0,400):\n",
    "            \n",
    "            if source[i,0] == lscreen[x,y,0] and source[i,1] == lscreen[x,y,1]:\n",
    "                if a != 0 and b !=0:\n",
    "                    ahit.append(x+1)\n",
    "                    bhit.append(y+1)\n",
    "                    \n",
    "plt.scatter(ahit,bhit)\n",
    "plt.ylim(0,800)\n",
    "plt.xlim(0,800)\n",
    "plt.show()"
   ]
  },
  {
   "cell_type": "markdown",
   "metadata": {
    "collapsed": false
   },
   "source": [
    "5a)\n",
    "\n",
    "tao = (sigma/m)*Sigma\n",
    "\n",
    "5b)\n",
    "\n",
    "Sigma = .02\n",
    "--> sigma/m is sufficiently small that we cannot detect the scatter depth of particles."
   ]
  },
  {
   "cell_type": "code",
   "execution_count": null,
   "metadata": {
    "collapsed": true
   },
   "outputs": [],
   "source": []
  }
 ],
 "metadata": {
  "kernelspec": {
   "display_name": "Python 2",
   "language": "python",
   "name": "python2"
  },
  "language_info": {
   "codemirror_mode": {
    "name": "ipython",
    "version": 2
   },
   "file_extension": ".py",
   "mimetype": "text/x-python",
   "name": "python",
   "nbconvert_exporter": "python",
   "pygments_lexer": "ipython2",
   "version": "2.7.11"
  }
 },
 "nbformat": 4,
 "nbformat_minor": 0
}
