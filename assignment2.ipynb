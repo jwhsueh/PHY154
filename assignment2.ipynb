{
 "cells": [
  {
   "cell_type": "code",
   "execution_count": 14,
   "metadata": {
    "collapsed": false
   },
   "outputs": [
    {
     "name": "stdout",
     "output_type": "stream",
     "text": [
      "If the Sun where like coal it would live only: 1668.93684211 years\n",
      "The sun will live 1.07910117314e+11 years\n",
      "I weigh 150 lbs and my mass can create 4.07688671037e+16 joules\n",
      "My energy can power a house for 1292772.62208 years, and can power the whole world for 5.66234265329 hours.\n",
      "9.06821957484e-10\n",
      "The pp cycle: 2 H atoms form unstable 2^H which then collides with an H to make 3^H then that collides with another and forms stable 4^H + 2 H free atoms\n",
      "The pp cycle produces -1.02773366435e+44 Watts of power\n",
      "the pp abd cno become equal at aproximately 16.0E6 Kelvin\n",
      "The gas needs to enough KE to not overcome Gravitational attraction and allow molecular binding\n",
      "Density and gravity causing the grouping\n",
      "2KE = -PE, Measuring equilibrium of Grav. PE to internal pressure as KE, the collape is when 2KE+PE < 0 => (15*Kb*T/4*pi*G*mu*rho)^1/2\n",
      "They are much smaller than the sun's radius\n"
     ]
    }
   ],
   "source": [
    "import numpy as np\n",
    "\n",
    "#constants\n",
    "c = 2.998E8 # [m/s]\n",
    "mass_sun = 2E30 # [kg]\n",
    "solar_luminosity = 3.8E26 # [W = J/s]\n",
    "energy_coal = 1E7 # [J/kg]\n",
    "s_years = 3.17098E-8 # [years/seconds]\n",
    "mev_joules = 1.60217733e-13 # [Joules/MeV]\n",
    "mass_proton = 1.6726E-27 # [kg]\n",
    "mass_nuetron =  1.6749E-27 # [kg]\n",
    "lbs_kg = 0.453592 # [kg/lbs]\n",
    "pi = 3.14 \n",
    "earth_r = 6371000 # [m]\n",
    "au_m = 1.496E11 # [m]\n",
    "\n",
    "half_sa_earth = 2*pi*(earth_r**2)\n",
    "sa_at_au = 4*pi*(au_m**2)\n",
    "\n",
    "flux_earth = half_sa_earth/sa_at_au # [W]\n",
    "\n",
    "total_H = mass_sun/mass_proton\n",
    "total_reactions = total_H/4\n",
    "\n",
    "my_energy = 150+lbs_kg*(c**2)\n",
    "\n",
    "T = 1.571E7\n",
    "P = 1.662E5\n",
    "Xh = 0.69\n",
    "Xcno = 0.015\n",
    "EPP = 8.24E-37\n",
    "ECNO = 1.08E-12\n",
    "\n",
    "c = 3e8 #[m/s]\n",
    "x = 0.7\n",
    "y = 0.28\n",
    "z = 0.02\n",
    "a = 7.565e16 #[J/(m\n",
    "Mr = 2.0E30\n",
    "Rs = 6.95E8\n",
    "Mu = (2*x+(3/4)*y+(1/2)*z)\n",
    "rho = (P-((a*np.power(T,4))/3))*(Mr*Mu)\n",
    "\n",
    "\n",
    "Epp = EPP*rho*np.power(Xh,2)*np.power((T/np.power(10,6)),4)\n",
    "Ecno = ECNO*rho*Xh*Xcno*np.power((T/np.power(10,6)),19.9)\n",
    "\n",
    "\n",
    "def Temp():\n",
    "    Tc = 16.0E6\n",
    "    Epp0 = EPP*rho*np.power(Xh,2)*np.power((Tc/np.power(10,6)),4)\n",
    "    Ecno0 = ECNO*rho*Xh*Xcno*np.power((Tc/np.power(10,6)),19.9)\n",
    "    Eps = Epp0 - Ecno0\n",
    "    while (Tc < 17.0E6):\n",
    "        if Eps == 0: \n",
    "            return Tc  \n",
    "        else:\n",
    "            Tc += 1.0\n",
    "\n",
    "T0 = Temp()\n",
    "\n",
    "energy_per_reaction = 27 # [MeV]\n",
    "print \"If the Sun where like coal it would live only: \" + str(mass_sun*energy_coal*s_years/solar_luminosity) + \" years\"\n",
    "print \"The sun will live \" + str(energy_per_reaction*mev_joules*total_reactions*s_years/solar_luminosity) + \" years\"\n",
    "print \"I weigh 150 lbs and my mass can create \" + str(my_energy) + \" joules\"\n",
    "print \"My energy can power a house for \" + str(my_energy*s_years/1000) + \" years, and can power the whole world for \" + str(my_energy/(60*60*2E12)) + \" hours.\"\n",
    "print flux_earth\n",
    "print \"The pp cycle: 2 H atoms form unstable 2^H which then collides with an H to make 3^H then that collides with another and forms stable 4^H + 2 H free atoms\"\n",
    "print \"The pp cycle produces \" + str(Epp) + \" Watts of power\"\n",
    "print \"the pp abd cno become equal at aproximately 16.0E6 Kelvin\" #my temp fct gave none response\n",
    "\n",
    "#part 2\n",
    "\n",
    "print \"The gas needs to enough KE to not overcome Gravitational attraction and allow molecular binding\"\n",
    "print \"Density and gravity causing the grouping\"\n",
    "print \"2KE = -PE, Measuring equilibrium of Grav. PE to internal pressure as KE, the collape is when 2KE+PE < 0 => (15*Kb*T/4*pi*G*mu*rho)^1/2\"\n",
    "print \"They are much smaller than the sun's radius\""
   ]
  },
  {
   "cell_type": "code",
   "execution_count": null,
   "metadata": {
    "collapsed": true
   },
   "outputs": [],
   "source": []
  }
 ],
 "metadata": {
  "kernelspec": {
   "display_name": "Python 2",
   "language": "python",
   "name": "python2"
  },
  "language_info": {
   "codemirror_mode": {
    "name": "ipython",
    "version": 2
   },
   "file_extension": ".py",
   "mimetype": "text/x-python",
   "name": "python",
   "nbconvert_exporter": "python",
   "pygments_lexer": "ipython2",
   "version": "2.7.11"
  }
 },
 "nbformat": 4,
 "nbformat_minor": 0
}
