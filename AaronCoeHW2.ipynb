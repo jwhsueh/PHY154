{
 "cells": [
  {
   "cell_type": "code",
   "execution_count": 29,
   "metadata": {
    "collapsed": false
   },
   "outputs": [
    {
     "name": "stdout",
     "output_type": "stream",
     "text": [
      "If the sun were buring coal it would last 1668 years\n"
     ]
    }
   ],
   "source": [
    "# 1.a\n",
    "\n",
    "import numpy as np\n",
    "\n",
    "\n",
    "sunMass = 2 * 10 **30 #Kg\n",
    "sunLum = 3.8 *10 ** 26 #watts\n",
    "chemEnergy = 10**7 #J/Kg\n",
    "\n",
    "x = sunMass * chemEnergy / sunLum\n",
    "\n",
    "print 'If the sun were buring coal it would last %i years' %(x/(3600*365*24))"
   ]
  },
  {
   "cell_type": "code",
   "execution_count": 2,
   "metadata": {
    "collapsed": true
   },
   "outputs": [],
   "source": []
  },
  {
   "cell_type": "code",
   "execution_count": 25,
   "metadata": {
    "collapsed": false
   },
   "outputs": [
    {
     "name": "stdout",
     "output_type": "stream",
     "text": [
      "each reaction produces 3.60e-12 joules\n",
      "It would take 9.048e+10 years to fuse all of the suns hydrogen\n"
     ]
    }
   ],
   "source": [
    "#1.b\n",
    "\n",
    "massHelium = 6.6e-27\n",
    "massHydrogen = 1.66e-27\n",
    "massDiff = (4 * massHydrogen) - massHelium #kg\n",
    "sunParticles = 2e30 / massHydrogen #atoms\n",
    "sunParticles\n",
    "energy = massDiff * 3e8 **2\n",
    "totEnergy = energy * sunParticles / 4\n",
    "lifeTime = totEnergy / sunLum / (3600 * 24 * 365)\n",
    "print 'each reaction produces %.2e joules' %energy\n",
    "print 'It would take %.3e years to fuse all of the suns hydrogen' %lifeTime"
   ]
  },
  {
   "cell_type": "code",
   "execution_count": 3,
   "metadata": {
    "collapsed": false
   },
   "outputs": [],
   "source": [
    "#1.c\n",
    "\n",
    "def person_energy(mass): #mass in Kg\n",
    "    return mass * 3e8 ** 2\n",
    "    "
   ]
  },
  {
   "cell_type": "code",
   "execution_count": 14,
   "metadata": {
    "collapsed": false
   },
   "outputs": [
    {
     "name": "stdout",
     "output_type": "stream",
     "text": [
      "If all the mass of a person were converted into energy it would be 9.0e+18 Joules\n"
     ]
    }
   ],
   "source": [
    "print 'If all the mass of a person were converted into energy it would be %.1e Joules' %person_energy(100)"
   ]
  },
  {
   "cell_type": "code",
   "execution_count": 15,
   "metadata": {
    "collapsed": false
   },
   "outputs": [
    {
     "name": "stdout",
     "output_type": "stream",
     "text": [
      "A persons mass energy could power a house for 2.854e+08 years\n"
     ]
    }
   ],
   "source": [
    "#1.d\n",
    "\n",
    "print 'A persons mass energy could power a house for %.3e years' %(person_energy(100)/1e3/(3600*24*365))"
   ]
  },
  {
   "cell_type": "code",
   "execution_count": 22,
   "metadata": {
    "collapsed": false
   },
   "outputs": [
    {
     "name": "stdout",
     "output_type": "stream",
     "text": [
      "They would power the world for 52.08 days \n"
     ]
    }
   ],
   "source": [
    "\n",
    "print 'They would power the world for %.2f days ' %(person_energy(100)/2e12/(3600*24))"
   ]
  },
  {
   "cell_type": "code",
   "execution_count": 23,
   "metadata": {
    "collapsed": false
   },
   "outputs": [],
   "source": [
    "#1.e\n",
    "\n",
    "flux = sunLum /(4 * np.pi * 1.5e11 ** 2)"
   ]
  },
  {
   "cell_type": "code",
   "execution_count": 24,
   "metadata": {
    "collapsed": false
   },
   "outputs": [
    {
     "name": "stdout",
     "output_type": "stream",
     "text": [
      "To power the world a solar array would need to cover 3.720e+09 square meters\n"
     ]
    }
   ],
   "source": [
    "print 'To power the world a solar array would need to cover %.3e square meters' %(2e12/flux/.4)"
   ]
  },
  {
   "cell_type": "code",
   "execution_count": 28,
   "metadata": {
    "collapsed": false
   },
   "outputs": [
    {
     "name": "stdout",
     "output_type": "stream",
     "text": [
      "The PP cycle takes six protons,two protons collide and form deuterium.\n",
      "Then another proton collides with the deuterium producing He3.\n",
      "Two He 3 neuclei collide and form He 4 and release two protons.\n"
     ]
    }
   ],
   "source": [
    "#1.f\n",
    "\n",
    "print \"The PP cycle takes six protons,two protons collide and form deuterium.\"\n",
    "print \"Then another proton collides with the deuterium producing He3.\"\n",
    "print \"Two He 3 neuclei collide and form He 4 and release two protons.\""
   ]
  },
  {
   "cell_type": "code",
   "execution_count": 34,
   "metadata": {
    "collapsed": false
   },
   "outputs": [
    {
     "name": "stdout",
     "output_type": "stream",
     "text": [
      "The power released from the PP cycle is 8.741e+27 Watts\n",
      "The power released from the CNO cycle is 1.634e+27 Watts\n",
      "They are equally important at 1.746e+07 K\n"
     ]
    }
   ],
   "source": [
    "#1.g\n",
    "\n",
    "e0pp = 1.08e-12 #W m^3 kg^-2\n",
    "e0cno = 8.24e-31 #W m^3 kg^-2\n",
    "Tc = 1.571e7 #K\n",
    "rho_c = 1.622e5 #Kg/m^3\n",
    "X_H = .64\n",
    "X_He = .34\n",
    "X_CNO = .015\n",
    "\n",
    "\n",
    "e_pp = e0pp * rho_c * (X_H ** 2) * ((Tc/1e6) ** 4) \n",
    "e_cno = e0cno * rho_c * (X_CNO * X_H) * ((Tc / 1e6) **19.9 )\n",
    "T_equal = (e0pp / e0cno * X_H / X_CNO) ** (1/15.9) * 1e6\n",
    "\n",
    "print 'The power released from the PP cycle is %.3e Watts' %(e_pp * sunMass)\n",
    "print 'The power released from the CNO cycle is %.3e Watts' %(e_cno * sunMass)\n",
    "print 'They are equally important at %.3e K' %T_equal"
   ]
  },
  {
   "cell_type": "code",
   "execution_count": 37,
   "metadata": {
    "collapsed": false
   },
   "outputs": [
    {
     "name": "stdout",
     "output_type": "stream",
     "text": [
      "The gas cloud needs to be cold because the heat, or kinetic energy, of the cloud is what resists collapse.\n"
     ]
    }
   ],
   "source": [
    "# 2.a\n",
    "print \"The gas cloud needs to be cold because the heat, or kinetic energy, of the cloud is what resists collapse.\""
   ]
  },
  {
   "cell_type": "code",
   "execution_count": 38,
   "metadata": {
    "collapsed": false
   },
   "outputs": [
    {
     "name": "stdout",
     "output_type": "stream",
     "text": [
      "The main force in collapse is gravity\n"
     ]
    }
   ],
   "source": [
    "#2.b\n",
    "print \"The main force in collapse is gravity\""
   ]
  },
  {
   "cell_type": "code",
   "execution_count": 39,
   "metadata": {
    "collapsed": false
   },
   "outputs": [
    {
     "name": "stdout",
     "output_type": "stream",
     "text": [
      "The Virial Theorem is |U| = 2K\n",
      "It describes the relationship of gravitational potential to kinetic energy\n",
      "Replace U with (3/5) G(M^2/R) and K with 3/2(NKT)\n"
     ]
    }
   ],
   "source": [
    "#2.c\n",
    "\n",
    "print 'The Virial Theorem is |U| = 2K'\n",
    "print 'It describes the relationship of gravitational potential to kinetic energy'\n",
    "print \"Replace U with (3/5) G(M^2/R) and K with 3/2(NKT)\""
   ]
  },
  {
   "cell_type": "code",
   "execution_count": null,
   "metadata": {
    "collapsed": true
   },
   "outputs": [],
   "source": [
    "#2.d"
   ]
  }
 ],
 "metadata": {
  "kernelspec": {
   "display_name": "Python 2",
   "language": "python",
   "name": "python2"
  },
  "language_info": {
   "codemirror_mode": {
    "name": "ipython",
    "version": 2
   },
   "file_extension": ".py",
   "mimetype": "text/x-python",
   "name": "python",
   "nbconvert_exporter": "python",
   "pygments_lexer": "ipython2",
   "version": "2.7.6"
  }
 },
 "nbformat": 4,
 "nbformat_minor": 0
}
