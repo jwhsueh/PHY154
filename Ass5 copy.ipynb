{
 "cells": [
  {
   "cell_type": "code",
   "execution_count": 1,
   "metadata": {
    "collapsed": false
   },
   "outputs": [
    {
     "data": {
      "image/png": "[encoded data removed]",
      "text/plain": [
       "<matplotlib.figure.Figure at 0x7fc1f5f84a90>"
      ]
     },
     "metadata": {},
     "output_type": "display_data"
    }
   ],
   "source": [
    "import numpy as np \n",
    "\n",
    "import matplotlib.pyplot as plt\n",
    "\n",
    "def light_ray(source, lens, rays, location, focal, label='', color='b'):\n",
    "    apa = lens*np.pi/180.0\n",
    "    z0 = source[0]\n",
    "    if (np.size(source) == 2): x0 = source[1]\n",
    "    else:                  x0 = 0.0\n",
    " \n",
    "    zl1, ff1 = location[(z0 < location)], focal[(z0 < location)]\n",
    "    nl  = 1 \n",
    " \n",
    "    zz, xx, tani = np.zeros(nl+2), np.zeros(nl+2), np.zeros(nl+2)\n",
    "    tan0 = np.tan(apa/2.0) - np.tan(apa) * np.arange(rays)/(rays-1)\n",
    " \n",
    "    for i in range(rays):\n",
    "        tani[0] = tan0[i] \n",
    "        zz[0], xx[0] = z0, x0\n",
    "        for j in range(nl):\n",
    "            zz[j+1]   = zl1[j]\n",
    "            xx[j+1]   = xx[j] + (zz[j+1]-zz[j]) * tani[j]\n",
    "            tani[j+1] = tani[j] - xx[j+1] / ff1[j]\n",
    " \n",
    "        zz[nl+1] = zmax\n",
    "        xx[nl+1] = xx[nl] + (zz[nl+1]-zz[nl]) * tani[nl]\n",
    "        plt.plot(zz, xx, color)\n",
    "        \n",
    "plt.clf()\n",
    " \n",
    "zmin, zmax       = -100., 1600.\n",
    "xmin, xmax       = -25, 25\n",
    "bignum, smallnum = 1e6, 1e-6  \n",
    "\n",
    "location = np.array([240.0]) \n",
    "focal = np.array([200.0]) \n",
    " \n",
    "xsrc, zsrc, zpup = 2.0 , 0.0, -bignum \n",
    "srcpos = (zsrc, xsrc)\n",
    " \n",
    "light_ray((0.0, 0.),      1,  10, location, focal, 'src1', 'r')\n",
    "\n",
    "plt.axis([zmin,zmax, xmin, xmax])\n",
    "plt.title(\"Gravitational Lensing \")\n",
    "plt.show()\n",
    "        \n"
   ]
  },
  {
   "cell_type": "code",
   "execution_count": null,
   "metadata": {
    "collapsed": true
   },
   "outputs": [],
   "source": []
  }
 ],
 "metadata": {
  "kernelspec": {
   "display_name": "Python 2",
   "language": "python",
   "name": "python2"
  },
  "language_info": {
   "codemirror_mode": {
    "name": "ipython",
    "version": 2
   },
   "file_extension": ".py",
   "mimetype": "text/x-python",
   "name": "python",
   "nbconvert_exporter": "python",
   "pygments_lexer": "ipython2",
   "version": "2.7.6"
  }
 },
 "nbformat": 4,
 "nbformat_minor": 0
}
