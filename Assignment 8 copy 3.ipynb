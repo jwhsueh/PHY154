{
 "cells": [
  {
   "cell_type": "code",
   "execution_count": 123,
   "metadata": {
    "collapsed": false
   },
   "outputs": [
    {
     "name": "stdout",
     "output_type": "stream",
     "text": [
      "F_surface = 1343.975075 W/m^2\n",
      "F_earth = 235.195638125 W/m^2\n",
      "T_earth = 253.782429752 K\n"
     ]
    }
   ],
   "source": [
    "import numpy as np\n",
    "\n",
    "#1a\n",
    "L_sun = 3.8E26 #W\n",
    "pi = np.pi\n",
    "d = 1.5E11 #m\n",
    "A = 0.3\n",
    "sigma = 5.67 * (10 ** -8)\n",
    "\n",
    "F_surf = L_sun/(4.*pi*d*d)\n",
    "print \"F_surface =\", F_surf, \"W/m^2\"\n",
    "\n",
    "F_earth = (1. - A)*F_surf/4.\n",
    "print \"F_earth =\", F_earth, \"W/m^2\"\n",
    "\n",
    "T_earth = (F_earth/sigma)**(.25)\n",
    "print \"T_earth =\", T_earth, \"K\""
   ]
  },
  {
   "cell_type": "code",
   "execution_count": 125,
   "metadata": {
    "collapsed": false
   },
   "outputs": [
    {
     "name": "stdout",
     "output_type": "stream",
     "text": [
      "F_earth_new = 399.832584812 W/m^2\n",
      "T_earth_new = 289.783585337 K\n"
     ]
    }
   ],
   "source": [
    "#1b\n",
    "F_new = ((1. - A)*(F_surf+4.*sigma*(T_earth**4)))/4.\n",
    "print \"F_earth_new =\", F_new, \"W/m^2\"\n",
    "\n",
    "T_new = (F_new/sigma)**(.25)\n",
    "print \"T_earth_new =\", T_new, \"K\"\n",
    "#high temp OK"
   ]
  },
  {
   "cell_type": "code",
   "execution_count": 35,
   "metadata": {
    "collapsed": true
   },
   "outputs": [],
   "source": [
    "#1c\n",
    "# Fs = pi*integral(0->inf.)[(1-a(lambda))*B(lambda,T)dlambda]"
   ]
  },
  {
   "cell_type": "code",
   "execution_count": 94,
   "metadata": {
    "collapsed": false
   },
   "outputs": [
    {
     "data": {
      "text/plain": [
       "'\\nThe part of the equation that shows the increased concentration of greenhouse gasses\\nis the a(lambda) part. Carbon is the most common greenhouse gas, but water vapor is\\nthe most problematic.'"
      ]
     },
     "execution_count": 94,
     "metadata": {},
     "output_type": "execute_result"
    }
   ],
   "source": [
    "#1d\n",
    "'''\n",
    "The part of the equation that shows the increased concentration of greenhouse gasses\n",
    "is the a(lambda) part. Water vapor is the most common greenhouse gas, and water vapor is\n",
    "the most problematic.'''"
   ]
  },
  {
   "cell_type": "code",
   "execution_count": 37,
   "metadata": {
    "collapsed": true
   },
   "outputs": [],
   "source": [
    "#1e\n",
    "'''\n",
    "Yes, the amount of CO2 in our atmosphere has increased sharply in terms of ppm, especially\n",
    "in recent history.\n",
    "'''"
   ]
  },
  {
   "cell_type": "code",
   "execution_count": 118,
   "metadata": {
    "collapsed": false
   },
   "outputs": [
    {
     "data": {
      "image/png": "[encoded data removed]",
      "text/plain": [
       "<matplotlib.figure.Figure at 0x7f81b6c97250>"
      ]
     },
     "metadata": {},
     "output_type": "display_data"
    }
   ],
   "source": [
    "#2\n",
    "#year, T, precip, snowdep, NINO3  = np.loadtxt(\"calidata_final.txt\", skiprows = 1, usecols = (1, 2, 3, 4, 5), unpack = True)\n",
    "\n",
    "from mpl_toolkits.basemap import Basemap\n",
    "from netCDF4 import Dataset, date2index\n",
    "import numpy as np\n",
    "import matplotlib.pyplot as plt\n",
    "from datetime import datetime\n",
    "\n",
    "date = datetime(2016,1,1,0) # date to plot.\n",
    "# open dataset.\n",
    "dataset = \\\n",
    "Dataset('http://www.ncdc.noaa.gov/thredds/dodsC/OISST-V2-AVHRR_agg')\n",
    "timevar = dataset.variables['time']\n",
    "timeindex = date2index(date,timevar) # find time index for desired date.\n",
    "# read sst.  Will automatically create a masked array using\n",
    "# missing_value variable attribute. 'squeeze out' singleton dimensions.\n",
    "sst = dataset.variables['sst'][timeindex,:].squeeze()\n",
    "# read ice.\n",
    "ice = dataset.variables['ice'][timeindex,:].squeeze()\n",
    "# read lats and lons (representing centers of grid boxes).\n",
    "#need to change lats, lons\n",
    "lats = dataset.variables['lat'][:]\n",
    "lons = dataset.variables['lon'][:]\n",
    "lons, lats = np.meshgrid(lons,lats)\n",
    "# create figure, axes instances.\n",
    "fig = plt.figure()\n",
    "ax = fig.add_axes([0.05,0.05,0.9,0.9])\n",
    "# create Basemap instance.\n",
    "# coastlines not used, so resolution set to None to skip\n",
    "# continent processing (this speeds things up a bit)\n",
    "m = Basemap(llcrnrlon=-150,llcrnrlat=-5,urcrnrlon=-90,urcrnrlat=5,projection='mill')\n",
    "# draw line around map projection limb.\n",
    "# color background of map projection region.\n",
    "# missing values over land will show up this color.\n",
    "m.drawmapboundary(fill_color='0.3')\n",
    "# plot sst, then ice with pcolor\n",
    "im1 = m.pcolormesh(lons,lats,sst,shading='flat',cmap=plt.cm.jet,latlon=True)\n",
    "im2 = m.pcolormesh(lons,lats,ice,shading='flat',cmap=plt.cm.gist_gray,latlon=True)\n",
    "# draw parallels and meridians, but don't bother labelling them.\n",
    "m.drawparallels(np.arange(-90.,90.,2.5),labels=[1,1,0,1])\n",
    "m.drawmeridians(np.arange(-180.,180.,10.),labels=[1,1,0,1])\n",
    "# add colorbar\n",
    "cb = m.colorbar(im1,\"bottom\", size=\"5%\", pad=\"2%\")\n",
    "# add a title.\n",
    "ax.set_title('SST and ICE analysis for %s'%date)\n",
    "plt.show()"
   ]
  },
  {
   "cell_type": "code",
   "execution_count": 106,
   "metadata": {
    "collapsed": false
   },
   "outputs": [
    {
     "data": {
      "image/png": "[encoded data removed]",
      "text/plain": [
       "<matplotlib.figure.Figure at 0x7f81c012ad10>"
      ]
     },
     "metadata": {},
     "output_type": "display_data"
    }
   ],
   "source": [
    "#2b\n",
    "import numpy as np\n",
    "import matplotlib.pyplot as plt\n",
    "from scipy import stats\n",
    "\n",
    "year, T, precip, snow, NINO3  = np.loadtxt(\"calidata_final.txt\", skiprows = 1, usecols = (0, 1, 2, 3, 4), unpack = True)\n",
    "\n",
    "fig = plt.figure(1, figsize=(8,8))\n",
    "\n",
    "ax1 = fig.add_subplot(111)\n",
    "ax1.scatter(year, NINO3)\n",
    "ax1.set_xlabel(\"time, year\")\n",
    "ax1.set_ylabel(\"NINO3\")\n",
    "\n",
    "plt.show()"
   ]
  },
  {
   "cell_type": "code",
   "execution_count": 128,
   "metadata": {
    "collapsed": false
   },
   "outputs": [
    {
     "name": "stdout",
     "output_type": "stream",
     "text": [
      "The largest el nino events occurred in the years 1998 , 1983 , 1973 , 1992 , and, 1987\n"
     ]
    }
   ],
   "source": [
    "#c\n",
    "import heapq\n",
    "import numpy\n",
    "heapq.nlargest(5, range(len(NINO3)), NINO3.take)\n",
    "\n",
    "new_list = []\n",
    "for item in year:\n",
    "    new_list.append(int(item))\n",
    "    \n",
    "year = new_list\n",
    "\n",
    "print \"The largest el nino events occurred in the years\", year[28],\",\", year[13],\",\", year[3],\",\",year[22],\", and,\",year[17]\n"
   ]
  },
  {
   "cell_type": "code",
   "execution_count": 86,
   "metadata": {
    "collapsed": true
   },
   "outputs": [],
   "source": [
    "#d\n",
    "'''Looking at the top 15 weather events of the 1900s, many of them match up. There were large\n",
    "1983 storms that were related to el nino. There were also weather events at the very end of\n",
    "the years before el nino years. For example, 1997 New Years Flood occurred right before an el\n",
    "nino year. '''"
   ]
  },
  {
   "cell_type": "code",
   "execution_count": 127,
   "metadata": {
    "collapsed": false
   },
   "outputs": [
    {
     "name": "stdout",
     "output_type": "stream",
     "text": [
      "r_Trow= 0.00511244585807\n",
      "r_preciprow= 0.37712170126\n",
      "r_snowrow= 0.141972307605\n"
     ]
    }
   ],
   "source": [
    "#e\n",
    "import scipy\n",
    "\n",
    "r_Trow, p_Tvalue= scipy.stats.pearsonr(T, NINO3)\n",
    "print \"r_Trow=\", r_Trow\n",
    "#print p_Tvalue\n",
    "\n",
    "r_preciprow, p_precipvalue = scipy.stats.pearsonr(precip, NINO3)\n",
    "print \"r_preciprow=\", r_preciprow\n",
    "#print p_precipvalue\n",
    "\n",
    "r_snowrow, p_snowvalue = scipy.stats.pearsonr(snow, NINO3)\n",
    "print \"r_snowrow=\", r_snowrow\n",
    "#print p_snowvalue\n",
    "\n",
    "'''Temperature is not correlated to el nino years. However, precipitation is correlated\n",
    "and snow is weakly correlated. This is consistent, there is an increase in precipitation \n",
    "in el nino years.'''"
   ]
  },
  {
   "cell_type": "code",
   "execution_count": null,
   "metadata": {
    "collapsed": true
   },
   "outputs": [],
   "source": [
    "#f\n",
    "'''\n",
    "The data shows the temperature of the water over the ocean in the el nino region. \n",
    "We are currently in a warming event, which we can see by how warm the water over\n",
    "that region is.\n",
    "'''\n"
   ]
  }
 ],
 "metadata": {
  "kernelspec": {
   "display_name": "Python 2",
   "language": "python",
   "name": "python2"
  },
  "language_info": {
   "codemirror_mode": {
    "name": "ipython",
    "version": 2
   },
   "file_extension": ".py",
   "mimetype": "text/x-python",
   "name": "python",
   "nbconvert_exporter": "python",
   "pygments_lexer": "ipython2",
   "version": "2.7.6"
  }
 },
 "nbformat": 4,
 "nbformat_minor": 0
}
